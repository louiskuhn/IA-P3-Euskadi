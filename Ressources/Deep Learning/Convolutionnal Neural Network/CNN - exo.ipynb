{
 "cells": [
  {
   "cell_type": "markdown",
   "metadata": {},
   "source": [
    "# **Le classique \"chien ou chat\" - CNN avec Keras**\n",
    "\n",
    "Le but de cet exercice est la classification d'images d'animaux en chien ou en chat. Évidemment ça peut paraître assez stérile comme objectif dans la vraie vie mais sachez que les applications intéressantes et utiles de ces réseaux sont multiples notamment en médecine.  \n",
    "Par exemple pour la reconnaissance de tumeur pulmonaire ou autre.  \n",
    "Et ce qui est chouette, c'est que la seule différence sera dans les images pour l'entraînement et la strutucre du réseau éventuellement.\n",
    "\n",
    "## **Les données**\n",
    "\n",
    "Les données ne sont plus structurées en un seul et joli CSV à partir duquel on peut associer le label et les variables explicatives facilement pour chaque observation. Le problème est qu'il faut pouvoir associer à chaque image le bon label.\n",
    "\n",
    "Une idée simple de solution est de structurer les données dans des dossiers (sous-dossiers) contenant les labels dans les noms par exemple :\n",
    "1. séparer les échantillons d'entraînement et de test dans 2 dossiers différents\n",
    "2. ensuite on appelle chaque image par un nom {label}_{numéro} genre chat_1, chat_2, chien_1, chien_2 etc...\n",
    "3. pour finir on fait un petit script qui récupère le label dans le nom de l'image à chaque fois via une petite manip de string\n",
    "\n",
    "On pourrait faire ça, ça marche, mais il y a une manière \"toute cousue\" qui fonctionne très bien dans Keras puisqu'on on y trouve des outils pour extraire les images facilement. La seule contrainte est de bien structurer le dossier de la manière suivante :\n",
    "\n",
    "<img src=\"images/cnn_exo_arborescence.png\">"
   ]
  },
  {
   "cell_type": "markdown",
   "metadata": {},
   "source": [
    "## **Le réseau CNN**\n",
    "\n",
    "Tout est dit. Ou presque.  \n",
    "Vous devez construire et entraîner un réseau de neurones à convolution pour la catégorisation des images en chien/chat.  \n",
    "Allez, je vous mets quelques pistes et même toutes les librairies nécessaires, c'est cadeau."
   ]
  },
  {
   "cell_type": "code",
   "execution_count": 2,
   "metadata": {},
   "outputs": [],
   "source": [
    "# Librairies\n",
    "from keras.models import Sequential\n",
    "from keras.layers import Conv2D\n",
    "from keras.layers import MaxPooling2D\n",
    "from keras.layers import Flatten\n",
    "from keras.layers import Dense\n",
    "from keras.preprocessing.image import ImageDataGenerator"
   ]
  },
  {
   "cell_type": "markdown",
   "metadata": {},
   "source": [
    "#### **L'architecture**\n",
    "\n",
    "Dans un premier temps construisez votre réseau étape par étape"
   ]
  },
  {
   "cell_type": "code",
   "execution_count": null,
   "metadata": {},
   "outputs": [],
   "source": []
  },
  {
   "cell_type": "markdown",
   "metadata": {},
   "source": [
    "#### **L'entraînement**\n",
    "\n",
    "Là, c'est un peu plus complexe alors je vous donne les méthodes à utiliser, dans cet ordre :\n",
    "1. `ImageDataGenerator`\n",
    "2. `flow_from_directory`\n",
    "3. `fit_generator` (méthode qui va être dépréciée, on peut utiliser directement `fit` qui supporte les générateurs)\n",
    "\n",
    "Il va certainement vous falloir fouiller un peu là-dedans https://keras.io/api/preprocessing/image/ et en profiter pour découvrir le concept merveilleux de *Data Augmentation*."
   ]
  },
  {
   "cell_type": "code",
   "execution_count": null,
   "metadata": {},
   "outputs": [],
   "source": []
  },
  {
   "cell_type": "markdown",
   "metadata": {},
   "source": [
    "## **Prédictions à partir de nouvelles images**\n",
    "\n",
    "Prenez une jolie photo de votre chien ou de votre chat et utilisez votre modèle CNN pour prédire de quel animal il s'agit. Si vous n'avez ni chien ni chat, pas de panique, dans le dossier `single_prediction`, il y a ce qu'il faut et vous pouvez aussi tester d'autres images en allant en récupérer sur internet."
   ]
  },
  {
   "cell_type": "code",
   "execution_count": null,
   "metadata": {},
   "outputs": [],
   "source": []
  },
  {
   "cell_type": "markdown",
   "metadata": {},
   "source": [
    "## **Amélioration de votre modèle**\n",
    "\n",
    "Un petit *kaggle* maison : essayez d'améliorer l'accuracy de votre CNN\n",
    "- Accuracy **entre 80% et 85%** sur le jeu de test, c'est **pas mal**\n",
    "- Accuracy **entre 85% et 90%** sur le jeu de test, c'est **bien**\n",
    "- Accuracy **entre 90% et 95%**  sur le jeu de test, c'est **très bien**\n",
    "- Accuracy **supérieur à 95%**  sur le jeu de test, c'est **top**\n",
    "\n",
    "Les règles du jeu :\n",
    "- On garde bien sûr le même jeu d'entraînement\n",
    "- Il est interdit de spécifier manuellement une seed\n",
    "\n",
    "*Une indication utile :* laissez tomber la validation croisée dans un premier temps car en utilisant `fit_generator`, le modèle passe directement sur l'échantillon test pour valider le modèle. C'est faisable mais un peu plus compliqué..."
   ]
  },
  {
   "cell_type": "code",
   "execution_count": null,
   "metadata": {},
   "outputs": [],
   "source": []
  },
  {
   "cell_type": "markdown",
   "metadata": {},
   "source": [
    "```python\n",
    "# éventuellement ajout d'époques pour voir si on améliore encore ou si ça converge avant\n",
    "classifier.fit(training_set,\n",
    "               steps_per_epoch = 250, #8000/32\n",
    "               epochs = 40,\n",
    "               validation_data = test_set,\n",
    "               validation_steps = 63) #2000/32=62.5\n",
    "```"
   ]
  },
  {
   "cell_type": "markdown",
   "metadata": {},
   "source": [
    "Pour aller plus loin, on peut modifier le réseau et atteindre les 90% d'accuracy espérés de différentes manières en rendant le réseau un peu plus complexe : vous pouvez notamment ajouter une couche de convolution ou augmenter le nombre de neurones dans les couches. Le problème c'est que c'est un peu long de réentraîner à chaque fois tout le modèle pour tester les améliorations.\n",
    "\n",
    "#### **Autre solution: le transfer learning**"
   ]
  },
  {
   "cell_type": "code",
   "execution_count": null,
   "metadata": {},
   "outputs": [],
   "source": []
  }
 ],
 "metadata": {
  "kernelspec": {
   "display_name": "Python 3 (ipykernel)",
   "language": "python",
   "name": "python3"
  },
  "language_info": {
   "codemirror_mode": {
    "name": "ipython",
    "version": 3
   },
   "file_extension": ".py",
   "mimetype": "text/x-python",
   "name": "python",
   "nbconvert_exporter": "python",
   "pygments_lexer": "ipython3",
   "version": "3.10.13"
  }
 },
 "nbformat": 4,
 "nbformat_minor": 4
}
