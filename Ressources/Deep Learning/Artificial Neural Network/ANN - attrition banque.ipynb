{
 "cells": [
  {
   "cell_type": "markdown",
   "metadata": {},
   "source": [
    "# Réseau de neurones et attrition des clients bancaires\n",
    "\n",
    "Réseau de neurones avec Python (Keras)\n",
    "\n",
    "## La problématique\n",
    "\n",
    "On s'intéresse ici à une problème classique du domaine bancaire (mais pas que !) qui est l'attrition ou *churn* en anglais et correspond à la perte de client. \n",
    "Récemment de nombreux clients ont quitté la banque Crédit Friqué. La question est de comprendre pourquoi ces départs ? Ou plutôt de prédire s'ils vont partir...\n",
    "\n",
    "## Les données\n",
    "\n",
    "Pour répondre à cette question, la banque a sélectionné 6 mois plus tôt un sous ensemble de ses clients pour lesquels elle a stocké un certain nombre d’information puis, dans les 6 mois qui ont suivis, elle a observé si les clients avaient quitté ou non la banque. Vous voilà donc, 6 mois plus tard, contacté par la banque qui vous propose un beau dataset (pour une fois!) et vous demande de déterminer les profils des clients les plus à même de partir.\n",
    "Vous disposez du fichier banque_abandon.csv qui est la base de données de la banque virtuelle Crédit Friqué.\n",
    "\n",
    "## Quelques questions préliminaires\n",
    "\n",
    "C'est juste pour vous échauffer donc ça doit être fait en moins d'une heure ça !\n",
    "1. À quoi correspondent les différentes variables du datasets ?\n",
    "2. Pour pas perdre les bonnes habitudes, faites quelques visualisations pour voir ce qu'il y a dans vos données.\n",
    "3. À quelle type de problème avez-vous à faire ici : classification ou régression ?\n",
    ">- Lister un certain nombre de modèles vous permettant de le résoudre\n",
    ">- Lister les métriques associées à ce type de problème\n",
    ">- Choisir un modèle, l'entraîner et l'évaluer avec la métrique de votre choix"
   ]
  },
  {
   "cell_type": "code",
   "execution_count": null,
   "metadata": {},
   "outputs": [],
   "source": []
  },
  {
   "cell_type": "markdown",
   "metadata": {},
   "source": [
    "## Dans le vif du sujet\n",
    "\n",
    "Vous l'aurez compris, il s'agit ici de résoudre le problème à l'aide d'un réseau de neurones.   \n",
    "Vous aurez bien sûr besoin du package `keras` et il vous faudra aussi certainement installer `tensorflow`(et peut-être `theano` si besoin).  \n",
    "À vous de jouer !\n",
    "N'oubliez pas le preprocessing !"
   ]
  },
  {
   "cell_type": "code",
   "execution_count": null,
   "metadata": {},
   "outputs": [],
   "source": []
  },
  {
   "cell_type": "markdown",
   "metadata": {},
   "source": [
    "## Évaluation du réseau et affinage des hyper-paramètres\n",
    "\n",
    "Jusqu'à maintenant, on a évalué les réseaux qu'on a vu en regardant uniquement l'accuracy mais cette valeur n'est pas déterministe puisqu'elle dépend de certains paramètres aléatoires comme le train_test_split, l'intialisation des paramètres etc...\n",
    "\n",
    "Une solution par rapport à ce problème est de répéter l'entraînement plusieurs fois et de regarder les résultats en moyenne. On l'a déjà utilisé et ça s'appelle la validation croisée.\n",
    "\n",
    "Mettez en place la validation croisée en utilisant `cross_val_score` puis affiner les paramètres avec `GridSearchCV`.\n",
    "\n",
    "__/!\\\\__ Vous aurez besoin de ce qu'on appelle un wrapper pour pouvoir relier `keras` à `sklearn` et utiliser un modèle de l'un dans l'autre. Ça tombe bien, ça existe : regarder la librairie `keras.wrappers.scikit_learn`."
   ]
  },
  {
   "cell_type": "code",
   "execution_count": null,
   "metadata": {},
   "outputs": [],
   "source": []
  },
  {
   "cell_type": "markdown",
   "metadata": {},
   "source": [
    "## Sauvegarde et chargement des réseaux\n",
    "\n",
    "Regarder les méthodes `save` et `load_model` de la librairie `keras.models` pour la sauvegarde et le chargement des modèle. Quel format de fichier utiliser ?\n",
    "\n",
    "Si vous souhaitez ne sauvegarder que l'architecture du modèle (sans les poids ni la configuration d'entraînement), vous pouvez utiliser `to_json`.\n",
    "\n",
    "Enfin, pour ne sauvegarder que les poids, vous avez la méthode `save_weights`."
   ]
  },
  {
   "cell_type": "code",
   "execution_count": null,
   "metadata": {},
   "outputs": [],
   "source": []
  },
  {
   "cell_type": "markdown",
   "metadata": {},
   "source": [
    "### model.save()\n",
    "\n",
    "Cette fonction sauvegarde : \n",
    "- l'architecture du modèle : permet de le recréer si besoin\n",
    "- les poids du modèle\n",
    "- les paramètres d'apprentissage (loss, optimizer, metrics de l'étape `compile`)\n",
    "- l'état de l'optimisation ce qui permet de reprendre l'apprentissage où on l'avait laissé"
   ]
  },
  {
   "cell_type": "code",
   "execution_count": null,
   "metadata": {},
   "outputs": [],
   "source": []
  },
  {
   "cell_type": "markdown",
   "metadata": {},
   "source": [
    "### model.load_model()\n",
    "charge un modèle enregistrés et l'ensemble des infos"
   ]
  },
  {
   "cell_type": "code",
   "execution_count": null,
   "metadata": {},
   "outputs": [],
   "source": []
  },
  {
   "cell_type": "markdown",
   "metadata": {},
   "source": [
    "### model.to_json()\n",
    "\n",
    "Si on a juste besoin de sauvegarder **la structure d'un réseau, sans ses paramètres d'apprentissage ni ses poids**, on peut utiliser les 2 fonctions suivantes (pour sauvegarder et charger)."
   ]
  },
  {
   "cell_type": "code",
   "execution_count": null,
   "metadata": {},
   "outputs": [],
   "source": []
  },
  {
   "cell_type": "markdown",
   "metadata": {},
   "source": [
    "### model.save_weights()\n",
    "\n",
    "Si jamais, on veut uniquement les poids d'un modèle."
   ]
  },
  {
   "cell_type": "code",
   "execution_count": null,
   "metadata": {},
   "outputs": [],
   "source": []
  },
  {
   "cell_type": "markdown",
   "metadata": {},
   "source": [
    "## Complément sur l'overfitting\n",
    "\n",
    "Toujours sur les données de la banque, entrainer un réseau ayant une structure complexe avec beaucoup de neurones et de couches afin de générer une situation d'overfitting.  \n",
    "Comparer l'accuracy sur les échantillons train et test pour confirmer le cas de sur-apprentissage.\n",
    "\n",
    "Reprendre le même réseau en utilisant des layers `Dropout` pour réduire ce problème.  \n",
    "Comparer à nouveau l'accuracy pour voir l'effet des `Dropout` sur l'overfitting.\n",
    "\n",
    "Une autre méthode pour limiter le sur-apprentissage est la régularisation. Est-il possible d'en faire avec un réseau de neurones ? Si oui, allez-y"
   ]
  },
  {
   "cell_type": "code",
   "execution_count": null,
   "metadata": {},
   "outputs": [],
   "source": []
  }
 ],
 "metadata": {
  "kernelspec": {
   "display_name": "Python 3 (ipykernel)",
   "language": "python",
   "name": "python3"
  },
  "language_info": {
   "codemirror_mode": {
    "name": "ipython",
    "version": 3
   },
   "file_extension": ".py",
   "mimetype": "text/x-python",
   "name": "python",
   "nbconvert_exporter": "python",
   "pygments_lexer": "ipython3",
   "version": "3.10.13"
  }
 },
 "nbformat": 4,
 "nbformat_minor": 4
}
