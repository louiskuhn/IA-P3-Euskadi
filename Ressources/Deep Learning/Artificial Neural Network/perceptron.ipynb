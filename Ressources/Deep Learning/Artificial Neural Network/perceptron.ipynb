{
 "cells": [
  {
   "cell_type": "markdown",
   "metadata": {},
   "source": [
    "# **Perceptron simple et multicouche avec Keras**\n",
    "\n",
    "[Tensorflow](https://www.tensorflow.org/) = bibliothèque open-source développée par Google Brain qui implémente des méthodes d'apprentissage automatique basées sur le principe des réseaux de neurones profonds (deep learning). API Python est disponible donc exploitable directement mais moins \"directe\" que `Keras`.\n",
    "\n",
    "[Keras](https://keras.io/) =  librairie  Python qui encapsule l'accès aux fonctions proposées par plusieurs librairies  de  machine  learning,  en  particulier  Tensorflow. Keras n'implémente donc pas les  méthodes mais sert d'interface"
   ]
  },
  {
   "cell_type": "markdown",
   "metadata": {},
   "source": [
    "## **1. Classification binaire sur données simulées**\n",
    "\n",
    "### **1.1 Génération des données**\n",
    "\n",
    "1. Générer :\n",
    ">- un vecteur aléatoire $X_1$ de 2000 observation à valeurs dans $[-0.5, 0.5]$\n",
    ">- un vecteur aléatoire $X_2$ de 2000 observation à valeurs dans $[0, 1]$"
   ]
  },
  {
   "cell_type": "code",
   "execution_count": null,
   "metadata": {},
   "outputs": [],
   "source": []
  },
  {
   "cell_type": "markdown",
   "metadata": {},
   "source": [
    "2. Construire la variable label $Y$ de la manière suivante : $Y = 1$ si $0.1*X_2 > X_1²$ et 0 sinon"
   ]
  },
  {
   "cell_type": "code",
   "execution_count": null,
   "metadata": {},
   "outputs": [],
   "source": []
  },
  {
   "cell_type": "markdown",
   "metadata": {},
   "source": [
    "3. Regrouper les 2 variables prédictives $X_1$ $X_2$ et la variable expliquée $Y$ dans un dataframe puis représenter graphiquement les données"
   ]
  },
  {
   "cell_type": "code",
   "execution_count": null,
   "metadata": {},
   "outputs": [],
   "source": []
  },
  {
   "cell_type": "markdown",
   "metadata": {},
   "source": [
    "4. Découper les données en échantillons d'entraînement et test (avec 500 observations dans le testset)"
   ]
  },
  {
   "cell_type": "code",
   "execution_count": null,
   "metadata": {},
   "outputs": [],
   "source": []
  },
  {
   "cell_type": "markdown",
   "metadata": {},
   "source": [
    "5. Calculer la répartition des classes (c'est-à-dire la proportion de labels valant \"1\") dans les échantillons test et train.  \n",
    "Est-elle équilibrée ?  \n",
    "Si ce n'est pas le cas, quel paramètre utiliser lors du `train_test_split` pour y remédier ?"
   ]
  },
  {
   "cell_type": "code",
   "execution_count": null,
   "metadata": {},
   "outputs": [],
   "source": []
  },
  {
   "cell_type": "markdown",
   "metadata": {},
   "source": [
    "### **1.2 Perceptron simple**"
   ]
  },
  {
   "cell_type": "markdown",
   "metadata": {},
   "source": [
    "1. Importer les classes `Sequential` et `Dense` depuis la librairie adaptée. C'est quoi ce truc ?"
   ]
  },
  {
   "cell_type": "code",
   "execution_count": null,
   "metadata": {},
   "outputs": [],
   "source": []
  },
  {
   "cell_type": "markdown",
   "metadata": {},
   "source": [
    "2. Instancier le modèle `perceptron`"
   ]
  },
  {
   "cell_type": "code",
   "execution_count": null,
   "metadata": {},
   "outputs": [],
   "source": []
  },
  {
   "cell_type": "markdown",
   "metadata": {},
   "source": [
    "3. Ajouter une couche pour spécifier un perceptron simple en spécifiant les bons paramètres (on prendra une fonction d'activation sigmoïde)."
   ]
  },
  {
   "cell_type": "code",
   "execution_count": null,
   "metadata": {},
   "outputs": [],
   "source": []
  },
  {
   "cell_type": "markdown",
   "metadata": {},
   "source": [
    "4. Récupérer la configuration de votre modèle. À quoi correspond le paramètre `use_bias` ?"
   ]
  },
  {
   "cell_type": "code",
   "execution_count": null,
   "metadata": {},
   "outputs": [],
   "source": []
  },
  {
   "cell_type": "markdown",
   "metadata": {},
   "source": [
    "5. Ci-dessous une répresentation visuelle de notre réseau. Quelles sont les valeurs (théoriques) en entrée et en sortie du neurone de la couche de sortie ? Que représente la valeur en sortie ?  \n",
    "<img src=\"images/perceptron_simple.png\">"
   ]
  },
  {
   "cell_type": "code",
   "execution_count": null,
   "metadata": {},
   "outputs": [],
   "source": []
  },
  {
   "cell_type": "markdown",
   "metadata": {},
   "source": [
    "6. Spécifier les paramètres d'apprentissage avec la méthode `compile`. On utilisera l'entropie croisée binaire comme fonction de perte, Adam comme algorithme d'optimisation et l'accuracy comme métrique."
   ]
  },
  {
   "cell_type": "code",
   "execution_count": null,
   "metadata": {},
   "outputs": [],
   "source": []
  },
  {
   "cell_type": "markdown",
   "metadata": {},
   "source": [
    "7. Entraîner le réseau afin d'en estimer les paramètres. Fixer notamment les hyperparamètres `epochs` et `batch_size`. Que sont-ils ?"
   ]
  },
  {
   "cell_type": "code",
   "execution_count": null,
   "metadata": {},
   "outputs": [],
   "source": []
  },
  {
   "cell_type": "markdown",
   "metadata": {},
   "source": [
    "8. Récupérer les poids estimés et les replacer dans le réseau dessiné au dessus."
   ]
  },
  {
   "cell_type": "code",
   "execution_count": null,
   "metadata": {},
   "outputs": [],
   "source": []
  },
  {
   "cell_type": "markdown",
   "metadata": {},
   "source": [
    "9. Calculer les prédictions sur le testset avec `predict`. Que sont ces valeurs ?"
   ]
  },
  {
   "cell_type": "code",
   "execution_count": null,
   "metadata": {},
   "outputs": [],
   "source": []
  },
  {
   "cell_type": "markdown",
   "metadata": {},
   "source": [
    "10. Récupérer à partir de ces valeurs prédites, la classe prédite"
   ]
  },
  {
   "cell_type": "code",
   "execution_count": null,
   "metadata": {},
   "outputs": [],
   "source": []
  },
  {
   "cell_type": "markdown",
   "metadata": {},
   "source": [
    "11. Présenter au moins 2 mesures d'évaluation du modèle (adapté au problème traité bien sûr !) en utilisant des fonctions de `sklearn.metrics`"
   ]
  },
  {
   "cell_type": "code",
   "execution_count": null,
   "metadata": {},
   "outputs": [],
   "source": []
  },
  {
   "cell_type": "markdown",
   "metadata": {},
   "source": [
    "12. La même avec la méthode `evaluate`. Qu'est-ce que vous obtenez ?"
   ]
  },
  {
   "cell_type": "code",
   "execution_count": null,
   "metadata": {},
   "outputs": [],
   "source": []
  },
  {
   "cell_type": "markdown",
   "metadata": {},
   "source": [
    "### **1.3 Perceptron multicouche**\n",
    "\n",
    "1. Reprendre toutes les étapes de la partie précédente pour construire et entraîner (partie 1.2, questions 1 à 7) un réseau à 3 couches de la forme suivante :\n",
    "\n",
    "<img src=\"images/perceptron_multi.png\">"
   ]
  },
  {
   "cell_type": "code",
   "execution_count": null,
   "metadata": {},
   "outputs": [],
   "source": []
  },
  {
   "cell_type": "markdown",
   "metadata": {},
   "source": [
    "2. Récupérer les poids et les replacer \"à la main\" dans le schéma du réseau de neurones"
   ]
  },
  {
   "cell_type": "code",
   "execution_count": null,
   "metadata": {},
   "outputs": [],
   "source": []
  },
  {
   "cell_type": "markdown",
   "metadata": {},
   "source": [
    "3. Et pour finir, on fait quoi ? Y a plus qu'à le faire alors."
   ]
  },
  {
   "cell_type": "code",
   "execution_count": null,
   "metadata": {},
   "outputs": [],
   "source": []
  },
  {
   "cell_type": "markdown",
   "metadata": {},
   "source": [
    "## **2. Application à un problème multi-classes**\n",
    "\n",
    "On va utiliser des données sur le vin disponibles sur le site UCI. Le but est de classifier 3 vignerons d'une même région à partir des caractéristiques des vins qu'ils produisent.\n",
    "\n",
    "### **2.1 Les données**\n",
    "\n",
    "1. Récupérer les données WINE [ici](https://archive.ics.uci.edu/ml/datasets/wine). Si vous voulez automatiser la récupération, c'est toujours un bon exo donc allez-y mais c'est pas l'objet du tp donc perdez pas trop de temps là-dessus. Les mettre dans un dataframe tout beau tout propre."
   ]
  },
  {
   "cell_type": "code",
   "execution_count": null,
   "metadata": {},
   "outputs": [],
   "source": []
  },
  {
   "cell_type": "markdown",
   "metadata": {},
   "source": [
    "2. Quelques étapes usuelles avant d'aller plus loin : y a quoi dans le dataset, quelle est la variable d'intérêt, quelques stats descriptives, visualisations, etc...  "
   ]
  },
  {
   "cell_type": "code",
   "execution_count": null,
   "metadata": {},
   "outputs": [],
   "source": []
  },
  {
   "cell_type": "markdown",
   "metadata": {},
   "source": [
    "### **2.2 Preprocessing**\n",
    "\n",
    "1. Keras  ne  sait  pas  manipuler  directement  une  variable multi-classe. Il faut la transformer en une série d’indicatrices. À vous de jouer (il y a une méthode `to_categorical` quelque part)"
   ]
  },
  {
   "cell_type": "code",
   "execution_count": null,
   "metadata": {},
   "outputs": [],
   "source": []
  },
  {
   "cell_type": "markdown",
   "metadata": {},
   "source": [
    "2. Découpage en échantillons train et test (avec 40 observations dans le test)"
   ]
  },
  {
   "cell_type": "code",
   "execution_count": null,
   "metadata": {},
   "outputs": [],
   "source": []
  },
  {
   "cell_type": "markdown",
   "metadata": {},
   "source": [
    "3. Les réseaux de neurones étant très dépendant des échelles des différentes variables, il faut standardiser les données avec un StandardScaler.  \n",
    "Vérifier les moyennes et écart-types des variables après transformation. Qu'est-ce que vous devez avoir ?"
   ]
  },
  {
   "cell_type": "code",
   "execution_count": null,
   "metadata": {},
   "outputs": [],
   "source": []
  },
  {
   "cell_type": "markdown",
   "metadata": {
    "tags": []
   },
   "source": [
    "### **2.3 Modélisation et évaluation**\n",
    "\n",
    "1. Construire et entraîner un perceptron simple adapté au problème"
   ]
  },
  {
   "cell_type": "code",
   "execution_count": null,
   "metadata": {},
   "outputs": [],
   "source": []
  },
  {
   "cell_type": "markdown",
   "metadata": {},
   "source": [
    "2. Évaluer le modèle"
   ]
  },
  {
   "cell_type": "code",
   "execution_count": null,
   "metadata": {},
   "outputs": [],
   "source": []
  },
  {
   "cell_type": "markdown",
   "metadata": {},
   "source": [
    "3. Essayer d'améliorer votre modèle en ajoutant une couche cachée. Quel problème se pose lorsqu'on ajoute trop de couches ?"
   ]
  },
  {
   "cell_type": "code",
   "execution_count": null,
   "metadata": {},
   "outputs": [],
   "source": []
  }
 ],
 "metadata": {
  "kernelspec": {
   "display_name": "Python 3",
   "language": "python",
   "name": "python3"
  },
  "language_info": {
   "codemirror_mode": {
    "name": "ipython",
    "version": 3
   },
   "file_extension": ".py",
   "mimetype": "text/x-python",
   "name": "python",
   "nbconvert_exporter": "python",
   "pygments_lexer": "ipython3",
   "version": "3.8.12"
  }
 },
 "nbformat": 4,
 "nbformat_minor": 4
}
