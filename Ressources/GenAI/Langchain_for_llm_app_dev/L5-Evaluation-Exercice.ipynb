{
 "cells": [
  {
   "cell_type": "markdown",
   "id": "52824b89-532a-4e54-87e9-1410813cd39e",
   "metadata": {},
   "source": [
    "# LangChain: Evaluation\n",
    "\n",
    "## Outline:\n",
    "\n",
    "* Example generation\n",
    "* Manual evaluation (and debuging)\n",
    "* LLM-assisted evaluation\n",
    "* LangChain evaluation platform"
   ]
  },
  {
   "cell_type": "code",
   "execution_count": 1,
   "id": "b7ed03ed-1322-49e3-b2a2-33e94fb592ef",
   "metadata": {
    "height": 81,
    "tags": []
   },
   "outputs": [],
   "source": [
    "import os\n",
    "\n",
    "from dotenv import load_dotenv, find_dotenv\n",
    "_ = load_dotenv(find_dotenv()) # read local .env file\n",
    "\n",
    "azure_openai_api_key = os.getenv(\"AZURE_OPENAI_API_KEY_4\")\n",
    "azure_openai_api_endpoint = os.getenv(\"AZURE_OPENAI_API_ENDPOINT_4\")\n",
    "deployment_name = os.getenv(\"AZURE_DEPLOYMENT_NAME_4\")\n"
   ]
  },
  {
   "cell_type": "markdown",
   "id": "28008949",
   "metadata": {},
   "source": [
    "## Create our QandA application"
   ]
  },
  {
   "cell_type": "code",
   "execution_count": 2,
   "id": "974acf8e-8f88-42de-88f8-40a82cb58e8b",
   "metadata": {
    "height": 99
   },
   "outputs": [],
   "source": [
    "from langchain.chains import RetrievalQA\n",
    "from langchain.chat_models import ChatOpenAI\n",
    "from langchain.document_loaders import CSVLoader\n",
    "from langchain.indexes import VectorstoreIndexCreator\n",
    "from langchain.vectorstores import DocArrayInMemorySearch"
   ]
  },
  {
   "cell_type": "code",
   "execution_count": 3,
   "id": "9ec1106d",
   "metadata": {
    "height": 65
   },
   "outputs": [],
   "source": [
    "file = 'OutdoorClothingCatalog_1000.csv'\n",
    "loader = CSVLoader(file_path=file)\n",
    "data = loader.load()"
   ]
  },
  {
   "cell_type": "code",
   "execution_count": 4,
   "id": "b31c218f",
   "metadata": {
    "height": 65
   },
   "outputs": [
    {
     "name": "stderr",
     "output_type": "stream",
     "text": [
      "C:\\Users\\luca5\\AppData\\Local\\Temp\\ipykernel_36692\\2116028208.py:5: LangChainDeprecationWarning: The class `OpenAIEmbeddings` was deprecated in LangChain 0.0.9 and will be removed in 1.0. An updated version of the class exists in the :class:`~langchain-openai package and should be used instead. To use it run `pip install -U :class:`~langchain-openai` and import as `from :class:`~langchain_openai import OpenAIEmbeddings``.\n",
      "  embedding = OpenAIEmbeddings(),\n",
      "c:\\Users\\luca5\\.conda\\envs\\GENAI\\Lib\\site-packages\\pydantic\\_migration.py:283: UserWarning: `pydantic.error_wrappers:ValidationError` has been moved to `pydantic:ValidationError`.\n",
      "  warnings.warn(f'`{import_path}` has been moved to `{new_location}`.')\n"
     ]
    }
   ],
   "source": [
    "from langchain.embeddings import OpenAIEmbeddings\n",
    "\n",
    "\n",
    "index = VectorstoreIndexCreator(\n",
    "    embedding = OpenAIEmbeddings(),\n",
    "    vectorstore_cls=DocArrayInMemorySearch\n",
    ").from_loaders([loader])"
   ]
  },
  {
   "cell_type": "markdown",
   "id": "f52eb580",
   "metadata": {},
   "source": [
    "**La chaîne RetrievalQA est dépreciée depuis peu, elle permettait la création de questions-réponses en langage naturel sur une source de données à l'aide de retrieval-augmented generation (RAG).**"
   ]
  },
  {
   "cell_type": "code",
   "execution_count": 7,
   "id": "a2006054",
   "metadata": {
    "height": 184
   },
   "outputs": [],
   "source": [
    "from langchain_openai import AzureChatOpenAI\n",
    "\n",
    "llm = AzureChatOpenAI(api_key=azure_openai_api_key,\n",
    "                        api_version=\"2023-12-01-preview\",\n",
    "                        azure_endpoint=azure_openai_api_endpoint,\n",
    "                        model=deployment_name,\n",
    "                        temperature=0.9\n",
    "                        )\n",
    "\n",
    "qa = RetrievalQA.from_chain_type(\n",
    "    llm=llm, \n",
    "    chain_type=\"stuff\", \n",
    "    retriever=index.vectorstore.as_retriever(), \n",
    "    verbose=True,\n",
    "    chain_type_kwargs = {\n",
    "        \"document_separator\": \"<<<<>>>>>\"\n",
    "    }\n",
    ")"
   ]
  },
  {
   "cell_type": "markdown",
   "id": "791ebd73",
   "metadata": {},
   "source": [
    "### Coming up with test datapoints"
   ]
  },
  {
   "cell_type": "code",
   "execution_count": 5,
   "id": "fb04a0f9",
   "metadata": {
    "height": 31
   },
   "outputs": [
    {
     "data": {
      "text/plain": [
       "Document(metadata={'source': 'OutdoorClothingCatalog_1000.csv', 'row': 10}, page_content=\": 10\\nname: Cozy Comfort Pullover Set, Stripe\\ndescription: Perfect for lounging, this striped knit set lives up to its name. We used ultrasoft fabric and an easy design that's as comfortable at bedtime as it is when we have to make a quick run out.\\n\\nSize & Fit\\n- Pants are Favorite Fit: Sits lower on the waist.\\n- Relaxed Fit: Our most generous fit sits farthest from the body.\\n\\nFabric & Care\\n- In the softest blend of 63% polyester, 35% rayon and 2% spandex.\\n\\nAdditional Features\\n- Relaxed fit top with raglan sleeves and rounded hem.\\n- Pull-on pants have a wide elastic waistband and drawstring, side pockets and a modern slim leg.\\n\\nImported.\")"
      ]
     },
     "execution_count": 5,
     "metadata": {},
     "output_type": "execute_result"
    }
   ],
   "source": [
    "data[10]"
   ]
  },
  {
   "cell_type": "code",
   "execution_count": 6,
   "id": "fe4a88c2",
   "metadata": {
    "height": 31
   },
   "outputs": [
    {
     "data": {
      "text/plain": [
       "Document(metadata={'source': 'OutdoorClothingCatalog_1000.csv', 'row': 11}, page_content=': 11\\nname: Ultra-Lofty 850 Stretch Down Hooded Jacket\\ndescription: This technical stretch down jacket from our DownTek collection is sure to keep you warm and comfortable with its full-stretch construction providing exceptional range of motion. With a slightly fitted style that falls at the hip and best with a midweight layer, this jacket is suitable for light activity up to 20° and moderate activity up to -30°. The soft and durable 100% polyester shell offers complete windproof protection and is insulated with warm, lofty goose down. Other features include welded baffles for a no-stitch construction and excellent stretch, an adjustable hood, an interior media port and mesh stash pocket and a hem drawcord. Machine wash and dry. Imported.')"
      ]
     },
     "execution_count": 6,
     "metadata": {},
     "output_type": "execute_result"
    }
   ],
   "source": [
    "data[11]"
   ]
  },
  {
   "cell_type": "markdown",
   "id": "8d548aef",
   "metadata": {},
   "source": [
    "### Hard-coded examples"
   ]
  },
  {
   "cell_type": "code",
   "execution_count": 8,
   "id": "c2d59bf2",
   "metadata": {
    "height": 218
   },
   "outputs": [],
   "source": [
    "examples = [\n",
    "    {\n",
    "        \"query\": \"Do the Cozy Comfort Pullover Set\\\n",
    "        have side pockets?\",\n",
    "        \"answer\": \"Yes\"\n",
    "    },\n",
    "    {\n",
    "        \"query\": \"What collection is the Ultra-Lofty \\\n",
    "        850 Stretch Down Hooded Jacket from?\",\n",
    "        \"answer\": \"The DownTek collection\"\n",
    "    }\n",
    "]"
   ]
  },
  {
   "cell_type": "markdown",
   "id": "c7ce3e4f",
   "metadata": {},
   "source": [
    "### LLM-Generated examples"
   ]
  },
  {
   "cell_type": "code",
   "execution_count": 9,
   "id": "d44f8376",
   "metadata": {
    "height": 48
   },
   "outputs": [],
   "source": [
    "from langchain.evaluation.qa import QAGenerateChain\n"
   ]
  },
  {
   "cell_type": "code",
   "execution_count": 10,
   "id": "34e87816",
   "metadata": {
    "height": 47
   },
   "outputs": [],
   "source": [
    "example_gen_chain = QAGenerateChain.from_llm(llm=llm)"
   ]
  },
  {
   "cell_type": "code",
   "execution_count": 11,
   "id": "31fb5bd0-fc2a-478c-9a09-6fe7e3307241",
   "metadata": {
    "height": 31
   },
   "outputs": [],
   "source": [
    "# the warning below can be safely ignored"
   ]
  },
  {
   "cell_type": "code",
   "execution_count": 11,
   "id": "0d2751d4",
   "metadata": {},
   "outputs": [
    {
     "data": {
      "text/plain": [
       "QAGenerateChain(verbose=False, prompt=PromptTemplate(input_variables=['doc'], input_types={}, partial_variables={}, template='You are a teacher coming up with questions to ask on a quiz. \\nGiven the following document, please generate a question and answer based on that document.\\n\\nExample Format:\\n<Begin Document>\\n...\\n<End Document>\\nQUESTION: question here\\nANSWER: answer here\\n\\nThese questions should be detailed and be based explicitly on information in the document. Begin!\\n\\n<Begin Document>\\n{doc}\\n<End Document>'), llm=AzureChatOpenAI(client=<openai.resources.chat.completions.Completions object at 0x000002402F2ADA30>, async_client=<openai.resources.chat.completions.AsyncCompletions object at 0x000002402F2AF470>, root_client=<openai.lib.azure.AzureOpenAI object at 0x0000024030D80B00>, root_async_client=<openai.lib.azure.AsyncAzureOpenAI object at 0x000002402F2ADA60>, model_name='gpt-4o-assistant', temperature=0.9, model_kwargs={}, openai_api_key=SecretStr('**********'), disabled_params={'parallel_tool_calls': None}, azure_endpoint='https://openai-instance-simplon-sweden.openai.azure.com/', openai_api_version='2023-12-01-preview', openai_api_type='azure'), llm_kwargs={})"
      ]
     },
     "execution_count": 11,
     "metadata": {},
     "output_type": "execute_result"
    }
   ],
   "source": [
    "example_gen_chain"
   ]
  },
  {
   "cell_type": "code",
   "execution_count": 12,
   "id": "62abae09",
   "metadata": {
    "height": 65
   },
   "outputs": [
    {
     "name": "stderr",
     "output_type": "stream",
     "text": [
      "c:\\Users\\luca5\\.conda\\envs\\GENAI\\Lib\\site-packages\\langchain\\chains\\llm.py:369: UserWarning: The apply_and_parse method is deprecated, instead pass an output parser directly to LLMChain.\n",
      "  warnings.warn(\n",
      "c:\\Users\\luca5\\.conda\\envs\\GENAI\\Lib\\site-packages\\langchain_openai\\chat_models\\base.py:358: UserWarning: Unexpected type for token usage: <class 'NoneType'>\n",
      "  warnings.warn(f\"Unexpected type for token usage: {type(new_usage)}\")\n"
     ]
    }
   ],
   "source": [
    "new_examples = example_gen_chain.apply_and_parse(\n",
    "    [{\"doc\": t} for t in data[:5]]\n",
    ") "
   ]
  },
  {
   "cell_type": "code",
   "execution_count": 15,
   "id": "97ab28b5",
   "metadata": {
    "height": 31
   },
   "outputs": [
    {
     "data": {
      "text/plain": [
       "{'qa_pairs': {'query': \"What features contribute to the comfort and support of the Women's Campside Oxfords as described in the document?\",\n",
       "  'answer': \"The Women's Campside Oxfords feature a super-soft canvas for a broken-in feel, a comfortable EVA innersole with Cleansport NXT® antimicrobial odor control, a moderate arch contour of the innersole, and an EVA foam midsole for cushioning and support.\"}}"
      ]
     },
     "execution_count": 15,
     "metadata": {},
     "output_type": "execute_result"
    }
   ],
   "source": [
    "new_examples[0]"
   ]
  },
  {
   "cell_type": "markdown",
   "id": "faf25f2f",
   "metadata": {},
   "source": [
    "### Combine examples"
   ]
  },
  {
   "cell_type": "code",
   "execution_count": 20,
   "id": "ada2a3fc",
   "metadata": {
    "height": 31
   },
   "outputs": [],
   "source": [
    "examples += new_examples"
   ]
  },
  {
   "cell_type": "code",
   "execution_count": 17,
   "id": "9cdf5cf5",
   "metadata": {
    "height": 31
   },
   "outputs": [
    {
     "name": "stderr",
     "output_type": "stream",
     "text": [
      "C:\\Users\\luca5\\AppData\\Local\\Temp\\ipykernel_19696\\1223946598.py:1: LangChainDeprecationWarning: The method `Chain.run` was deprecated in langchain 0.1.0 and will be removed in 1.0. Use :meth:`~invoke` instead.\n",
      "  qa.run(examples[0][\"query\"])\n"
     ]
    },
    {
     "name": "stdout",
     "output_type": "stream",
     "text": [
      "\n",
      "\n",
      "\u001b[1m> Entering new RetrievalQA chain...\u001b[0m\n",
      "\n",
      "\u001b[1m> Finished chain.\u001b[0m\n"
     ]
    },
    {
     "data": {
      "text/plain": [
       "'Yes, the Cozy Comfort Pullover Set has side pockets.'"
      ]
     },
     "execution_count": 17,
     "metadata": {},
     "output_type": "execute_result"
    }
   ],
   "source": [
    "qa.run(examples[0][\"query\"])"
   ]
  },
  {
   "cell_type": "markdown",
   "id": "63f3cb08",
   "metadata": {},
   "source": [
    "## Manual Evaluation"
   ]
  },
  {
   "cell_type": "code",
   "execution_count": 18,
   "id": "fcaf622e",
   "metadata": {
    "height": 48
   },
   "outputs": [],
   "source": [
    "import langchain\n",
    "langchain.debug = True"
   ]
  },
  {
   "cell_type": "code",
   "execution_count": 19,
   "id": "8a142638",
   "metadata": {
    "height": 31
   },
   "outputs": [
    {
     "name": "stdout",
     "output_type": "stream",
     "text": [
      "\u001b[32;1m\u001b[1;3m[chain/start]\u001b[0m \u001b[1m[chain:RetrievalQA] Entering Chain run with input:\n",
      "\u001b[0m{\n",
      "  \"query\": \"Do the Cozy Comfort Pullover Set        have side pockets?\"\n",
      "}\n",
      "\u001b[32;1m\u001b[1;3m[chain/start]\u001b[0m \u001b[1m[chain:RetrievalQA > chain:StuffDocumentsChain] Entering Chain run with input:\n",
      "\u001b[0m[inputs]\n",
      "\u001b[32;1m\u001b[1;3m[chain/start]\u001b[0m \u001b[1m[chain:RetrievalQA > chain:StuffDocumentsChain > chain:LLMChain] Entering Chain run with input:\n",
      "\u001b[0m{\n",
      "  \"question\": \"Do the Cozy Comfort Pullover Set        have side pockets?\",\n",
      "  \"context\": \": 10\\nname: Cozy Comfort Pullover Set, Stripe\\ndescription: Perfect for lounging, this striped knit set lives up to its name. We used ultrasoft fabric and an easy design that's as comfortable at bedtime as it is when we have to make a quick run out.\\n\\nSize & Fit\\n- Pants are Favorite Fit: Sits lower on the waist.\\n- Relaxed Fit: Our most generous fit sits farthest from the body.\\n\\nFabric & Care\\n- In the softest blend of 63% polyester, 35% rayon and 2% spandex.\\n\\nAdditional Features\\n- Relaxed fit top with raglan sleeves and rounded hem.\\n- Pull-on pants have a wide elastic waistband and drawstring, side pockets and a modern slim leg.\\n\\nImported.<<<<>>>>>: 73\\nname: Cozy Cuddles Knit Pullover Set\\ndescription: Perfect for lounging, this knit set lives up to its name. We used ultrasoft fabric and an easy design that's as comfortable at bedtime as it is when we have to make a quick run out. \\n\\nSize & Fit \\nPants are Favorite Fit: Sits lower on the waist. \\nRelaxed Fit: Our most generous fit sits farthest from the body. \\n\\nFabric & Care \\nIn the softest blend of 63% polyester, 35% rayon and 2% spandex.\\n\\nAdditional Features \\nRelaxed fit top with raglan sleeves and rounded hem. \\nPull-on pants have a wide elastic waistband and drawstring, side pockets and a modern slim leg. \\nImported.<<<<>>>>>: 632\\nname: Cozy Comfort Fleece Pullover\\ndescription: The ultimate sweater fleece – made from superior fabric and offered at an unbeatable price. \\n\\nSize & Fit\\nSlightly Fitted: Softly shapes the body. Falls at hip. \\n\\nWhy We Love It\\nOur customers (and employees) love the rugged construction and heritage-inspired styling of our popular Sweater Fleece Pullover and wear it for absolutely everything. From high-intensity activities to everyday tasks, you'll find yourself reaching for it every time.\\n\\nFabric & Care\\nRugged sweater-knit exterior and soft brushed interior for exceptional warmth and comfort. Made from soft, 100% polyester. Machine wash and dry.\\n\\nAdditional Features\\nFeatures our classic Mount Katahdin logo. Snap placket. Front princess seams create a feminine shape. Kangaroo handwarmer pockets. Cuffs and hem reinforced with jersey binding. Imported.\\n\\n – Official Supplier to the U.S. Ski Team\\nTHEIR WILL TO WIN, WOVEN RIGHT IN. LEARN MORE<<<<>>>>>: 151\\nname: Cozy Quilted Sweatshirt\\ndescription: Our sweatshirt is an instant classic with its great quilted texture and versatile weight that easily transitions between seasons. With a traditional fit that is relaxed through the chest, sleeve, and waist, this pullover is lightweight enough to be worn most months of the year. The cotton blend fabric is super soft and comfortable, making it the perfect casual layer. To make dressing easy, this sweatshirt also features a snap placket and a heritage-inspired Mt. Katahdin logo patch. For care, machine wash and dry. Imported.\"\n",
      "}\n",
      "\u001b[32;1m\u001b[1;3m[llm/start]\u001b[0m \u001b[1m[chain:RetrievalQA > chain:StuffDocumentsChain > chain:LLMChain > llm:AzureChatOpenAI] Entering LLM run with input:\n",
      "\u001b[0m{\n",
      "  \"prompts\": [\n",
      "    \"System: Use the following pieces of context to answer the user's question. \\nIf you don't know the answer, just say that you don't know, don't try to make up an answer.\\n----------------\\n: 10\\nname: Cozy Comfort Pullover Set, Stripe\\ndescription: Perfect for lounging, this striped knit set lives up to its name. We used ultrasoft fabric and an easy design that's as comfortable at bedtime as it is when we have to make a quick run out.\\n\\nSize & Fit\\n- Pants are Favorite Fit: Sits lower on the waist.\\n- Relaxed Fit: Our most generous fit sits farthest from the body.\\n\\nFabric & Care\\n- In the softest blend of 63% polyester, 35% rayon and 2% spandex.\\n\\nAdditional Features\\n- Relaxed fit top with raglan sleeves and rounded hem.\\n- Pull-on pants have a wide elastic waistband and drawstring, side pockets and a modern slim leg.\\n\\nImported.<<<<>>>>>: 73\\nname: Cozy Cuddles Knit Pullover Set\\ndescription: Perfect for lounging, this knit set lives up to its name. We used ultrasoft fabric and an easy design that's as comfortable at bedtime as it is when we have to make a quick run out. \\n\\nSize & Fit \\nPants are Favorite Fit: Sits lower on the waist. \\nRelaxed Fit: Our most generous fit sits farthest from the body. \\n\\nFabric & Care \\nIn the softest blend of 63% polyester, 35% rayon and 2% spandex.\\n\\nAdditional Features \\nRelaxed fit top with raglan sleeves and rounded hem. \\nPull-on pants have a wide elastic waistband and drawstring, side pockets and a modern slim leg. \\nImported.<<<<>>>>>: 632\\nname: Cozy Comfort Fleece Pullover\\ndescription: The ultimate sweater fleece – made from superior fabric and offered at an unbeatable price. \\n\\nSize & Fit\\nSlightly Fitted: Softly shapes the body. Falls at hip. \\n\\nWhy We Love It\\nOur customers (and employees) love the rugged construction and heritage-inspired styling of our popular Sweater Fleece Pullover and wear it for absolutely everything. From high-intensity activities to everyday tasks, you'll find yourself reaching for it every time.\\n\\nFabric & Care\\nRugged sweater-knit exterior and soft brushed interior for exceptional warmth and comfort. Made from soft, 100% polyester. Machine wash and dry.\\n\\nAdditional Features\\nFeatures our classic Mount Katahdin logo. Snap placket. Front princess seams create a feminine shape. Kangaroo handwarmer pockets. Cuffs and hem reinforced with jersey binding. Imported.\\n\\n – Official Supplier to the U.S. Ski Team\\nTHEIR WILL TO WIN, WOVEN RIGHT IN. LEARN MORE<<<<>>>>>: 151\\nname: Cozy Quilted Sweatshirt\\ndescription: Our sweatshirt is an instant classic with its great quilted texture and versatile weight that easily transitions between seasons. With a traditional fit that is relaxed through the chest, sleeve, and waist, this pullover is lightweight enough to be worn most months of the year. The cotton blend fabric is super soft and comfortable, making it the perfect casual layer. To make dressing easy, this sweatshirt also features a snap placket and a heritage-inspired Mt. Katahdin logo patch. For care, machine wash and dry. Imported.\\nHuman: Do the Cozy Comfort Pullover Set        have side pockets?\"\n",
      "  ]\n",
      "}\n",
      "\u001b[36;1m\u001b[1;3m[llm/end]\u001b[0m \u001b[1m[chain:RetrievalQA > chain:StuffDocumentsChain > chain:LLMChain > llm:AzureChatOpenAI] [291ms] Exiting LLM run with output:\n",
      "\u001b[0m{\n",
      "  \"generations\": [\n",
      "    [\n",
      "      {\n",
      "        \"text\": \"Yes, the Cozy Comfort Pullover Set has side pockets.\",\n",
      "        \"generation_info\": {\n",
      "          \"finish_reason\": \"stop\",\n",
      "          \"logprobs\": null,\n",
      "          \"content_filter_results\": {\n",
      "            \"hate\": {\n",
      "              \"filtered\": false,\n",
      "              \"severity\": \"safe\"\n",
      "            },\n",
      "            \"protected_material_code\": {\n",
      "              \"filtered\": false,\n",
      "              \"detected\": false\n",
      "            },\n",
      "            \"protected_material_text\": {\n",
      "              \"filtered\": false,\n",
      "              \"detected\": false\n",
      "            },\n",
      "            \"self_harm\": {\n",
      "              \"filtered\": false,\n",
      "              \"severity\": \"safe\"\n",
      "            },\n",
      "            \"sexual\": {\n",
      "              \"filtered\": false,\n",
      "              \"severity\": \"safe\"\n",
      "            },\n",
      "            \"violence\": {\n",
      "              \"filtered\": false,\n",
      "              \"severity\": \"safe\"\n",
      "            }\n",
      "          }\n",
      "        },\n",
      "        \"type\": \"ChatGeneration\",\n",
      "        \"message\": {\n",
      "          \"lc\": 1,\n",
      "          \"type\": \"constructor\",\n",
      "          \"id\": [\n",
      "            \"langchain\",\n",
      "            \"schema\",\n",
      "            \"messages\",\n",
      "            \"AIMessage\"\n",
      "          ],\n",
      "          \"kwargs\": {\n",
      "            \"content\": \"Yes, the Cozy Comfort Pullover Set has side pockets.\",\n",
      "            \"additional_kwargs\": {\n",
      "              \"refusal\": null\n",
      "            },\n",
      "            \"response_metadata\": {\n",
      "              \"token_usage\": {\n",
      "                \"completion_tokens\": 12,\n",
      "                \"prompt_tokens\": 708,\n",
      "                \"total_tokens\": 720,\n",
      "                \"completion_tokens_details\": null\n",
      "              },\n",
      "              \"model_name\": \"gpt-4o-2024-05-13\",\n",
      "              \"system_fingerprint\": \"fp_67802d9a6d\",\n",
      "              \"prompt_filter_results\": [\n",
      "                {\n",
      "                  \"prompt_index\": 0,\n",
      "                  \"content_filter_results\": {}\n",
      "                }\n",
      "              ],\n",
      "              \"finish_reason\": \"stop\",\n",
      "              \"logprobs\": null,\n",
      "              \"content_filter_results\": {\n",
      "                \"hate\": {\n",
      "                  \"filtered\": false,\n",
      "                  \"severity\": \"safe\"\n",
      "                },\n",
      "                \"protected_material_code\": {\n",
      "                  \"filtered\": false,\n",
      "                  \"detected\": false\n",
      "                },\n",
      "                \"protected_material_text\": {\n",
      "                  \"filtered\": false,\n",
      "                  \"detected\": false\n",
      "                },\n",
      "                \"self_harm\": {\n",
      "                  \"filtered\": false,\n",
      "                  \"severity\": \"safe\"\n",
      "                },\n",
      "                \"sexual\": {\n",
      "                  \"filtered\": false,\n",
      "                  \"severity\": \"safe\"\n",
      "                },\n",
      "                \"violence\": {\n",
      "                  \"filtered\": false,\n",
      "                  \"severity\": \"safe\"\n",
      "                }\n",
      "              }\n",
      "            },\n",
      "            \"type\": \"ai\",\n",
      "            \"id\": \"run-68cccbb7-1ad8-45e7-8ea4-ac67e11d4c72-0\",\n",
      "            \"usage_metadata\": {\n",
      "              \"input_tokens\": 708,\n",
      "              \"output_tokens\": 12,\n",
      "              \"total_tokens\": 720\n",
      "            },\n",
      "            \"tool_calls\": [],\n",
      "            \"invalid_tool_calls\": []\n",
      "          }\n",
      "        }\n",
      "      }\n",
      "    ]\n",
      "  ],\n",
      "  \"llm_output\": {\n",
      "    \"token_usage\": {\n",
      "      \"completion_tokens\": 12,\n",
      "      \"prompt_tokens\": 708,\n",
      "      \"total_tokens\": 720,\n",
      "      \"completion_tokens_details\": null\n",
      "    },\n",
      "    \"model_name\": \"gpt-4o-2024-05-13\",\n",
      "    \"system_fingerprint\": \"fp_67802d9a6d\",\n",
      "    \"prompt_filter_results\": [\n",
      "      {\n",
      "        \"prompt_index\": 0,\n",
      "        \"content_filter_results\": {}\n",
      "      }\n",
      "    ]\n",
      "  },\n",
      "  \"run\": null,\n",
      "  \"type\": \"LLMResult\"\n",
      "}\n",
      "\u001b[36;1m\u001b[1;3m[chain/end]\u001b[0m \u001b[1m[chain:RetrievalQA > chain:StuffDocumentsChain > chain:LLMChain] [292ms] Exiting Chain run with output:\n",
      "\u001b[0m{\n",
      "  \"text\": \"Yes, the Cozy Comfort Pullover Set has side pockets.\"\n",
      "}\n",
      "\u001b[36;1m\u001b[1;3m[chain/end]\u001b[0m \u001b[1m[chain:RetrievalQA > chain:StuffDocumentsChain] [293ms] Exiting Chain run with output:\n",
      "\u001b[0m{\n",
      "  \"output_text\": \"Yes, the Cozy Comfort Pullover Set has side pockets.\"\n",
      "}\n",
      "\u001b[36;1m\u001b[1;3m[chain/end]\u001b[0m \u001b[1m[chain:RetrievalQA] [531ms] Exiting Chain run with output:\n",
      "\u001b[0m{\n",
      "  \"result\": \"Yes, the Cozy Comfort Pullover Set has side pockets.\"\n",
      "}\n"
     ]
    },
    {
     "data": {
      "text/plain": [
       "'Yes, the Cozy Comfort Pullover Set has side pockets.'"
      ]
     },
     "execution_count": 19,
     "metadata": {},
     "output_type": "execute_result"
    }
   ],
   "source": [
    "qa.run(examples[0][\"query\"])"
   ]
  },
  {
   "cell_type": "code",
   "execution_count": 20,
   "id": "b3d6bef0",
   "metadata": {
    "height": 48
   },
   "outputs": [],
   "source": [
    "# Turn off the debug mode\n",
    "langchain.debug = False"
   ]
  },
  {
   "cell_type": "markdown",
   "id": "515214e5",
   "metadata": {},
   "source": [
    "## A votre tour avec la version non dépréciée"
   ]
  },
  {
   "cell_type": "markdown",
   "id": "b6e6ee26",
   "metadata": {},
   "source": [
    "Créez une chaine de retrievalQA avec LangChain, avec ou sans LCEL. Appliquez là aux `examples`, et testez là avec QAEvalChain comme dessous.\n",
    "\n",
    "Indice: servez-vous de la documentation ! Notamment [ici](https://api.python.langchain.com/en/latest/chains/langchain.chains.retrieval_qa.base.RetrievalQA.html)"
   ]
  },
  {
   "cell_type": "code",
   "execution_count": 17,
   "id": "924fd7f3",
   "metadata": {},
   "outputs": [
    {
     "name": "stderr",
     "output_type": "stream",
     "text": [
      "c:\\Users\\luca5\\.conda\\envs\\GENAI\\Lib\\site-packages\\langsmith\\client.py:323: LangSmithMissingAPIKeyWarning: API key must be provided when using hosted LangSmith API\n",
      "  warnings.warn(\n"
     ]
    },
    {
     "data": {
      "text/plain": [
       "'The Mountain Man Fleece Jacket is made from 100% recycled polyester.'"
      ]
     },
     "execution_count": 17,
     "metadata": {},
     "output_type": "execute_result"
    }
   ],
   "source": [
    "from langchain import hub\n",
    "from langchain_core.output_parsers import StrOutputParser\n",
    "from langchain_core.runnables import RunnablePassthrough\n",
    "\n",
    "# See full prompt at https://smith.langchain.com/hub/rlm/rag-prompt\n",
    "prompt = hub.pull(\"rlm/rag-prompt\")\n",
    "\n",
    "\n",
    "def format_docs(docs):\n",
    "    return \"<<<<>>>>>\".join(doc.page_content for doc in docs)\n",
    "\n",
    "\n",
    "qa_chain = (\n",
    "    {\n",
    "        \"context\": index.vectorstore.as_retriever() | format_docs,\n",
    "        \"question\": RunnablePassthrough(),\n",
    "    }\n",
    "    | prompt\n",
    "    | llm\n",
    "    | StrOutputParser()\n",
    ")\n",
    "\n",
    "qa_chain.invoke(\"What is the Mountain Man Fleece Jacket made of?\")"
   ]
  },
  {
   "cell_type": "markdown",
   "id": "d7eacc0c",
   "metadata": {},
   "source": [
    "L'implémentation de LCEL expose les aspects internes de ce qui se passe autour de la récupération, du formatage des documents et de leur transmission au LLM à travers un prompt, mais elle est plus verbeuse. Vous pouvez personnaliser et envelopper cette logique de composition dans une fonction helper, ou utiliser la méthode helper de plus haut niveau `create_retrieval_chain` et `create_stuff_documents_chain`."
   ]
  },
  {
   "cell_type": "code",
   "execution_count": null,
   "id": "fe2559bb",
   "metadata": {},
   "outputs": [],
   "source": []
  },
  {
   "cell_type": "markdown",
   "id": "d5bdbdce",
   "metadata": {},
   "source": [
    "## LLM assisted evaluation"
   ]
  },
  {
   "cell_type": "markdown",
   "id": "332110a9",
   "metadata": {},
   "source": [
    "Original Notebook :"
   ]
  },
  {
   "cell_type": "code",
   "execution_count": null,
   "id": "c40b43d7",
   "metadata": {},
   "outputs": [],
   "source": [
    "predictions = qa.apply(examples)"
   ]
  },
  {
   "cell_type": "code",
   "execution_count": null,
   "id": "9874cb1f",
   "metadata": {},
   "outputs": [],
   "source": [
    "from langchain.evaluation.qa import QAEvalChain"
   ]
  },
  {
   "cell_type": "code",
   "execution_count": null,
   "id": "04b82a17",
   "metadata": {},
   "outputs": [],
   "source": [
    "eval_chain = QAEvalChain.from_llm(llm)"
   ]
  },
  {
   "cell_type": "code",
   "execution_count": null,
   "id": "a0a212b9",
   "metadata": {},
   "outputs": [],
   "source": [
    "graded_outputs = eval_chain.evaluate(examples, predictions)"
   ]
  },
  {
   "cell_type": "code",
   "execution_count": null,
   "id": "b01c03f3",
   "metadata": {},
   "outputs": [],
   "source": [
    "for i, eg in enumerate(examples):\n",
    "    print(f\"Example {i}:\")\n",
    "    print(\"Question: \" + predictions[i]['query'])\n",
    "    print(\"Real Answer: \" + predictions[i]['answer'])\n",
    "    print(\"Predicted Answer: \" + predictions[i]['result'])\n",
    "    print(\"Predicted Grade: \" + graded_outputs[i]['text'])\n",
    "    print()"
   ]
  },
  {
   "cell_type": "code",
   "execution_count": null,
   "id": "9fdffbc5",
   "metadata": {},
   "outputs": [],
   "source": [
    "graded_outputs[0]"
   ]
  },
  {
   "cell_type": "markdown",
   "id": "b6a240e2",
   "metadata": {},
   "source": [
    "### A vous de jouer :"
   ]
  },
  {
   "cell_type": "markdown",
   "id": "12ddb569",
   "metadata": {},
   "source": [
    "Ici on cherche à appliquer notre qa_chain à tous les examples, pour avoir une prédiction par exemple.\n",
    "\n",
    "> Comment appliquer une chaine à une liste d'exemples ?\n",
    "\n",
    "Une chaine est un objet `RunnableSequence`\n",
    "\n",
    "Regarder la [documentation](https://api.python.langchain.com/en/latest/runnables/langchain_core.runnables.base.RunnableSequence.html) pour voir quelles méthodes on peut appeler sur une chaine."
   ]
  },
  {
   "cell_type": "code",
   "execution_count": 54,
   "id": "e481a2e4",
   "metadata": {},
   "outputs": [
    {
     "name": "stderr",
     "output_type": "stream",
     "text": [
      "c:\\Users\\luca5\\.conda\\envs\\GENAI\\Lib\\site-packages\\langsmith\\client.py:323: LangSmithMissingAPIKeyWarning: API key must be provided when using hosted LangSmith API\n",
      "  warnings.warn(\n"
     ]
    },
    {
     "data": {
      "text/plain": [
       "ChatPromptTemplate(input_variables=['context', 'input'], optional_variables=['chat_history'], input_types={'chat_history': list[typing.Annotated[typing.Union[typing.Annotated[langchain_core.messages.ai.AIMessage, Tag(tag='ai')], typing.Annotated[langchain_core.messages.human.HumanMessage, Tag(tag='human')], typing.Annotated[langchain_core.messages.chat.ChatMessage, Tag(tag='chat')], typing.Annotated[langchain_core.messages.system.SystemMessage, Tag(tag='system')], typing.Annotated[langchain_core.messages.function.FunctionMessage, Tag(tag='function')], typing.Annotated[langchain_core.messages.tool.ToolMessage, Tag(tag='tool')], typing.Annotated[langchain_core.messages.ai.AIMessageChunk, Tag(tag='AIMessageChunk')], typing.Annotated[langchain_core.messages.human.HumanMessageChunk, Tag(tag='HumanMessageChunk')], typing.Annotated[langchain_core.messages.chat.ChatMessageChunk, Tag(tag='ChatMessageChunk')], typing.Annotated[langchain_core.messages.system.SystemMessageChunk, Tag(tag='SystemMessageChunk')], typing.Annotated[langchain_core.messages.function.FunctionMessageChunk, Tag(tag='FunctionMessageChunk')], typing.Annotated[langchain_core.messages.tool.ToolMessageChunk, Tag(tag='ToolMessageChunk')]], FieldInfo(annotation=NoneType, required=True, discriminator=Discriminator(discriminator=<function _get_type at 0x0000024015DCE480>, custom_error_type=None, custom_error_message=None, custom_error_context=None))]]}, partial_variables={'chat_history': []}, metadata={'lc_hub_owner': 'langchain-ai', 'lc_hub_repo': 'retrieval-qa-chat', 'lc_hub_commit_hash': 'b60afb6297176b022244feb83066e10ecadcda7b90423654c4a9d45e7a73cebc'}, messages=[SystemMessagePromptTemplate(prompt=PromptTemplate(input_variables=['context'], input_types={}, partial_variables={}, template='Answer any use questions based solely on the context below:\\n\\n<context>\\n{context}\\n</context>'), additional_kwargs={}), MessagesPlaceholder(variable_name='chat_history', optional=True), HumanMessagePromptTemplate(prompt=PromptTemplate(input_variables=['input'], input_types={}, partial_variables={}, template='{input}'), additional_kwargs={})])"
      ]
     },
     "execution_count": 54,
     "metadata": {},
     "output_type": "execute_result"
    }
   ],
   "source": [
    "# set the LANGCHAIN_API_KEY environment variable (create key in settings)\n",
    "from langchain import hub\n",
    "prompt = hub.pull(\"langchain-ai/retrieval-qa-chat\")\n",
    "prompt"
   ]
  },
  {
   "cell_type": "code",
   "execution_count": 46,
   "id": "70cd14e2",
   "metadata": {},
   "outputs": [
    {
     "name": "stderr",
     "output_type": "stream",
     "text": [
      "c:\\Users\\luca5\\.conda\\envs\\GENAI\\Lib\\site-packages\\langsmith\\client.py:323: LangSmithMissingAPIKeyWarning: API key must be provided when using hosted LangSmith API\n",
      "  warnings.warn(\n"
     ]
    },
    {
     "data": {
      "text/plain": [
       "ChatPromptTemplate(input_variables=['context', 'question'], input_types={}, partial_variables={}, metadata={'lc_hub_owner': 'rlm', 'lc_hub_repo': 'rag-prompt', 'lc_hub_commit_hash': '50442af133e61576e74536c6556cefe1fac147cad032f4377b60c436e6cdcb6e'}, messages=[HumanMessagePromptTemplate(prompt=PromptTemplate(input_variables=['context', 'question'], input_types={}, partial_variables={}, template=\"You are an assistant for question-answering tasks. Use the following pieces of retrieved context to answer the question. If you don't know the answer, just say that you don't know. Use three sentences maximum and keep the answer concise.\\nQuestion: {question} \\nContext: {context} \\nAnswer:\"), additional_kwargs={})])"
      ]
     },
     "execution_count": 46,
     "metadata": {},
     "output_type": "execute_result"
    }
   ],
   "source": [
    "# set the LANGCHAIN_API_KEY environment variable (create key in settings)\n",
    "from langchain import hub\n",
    "prompt = hub.pull(\"rlm/rag-prompt\")\n",
    "prompt"
   ]
  },
  {
   "cell_type": "code",
   "execution_count": 49,
   "id": "89ed100e",
   "metadata": {},
   "outputs": [
    {
     "data": {
      "text/plain": [
       "ChatPromptTemplate(input_variables=['context', 'input'], input_types={}, partial_variables={}, messages=[HumanMessagePromptTemplate(prompt=PromptTemplate(input_variables=['context', 'input'], input_types={}, partial_variables={}, template=\"You are an assistant for question-answering tasks. Use the following pieces of retrieved context to answer the question. If you don't know the answer, just say that you don't know. Use three sentences maximum and keep the answer concise.\\nQuestion: {input} \\nContext: {context} \\nAnswer:\"), additional_kwargs={})])"
      ]
     },
     "execution_count": 49,
     "metadata": {},
     "output_type": "execute_result"
    }
   ],
   "source": [
    "from langchain.prompts import ChatPromptTemplate\n",
    "prompt_template = \"\"\"You are an assistant for question-answering tasks. Use the following pieces of retrieved context to answer the question. If you don't know the answer, just say that you don't know. Use three sentences maximum and keep the answer concise.\n",
    "Question: {input} \n",
    "Context: {context} \n",
    "Answer:\"\"\"\n",
    "\n",
    "prompt = ChatPromptTemplate.from_template(template=prompt_template)\n",
    "prompt"
   ]
  },
  {
   "cell_type": "code",
   "execution_count": 58,
   "id": "953128d8",
   "metadata": {},
   "outputs": [
    {
     "name": "stderr",
     "output_type": "stream",
     "text": [
      "c:\\Users\\luca5\\.conda\\envs\\GENAI\\Lib\\site-packages\\langsmith\\client.py:323: LangSmithMissingAPIKeyWarning: API key must be provided when using hosted LangSmith API\n",
      "  warnings.warn(\n"
     ]
    },
    {
     "data": {
      "text/plain": [
       "'The Mountain Man Fleece Jacket is made of 100% recycled polyester.'"
      ]
     },
     "execution_count": 58,
     "metadata": {},
     "output_type": "execute_result"
    }
   ],
   "source": [
    "from langchain import hub\n",
    "from langchain_core.output_parsers import StrOutputParser\n",
    "from langchain_core.runnables import RunnablePassthrough\n",
    "\n",
    "# See full prompt at https://smith.langchain.com/hub/rlm/rag-prompt\n",
    "prompt = hub.pull(\"rlm/rag-prompt\")\n",
    "\n",
    "\n",
    "def format_docs(docs):\n",
    "    return \"<<<<>>>>>\".join(doc.page_content for doc in docs)\n",
    "\n",
    "\n",
    "qa_chain = (\n",
    "    {\n",
    "        \"context\": index.vectorstore.as_retriever() | format_docs,\n",
    "        \"question\": RunnablePassthrough(),\n",
    "    }\n",
    "    | prompt\n",
    "    | llm\n",
    "    | StrOutputParser()\n",
    ")\n",
    "\n",
    "qa_chain.invoke(\"What is the Mountain Man Fleece Jacket made of?\")"
   ]
  },
  {
   "cell_type": "code",
   "execution_count": 77,
   "id": "48642b0b",
   "metadata": {},
   "outputs": [
    {
     "data": {
      "text/plain": [
       "['Do the Cozy Comfort Pullover Set        have side pockets?',\n",
       " 'What collection is the Ultra-Lofty         850 Stretch Down Hooded Jacket from?',\n",
       " \"What features contribute to the comfort and support of the Women's Campside Oxfords as described in the document?\",\n",
       " 'What are the primary materials used in the construction of the Recycled Waterhog Dog Mat, Chevron Weave, and what environmental benefits do they provide?',\n",
       " \"What are the key features of the Infant and Toddler Girls' Coastal Chill Swimsuit, Two-Piece that ensure comfort and safety for the wearer?\",\n",
       " 'What are some key features of the Refresh Swimwear, V-Neck Tankini that make it suitable for watersports and how does it incorporate eco-friendly materials?',\n",
       " 'What are the key features of the EcoFlex 3L Storm Pants that make them suitable for year-round outdoor activities, and how does the TEK O2 technology enhance their performance?']"
      ]
     },
     "execution_count": 77,
     "metadata": {},
     "output_type": "execute_result"
    }
   ],
   "source": [
    "batch_queries = []\n",
    "examples_formatted = []\n",
    "\n",
    "for example in examples:\n",
    "    if 'query' in example:\n",
    "        batch_queries.append(example['query'])\n",
    "        examples_formatted.append(example)\n",
    "    elif 'qa_pairs' in example:\n",
    "        batch_queries.append(example['qa_pairs']['query'])\n",
    "        examples_formatted.append(example['qa_pairs'])\n",
    "\n",
    "batch_queries"
   ]
  },
  {
   "cell_type": "code",
   "execution_count": 78,
   "id": "5b6814cb",
   "metadata": {},
   "outputs": [
    {
     "data": {
      "text/plain": [
       "[{'query': 'Do the Cozy Comfort Pullover Set        have side pockets?',\n",
       "  'answer': 'Yes'},\n",
       " {'query': 'What collection is the Ultra-Lofty         850 Stretch Down Hooded Jacket from?',\n",
       "  'answer': 'The DownTek collection'},\n",
       " {'query': \"What features contribute to the comfort and support of the Women's Campside Oxfords as described in the document?\",\n",
       "  'answer': \"The Women's Campside Oxfords feature a super-soft canvas for a broken-in feel, a comfortable EVA innersole with Cleansport NXT® antimicrobial odor control, a moderate arch contour of the innersole, and an EVA foam midsole for cushioning and support.\"},\n",
       " {'query': 'What are the primary materials used in the construction of the Recycled Waterhog Dog Mat, Chevron Weave, and what environmental benefits do they provide?',\n",
       "  'answer': 'The Recycled Waterhog Dog Mat, Chevron Weave, is constructed from 24 oz. polyester fabric made from 94% recycled materials and features rubber backing. The use of recycled plastic materials helps keep dirt and water off floors while reducing plastic waste in landfills, trails, and oceans, providing environmental benefits.'},\n",
       " {'query': \"What are the key features of the Infant and Toddler Girls' Coastal Chill Swimsuit, Two-Piece that ensure comfort and safety for the wearer?\",\n",
       "  'answer': \"The Infant and Toddler Girls' Coastal Chill Swimsuit, Two-Piece features bright colors, ruffles, and exclusive whimsical prints that appeal to toddlers. It is made of four-way-stretch and chlorine-resistant fabric that maintains its shape and resists snags. The swimsuit provides the highest rated sun protection with UPF 50+ fabric, blocking 98% of harmful sun rays. Additionally, it has crossover no-slip straps and a fully lined bottom to ensure a secure fit and maximum coverage.\"},\n",
       " {'query': 'What are some key features of the Refresh Swimwear, V-Neck Tankini that make it suitable for watersports and how does it incorporate eco-friendly materials?',\n",
       "  'answer': 'The Refresh Swimwear, V-Neck Tankini is designed for watersports with features like its comfortable fit, quick-drying and abrasion-resistant Italian-blend fabric, and lightweight racerback straps. Additionally, it offers high sun protection with a UPF 50+ rating. The tankini uses eco-friendly materials, specifically 82% recycled nylon and 18% Lycra® spandex for the body, and 90% recycled nylon with 10% Lycra® spandex for the lining.'},\n",
       " {'query': 'What are the key features of the EcoFlex 3L Storm Pants that make them suitable for year-round outdoor activities, and how does the TEK O2 technology enhance their performance?',\n",
       "  'answer': 'The EcoFlex 3L Storm Pants are suitable for year-round outdoor activities due to several key features: they are made with a three-layer shell for waterproof protection, have interior gaiters to keep out rain and snow, and include full side zips for easy on/off over boots. They also have two zippered hand pockets and a thigh pocket for convenience. The TEK O2 technology enhances their performance by providing enhanced breathability, making them comfortable and dry during various activities. The pants are slightly fitted through the hip and thigh, and their breathability has been significantly improved with the TEK O2 technology, which is described as the most breathable they have ever tested.'}]"
      ]
     },
     "execution_count": 78,
     "metadata": {},
     "output_type": "execute_result"
    }
   ],
   "source": [
    "examples_formatted"
   ]
  },
  {
   "cell_type": "code",
   "execution_count": 80,
   "id": "4414242b",
   "metadata": {},
   "outputs": [
    {
     "data": {
      "text/plain": [
       "['Yes, the Cozy Comfort Pullover Set has side pockets.',\n",
       " 'The Ultra-Lofty 850 Stretch Down Hooded Jacket is from the DownTek collection.',\n",
       " \"The Women's Campside Oxfords offer comfort and support through a super-soft canvas for a broken-in feel, a comfortable EVA innersole with antimicrobial odor control, and an EVA foam midsole for cushioning and support. They also feature a moderate arch contour and a chain-tread-inspired molded rubber outsole.\",\n",
       " 'The Recycled Waterhog Dog Mat, Chevron Weave, is constructed primarily from recycled plastic materials, with 94% of the 24 oz. polyester fabric being recycled, and features a rubber backing. The environmental benefits include keeping plastic out of landfills, trails, and oceans. This contributes to reducing waste and promoting sustainability.',\n",
       " \"The key features of the Infant and Toddler Girls' Coastal Chill Swimsuit, Two-Piece ensuring comfort and safety are the four-way-stretch, chlorine-resistant fabric, and UPF 50+ sun protection, which blocks 98% of harmful rays. It also has crossover no-slip straps and a fully lined bottom to ensure a secure fit and maximum coverage.\",\n",
       " 'The Refresh Swimwear, V-Neck Tankini is suitable for watersports due to its fitted design, quick-drying and abrasion-resistant fabric, and lightweight racerback straps that ensure ease of movement. It incorporates eco-friendly materials by using 82% recycled nylon and 18% Lycra® spandex, with a lining of 90% recycled nylon and 10% Lycra® spandex. Additionally, it offers UPF 50+ sun protection, providing the highest level of sun safety.',\n",
       " 'The EcoFlex 3L Storm Pants are suitable for year-round outdoor activities due to their four-season waterproof design and the inclusion of weather-blocking gaiters and handy side zips. The TEK O2 technology enhances their performance by providing superior breathability and keeping users dry and comfortable, regardless of the activity or weather conditions. These features make them ideal for activities like skiing and other outdoor pursuits.']"
      ]
     },
     "execution_count": 80,
     "metadata": {},
     "output_type": "execute_result"
    }
   ],
   "source": [
    "predictions = qa_chain.batch(batch_queries)\n",
    "predictions"
   ]
  },
  {
   "cell_type": "code",
   "execution_count": 81,
   "id": "392638c8",
   "metadata": {},
   "outputs": [
    {
     "data": {
      "text/plain": [
       "[{'prediction': 'Yes, the Cozy Comfort Pullover Set has side pockets.'},\n",
       " {'prediction': 'The Ultra-Lofty 850 Stretch Down Hooded Jacket is from the DownTek collection.'},\n",
       " {'prediction': \"The Women's Campside Oxfords offer comfort and support through a super-soft canvas for a broken-in feel, a comfortable EVA innersole with antimicrobial odor control, and an EVA foam midsole for cushioning and support. They also feature a moderate arch contour and a chain-tread-inspired molded rubber outsole.\"},\n",
       " {'prediction': 'The Recycled Waterhog Dog Mat, Chevron Weave, is constructed primarily from recycled plastic materials, with 94% of the 24 oz. polyester fabric being recycled, and features a rubber backing. The environmental benefits include keeping plastic out of landfills, trails, and oceans. This contributes to reducing waste and promoting sustainability.'},\n",
       " {'prediction': \"The key features of the Infant and Toddler Girls' Coastal Chill Swimsuit, Two-Piece ensuring comfort and safety are the four-way-stretch, chlorine-resistant fabric, and UPF 50+ sun protection, which blocks 98% of harmful rays. It also has crossover no-slip straps and a fully lined bottom to ensure a secure fit and maximum coverage.\"},\n",
       " {'prediction': 'The Refresh Swimwear, V-Neck Tankini is suitable for watersports due to its fitted design, quick-drying and abrasion-resistant fabric, and lightweight racerback straps that ensure ease of movement. It incorporates eco-friendly materials by using 82% recycled nylon and 18% Lycra® spandex, with a lining of 90% recycled nylon and 10% Lycra® spandex. Additionally, it offers UPF 50+ sun protection, providing the highest level of sun safety.'},\n",
       " {'prediction': 'The EcoFlex 3L Storm Pants are suitable for year-round outdoor activities due to their four-season waterproof design and the inclusion of weather-blocking gaiters and handy side zips. The TEK O2 technology enhances their performance by providing superior breathability and keeping users dry and comfortable, regardless of the activity or weather conditions. These features make them ideal for activities like skiing and other outdoor pursuits.'}]"
      ]
     },
     "execution_count": 81,
     "metadata": {},
     "output_type": "execute_result"
    }
   ],
   "source": [
    "predictions_as_dict = []\n",
    "\n",
    "# eval_chain.evaluate necessite un dictionnaire pour les prédictions comme pour les questions-réponses\n",
    "for prediction in predictions:\n",
    "  predictions_as_dict.append({\"prediction\": prediction})\n",
    "predictions_as_dict"
   ]
  },
  {
   "cell_type": "code",
   "execution_count": 82,
   "id": "436ce1d8",
   "metadata": {},
   "outputs": [],
   "source": [
    "from langchain.evaluation.qa import QAEvalChain\n",
    "\n",
    "eval_chain = QAEvalChain.from_llm(llm)"
   ]
  },
  {
   "cell_type": "code",
   "execution_count": 88,
   "id": "9c6f81d4",
   "metadata": {},
   "outputs": [
    {
     "name": "stderr",
     "output_type": "stream",
     "text": [
      "c:\\Users\\luca5\\.conda\\envs\\GENAI\\Lib\\site-packages\\langchain_openai\\chat_models\\base.py:358: UserWarning: Unexpected type for token usage: <class 'NoneType'>\n",
      "  warnings.warn(f\"Unexpected type for token usage: {type(new_usage)}\")\n"
     ]
    }
   ],
   "source": [
    "graded_outputs = eval_chain.evaluate(examples_formatted, predictions_as_dict, prediction_key='prediction')"
   ]
  },
  {
   "cell_type": "code",
   "execution_count": 90,
   "id": "697205b7",
   "metadata": {},
   "outputs": [
    {
     "name": "stdout",
     "output_type": "stream",
     "text": [
      "Example 0:\n",
      "Question: Do the Cozy Comfort Pullover Set        have side pockets?\n",
      "Real Answer: Yes\n",
      "Predicted Answer: Yes, the Cozy Comfort Pullover Set has side pockets.\n",
      "Predicted Grade: CORRECT\n",
      "\n",
      "Example 1:\n",
      "Question: What collection is the Ultra-Lofty         850 Stretch Down Hooded Jacket from?\n",
      "Real Answer: The DownTek collection\n",
      "Predicted Answer: The Ultra-Lofty 850 Stretch Down Hooded Jacket is from the DownTek collection.\n",
      "Predicted Grade: CORRECT\n",
      "\n",
      "Example 2:\n",
      "Question: What features contribute to the comfort and support of the Women's Campside Oxfords as described in the document?\n",
      "Real Answer: The Women's Campside Oxfords feature a super-soft canvas for a broken-in feel, a comfortable EVA innersole with Cleansport NXT® antimicrobial odor control, a moderate arch contour of the innersole, and an EVA foam midsole for cushioning and support.\n",
      "Predicted Answer: The Women's Campside Oxfords offer comfort and support through a super-soft canvas for a broken-in feel, a comfortable EVA innersole with antimicrobial odor control, and an EVA foam midsole for cushioning and support. They also feature a moderate arch contour and a chain-tread-inspired molded rubber outsole.\n",
      "Predicted Grade: CORRECT\n",
      "\n",
      "Example 3:\n",
      "Question: What are the primary materials used in the construction of the Recycled Waterhog Dog Mat, Chevron Weave, and what environmental benefits do they provide?\n",
      "Real Answer: The Recycled Waterhog Dog Mat, Chevron Weave, is constructed from 24 oz. polyester fabric made from 94% recycled materials and features rubber backing. The use of recycled plastic materials helps keep dirt and water off floors while reducing plastic waste in landfills, trails, and oceans, providing environmental benefits.\n",
      "Predicted Answer: The Recycled Waterhog Dog Mat, Chevron Weave, is constructed primarily from recycled plastic materials, with 94% of the 24 oz. polyester fabric being recycled, and features a rubber backing. The environmental benefits include keeping plastic out of landfills, trails, and oceans. This contributes to reducing waste and promoting sustainability.\n",
      "Predicted Grade: CORRECT\n",
      "\n",
      "Example 4:\n",
      "Question: What are the key features of the Infant and Toddler Girls' Coastal Chill Swimsuit, Two-Piece that ensure comfort and safety for the wearer?\n",
      "Real Answer: The Infant and Toddler Girls' Coastal Chill Swimsuit, Two-Piece features bright colors, ruffles, and exclusive whimsical prints that appeal to toddlers. It is made of four-way-stretch and chlorine-resistant fabric that maintains its shape and resists snags. The swimsuit provides the highest rated sun protection with UPF 50+ fabric, blocking 98% of harmful sun rays. Additionally, it has crossover no-slip straps and a fully lined bottom to ensure a secure fit and maximum coverage.\n",
      "Predicted Answer: The key features of the Infant and Toddler Girls' Coastal Chill Swimsuit, Two-Piece ensuring comfort and safety are the four-way-stretch, chlorine-resistant fabric, and UPF 50+ sun protection, which blocks 98% of harmful rays. It also has crossover no-slip straps and a fully lined bottom to ensure a secure fit and maximum coverage.\n",
      "Predicted Grade: CORRECT\n",
      "\n",
      "Example 5:\n",
      "Question: What are some key features of the Refresh Swimwear, V-Neck Tankini that make it suitable for watersports and how does it incorporate eco-friendly materials?\n",
      "Real Answer: The Refresh Swimwear, V-Neck Tankini is designed for watersports with features like its comfortable fit, quick-drying and abrasion-resistant Italian-blend fabric, and lightweight racerback straps. Additionally, it offers high sun protection with a UPF 50+ rating. The tankini uses eco-friendly materials, specifically 82% recycled nylon and 18% Lycra® spandex for the body, and 90% recycled nylon with 10% Lycra® spandex for the lining.\n",
      "Predicted Answer: The Refresh Swimwear, V-Neck Tankini is suitable for watersports due to its fitted design, quick-drying and abrasion-resistant fabric, and lightweight racerback straps that ensure ease of movement. It incorporates eco-friendly materials by using 82% recycled nylon and 18% Lycra® spandex, with a lining of 90% recycled nylon and 10% Lycra® spandex. Additionally, it offers UPF 50+ sun protection, providing the highest level of sun safety.\n",
      "Predicted Grade: CORRECT\n",
      "\n",
      "Example 6:\n",
      "Question: What are the key features of the EcoFlex 3L Storm Pants that make them suitable for year-round outdoor activities, and how does the TEK O2 technology enhance their performance?\n",
      "Real Answer: The EcoFlex 3L Storm Pants are suitable for year-round outdoor activities due to several key features: they are made with a three-layer shell for waterproof protection, have interior gaiters to keep out rain and snow, and include full side zips for easy on/off over boots. They also have two zippered hand pockets and a thigh pocket for convenience. The TEK O2 technology enhances their performance by providing enhanced breathability, making them comfortable and dry during various activities. The pants are slightly fitted through the hip and thigh, and their breathability has been significantly improved with the TEK O2 technology, which is described as the most breathable they have ever tested.\n",
      "Predicted Answer: The EcoFlex 3L Storm Pants are suitable for year-round outdoor activities due to their four-season waterproof design and the inclusion of weather-blocking gaiters and handy side zips. The TEK O2 technology enhances their performance by providing superior breathability and keeping users dry and comfortable, regardless of the activity or weather conditions. These features make them ideal for activities like skiing and other outdoor pursuits.\n",
      "Predicted Grade: CORRECT\n",
      "\n"
     ]
    }
   ],
   "source": [
    "for i, example in enumerate(examples):\n",
    "    print(f\"Example {i}:\")\n",
    "    print(\"Question: \" + examples_formatted[i]['query'])\n",
    "    print(\"Real Answer: \" + examples_formatted[i]['answer'])\n",
    "    print(\"Predicted Answer: \" + predictions_as_dict[i]['prediction'])\n",
    "    print(\"Predicted Grade: \" + graded_outputs[i]['results'])\n",
    "    print()"
   ]
  },
  {
   "cell_type": "markdown",
   "id": "fad0ddd1",
   "metadata": {},
   "source": [
    "## [LangSmith Platform](https://smith.langchain.com/)"
   ]
  },
  {
   "cell_type": "markdown",
   "id": "ef63bb24",
   "metadata": {},
   "source": [
    "What is Langsmith? What can you do with it ?"
   ]
  },
  {
   "cell_type": "markdown",
   "id": "5cf2e061",
   "metadata": {},
   "source": [
    "LangSmith, entre autre, vous aide à tracer et à évaluer vos applications de modèles linguistiques et d'agents intelligents pour vous aider à passer du prototype à la production."
   ]
  },
  {
   "cell_type": "code",
   "execution_count": null,
   "id": "be5b2aae",
   "metadata": {
    "height": 31
   },
   "outputs": [],
   "source": []
  },
  {
   "cell_type": "code",
   "execution_count": null,
   "id": "26ac493e",
   "metadata": {
    "height": 31
   },
   "outputs": [],
   "source": []
  },
  {
   "cell_type": "code",
   "execution_count": null,
   "id": "f94cdacd",
   "metadata": {
    "height": 31
   },
   "outputs": [],
   "source": []
  }
 ],
 "metadata": {
  "kernelspec": {
   "display_name": "Python 3 (ipykernel)",
   "language": "python",
   "name": "python3"
  },
  "language_info": {
   "codemirror_mode": {
    "name": "ipython",
    "version": 3
   },
   "file_extension": ".py",
   "mimetype": "text/x-python",
   "name": "python",
   "nbconvert_exporter": "python",
   "pygments_lexer": "ipython3",
   "version": "3.12.3"
  }
 },
 "nbformat": 4,
 "nbformat_minor": 5
}
