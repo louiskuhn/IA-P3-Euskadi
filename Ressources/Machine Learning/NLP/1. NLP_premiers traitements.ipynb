{
 "cells": [
  {
   "cell_type": "markdown",
   "metadata": {},
   "source": [
    "# Natural Langage Processing : les premiers traitements\n",
    "\n",
    "Pour illustrer un cas d'analyse de texte, on va analyser les compte-rendus du journal en ligne lequipe.fr de deux finales de coupe du monde de football : l'une féminine et l'une masculine. "
   ]
  },
  {
   "cell_type": "markdown",
   "metadata": {},
   "source": [
    "## Import des données\n",
    "\n",
    "On propose le code suivant pour scrapper les comptes-rendus : "
   ]
  },
  {
   "cell_type": "code",
   "execution_count": 1,
   "metadata": {},
   "outputs": [],
   "source": [
    "import requests\n",
    "from bs4 import BeautifulSoup\n",
    "#import pickle as pkl"
   ]
  },
  {
   "cell_type": "code",
   "execution_count": 2,
   "metadata": {},
   "outputs": [],
   "source": [
    "def scrap_cr_foot(url):\n",
    "    page = requests.get(url).text\n",
    "    soup = BeautifulSoup(page, \"lxml\")\n",
    "    text = [p.text for p in soup.find(class_=\"article\").find_all('p')]\n",
    "    return(text)"
   ]
  },
  {
   "cell_type": "code",
   "execution_count": 3,
   "metadata": {},
   "outputs": [],
   "source": [
    "url_h = \"https://www.lequipe.fr/Football/Actualites/La-cote-d-ivoire-elimine-le-senegal-et-jouera-les-quarts-de-finale-de-la-can/1445562\"\n",
    "url_f = \"https://www.lequipe.fr/Football/Actualites/Le-psg-enchaine-contre-l-ajax-et-prend-la-tete-de-son-groupe-de-ligue-des-champions/1444400\""
   ]
  },
  {
   "cell_type": "code",
   "execution_count": 4,
   "metadata": {},
   "outputs": [
    {
     "data": {
      "text/plain": [
       "[\"Le Sénégal ne rendra pas la monnaie de sa pièce à la Côte d'Ivoire en remportant la CAN sur son sol comme les Éléphants l'avaient réussi à Dakar, en 1992 (0-0, 11-10 aux t.a.b. en finale contre le Ghana), ainsi que l'avait espéré Aliou Cissé dimanche. Car le sélectionneur des Lions de la Teranga a vu son équipe tenante du trophée (le premier de son histoire, gagné en 2022), être éliminée par le pays organisateur dès les huitièmes de finale (1-1, 4-5 aux t.a.b.).\",\n",
       " 'Moussa Niakhaté manque son tir au but',\n",
       " \"Giflés par la Guinée équatoriale lundi dernier (0-4) puis qualifiés miraculeusement après la victoire du Maroc contre la Zambie (1-0) mercredi, les Ivoiriens ont vécu des derniers jours particulièrement tumultueux avec la démission de leur sélectionneur, Jean-Louis Gasset, puis la possible arrivée, finalement avortée, de Hervé Renard. C'est finalement l'ex-adjoint Emerse Faé qui les conduisait et ils ont fait preuve de ressources mentales exceptionnelles. En particulier en transformant tous leurs tirs au but, alors que Moussa Niakhaté a envoyé le sien sur le poteau droit de Yahia Fofana.\",\n",
       " \"Pourtant, tout avait bien commencé pour les Sénégalais. Ils avaient en effet ouvert le score dès la 4e minute sur un magnifique centre en retrait de Sadio Mané vers Habib Diallo, qui a réussi un somptueux enchaînement contrôle de la poitrine-frappe en force du pied gauche sous la barre (4e). Sachant qu'ils auraient dû être réduits à dix dès la 11e minute (expulsion oubliée de Mané, voir ci-dessous), ils ont ensuite bien contrôlé une première période fermée et sans spectacle, malgré une escarmouche de Seko Fofana (41e).\",\n",
       " 'Le public ivoirien revigoré',\n",
       " \"Puis lors d'une seconde mi-temps de plus en plus enlevée au fil des minutes, ils ont raté plusieurs occasions nettes par Ismaïla Sarr (48e, belle parade de Yahia Fofana), Lamine Camara (70e) et Sadio Mané (75e). Ils se sont ainsi mis à la merci d'un réveil ivoirien, qui a finalement eu lieu, Édouard Mendy s'interposant à trois reprises avec autorité (deux fois à la 74e et une fois à la 77e), mais concédant finalement un penalty - suite à l'intervention du VAR - pour une grosse faute sur Nicolas Pépé. Il a été transformé avec sang-froid du pied droit par Franck Kessié (86e), entré à la place de Sangaré (73e).\",\n",
       " \"Avec la fatigue, il n'y a eu que deux vrais frissons durant la prolongation, un de chaque côté\\xa0: un tir lointain de Serge Aurier juste à côté (98e) et une superbe parade de Fofana devant Sadio Mané (105e+2).\\xa0La séance de tirs au but a donc tourné à l'avantage des Ivoiriens, celui de la gagne étant transformé par Franck Kessié, vraiment pas épargné par les critiques, mais hyper costaud dans sa tête.\",\n",
       " \"La Côte d'Ivoire jouera donc samedi (18\\xa0heures) à Bouaké, au stade de la Paix, son quart de finale contre le vainqueur de Mali - Burkina Faso (qui se dispute ce mardi, 18\\xa0heures). Devant un public forcément revigoré comme jamais.\",\n",
       " '',\n",
       " \"L'arbitre gabonais, Pierre Atcho, s'est manqué dans les grandes largeurs tout au long de ce choc, mais a été heureusement en partie rattrapé par le VAR. À la 9e minute, la star du Sénégal, Sadio Mané a taclé de manière inconsidérée le milieu ivoirien Ibrahim Sangaré, resté au sol plusieurs minutes avant de reprendre le jeu. M.\\xa0Atcho a brandi un carton jaune à l'attaquant des Lions de la Ternaga et n'a pas été appelé par le VAR. Alors que ce dernier aurait dû considérer qu'il s'agissait d'une erreur manifeste de ne pas expulser Mané, tant son tacle était mal maîtrisé, avec un pied en avant heurtant le tibia de Sangaré.\",\n",
       " \"Ensuite, la non-interpellation de l'arbitre (par le VAR) après sa décision plus que contestable de ne pas accorder de penalty au Sénégal pour un accrochage assez net d'Odilon Kossounou sur Ismaïla Sarr (55e), relevait-elle d'une forme de compensation\\xa0?\",\n",
       " \"En tout cas, Pierre Atcho, perdu, s'est carrément trompé, un peu plus tard, en ne sifflant pas le penalty qui s'imposait pour une faute énorme d'Édouard Mendy sur Nicolas Pépé, nettement visible à vitesse réelle et en direct. Il a donc fallu que le VAR le «\\xa0sauve\\xa0» cette fois\\xa0: il est allé visionner les images et a accordé ce penalty évident, transformé par Franck Kessié, 86e). Un moindre mal.\"]"
      ]
     },
     "execution_count": 4,
     "metadata": {},
     "output_type": "execute_result"
    }
   ],
   "source": [
    "# Compte rendu messieurs\n",
    "cr_h = scrap_cr_foot(url_h)\n",
    "cr_h"
   ]
  },
  {
   "cell_type": "code",
   "execution_count": 5,
   "metadata": {},
   "outputs": [
    {
     "data": {
      "text/plain": [
       "[\"La soirée est juste très belle, alors qu'elle aurait pu tutoyer la perfection pour le PSG. En égalisant (2-2) sur le terrain de l'AS Rome dans un lointain temps additionnel (90e+6), la joueuse du Bayern Munich Lea Schüller a empêché l'équipe parisienne de réaliser l'opération rêvée\\xa0: s'assurer de finir parmi les deux premiers avant même l'ultime journée. Mais il aurait fallu pour cela que la formation transalpine assure une victoire qui, couplée à celle des joueuses de Jocelyn Prêcheur, aurait validée cette qualification.\",\n",
       " \"Alors, mardi prochain, il suffira de ne pas perdre en Bavière, face à une équipe qui s'était imposée à l'aller (1-0), pour passer la frontière de la phase de groupes et rallier les destinations encore plus palpitantes des rencontres à élimination directe. En cas de défaite sur le terrain du Bayern, il faudrait ajouter une victoire de l'Ajax sur la Roma pour tisser la trame cauchemardesque d'une élimination.\",\n",
       " \"En attendant cette échéance cruciale, le deuxième de la D1 peut se réjouir de poursuivre l'année 2024 en mode rouleau compresseur. Le succès de ce mercredi est le huitième de suite, toutes compétitions confondues, un tableau de marche d'ogre dont les dents rayent le gazon. Cette série s'accompagne d'un flamboiement des statistiques offensives\\xa0: avec les 3 buts inscrits mercredi, le PSG en compte 25 en cinq rencontres seulement, depuis le 9\\xa0janvier.Au coeur de cette tempête offensive souffle le talent de Marie-Antoinette Katoto. Dès la 7e minute, l'attaquante internationale a repris d'un geste acrobatique un centre de Sandy Baltimore, qui venait de tourmenter Ashleigh Weerden. Dix-huit minutes plus tard, l'avant-centre du PSG a frappé dans un autre registre, un face-à-face avec la gardienne remporté d'un tir du gauche, alors que Grace Geyoro venait de la lancer en profondeur après une récupération haute (2-0, 25e).\",\n",
       " \"La numéro\\xa09 parisienne, qui restait avant ce match sur une série de sept buts marqués lors des six dernières rencontres auxquelles elle avait participé, a un peu plus validé la thèse de son retour en forme. Il aura manqué, à ses côtés, une Tabitha Chawinga tout aussi réaliste pour enfoncer un peu plus le clou de la victoire. Mais, en trois occasions (17e, 49e, 54e), l'attaquante globe-trotter du PSG aurait dû se montrer plus habile face à la gardienne adverse. C'est sur une de ses nombreuses actions, en revanche, que le PSG s'est accordé une nouvelle avance de deux buts, par Grace Geyoro (40e), alors que l'Ajax avait réduit le score au terme d'une action individuelle de Romée Leuchter (31e). À 3-1, le PSG n'a jamais tremblé, gardant son stock de frissons pour la prochaine rencontre, peut-être.\"]"
      ]
     },
     "execution_count": 5,
     "metadata": {},
     "output_type": "execute_result"
    }
   ],
   "source": [
    "# Compte rendu mesdames\n",
    "cr_f = scrap_cr_foot(url_f)\n",
    "cr_f"
   ]
  },
  {
   "cell_type": "markdown",
   "metadata": {},
   "source": [
    "## Nettoyage des données\n",
    "On met nos textes dans un dictionnaire : "
   ]
  },
  {
   "cell_type": "code",
   "execution_count": 6,
   "metadata": {},
   "outputs": [],
   "source": [
    "dict_foot = {\"CR hommes\" : cr_h, \"CR femmes\" : cr_f}"
   ]
  },
  {
   "cell_type": "markdown",
   "metadata": {},
   "source": [
    "On transforme les textes, qui sont actuellement une liste, en chaîne de caractères:"
   ]
  },
  {
   "cell_type": "code",
   "execution_count": 7,
   "metadata": {},
   "outputs": [],
   "source": [
    "for i in [\"CR hommes\", \"CR femmes\"]:\n",
    "    dict_foot[i] = ''.join(dict_foot[i])"
   ]
  },
  {
   "cell_type": "code",
   "execution_count": 8,
   "metadata": {},
   "outputs": [
    {
     "data": {
      "text/plain": [
       "{'CR hommes': \"Le Sénégal ne rendra pas la monnaie de sa pièce à la Côte d'Ivoire en remportant la CAN sur son sol comme les Éléphants l'avaient réussi à Dakar, en 1992 (0-0, 11-10 aux t.a.b. en finale contre le Ghana), ainsi que l'avait espéré Aliou Cissé dimanche. Car le sélectionneur des Lions de la Teranga a vu son équipe tenante du trophée (le premier de son histoire, gagné en 2022), être éliminée par le pays organisateur dès les huitièmes de finale (1-1, 4-5 aux t.a.b.).Moussa Niakhaté manque son tir au butGiflés par la Guinée équatoriale lundi dernier (0-4) puis qualifiés miraculeusement après la victoire du Maroc contre la Zambie (1-0) mercredi, les Ivoiriens ont vécu des derniers jours particulièrement tumultueux avec la démission de leur sélectionneur, Jean-Louis Gasset, puis la possible arrivée, finalement avortée, de Hervé Renard. C'est finalement l'ex-adjoint Emerse Faé qui les conduisait et ils ont fait preuve de ressources mentales exceptionnelles. En particulier en transformant tous leurs tirs au but, alors que Moussa Niakhaté a envoyé le sien sur le poteau droit de Yahia Fofana.Pourtant, tout avait bien commencé pour les Sénégalais. Ils avaient en effet ouvert le score dès la 4e minute sur un magnifique centre en retrait de Sadio Mané vers Habib Diallo, qui a réussi un somptueux enchaînement contrôle de la poitrine-frappe en force du pied gauche sous la barre (4e). Sachant qu'ils auraient dû être réduits à dix dès la 11e minute (expulsion oubliée de Mané, voir ci-dessous), ils ont ensuite bien contrôlé une première période fermée et sans spectacle, malgré une escarmouche de Seko Fofana (41e).Le public ivoirien revigoréPuis lors d'une seconde mi-temps de plus en plus enlevée au fil des minutes, ils ont raté plusieurs occasions nettes par Ismaïla Sarr (48e, belle parade de Yahia Fofana), Lamine Camara (70e) et Sadio Mané (75e). Ils se sont ainsi mis à la merci d'un réveil ivoirien, qui a finalement eu lieu, Édouard Mendy s'interposant à trois reprises avec autorité (deux fois à la 74e et une fois à la 77e), mais concédant finalement un penalty - suite à l'intervention du VAR - pour une grosse faute sur Nicolas Pépé. Il a été transformé avec sang-froid du pied droit par Franck Kessié (86e), entré à la place de Sangaré (73e).Avec la fatigue, il n'y a eu que deux vrais frissons durant la prolongation, un de chaque côté\\xa0: un tir lointain de Serge Aurier juste à côté (98e) et une superbe parade de Fofana devant Sadio Mané (105e+2).\\xa0La séance de tirs au but a donc tourné à l'avantage des Ivoiriens, celui de la gagne étant transformé par Franck Kessié, vraiment pas épargné par les critiques, mais hyper costaud dans sa tête.La Côte d'Ivoire jouera donc samedi (18\\xa0heures) à Bouaké, au stade de la Paix, son quart de finale contre le vainqueur de Mali - Burkina Faso (qui se dispute ce mardi, 18\\xa0heures). Devant un public forcément revigoré comme jamais.L'arbitre gabonais, Pierre Atcho, s'est manqué dans les grandes largeurs tout au long de ce choc, mais a été heureusement en partie rattrapé par le VAR. À la 9e minute, la star du Sénégal, Sadio Mané a taclé de manière inconsidérée le milieu ivoirien Ibrahim Sangaré, resté au sol plusieurs minutes avant de reprendre le jeu. M.\\xa0Atcho a brandi un carton jaune à l'attaquant des Lions de la Ternaga et n'a pas été appelé par le VAR. Alors que ce dernier aurait dû considérer qu'il s'agissait d'une erreur manifeste de ne pas expulser Mané, tant son tacle était mal maîtrisé, avec un pied en avant heurtant le tibia de Sangaré.Ensuite, la non-interpellation de l'arbitre (par le VAR) après sa décision plus que contestable de ne pas accorder de penalty au Sénégal pour un accrochage assez net d'Odilon Kossounou sur Ismaïla Sarr (55e), relevait-elle d'une forme de compensation\\xa0?En tout cas, Pierre Atcho, perdu, s'est carrément trompé, un peu plus tard, en ne sifflant pas le penalty qui s'imposait pour une faute énorme d'Édouard Mendy sur Nicolas Pépé, nettement visible à vitesse réelle et en direct. Il a donc fallu que le VAR le «\\xa0sauve\\xa0» cette fois\\xa0: il est allé visionner les images et a accordé ce penalty évident, transformé par Franck Kessié, 86e). Un moindre mal.\",\n",
       " 'CR femmes': \"La soirée est juste très belle, alors qu'elle aurait pu tutoyer la perfection pour le PSG. En égalisant (2-2) sur le terrain de l'AS Rome dans un lointain temps additionnel (90e+6), la joueuse du Bayern Munich Lea Schüller a empêché l'équipe parisienne de réaliser l'opération rêvée\\xa0: s'assurer de finir parmi les deux premiers avant même l'ultime journée. Mais il aurait fallu pour cela que la formation transalpine assure une victoire qui, couplée à celle des joueuses de Jocelyn Prêcheur, aurait validée cette qualification.Alors, mardi prochain, il suffira de ne pas perdre en Bavière, face à une équipe qui s'était imposée à l'aller (1-0), pour passer la frontière de la phase de groupes et rallier les destinations encore plus palpitantes des rencontres à élimination directe. En cas de défaite sur le terrain du Bayern, il faudrait ajouter une victoire de l'Ajax sur la Roma pour tisser la trame cauchemardesque d'une élimination.En attendant cette échéance cruciale, le deuxième de la D1 peut se réjouir de poursuivre l'année 2024 en mode rouleau compresseur. Le succès de ce mercredi est le huitième de suite, toutes compétitions confondues, un tableau de marche d'ogre dont les dents rayent le gazon. Cette série s'accompagne d'un flamboiement des statistiques offensives\\xa0: avec les 3 buts inscrits mercredi, le PSG en compte 25 en cinq rencontres seulement, depuis le 9\\xa0janvier.Au coeur de cette tempête offensive souffle le talent de Marie-Antoinette Katoto. Dès la 7e minute, l'attaquante internationale a repris d'un geste acrobatique un centre de Sandy Baltimore, qui venait de tourmenter Ashleigh Weerden. Dix-huit minutes plus tard, l'avant-centre du PSG a frappé dans un autre registre, un face-à-face avec la gardienne remporté d'un tir du gauche, alors que Grace Geyoro venait de la lancer en profondeur après une récupération haute (2-0, 25e).La numéro\\xa09 parisienne, qui restait avant ce match sur une série de sept buts marqués lors des six dernières rencontres auxquelles elle avait participé, a un peu plus validé la thèse de son retour en forme. Il aura manqué, à ses côtés, une Tabitha Chawinga tout aussi réaliste pour enfoncer un peu plus le clou de la victoire. Mais, en trois occasions (17e, 49e, 54e), l'attaquante globe-trotter du PSG aurait dû se montrer plus habile face à la gardienne adverse. C'est sur une de ses nombreuses actions, en revanche, que le PSG s'est accordé une nouvelle avance de deux buts, par Grace Geyoro (40e), alors que l'Ajax avait réduit le score au terme d'une action individuelle de Romée Leuchter (31e). À 3-1, le PSG n'a jamais tremblé, gardant son stock de frissons pour la prochaine rencontre, peut-être.\"}"
      ]
     },
     "execution_count": 8,
     "metadata": {},
     "output_type": "execute_result"
    }
   ],
   "source": [
    "dict_foot"
   ]
  },
  {
   "cell_type": "markdown",
   "metadata": {},
   "source": [
    "On peut aussi tout passer en data frame"
   ]
  },
  {
   "cell_type": "code",
   "execution_count": 9,
   "metadata": {},
   "outputs": [
    {
     "data": {
      "text/html": [
       "<div>\n",
       "<style scoped>\n",
       "    .dataframe tbody tr th:only-of-type {\n",
       "        vertical-align: middle;\n",
       "    }\n",
       "\n",
       "    .dataframe tbody tr th {\n",
       "        vertical-align: top;\n",
       "    }\n",
       "\n",
       "    .dataframe thead th {\n",
       "        text-align: right;\n",
       "    }\n",
       "</style>\n",
       "<table border=\"1\" class=\"dataframe\">\n",
       "  <thead>\n",
       "    <tr style=\"text-align: right;\">\n",
       "      <th></th>\n",
       "      <th>texte</th>\n",
       "    </tr>\n",
       "  </thead>\n",
       "  <tbody>\n",
       "    <tr>\n",
       "      <th>CR hommes</th>\n",
       "      <td>Le Sénégal ne rendra pas la monnaie de sa pièce à la Côte d'Ivoire en remportant la CAN sur son sol comme les Éléphants l'avaient réussi à Dakar, en 1992 (0-0, 11-10 aux t.a.b. en finale contre le Ghana), ainsi que l'avait espéré Aliou Cissé dimanche. Car le sélectionneur des Lions de la Teranga a vu son équipe tenante du trophée (le premier de son histoire, gagné en 2022), être éliminée par le pays organisateur dès les huitièmes de finale (1-1, 4-5 aux t.a.b.).Moussa Niakhaté manque son tir au butGiflés par la Guinée équatoriale lundi dernier (0-4) puis qualifiés miraculeusement après la victoire du Maroc contre la Zambie (1-0) mercredi, les Ivoiriens ont vécu des derniers jours particulièrement tumultueux avec la démission de leur sélectionneur, Jean-Louis Gasset, puis la possible arrivée, finalement avortée, de Hervé Renard. C'est finalement l'ex-adjoint Emerse Faé qui les conduisait et ils ont fait preuve de ressources mentales exceptionnelles. En particulier en transformant to...</td>\n",
       "    </tr>\n",
       "    <tr>\n",
       "      <th>CR femmes</th>\n",
       "      <td>La soirée est juste très belle, alors qu'elle aurait pu tutoyer la perfection pour le PSG. En égalisant (2-2) sur le terrain de l'AS Rome dans un lointain temps additionnel (90e+6), la joueuse du Bayern Munich Lea Schüller a empêché l'équipe parisienne de réaliser l'opération rêvée : s'assurer de finir parmi les deux premiers avant même l'ultime journée. Mais il aurait fallu pour cela que la formation transalpine assure une victoire qui, couplée à celle des joueuses de Jocelyn Prêcheur, aurait validée cette qualification.Alors, mardi prochain, il suffira de ne pas perdre en Bavière, face à une équipe qui s'était imposée à l'aller (1-0), pour passer la frontière de la phase de groupes et rallier les destinations encore plus palpitantes des rencontres à élimination directe. En cas de défaite sur le terrain du Bayern, il faudrait ajouter une victoire de l'Ajax sur la Roma pour tisser la trame cauchemardesque d'une élimination.En attendant cette échéance cruciale, le deuxième de la D1 ...</td>\n",
       "    </tr>\n",
       "  </tbody>\n",
       "</table>\n",
       "</div>"
      ],
      "text/plain": [
       "                                                                                                                                                                                                                                                                                                                                                                                                                                                                                                                                                                                                                                                                                                                                                                                                                                                                                                                                                                                                                                             texte\n",
       "CR hommes  Le Sénégal ne rendra pas la monnaie de sa pièce à la Côte d'Ivoire en remportant la CAN sur son sol comme les Éléphants l'avaient réussi à Dakar, en 1992 (0-0, 11-10 aux t.a.b. en finale contre le Ghana), ainsi que l'avait espéré Aliou Cissé dimanche. Car le sélectionneur des Lions de la Teranga a vu son équipe tenante du trophée (le premier de son histoire, gagné en 2022), être éliminée par le pays organisateur dès les huitièmes de finale (1-1, 4-5 aux t.a.b.).Moussa Niakhaté manque son tir au butGiflés par la Guinée équatoriale lundi dernier (0-4) puis qualifiés miraculeusement après la victoire du Maroc contre la Zambie (1-0) mercredi, les Ivoiriens ont vécu des derniers jours particulièrement tumultueux avec la démission de leur sélectionneur, Jean-Louis Gasset, puis la possible arrivée, finalement avortée, de Hervé Renard. C'est finalement l'ex-adjoint Emerse Faé qui les conduisait et ils ont fait preuve de ressources mentales exceptionnelles. En particulier en transformant to...\n",
       "CR femmes  La soirée est juste très belle, alors qu'elle aurait pu tutoyer la perfection pour le PSG. En égalisant (2-2) sur le terrain de l'AS Rome dans un lointain temps additionnel (90e+6), la joueuse du Bayern Munich Lea Schüller a empêché l'équipe parisienne de réaliser l'opération rêvée : s'assurer de finir parmi les deux premiers avant même l'ultime journée. Mais il aurait fallu pour cela que la formation transalpine assure une victoire qui, couplée à celle des joueuses de Jocelyn Prêcheur, aurait validée cette qualification.Alors, mardi prochain, il suffira de ne pas perdre en Bavière, face à une équipe qui s'était imposée à l'aller (1-0), pour passer la frontière de la phase de groupes et rallier les destinations encore plus palpitantes des rencontres à élimination directe. En cas de défaite sur le terrain du Bayern, il faudrait ajouter une victoire de l'Ajax sur la Roma pour tisser la trame cauchemardesque d'une élimination.En attendant cette échéance cruciale, le deuxième de la D1 ..."
      ]
     },
     "execution_count": 9,
     "metadata": {},
     "output_type": "execute_result"
    }
   ],
   "source": [
    "import pandas as pd\n",
    "pd.options.display.max_colwidth = 1000\n",
    "cr_df = pd.DataFrame.from_dict(dict_foot, orient = \"index\", columns=['texte'])\n",
    "cr_df"
   ]
  },
  {
   "cell_type": "code",
   "execution_count": 10,
   "metadata": {},
   "outputs": [
    {
     "data": {
      "text/plain": [
       "texte    Le Sénégal ne rendra pas la monnaie de sa pièce à la Côte d'Ivoire en remportant la CAN sur son sol comme les Éléphants l'avaient réussi à Dakar, en 1992 (0-0, 11-10 aux t.a.b. en finale contre le Ghana), ainsi que l'avait espéré Aliou Cissé dimanche. Car le sélectionneur des Lions de la Teranga a vu son équipe tenante du trophée (le premier de son histoire, gagné en 2022), être éliminée par le pays organisateur dès les huitièmes de finale (1-1, 4-5 aux t.a.b.).Moussa Niakhaté manque son tir au butGiflés par la Guinée équatoriale lundi dernier (0-4) puis qualifiés miraculeusement après la victoire du Maroc contre la Zambie (1-0) mercredi, les Ivoiriens ont vécu des derniers jours particulièrement tumultueux avec la démission de leur sélectionneur, Jean-Louis Gasset, puis la possible arrivée, finalement avortée, de Hervé Renard. C'est finalement l'ex-adjoint Emerse Faé qui les conduisait et ils ont fait preuve de ressources mentales exceptionnelles. En particulier en transformant to...\n",
       "Name: CR hommes, dtype: object"
      ]
     },
     "execution_count": 10,
     "metadata": {},
     "output_type": "execute_result"
    }
   ],
   "source": [
    "cr_df.iloc[0]"
   ]
  },
  {
   "cell_type": "markdown",
   "metadata": {},
   "source": [
    "## Exercice : premiers nettoyages    \n",
    "\n",
    "- Passez tout le texte en minuscules.  \n",
    "- Enlevez les références au minutage de l'action (70e, 38e, etc...).  \n",
    "- Enlevez les références aux scores.  \n",
    "- Enlevez toute la ponctuation.   \n",
    "- Les liens hyper-textes apparaissent avec la chaîne \\\\xa0. Supprimez-là.  \n",
    "- Quand tous les nettoyages seront faits, sauvegardez les compte-rendus dans un objet de votre choix (pkl, txt, ...)"
   ]
  },
  {
   "cell_type": "code",
   "execution_count": 11,
   "metadata": {},
   "outputs": [
    {
     "data": {
      "text/html": [
       "<div>\n",
       "<style scoped>\n",
       "    .dataframe tbody tr th:only-of-type {\n",
       "        vertical-align: middle;\n",
       "    }\n",
       "\n",
       "    .dataframe tbody tr th {\n",
       "        vertical-align: top;\n",
       "    }\n",
       "\n",
       "    .dataframe thead th {\n",
       "        text-align: right;\n",
       "    }\n",
       "</style>\n",
       "<table border=\"1\" class=\"dataframe\">\n",
       "  <thead>\n",
       "    <tr style=\"text-align: right;\">\n",
       "      <th></th>\n",
       "      <th>texte</th>\n",
       "    </tr>\n",
       "  </thead>\n",
       "  <tbody>\n",
       "    <tr>\n",
       "      <th>CR hommes</th>\n",
       "      <td>le sénégal ne rendra pas la monnaie de sa pièce à la côte d ivoire en remportant la can sur son sol comme les éléphants l avaient réussi à dakar  en 1992     aux t a b  en finale contre le ghana   ainsi que l avait espéré aliou cissé dimanche  car le sélectionneur des lions de la teranga a vu son équipe tenante du trophée  le premier de son histoire  gagné en 2022   être éliminée par le pays organisateur dès les huitièmes de finale     aux t a b   moussa niakhaté manque son tir au butgiflés par la guinée équatoriale lundi dernier    puis qualifiés miraculeusement après la victoire du maroc contre la zambie    mercredi  les ivoiriens ont vécu des derniers jours particulièrement tumultueux avec la démission de leur sélectionneur  jean louis gasset  puis la possible arrivée  finalement avortée  de hervé renard  c est finalement l ex adjoint emerse faé qui les conduisait et ils ont fait preuve de ressources mentales exceptionnelles  en particulier en transformant tous leurs tirs au but...</td>\n",
       "    </tr>\n",
       "    <tr>\n",
       "      <th>CR femmes</th>\n",
       "      <td>la soirée est juste très belle  alors qu elle aurait pu tutoyer la perfection pour le psg  en égalisant    sur le terrain de l as rome dans un lointain temps additionnel   6   la joueuse du bayern munich lea schüller a empêché l équipe parisienne de réaliser l opération rêvée   s assurer de finir parmi les deux premiers avant même l ultime journée  mais il aurait fallu pour cela que la formation transalpine assure une victoire qui  couplée à celle des joueuses de jocelyn prêcheur  aurait validée cette qualification alors  mardi prochain  il suffira de ne pas perdre en bavière  face à une équipe qui s était imposée à l aller     pour passer la frontière de la phase de groupes et rallier les destinations encore plus palpitantes des rencontres à élimination directe  en cas de défaite sur le terrain du bayern  il faudrait ajouter une victoire de l ajax sur la roma pour tisser la trame cauchemardesque d une élimination en attendant cette échéance cruciale  le deuxième de la d1 peut se r...</td>\n",
       "    </tr>\n",
       "  </tbody>\n",
       "</table>\n",
       "</div>"
      ],
      "text/plain": [
       "                                                                                                                                                                                                                                                                                                                                                                                                                                                                                                                                                                                                                                                                                                                                                                                                                                                                                                                                                                                                                                             texte\n",
       "CR hommes  le sénégal ne rendra pas la monnaie de sa pièce à la côte d ivoire en remportant la can sur son sol comme les éléphants l avaient réussi à dakar  en 1992     aux t a b  en finale contre le ghana   ainsi que l avait espéré aliou cissé dimanche  car le sélectionneur des lions de la teranga a vu son équipe tenante du trophée  le premier de son histoire  gagné en 2022   être éliminée par le pays organisateur dès les huitièmes de finale     aux t a b   moussa niakhaté manque son tir au butgiflés par la guinée équatoriale lundi dernier    puis qualifiés miraculeusement après la victoire du maroc contre la zambie    mercredi  les ivoiriens ont vécu des derniers jours particulièrement tumultueux avec la démission de leur sélectionneur  jean louis gasset  puis la possible arrivée  finalement avortée  de hervé renard  c est finalement l ex adjoint emerse faé qui les conduisait et ils ont fait preuve de ressources mentales exceptionnelles  en particulier en transformant tous leurs tirs au but...\n",
       "CR femmes  la soirée est juste très belle  alors qu elle aurait pu tutoyer la perfection pour le psg  en égalisant    sur le terrain de l as rome dans un lointain temps additionnel   6   la joueuse du bayern munich lea schüller a empêché l équipe parisienne de réaliser l opération rêvée   s assurer de finir parmi les deux premiers avant même l ultime journée  mais il aurait fallu pour cela que la formation transalpine assure une victoire qui  couplée à celle des joueuses de jocelyn prêcheur  aurait validée cette qualification alors  mardi prochain  il suffira de ne pas perdre en bavière  face à une équipe qui s était imposée à l aller     pour passer la frontière de la phase de groupes et rallier les destinations encore plus palpitantes des rencontres à élimination directe  en cas de défaite sur le terrain du bayern  il faudrait ajouter une victoire de l ajax sur la roma pour tisser la trame cauchemardesque d une élimination en attendant cette échéance cruciale  le deuxième de la d1 peut se r..."
      ]
     },
     "execution_count": 11,
     "metadata": {},
     "output_type": "execute_result"
    }
   ],
   "source": [
    "import re\n",
    "import string\n",
    "\n",
    "# créons une fonction pour le preprocessing qu'on appliquera ensuite aux 2 textes du corpus\n",
    "def nettoyage(text):\n",
    "    text = text.lower()\n",
    "    text = re.sub(r\"\\d{1,3}e\", \"\", text) #minutes\n",
    "    text = re.sub(r\"\\d{1,2}-\\d{1,2}\", \"\", text) #scores\n",
    "    text = re.sub(f\"[{string.punctuation}]\", \" \", text) #ponctuation\n",
    "    text = re.sub(r\"\\xa0\", \" \", text) #caractère spécial hypertexte\n",
    "    return text\n",
    "\n",
    "cr_df['texte'] = cr_df.texte.apply(nettoyage)\n",
    "cr_df"
   ]
  },
  {
   "cell_type": "code",
   "execution_count": 12,
   "metadata": {},
   "outputs": [
    {
     "data": {
      "text/plain": [
       "'le sénégal ne rendra pas la monnaie de sa pièce à la côte d ivoire en remportant la can sur son sol comme les éléphants l avaient réussi à dakar  en 1992     aux t a b  en finale contre le ghana   ainsi que l avait espéré aliou cissé dimanche  car le sélectionneur des lions de la teranga a vu son équipe tenante du trophée  le premier de son histoire  gagné en 2022   être éliminée par le pays organisateur dès les huitièmes de finale     aux t a b   moussa niakhaté manque son tir au butgiflés par la guinée équatoriale lundi dernier    puis qualifiés miraculeusement après la victoire du maroc contre la zambie    mercredi  les ivoiriens ont vécu des derniers jours particulièrement tumultueux avec la démission de leur sélectionneur  jean louis gasset  puis la possible arrivée  finalement avortée  de hervé renard  c est finalement l ex adjoint emerse faé qui les conduisait et ils ont fait preuve de ressources mentales exceptionnelles  en particulier en transformant tous leurs tirs au but  alors que moussa niakhaté a envoyé le sien sur le poteau droit de yahia fofana pourtant  tout avait bien commencé pour les sénégalais  ils avaient en effet ouvert le score dès la  minute sur un magnifique centre en retrait de sadio mané vers habib diallo  qui a réussi un somptueux enchaînement contrôle de la poitrine frappe en force du pied gauche sous la barre     sachant qu ils auraient dû être réduits à dix dès la  minute  expulsion oubliée de mané  voir ci dessous   ils ont ensuite bien contrôlé une première période fermée et sans spectacle  malgré une escarmouche de seko fofana    le public ivoirien revigorépuis lors d une seconde mi temps de plus en plus enlevée au fil des minutes  ils ont raté plusieurs occasions nettes par ismaïla sarr    belle parade de yahia fofana   lamine camara    et sadio mané     ils se sont ainsi mis à la merci d un réveil ivoirien  qui a finalement eu lieu  édouard mendy s interposant à trois reprises avec autorité  deux fois à la  et une fois à la    mais concédant finalement un penalty   suite à l intervention du var   pour une grosse faute sur nicolas pépé  il a été transformé avec sang froid du pied droit par franck kessié     entré à la place de sangaré    avec la fatigue  il n y a eu que deux vrais frissons durant la prolongation  un de chaque côté   un tir lointain de serge aurier juste à côté    et une superbe parade de fofana devant sadio mané   2   la séance de tirs au but a donc tourné à l avantage des ivoiriens  celui de la gagne étant transformé par franck kessié  vraiment pas épargné par les critiques  mais hyper costaud dans sa tête la côte d ivoire jouera donc samedi  18 heures  à bouaké  au stade de la paix  son quart de finale contre le vainqueur de mali   burkina faso  qui se dispute ce mardi  18 heures   devant un public forcément revigoré comme jamais l arbitre gabonais  pierre atcho  s est manqué dans les grandes largeurs tout au long de ce choc  mais a été heureusement en partie rattrapé par le var  à la  minute  la star du sénégal  sadio mané a taclé de manière inconsidérée le milieu ivoirien ibrahim sangaré  resté au sol plusieurs minutes avant de reprendre le jeu  m  atcho a brandi un carton jaune à l attaquant des lions de la ternaga et n a pas été appelé par le var  alors que ce dernier aurait dû considérer qu il s agissait d une erreur manifeste de ne pas expulser mané  tant son tacle était mal maîtrisé  avec un pied en avant heurtant le tibia de sangaré ensuite  la non interpellation de l arbitre  par le var  après sa décision plus que contestable de ne pas accorder de penalty au sénégal pour un accrochage assez net d odilon kossounou sur ismaïla sarr     relevait elle d une forme de compensation  en tout cas  pierre atcho  perdu  s est carrément trompé  un peu plus tard  en ne sifflant pas le penalty qui s imposait pour une faute énorme d édouard mendy sur nicolas pépé  nettement visible à vitesse réelle et en direct  il a donc fallu que le var le « sauve » cette fois   il est allé visionner les images et a accordé ce penalty évident  transformé par franck kessié     un moindre mal '"
      ]
     },
     "execution_count": 12,
     "metadata": {},
     "output_type": "execute_result"
    }
   ],
   "source": [
    "cr_df.loc['CR hommes','texte']"
   ]
  },
  {
   "cell_type": "code",
   "execution_count": 13,
   "metadata": {},
   "outputs": [],
   "source": [
    "cr_df.to_pickle('cr_df.pkl')"
   ]
  },
  {
   "cell_type": "code",
   "execution_count": null,
   "metadata": {},
   "outputs": [],
   "source": []
  },
  {
   "cell_type": "code",
   "execution_count": null,
   "metadata": {},
   "outputs": [],
   "source": []
  }
 ],
 "metadata": {
  "kernelspec": {
   "display_name": "Python 3 (ipykernel)",
   "language": "python",
   "name": "python3"
  },
  "language_info": {
   "codemirror_mode": {
    "name": "ipython",
    "version": 3
   },
   "file_extension": ".py",
   "mimetype": "text/x-python",
   "name": "python",
   "nbconvert_exporter": "python",
   "pygments_lexer": "ipython3",
   "version": "3.10.13"
  }
 },
 "nbformat": 4,
 "nbformat_minor": 4
}
