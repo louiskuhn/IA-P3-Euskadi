{
 "cells": [
  {
   "cell_type": "markdown",
   "metadata": {},
   "source": [
    "# Les k-plus proches voisins"
   ]
  },
  {
   "cell_type": "markdown",
   "metadata": {},
   "source": [
    "## L'algorithme kNN"
   ]
  },
  {
   "cell_type": "markdown",
   "metadata": {},
   "source": [
    "On importe les données puis on cherche à prédire la valeur $y^{(0)}$ pour l'observation $x^{(0)} = (x^{(0)}_i)_{i \\in [1,p]}$.  \n",
    "Dans le cas de la classification, cela revient à avoir un $y^{(0)}$ catégorique où les modalités sont les classes."
   ]
  },
  {
   "cell_type": "markdown",
   "metadata": {},
   "source": [
    ">1. Initialiser $k$ et choisir une fonction de distance\n",
    ">2. Pour chaque observation $x^{(i)}$ dans les données:\n",
    ">>a. Calculer la distance $d$ entre $x^{(0)}$ et $x^{(i)}$  \n",
    ">>b. Stocker la distance $d$ et l’indice $i$ de l’observation $x^{(i)}$ (dans une liste de couples par exemple)\n",
    ">4. Trier la liste contenant distances et indices de la plus petite distance à la plus grande (dans ordre croissant).\n",
    ">5. Sélectionner les $k$ premiers éléments\n",
    ">6. Obtenir les étiquettes des $k$ entrées sélectionnées\n",
    ">7. Si **régression**, retourner la moyenne des $k$ valeurs $y^{(i)}$ ; si **classification**, retourner le mode des $k$ classes $y^{(i)}$"
   ]
  },
  {
   "cell_type": "markdown",
   "metadata": {},
   "source": [
    "### Implémenter l'algorithme des k plus proches voisins dans le cas univarié. Tester cet algorithme sur les données ci-dessous"
   ]
  },
  {
   "cell_type": "code",
   "execution_count": 18,
   "metadata": {},
   "outputs": [
    {
     "name": "stdout",
     "output_type": "stream",
     "text": [
      "[(4, 4.0), (3, 6.0), (5, 7.0), (2, 13.0), (1, 14.0), (0, 15.0)]\n"
     ]
    },
    {
     "data": {
      "text/plain": [
       "1.2333333333333334"
      ]
     },
     "execution_count": 18,
     "metadata": {},
     "output_type": "execute_result"
    }
   ],
   "source": [
    "from math import sqrt\n",
    "\n",
    "# point à prédire \n",
    "X = [1,2,3,10,20,23]\n",
    "Y = [0.2, 0.4, 0.5, 0.5, 1.2, 2]\n",
    "x0 = 16\n",
    "\n",
    "# initialisation de k\n",
    "k=3\n",
    "\n",
    "# fonction de distance\n",
    "def distance_euclidienne(a,b):\n",
    "    return sqrt((a-b)**2)\n",
    "\n",
    "# la boucle\n",
    "voisins = []\n",
    "for i,x in enumerate(X):\n",
    "    d =  distance_euclidienne(x0, x)\n",
    "    voisins.append((i,d))\n",
    "\n",
    "# tri de la liste voisins par distance croissante\n",
    "voisins.sort(key = lambda couple : couple[1])\n",
    "\n",
    "# récupération des kPPV\n",
    "kNN = voisins[:k]\n",
    "\n",
    "# récupération des labels\n",
    "y_kNN = [Y[couple[0]] for couple in kNN]\n",
    "y_kNN\n",
    "\n",
    "# si régression\n",
    "y0_pred = sum(y_kNN)/len(y_kNN)\n",
    "y0_pred\n",
    "\n",
    "# si classification, à faire"
   ]
  },
  {
   "cell_type": "code",
   "execution_count": 24,
   "metadata": {},
   "outputs": [],
   "source": [
    "from math import sqrt\n",
    "\n",
    "def distance_euclidienne(a,b):\n",
    "    \"\"\"Calcul de la distance euclidienne\"\"\"\n",
    "    return sqrt((a-b)**2)\n",
    "\n",
    "def moyenne(liste):\n",
    "    \"\"\"Calcul de la moyenne des valeurs de y\n",
    "    correspondant aux k plus proches voisins\"\"\"\n",
    "    return sum(liste)/len(liste)\n",
    "\n",
    "def mode(liste):\n",
    "    \"\"\"Calcul le mode (i.e l'occurence la plus présente) des\n",
    "    valeurs de y correspondant aux k plus proches voisins\"\"\"\n",
    "    return max(set(liste), key = liste.count)\n",
    "\n",
    "def knn(X, Y, x0, k=5, pred=moyenne):\n",
    "    \"\"\"Algorithme des k-plus proches voisins\"\"\"\n",
    "    # intiatlise la liste voisins\n",
    "    voisins = []\n",
    "\n",
    "    # parcours les données et ajout des couples (indice, distance)\n",
    "    for i,x in enumerate(X):\n",
    "        d =  distance_euclidienne(x0, x)\n",
    "        voisins.append((i,d))\n",
    "    \n",
    "    # tri de la liste voisins par distance croissante\n",
    "    voisins.sort(key = lambda couple : couple[1])\n",
    "    \n",
    "    # récupération des kPPV\n",
    "    kNN = voisins[:k]\n",
    "    \n",
    "    # récupération des labels\n",
    "    y_kNN = [Y[i] for i,d in kNN]\n",
    "    \n",
    "    # retour de la prédiction\n",
    "    return kNN, y_kNN, pred(y_kNN)"
   ]
  },
  {
   "cell_type": "code",
   "execution_count": 25,
   "metadata": {},
   "outputs": [
    {
     "data": {
      "text/plain": [
       "([(5, 0.5), (3, 0.6999999999999886), (8, 1.5)],\n",
       " [55.5, 64.1, 50.6],\n",
       " 56.73333333333333)"
      ]
     },
     "execution_count": 25,
     "metadata": {},
     "output_type": "execute_result"
    }
   ],
   "source": [
    "# Données de régression\n",
    "# Colonne 0: taille (cm)\n",
    "# Colonne 1: poids (kg)\n",
    "from math import sqrt\n",
    "import numpy as np\n",
    "reg_data = np.array([\n",
    "    [167. ,  50.8],\n",
    "    [181.7,  61.4],\n",
    "    [176.3,  68.9],\n",
    "    [173.3,  64.1],\n",
    "    [172.2,  64.9],\n",
    "    [174.5,  55.5],\n",
    "    [177.3,  63.7],\n",
    "    [177.8,  61.4],\n",
    "    [172.5,  50.6],\n",
    "    [168.9,  57.4]])\n",
    "\n",
    "knn(X=reg_data[:,0], Y=reg_data[:,1], x0=174, k=3, pred=moyenne)"
   ]
  },
  {
   "cell_type": "code",
   "execution_count": 27,
   "metadata": {},
   "outputs": [
    {
     "data": {
      "text/plain": [
       "([(0, 0.0), (1, 1.0), (2, 1.0)], [1, 1, 1], 1)"
      ]
     },
     "execution_count": 27,
     "metadata": {},
     "output_type": "execute_result"
    }
   ],
   "source": [
    "# Données de Classification\n",
    "# Colonne 0: age\n",
    "# Colonne 1: aime l'ananas dans la pizza\n",
    "\n",
    "import numpy as np\n",
    "clf_data = np.array([\n",
    "   [22, 1],\n",
    "   [23, 1],\n",
    "   [21, 1],\n",
    "   [18, 1],\n",
    "   [19, 1],\n",
    "   [25, 0],\n",
    "   [27, 0],\n",
    "   [29, 0],\n",
    "   [31, 0],\n",
    "   [45, 0],\n",
    "   [23, 0]\n",
    "])\n",
    "\n",
    "knn(X=clf_data[:,0], Y=clf_data[:,1], x0=22, k=3, pred=mode)"
   ]
  },
  {
   "cell_type": "markdown",
   "metadata": {},
   "source": [
    "### Généraliser à des données multivariées et tester sur le dataset iris.csv"
   ]
  },
  {
   "cell_type": "markdown",
   "metadata": {},
   "source": [
    "En 1936, Edgar Anderson a collecté des données sur 3 espèces d'iris : \"iris setosa\", \"iris virginica\" et \"iris versicolor\"\n",
    "\n",
    "<img src=\"iris_setosa.jpeg\"><img src=\"iris_virginica.jpeg\"><img src=\"iris_versicolor.jpeg\">\n",
    "\n",
    "Pour chaque iris étudié, Anderson a mesuré (en cm) :\n",
    "- la largeur des sépales\n",
    "- la longueur des sépales\n",
    "- la largeur des pétales\n",
    "- la longueur des pétales"
   ]
  },
  {
   "cell_type": "code",
   "execution_count": 43,
   "metadata": {},
   "outputs": [
    {
     "name": "stdout",
     "output_type": "stream",
     "text": [
      "(150, 4) (150,)\n"
     ]
    },
    {
     "data": {
      "text/html": [
       "<div>\n",
       "<style scoped>\n",
       "    .dataframe tbody tr th:only-of-type {\n",
       "        vertical-align: middle;\n",
       "    }\n",
       "\n",
       "    .dataframe tbody tr th {\n",
       "        vertical-align: top;\n",
       "    }\n",
       "\n",
       "    .dataframe thead th {\n",
       "        text-align: right;\n",
       "    }\n",
       "</style>\n",
       "<table border=\"1\" class=\"dataframe\">\n",
       "  <thead>\n",
       "    <tr style=\"text-align: right;\">\n",
       "      <th></th>\n",
       "      <th>SepalLength</th>\n",
       "      <th>SepalWidth</th>\n",
       "      <th>PetalLength</th>\n",
       "      <th>PetalWidth</th>\n",
       "    </tr>\n",
       "  </thead>\n",
       "  <tbody>\n",
       "    <tr>\n",
       "      <th>count</th>\n",
       "      <td>150.000000</td>\n",
       "      <td>150.000000</td>\n",
       "      <td>150.000000</td>\n",
       "      <td>150.000000</td>\n",
       "    </tr>\n",
       "    <tr>\n",
       "      <th>mean</th>\n",
       "      <td>5.843333</td>\n",
       "      <td>3.054000</td>\n",
       "      <td>3.758667</td>\n",
       "      <td>1.198667</td>\n",
       "    </tr>\n",
       "    <tr>\n",
       "      <th>std</th>\n",
       "      <td>0.828066</td>\n",
       "      <td>0.433594</td>\n",
       "      <td>1.764420</td>\n",
       "      <td>0.763161</td>\n",
       "    </tr>\n",
       "    <tr>\n",
       "      <th>min</th>\n",
       "      <td>4.300000</td>\n",
       "      <td>2.000000</td>\n",
       "      <td>1.000000</td>\n",
       "      <td>0.100000</td>\n",
       "    </tr>\n",
       "    <tr>\n",
       "      <th>25%</th>\n",
       "      <td>5.100000</td>\n",
       "      <td>2.800000</td>\n",
       "      <td>1.600000</td>\n",
       "      <td>0.300000</td>\n",
       "    </tr>\n",
       "    <tr>\n",
       "      <th>50%</th>\n",
       "      <td>5.800000</td>\n",
       "      <td>3.000000</td>\n",
       "      <td>4.350000</td>\n",
       "      <td>1.300000</td>\n",
       "    </tr>\n",
       "    <tr>\n",
       "      <th>75%</th>\n",
       "      <td>6.400000</td>\n",
       "      <td>3.300000</td>\n",
       "      <td>5.100000</td>\n",
       "      <td>1.800000</td>\n",
       "    </tr>\n",
       "    <tr>\n",
       "      <th>max</th>\n",
       "      <td>7.900000</td>\n",
       "      <td>4.400000</td>\n",
       "      <td>6.900000</td>\n",
       "      <td>2.500000</td>\n",
       "    </tr>\n",
       "  </tbody>\n",
       "</table>\n",
       "</div>"
      ],
      "text/plain": [
       "       SepalLength  SepalWidth  PetalLength  PetalWidth\n",
       "count   150.000000  150.000000   150.000000  150.000000\n",
       "mean      5.843333    3.054000     3.758667    1.198667\n",
       "std       0.828066    0.433594     1.764420    0.763161\n",
       "min       4.300000    2.000000     1.000000    0.100000\n",
       "25%       5.100000    2.800000     1.600000    0.300000\n",
       "50%       5.800000    3.000000     4.350000    1.300000\n",
       "75%       6.400000    3.300000     5.100000    1.800000\n",
       "max       7.900000    4.400000     6.900000    2.500000"
      ]
     },
     "execution_count": 43,
     "metadata": {},
     "output_type": "execute_result"
    }
   ],
   "source": [
    "import pandas as pd\n",
    "df = pd.read_csv('Iris.csv')\n",
    "X = df.drop(\"Name\", axis=1).values\n",
    "Y = df.Name\n",
    "print(X.shape, Y.shape)\n",
    "df.describe()"
   ]
  },
  {
   "cell_type": "code",
   "execution_count": 50,
   "metadata": {},
   "outputs": [],
   "source": [
    "from math import sqrt\n",
    "\n",
    "def distance_euclidienne(a,b):\n",
    "    \"\"\"Calcul de la distance euclidienne\"\"\"\n",
    "    if len(a) == len(b):\n",
    "        d = 0\n",
    "        for i in range(len(a)):\n",
    "            d += (a[i]-b[i])**2\n",
    "        return sqrt(d)  \n",
    "    else:\n",
    "        print(\"Problème de dimensions\")\n",
    "        \n",
    "def moyenne(liste):\n",
    "    \"\"\"Calcul de la moyenne des valeurs de y\n",
    "    correspondant aux k plus proches voisins\"\"\"\n",
    "    return sum(liste)/len(liste)\n",
    "\n",
    "def mode(liste):\n",
    "    \"\"\"Calcul le mode (i.e l'occurence la plus présente) des\n",
    "    valeurs de y correspondant aux k plus proches voisins\"\"\"\n",
    "    return max(set(liste), key = liste.count)\n",
    "\n",
    "def knn(X, Y, x0, k=5, pred=moyenne):\n",
    "    \"\"\"Algorithme des k-plus proches voisins\"\"\"\n",
    "    # intiatlise la liste voisins\n",
    "    voisins = []\n",
    "\n",
    "    # parcours les données et ajout des couples (indice, distance)\n",
    "    for i,x in enumerate(X):\n",
    "        d =  distance_euclidienne(x0, x)\n",
    "        voisins.append((i,d))\n",
    "    \n",
    "    # tri de la liste voisins par distance croissante\n",
    "    voisins.sort(key = lambda couple : couple[1])\n",
    "    \n",
    "    # récupération des kPPV\n",
    "    kNN = voisins[:k]\n",
    "    \n",
    "    # récupération des labels\n",
    "    y_kNN = [Y[i] for i,d in kNN]\n",
    "    \n",
    "    # retour de la prédiction\n",
    "    return kNN, y_kNN, pred(y_kNN)"
   ]
  },
  {
   "cell_type": "code",
   "execution_count": 51,
   "metadata": {},
   "outputs": [
    {
     "data": {
      "text/plain": [
       "([(127, 0.24494897427831747),\n",
       "  (149, 0.24494897427831747),\n",
       "  (138, 0.28284271247461906),\n",
       "  (70, 0.360555127546399),\n",
       "  (101, 0.3872983346207416)],\n",
       " ['Iris-virginica',\n",
       "  'Iris-virginica',\n",
       "  'Iris-virginica',\n",
       "  'Iris-versicolor',\n",
       "  'Iris-virginica'],\n",
       " 'Iris-virginica')"
      ]
     },
     "execution_count": 51,
     "metadata": {},
     "output_type": "execute_result"
    }
   ],
   "source": [
    "# test sur une nouvelle fleur \"inventée\"\n",
    "knn(X=X, Y=Y, x0=[6,3,5,2], k=5, pred=mode)"
   ]
  },
  {
   "cell_type": "code",
   "execution_count": 55,
   "metadata": {},
   "outputs": [
    {
     "data": {
      "text/plain": [
       "('Iris-virginica', 'Iris-virginica')"
      ]
     },
     "execution_count": 55,
     "metadata": {},
     "output_type": "execute_result"
    }
   ],
   "source": [
    "# test sur une fleur du dataset\n",
    "x0 = X[123,:]\n",
    "knn(X=X, Y=Y, x0=x0, k=5, pred=mode)[2], Y[123]"
   ]
  },
  {
   "cell_type": "markdown",
   "metadata": {},
   "source": [
    "#### Mesurer le score du modèle pour un k donné (en utilisant un jeu de données test) puis comparer ce score pour différents k"
   ]
  },
  {
   "cell_type": "code",
   "execution_count": 61,
   "metadata": {},
   "outputs": [
    {
     "data": {
      "text/plain": [
       "((30, 5), (120, 5))"
      ]
     },
     "execution_count": 61,
     "metadata": {},
     "output_type": "execute_result"
    }
   ],
   "source": [
    "# découpage méthode 1 avec sample\n",
    "df_test = df.sample(frac=0.2)\n",
    "df_train = df[~df.index.isin(df_test.index)]\n",
    "df_test.shape, df_train.shape"
   ]
  },
  {
   "cell_type": "code",
   "execution_count": 62,
   "metadata": {},
   "outputs": [
    {
     "data": {
      "text/plain": [
       "((30, 5), (120, 5))"
      ]
     },
     "execution_count": 62,
     "metadata": {},
     "output_type": "execute_result"
    }
   ],
   "source": [
    "# découpage méthode 2 avec sample puis iloc\n",
    "df_shuffled = df.sample(frac=1)\n",
    "df_test = df_shuffled.iloc[:30,:]\n",
    "df_train = df_shuffled.iloc[30:,:]\n",
    "df_test.shape, df_train.shape"
   ]
  },
  {
   "cell_type": "code",
   "execution_count": 66,
   "metadata": {},
   "outputs": [
    {
     "data": {
      "text/plain": [
       "((30, 5), (120, 5))"
      ]
     },
     "execution_count": 66,
     "metadata": {},
     "output_type": "execute_result"
    }
   ],
   "source": [
    "# découpage méthode 3 avec train_test_split\n",
    "from sklearn.model_selection import train_test_split\n",
    "df_train, df_test = train_test_split(df, test_size=0.2, stratify=df.Name)\n",
    "df_test.shape, df_train.shape"
   ]
  },
  {
   "cell_type": "code",
   "execution_count": 89,
   "metadata": {},
   "outputs": [
    {
     "name": "stdout",
     "output_type": "stream",
     "text": [
      "(120, 4) (30, 4) (120,) (30,)\n"
     ]
    },
    {
     "data": {
      "text/plain": [
       "0.9666666666666667"
      ]
     },
     "execution_count": 89,
     "metadata": {},
     "output_type": "execute_result"
    }
   ],
   "source": [
    "from sklearn.model_selection import train_test_split\n",
    "\n",
    "k = 5\n",
    "\n",
    "# Découpage\n",
    "X_train, X_test, y_train, y_test = train_test_split(\n",
    "    df.drop(\"Name\", axis=1), df.Name, \n",
    "    test_size=0.2, stratify=df.Name)\n",
    "print(X_train.shape, X_test.shape, y_train.shape, y_test.shape)\n",
    "\n",
    "# Calcul des prédictions sur le testset\n",
    "y_pred = []\n",
    "for f in X_test.values: #X_test.iterrows()\n",
    "    y_pred.append(knn(X=X_train.values, Y=y_train.values, x0=f, k=k, pred=mode)[2])\n",
    "\n",
    "# Mesure de la qualité du modèle\n",
    "sum(y_pred == y_test)/len(y_test)"
   ]
  },
  {
   "cell_type": "code",
   "execution_count": 113,
   "metadata": {},
   "outputs": [
    {
     "data": {
      "text/plain": [
       "0.9333333333333333"
      ]
     },
     "execution_count": 113,
     "metadata": {},
     "output_type": "execute_result"
    }
   ],
   "source": [
    "from sklearn.model_selection import train_test_split\n",
    "\n",
    "def mesure_precision(k):\n",
    "    # Découpage\n",
    "    X_train, X_test, y_train, y_test = train_test_split(\n",
    "        df.drop(\"Name\", axis=1), df.Name, \n",
    "        test_size=0.2, stratify=df.Name)\n",
    "    \n",
    "    # Calcul des prédictions sur le testset\n",
    "    y_pred = []\n",
    "    for f in X_test.values: #X_test.iterrows()\n",
    "        y_pred.append(knn(X=X_train.values, Y=y_train.values, x0=f, k=k, pred=mode)[2])\n",
    "    \n",
    "    # Mesure de la qualité du modèle\n",
    "    return sum(y_pred == y_test)/len(y_test)\n",
    "\n",
    "mesure_precision(5)"
   ]
  },
  {
   "cell_type": "code",
   "execution_count": null,
   "metadata": {},
   "outputs": [],
   "source": [
    "import matplotlib.pyplot as plt"
   ]
  },
  {
   "cell_type": "markdown",
   "metadata": {},
   "source": [
    "### Utiliser votre algorithme des kNN pour effectuer des recommendations de films : pour un film donné, l'algorithme doit renvoyer les 5 films les plus \"proches\""
   ]
  },
  {
   "cell_type": "code",
   "execution_count": 90,
   "metadata": {},
   "outputs": [],
   "source": [
    "import pandas as pd\n",
    "films = pd.read_csv('Movie-Ratings.csv')"
   ]
  },
  {
   "cell_type": "markdown",
   "metadata": {},
   "source": [
    "### Maintenant que vous l'avez bien compris, implémenté, testé et validé, vous pouvez chercher les implémentations existantes de cet algorithme dans Python..."
   ]
  },
  {
   "cell_type": "code",
   "execution_count": null,
   "metadata": {},
   "outputs": [],
   "source": []
  }
 ],
 "metadata": {
  "kernelspec": {
   "display_name": "Python 3 (ipykernel)",
   "language": "python",
   "name": "python3"
  },
  "language_info": {
   "codemirror_mode": {
    "name": "ipython",
    "version": 3
   },
   "file_extension": ".py",
   "mimetype": "text/x-python",
   "name": "python",
   "nbconvert_exporter": "python",
   "pygments_lexer": "ipython3",
   "version": "3.9.18"
  }
 },
 "nbformat": 4,
 "nbformat_minor": 4
}
