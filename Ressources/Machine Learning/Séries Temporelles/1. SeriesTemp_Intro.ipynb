{
 "cells": [
  {
   "cell_type": "markdown",
   "metadata": {},
   "source": [
    "# **Introduction aux séries temporelles**"
   ]
  },
  {
   "cell_type": "markdown",
   "metadata": {},
   "source": [
    "Pandas a été développé dans un contexte de données financière et vient de *Panel Datas* pour données de panel, c'est-à-dire des données pour lesquelles on a, pour un même individu, des observations au cours du temps. Pandas contient donc de nombreux outils pour travailler avec les dates, le temps et des données indéxées sen fonction du temps.\n",
    "\n",
    "Les séries temporelles peuvent être vues comme un cas très particulier des données panel puisqu'il s'agit de l'évolution d'une seule observation au cours du temps.\n",
    "\n",
    "Un peu de vocabulaire :\n",
    "- **Timestamps** correspond à un moment précis (par exemple *03 juin 2020, 14:15:16*)\n",
    "- **Time intervals** et **periods** correspond à une durée ayant une date de début et de fin précise (par exemple, l'année *2020*)\n",
    "- **Time deltas** ou **durations** correspondent à une durée exacte (par exemple *123.45 secondes*)\n",
    "\n",
    "On va pour commencer faire un point sur comment utiliser et manipuler ce type de données date/time avec Python d'une part, puis avec Pandas plus particulièrement.\n",
    "\n",
    "**NB :** ce notebook est introductif donc ne pas hésiter à se référer à la section [\"Time Series/Date functionnality\"](http://pandas.pydata.org/pandas-docs/stable/timeseries.html) de la documentation Pandas qui elle est bien complète"
   ]
  },
  {
   "cell_type": "markdown",
   "metadata": {},
   "source": [
    "## **1. Dates et Times avec Python**\n",
    "\n",
    "Python a de nombreuses représentations et formats possibles des dates, times, durées...  \n",
    "Même si on utilisera surtout les outils Pandas concernant les séries temporelles, c'est pas mal de commencer par voir comment ça fonctionne en général et les liens avec les autres packages Python."
   ]
  },
  {
   "cell_type": "markdown",
   "metadata": {},
   "source": [
    "### **1.1. `datetime` and `dateutil`**\n",
    "\n",
    "Les objet natifs Python pour les dates/times sont dans le module built-in `datetime`. En utilisant également le package `dateutil`, on peut facilement et rapidement faire un paquet d'opérations sur les dates/times.\n",
    "\n",
    "Par exemple, on peut construire une date manuellement."
   ]
  },
  {
   "cell_type": "code",
   "execution_count": 1,
   "metadata": {
    "collapsed": false,
    "jupyter": {
     "outputs_hidden": false
    }
   },
   "outputs": [
    {
     "data": {
      "text/plain": [
       "datetime.datetime(2020, 6, 3, 0, 0)"
      ]
     },
     "execution_count": 1,
     "metadata": {},
     "output_type": "execute_result"
    }
   ],
   "source": [
    "from datetime import datetime\n",
    "datetime(year=2020, month=6, day=3)"
   ]
  },
  {
   "cell_type": "markdown",
   "metadata": {},
   "source": [
    "Ou avec le module `dateutil`, on peut lire différents format de dates à partir de chaînes de caractères."
   ]
  },
  {
   "cell_type": "code",
   "execution_count": 5,
   "metadata": {
    "collapsed": false,
    "jupyter": {
     "outputs_hidden": false
    }
   },
   "outputs": [
    {
     "data": {
      "text/plain": [
       "(datetime.datetime(2022, 5, 6, 14, 0),\n",
       " datetime.datetime(2020, 6, 3, 14, 15, 16),\n",
       " datetime.datetime(2024, 6, 17, 10, 52))"
      ]
     },
     "execution_count": 5,
     "metadata": {},
     "output_type": "execute_result"
    }
   ],
   "source": [
    "from dateutil import parser\n",
    "d1 = parser.parse(\"6rd of May, 2022, 14:00\")\n",
    "d2 = parser.parse(\"03/06/2020 14:15:16\", dayfirst=True)\n",
    "d3 = parser.parse(\"17 June 2024 10:52\")\n",
    "d1, d2, d3"
   ]
  },
  {
   "cell_type": "markdown",
   "metadata": {},
   "source": [
    "Une fois qu'on manipule un objet `datetime`, on peut facilement effectuer des opérations sur cet objet. Par exemple, récupérer le jour de la semaine correspondant."
   ]
  },
  {
   "cell_type": "code",
   "execution_count": 7,
   "metadata": {
    "collapsed": false,
    "jupyter": {
     "outputs_hidden": false
    }
   },
   "outputs": [
    {
     "data": {
      "text/plain": [
       "'Monday 17'"
      ]
     },
     "execution_count": 7,
     "metadata": {},
     "output_type": "execute_result"
    }
   ],
   "source": [
    "d3.strftime(\"%A %d\")"
   ]
  },
  {
   "cell_type": "markdown",
   "metadata": {},
   "source": [
    "Pour en savoir plus sur `strftime` et les codes standards de format de string pour afficher les dates (ici `\"%A\"`) ce sera dans la [section strftime](https://docs.python.org/3/library/datetime.html#strftime-and-strptime-behavior) de la doc Python [datetime](https://docs.python.org/3/library/datetime.html).\n",
    "Documentation of other useful date utilities can be found in [dateutil's online documentation](http://labix.org/python-dateutil)\n",
    "\n",
    "Un package utile [``pytz``](http://pytz.sourceforge.net/) contenant des outils pour pouvoir bosser avec les *timezones*\n",
    "\n",
    "L'intérêt de `datetime` et `dateutil` est leur flexibilité et leur facilité d'utilisation/syntaxe : on peut faire plus ou moins tout ce qu'on veut en utilisant les objets `datetime` et leurs méthodes built-in.\n",
    "\n",
    "Un bémol c'est la gestion des grandes quantités de dates/times : de la même manière que les listes numériques ne sont pas optimales comparées à des arrays numpy de type numérique, les listes d'objets `datetime` ne sont pas optimales comparées à des tableaux ayant un type date/time."
   ]
  },
  {
   "cell_type": "markdown",
   "metadata": {},
   "source": [
    "### **1.2. Le type de données date des tableaux numpy : `datetime64`**\n",
    "\n",
    "Pour pallier cet écueil, un type de données time natif a été ajouté à `numpy`. Le dtype `datetime64` encode les dates sous forme d'entiers 64-bit et par conséquent les array ayant ce dtype sont très compacts.\n",
    "\n",
    "Le dtype `datetime64` nécessite toutefois un format particulier :"
   ]
  },
  {
   "cell_type": "code",
   "execution_count": 8,
   "metadata": {
    "collapsed": false,
    "jupyter": {
     "outputs_hidden": false
    }
   },
   "outputs": [
    {
     "data": {
      "text/plain": [
       "array('2020-06-03T00:00', dtype='datetime64[m]')"
      ]
     },
     "execution_count": 8,
     "metadata": {},
     "output_type": "execute_result"
    }
   ],
   "source": [
    "import numpy as np\n",
    "date = np.array('2020-06-03 00:00', dtype=np.datetime64)\n",
    "date"
   ]
  },
  {
   "cell_type": "markdown",
   "metadata": {},
   "source": [
    "Par contre, une fois qu'on a une date dans le bon format, on peut facilement effectuer des opérations vectorielles dessus :"
   ]
  },
  {
   "cell_type": "code",
   "execution_count": 9,
   "metadata": {},
   "outputs": [
    {
     "data": {
      "text/plain": [
       "array([ 0,  1,  2,  3,  4,  5,  6,  7,  8,  9, 10, 11, 12, 13, 14, 15, 16,\n",
       "       17, 18, 19, 20, 21, 22, 23, 24, 25, 26, 27, 28, 29, 30, 31, 32, 33,\n",
       "       34, 35, 36, 37, 38, 39, 40, 41, 42, 43, 44])"
      ]
     },
     "execution_count": 9,
     "metadata": {},
     "output_type": "execute_result"
    }
   ],
   "source": [
    "np.arange(45)"
   ]
  },
  {
   "cell_type": "code",
   "execution_count": 10,
   "metadata": {
    "collapsed": false,
    "jupyter": {
     "outputs_hidden": false
    }
   },
   "outputs": [
    {
     "data": {
      "text/plain": [
       "array(['2020-06-03T00:00', '2020-06-03T00:01', '2020-06-03T00:02',\n",
       "       '2020-06-03T00:03', '2020-06-03T00:04', '2020-06-03T00:05',\n",
       "       '2020-06-03T00:06', '2020-06-03T00:07', '2020-06-03T00:08',\n",
       "       '2020-06-03T00:09', '2020-06-03T00:10', '2020-06-03T00:11',\n",
       "       '2020-06-03T00:12', '2020-06-03T00:13', '2020-06-03T00:14',\n",
       "       '2020-06-03T00:15', '2020-06-03T00:16', '2020-06-03T00:17',\n",
       "       '2020-06-03T00:18', '2020-06-03T00:19', '2020-06-03T00:20',\n",
       "       '2020-06-03T00:21', '2020-06-03T00:22', '2020-06-03T00:23',\n",
       "       '2020-06-03T00:24', '2020-06-03T00:25', '2020-06-03T00:26',\n",
       "       '2020-06-03T00:27', '2020-06-03T00:28', '2020-06-03T00:29',\n",
       "       '2020-06-03T00:30', '2020-06-03T00:31', '2020-06-03T00:32',\n",
       "       '2020-06-03T00:33', '2020-06-03T00:34', '2020-06-03T00:35',\n",
       "       '2020-06-03T00:36', '2020-06-03T00:37', '2020-06-03T00:38',\n",
       "       '2020-06-03T00:39', '2020-06-03T00:40', '2020-06-03T00:41',\n",
       "       '2020-06-03T00:42', '2020-06-03T00:43', '2020-06-03T00:44'],\n",
       "      dtype='datetime64[m]')"
      ]
     },
     "execution_count": 10,
     "metadata": {},
     "output_type": "execute_result"
    }
   ],
   "source": [
    "date + np.arange(45)"
   ]
  },
  {
   "cell_type": "markdown",
   "metadata": {},
   "source": [
    "Grâce au type de données uniforme dans les tableaux `datetime64`, ce type d'opérations vectorielles peut être effectué bien plus rapidement qu'en travaillant directement avec les objets `datetime` de Python, particulièrement pour de grands tableaux.\n",
    "\n",
    "Un détail des objets `datetime64` et `timedelta64` est qu'ils sont construits sur une *unité fondamentale de temps (UFT)*. Comme le `datetime64` est limité à une précision de 64-bit, le nombre de datetime qu'on peut encoder est $2^{64}$ fois l'UFT. En d'autres termes, `datetime64` nécessite un arbitrage entre la *résolution temporelle* et *intervalle maximal de temps* .  \n",
    "Par exemple, si on veut une précision de 1 nanoseconde, alors on pourra avoir la place pour encoder $2^{64}$ nanosecondes, soit un peu moins de 600 ans.\n",
    "\n",
    "`numpy` déduit l'UFT désirée à partir de l'input mais on peut bien sûr aussi le spécifier."
   ]
  },
  {
   "cell_type": "code",
   "execution_count": 14,
   "metadata": {
    "collapsed": false,
    "jupyter": {
     "outputs_hidden": false
    }
   },
   "outputs": [
    {
     "data": {
      "text/plain": [
       "array(['2020-06-03', '2020-06-04', '2020-06-05', '2020-06-06',\n",
       "       '2020-06-07', '2020-06-08', '2020-06-09', '2020-06-10',\n",
       "       '2020-06-11', '2020-06-12'], dtype='datetime64[D]')"
      ]
     },
     "execution_count": 14,
     "metadata": {},
     "output_type": "execute_result"
    }
   ],
   "source": [
    "# un datetime basé sur le jour\n",
    "np.datetime64('2020-06-03') + np.arange(10)"
   ]
  },
  {
   "cell_type": "code",
   "execution_count": 12,
   "metadata": {
    "collapsed": false,
    "jupyter": {
     "outputs_hidden": false
    }
   },
   "outputs": [
    {
     "data": {
      "text/plain": [
       "numpy.datetime64('2020-06-03T14:30')"
      ]
     },
     "execution_count": 12,
     "metadata": {},
     "output_type": "execute_result"
    }
   ],
   "source": [
    "# un datetime basé sur la minute\n",
    "np.datetime64('2020-06-03 14:30')"
   ]
  },
  {
   "cell_type": "code",
   "execution_count": 13,
   "metadata": {
    "collapsed": false,
    "jupyter": {
     "outputs_hidden": false
    }
   },
   "outputs": [
    {
     "data": {
      "text/plain": [
       "numpy.datetime64('2020-06-03T14:30:45.000000000')"
      ]
     },
     "execution_count": 13,
     "metadata": {},
     "output_type": "execute_result"
    }
   ],
   "source": [
    "# un datetime basé sur la nanoseconde en fixant l'unité fondamentale de temps\n",
    "np.datetime64('2020-06-03 14:30:45', 'ns')"
   ]
  },
  {
   "cell_type": "markdown",
   "metadata": {},
   "source": [
    "Notez que la timezone est par défaut celle de l'ordinateur qui exécute le code.  "
   ]
  },
  {
   "cell_type": "markdown",
   "metadata": {},
   "source": [
    "Le tableau suivant récupéré de [la documentation numpy de datetime64](http://docs.scipy.org/doc/numpy/reference/arrays.datetime.html) liste les codes disponibles ainsiq que les échelles relatives et absolues qu'ils permettent d'encoder."
   ]
  },
  {
   "cell_type": "markdown",
   "metadata": {},
   "source": [
    "|Code  | Signification | Durée relative | Durée absolue           |\n",
    "|------|---------------|----------------|-------------------------|\n",
    "| `Y`  | Year          | ± 9.2e18 ans   | [9.2e18 av.J-C, 9.2e18] |\n",
    "| `M`  | Month         | ± 7.6e17 ans   | [7.6e17 av.J-C, 7.6e17] |\n",
    "| `W`  | Week          | ± 1.7e17 ans   | [1.7e17 av.J-C, 1.7e17] |\n",
    "| `D`  | Day           | ± 2.5e16 ans   | [2.5e16 av.J-C, 2.5e16] |\n",
    "| `h`  | Hour          | ± 1.0e15 ans   | [1.0e15 av.J-C, 1.0e15] |\n",
    "| `m`  | Minute        | ± 1.7e13 ans   | [1.7e13 av.J-C, 1.7e13] |\n",
    "| `s`  | Second        | ± 2.9e12 ans   | [ 2.9e9 av.J-C, 2.9e9]  |\n",
    "| `ms` | Millisecond   | ± 2.9e9 ans    | [ 2.9e6 av.J-C, 2.9e6]  |\n",
    "| `us` | Microsecond   | ± 2.9e6 ans    | [290301 av.J-C, 294241] |\n",
    "| `ns` | Nanosecond    | ± 292 ans      | [ 1678, 2262]           |\n",
    "| `ps` | Picosecond    | ± 106 jours    | [ 1969, 1970]           |\n",
    "| `fs` | Femtosecond   | ± 2.6 heures   | [ 1969, 1970]           |\n",
    "| `as` | Attosecond    | ± 9.2 secondes | [ 1969, 1970]           |"
   ]
  },
  {
   "cell_type": "markdown",
   "metadata": {},
   "source": [
    "Dans la \"vraie vie\", on utilise généralement `datetime64[ns]` car cela permet d'encoder une échelle de temps avec des dates actuelles et une précision suffisament fine.\n",
    "\n",
    "Finalement, on peut noter que si le type `datetime64` règle certains défauts du type built-in de Python `datetime`, il manque plusieurs des méthodes et fonctions bien utiles fournies par `datetime` et surtout par `dateutil`.\n",
    "\n",
    "Plus d'infos sur [la doc datetime64 de numpy](http://docs.scipy.org/doc/numpy/reference/arrays.datetime.html)."
   ]
  },
  {
   "cell_type": "markdown",
   "metadata": {},
   "source": [
    "### **1.3. Dates et times avec pandas: le meilleur des 2 mondes**\n",
    "\n",
    "\n",
    "Pandas se base sur les outils vus à l'instant pour fournir un objet `Timestamp` qui combine la facilité d'utilisation de `datetime`/`dateutil` avec l'efficacité de stockage et de calcul vectoriel de``numpy.datetime64``.\n",
    "\n",
    "À partir de ces objets `Timestamp`, Pandas peut construire une index `DatetimeIndex` qu'on peut utiliser pour indexer les données d'une `Series` ou d'un `DataFrame`.\n",
    "\n",
    "Par exemple, on peut utiliser les outils de Pandas pour refaire les opérations qu'on a fait juste avant, à savoir: parser une chaîne de caractères contenant un format de date flexible, utiliser les codes de format pour récupérer le jour de la semaine et effectuer des opérations vectorielles comme avec `numpy`."
   ]
  },
  {
   "cell_type": "code",
   "execution_count": 16,
   "metadata": {
    "collapsed": false,
    "jupyter": {
     "outputs_hidden": false
    }
   },
   "outputs": [
    {
     "data": {
      "text/plain": [
       "Timestamp('2024-06-17 00:00:00')"
      ]
     },
     "execution_count": 16,
     "metadata": {},
     "output_type": "execute_result"
    }
   ],
   "source": [
    "import pandas as pd\n",
    "date = pd.to_datetime(\"17 of June, 2024\")\n",
    "date"
   ]
  },
  {
   "cell_type": "code",
   "execution_count": 24,
   "metadata": {
    "collapsed": false,
    "jupyter": {
     "outputs_hidden": false
    }
   },
   "outputs": [
    {
     "data": {
      "text/plain": [
       "('June', 'Jun', 'Monday', '24')"
      ]
     },
     "execution_count": 24,
     "metadata": {},
     "output_type": "execute_result"
    }
   ],
   "source": [
    "date.strftime('%B'), date.strftime('%b'), date.strftime('%A'), date.strftime('%y')"
   ]
  },
  {
   "cell_type": "code",
   "execution_count": 18,
   "metadata": {},
   "outputs": [
    {
     "name": "stdout",
     "output_type": "stream",
     "text": [
      "17 Monday\n",
      "2024\n",
      "6 June\n"
     ]
    }
   ],
   "source": [
    "print(date.day, date.day_name())\n",
    "print(date.year)\n",
    "print(date.month, date.month_name())"
   ]
  },
  {
   "cell_type": "code",
   "execution_count": 20,
   "metadata": {
    "collapsed": false,
    "jupyter": {
     "outputs_hidden": false
    }
   },
   "outputs": [
    {
     "data": {
      "text/plain": [
       "DatetimeIndex(['2024-06-17', '2024-06-18', '2024-06-19', '2024-06-20'], dtype='datetime64[ns]', freq=None)"
      ]
     },
     "execution_count": 20,
     "metadata": {},
     "output_type": "execute_result"
    }
   ],
   "source": [
    "date + pd.to_timedelta(np.arange(4), 'D')"
   ]
  },
  {
   "cell_type": "code",
   "execution_count": 25,
   "metadata": {},
   "outputs": [
    {
     "data": {
      "text/plain": [
       "DatetimeIndex(['2024-06-17 14:00:00', '2024-06-17 20:00:00',\n",
       "               '2024-06-18 02:00:00', '2024-06-18 08:00:00',\n",
       "               '2024-06-18 14:00:00', '2024-06-18 20:00:00',\n",
       "               '2024-06-19 02:00:00', '2024-06-19 08:00:00',\n",
       "               '2024-06-19 14:00:00', '2024-06-19 20:00:00',\n",
       "               '2024-06-20 02:00:00', '2024-06-20 08:00:00',\n",
       "               '2024-06-20 14:00:00'],\n",
       "              dtype='datetime64[ns]', freq=None)"
      ]
     },
     "execution_count": 25,
     "metadata": {},
     "output_type": "execute_result"
    }
   ],
   "source": [
    "# autre exemple\n",
    "d = pd.to_datetime(\"17th of June, 2024, 14:00\")\n",
    "d + pd.to_timedelta(np.arange(0,73,6), 'h')"
   ]
  },
  {
   "cell_type": "code",
   "execution_count": 26,
   "metadata": {},
   "outputs": [
    {
     "data": {
      "text/plain": [
       "DatetimeIndex(['2024-06-17 14:00:00', '2024-06-17 14:10:00',\n",
       "               '2024-06-17 14:20:00', '2024-06-17 14:30:00',\n",
       "               '2024-06-17 14:40:00', '2024-06-17 14:50:00',\n",
       "               '2024-06-17 15:00:00', '2024-06-17 15:10:00',\n",
       "               '2024-06-17 15:20:00', '2024-06-17 15:30:00',\n",
       "               '2024-06-17 15:40:00'],\n",
       "              dtype='datetime64[ns]', freq=None)"
      ]
     },
     "execution_count": 26,
     "metadata": {},
     "output_type": "execute_result"
    }
   ],
   "source": [
    "# allez un dernier avant le suivant\n",
    "d = pd.to_datetime(\"17th of June, 2024, 14:00\")\n",
    "d + pd.to_timedelta(np.arange(0, 101, 10), 'm')"
   ]
  },
  {
   "cell_type": "markdown",
   "metadata": {},
   "source": [
    "On va regarder un peu plus en détails comment ça marche."
   ]
  },
  {
   "cell_type": "markdown",
   "metadata": {},
   "source": [
    "## **2. Séries temporelles avec Pandas : indexation par le temps**\n",
    "\n",
    "L'intérêt des time series de Pandas réside dans l'utilisation d'une indexation des données par des *timestamps*. "
   ]
  },
  {
   "cell_type": "code",
   "execution_count": 27,
   "metadata": {
    "collapsed": false,
    "jupyter": {
     "outputs_hidden": false
    }
   },
   "outputs": [
    {
     "data": {
      "text/plain": [
       "2019-06-03    0\n",
       "2019-07-03    1\n",
       "2020-06-03    2\n",
       "2020-07-03    3\n",
       "dtype: int64"
      ]
     },
     "execution_count": 27,
     "metadata": {},
     "output_type": "execute_result"
    }
   ],
   "source": [
    "index = pd.DatetimeIndex(['2019-06-03', '2019-07-03', '2020-06-03', '2020-07-03'])\n",
    "data = pd.Series([0, 1, 2, 3], index=index)\n",
    "data"
   ]
  },
  {
   "cell_type": "code",
   "execution_count": 28,
   "metadata": {},
   "outputs": [
    {
     "data": {
      "text/plain": [
       "DatetimeIndex(['2019-06-03', '2019-07-03', '2020-06-03', '2020-07-03'], dtype='datetime64[ns]', freq=None)"
      ]
     },
     "execution_count": 28,
     "metadata": {},
     "output_type": "execute_result"
    }
   ],
   "source": [
    "# Le DatetimeIndex de Pandas\n",
    "data.index"
   ]
  },
  {
   "cell_type": "markdown",
   "metadata": {},
   "source": [
    "Une fois qu'on a une `Series`, on peut utiliser les index datetime comme pour n'importe quelle `Series` et notamment avoir recours au slicing."
   ]
  },
  {
   "cell_type": "code",
   "execution_count": 29,
   "metadata": {
    "collapsed": false,
    "jupyter": {
     "outputs_hidden": false
    }
   },
   "outputs": [
    {
     "data": {
      "text/plain": [
       "2019-06-03    0\n",
       "2019-07-03    1\n",
       "2020-06-03    2\n",
       "dtype: int64"
      ]
     },
     "execution_count": 29,
     "metadata": {},
     "output_type": "execute_result"
    }
   ],
   "source": [
    "data['2019-06-03':'2020-06-03']"
   ]
  },
  {
   "cell_type": "markdown",
   "metadata": {},
   "source": [
    "Par ailleurs certaines opérations spécifiques aux DatetimeIndex permettent d'obtenir des slicing différents comme par exemple utiliser une année pour récupérer toutes les observations de cette année."
   ]
  },
  {
   "cell_type": "code",
   "execution_count": 30,
   "metadata": {
    "collapsed": false,
    "jupyter": {
     "outputs_hidden": false
    }
   },
   "outputs": [
    {
     "data": {
      "text/plain": [
       "(2020-06-03    2\n",
       " 2020-07-03    3\n",
       " dtype: int64,\n",
       " 2020-06-03    2\n",
       " dtype: int64)"
      ]
     },
     "execution_count": 30,
     "metadata": {},
     "output_type": "execute_result"
    }
   ],
   "source": [
    "data['2020'], data['2020-06']"
   ]
  },
  {
   "cell_type": "markdown",
   "metadata": {},
   "source": [
    "## **3. Les structures Pandas pour les séries temporelles**\n",
    "\n",
    "On va introduire les structures de données fondamentales de Pandas pour travailler avec les séries temporelles :\n",
    "- pour les *timestamps*, il y a le type `Timestamp` : en gros, ça remplace le type natif de Python `datetime` tout en étant construit sur le type `numpy.datetime64` qui est plus efficace. La structure d'index associée est le `DatetimeIndex`\n",
    "- pour les *time Periods*, il y a le type `Period` : permet d'encoder des durées de fréquences fixes basées sur `numpy.datetime64`. La structure d'index associée est le `PeriodIndex`\n",
    "- pour les *time deltas* ou *durations*, il y a le type`Timedelta` : `Timedelta` est un remplaçant plus efficace du type natif de Python `datetime.timedelta` et basé sur `numpy.timedelta64`. La structure d'index associée est le `TimedeltaIndex`\n",
    "\n",
    "Les plus importantes de ces structures date/time sont les objets `Timestamp` and `DatetimeIndex`.\n",
    "\n",
    "Même si on peut très bien appeler ces classes d'objets directement, généralement on passe par la fonction `pd.to_datetime()` qui permet de lire une grande variété de format. Si on passe une seule date à `pd.to_datetime()`, on obtient un `Timestamp`. Si on lui passe une série de dates, on obtient un `DatetimeIndex`"
   ]
  },
  {
   "cell_type": "code",
   "execution_count": 31,
   "metadata": {
    "collapsed": false,
    "jupyter": {
     "outputs_hidden": false
    }
   },
   "outputs": [
    {
     "data": {
      "text/plain": [
       "DatetimeIndex(['2020-06-03', '2020-06-05', '2020-06-07', '2024-06-17',\n",
       "               '2024-06-15'],\n",
       "              dtype='datetime64[ns]', freq=None)"
      ]
     },
     "execution_count": 31,
     "metadata": {},
     "output_type": "execute_result"
    }
   ],
   "source": [
    "dates = pd.to_datetime([datetime(2020, 6, 3), '5th of June, 2020', '2020-Jun-7', '06-17-2024', '20240615'])\n",
    "dates"
   ]
  },
  {
   "cell_type": "markdown",
   "metadata": {},
   "source": [
    "Tout objet `DatetimeIndex` peut être converti en `PeriodIndex` avec la fonction `to_period()` en ajoutant un code de fréquence (par exemple `'D'` pour une fréquence quotidienne ou `'M'` pour une fréquence mensuelle) :"
   ]
  },
  {
   "cell_type": "code",
   "execution_count": 32,
   "metadata": {
    "collapsed": false,
    "jupyter": {
     "outputs_hidden": false
    }
   },
   "outputs": [
    {
     "data": {
      "text/plain": [
       "PeriodIndex(['2020-06', '2020-06', '2020-06', '2024-06', '2024-06'], dtype='period[M]')"
      ]
     },
     "execution_count": 32,
     "metadata": {},
     "output_type": "execute_result"
    }
   ],
   "source": [
    "dates.to_period('M')"
   ]
  },
  {
   "cell_type": "code",
   "execution_count": 33,
   "metadata": {},
   "outputs": [
    {
     "data": {
      "text/plain": [
       "PeriodIndex(['2020-06-03', '2020-06-05', '2020-06-07', '2024-06-17',\n",
       "             '2024-06-15'],\n",
       "            dtype='period[D]')"
      ]
     },
     "execution_count": 33,
     "metadata": {},
     "output_type": "execute_result"
    }
   ],
   "source": [
    "dates.to_period('D')"
   ]
  },
  {
   "cell_type": "markdown",
   "metadata": {},
   "source": [
    "Enfin, un objet `TimedeltaIndex` peut être par exemple créé lorsqu'on soustrait 2 dates :"
   ]
  },
  {
   "cell_type": "code",
   "execution_count": 44,
   "metadata": {
    "collapsed": false,
    "jupyter": {
     "outputs_hidden": false
    }
   },
   "outputs": [
    {
     "data": {
      "text/plain": [
       "DatetimeIndex(['2020-06-03', '2020-06-05', '2020-06-07', '2020-06-10',\n",
       "               '2020-06-15'],\n",
       "              dtype='datetime64[ns]', freq=None)"
      ]
     },
     "execution_count": 44,
     "metadata": {},
     "output_type": "execute_result"
    }
   ],
   "source": [
    "dates = pd.to_datetime([datetime(2020, 6, 3), '5th of June, 2020', '2020-Jun-7', '06-10-2020', '20200615'])\n",
    "dates"
   ]
  },
  {
   "cell_type": "code",
   "execution_count": 40,
   "metadata": {},
   "outputs": [
    {
     "data": {
      "text/plain": [
       "DatetimeIndex(['2020-06-03 00:10:00', '2020-06-05 00:10:00',\n",
       "               '2020-06-07 00:10:00', '2020-06-10 00:10:00',\n",
       "               '2020-06-15 00:10:00'],\n",
       "              dtype='datetime64[ns]', freq=None)"
      ]
     },
     "execution_count": 40,
     "metadata": {},
     "output_type": "execute_result"
    }
   ],
   "source": [
    "dates = dates + pd.to_timedelta(10, 'm')\n",
    "dates"
   ]
  },
  {
   "cell_type": "code",
   "execution_count": 37,
   "metadata": {},
   "outputs": [
    {
     "data": {
      "text/plain": [
       "TimedeltaIndex(['0 days', '2 days', '4 days', '7 days', '12 days'], dtype='timedelta64[ns]', freq=None)"
      ]
     },
     "execution_count": 37,
     "metadata": {},
     "output_type": "execute_result"
    }
   ],
   "source": [
    "dates - dates[0]"
   ]
  },
  {
   "cell_type": "markdown",
   "metadata": {},
   "source": [
    "### Les séquences avec `pd.date_range()`\n",
    "\n",
    "Pour pouvoir créer des séquences régulières de dates,  Pandas contient un certain nombre de fonctions : `pd.date_range()`, `pd.period_range()` et `pd.timedelta_range()`.\n",
    "Comme pour le `range()` de Python et `arange()` de numpy, on a un point de départ, d'arrivée et éventuellement un pas : `pd.date_range()` prend des dates de départ et de fin, et éventuellement une fréquence (qui vaut 1 jour par défaut) :"
   ]
  },
  {
   "cell_type": "code",
   "execution_count": 45,
   "metadata": {},
   "outputs": [
    {
     "data": {
      "text/plain": [
       "DatetimeIndex(['2020-06-03', '2020-06-04', '2020-06-05', '2020-06-06',\n",
       "               '2020-06-07', '2020-06-08', '2020-06-09', '2020-06-10',\n",
       "               '2020-06-11', '2020-06-12'],\n",
       "              dtype='datetime64[ns]', freq='D')"
      ]
     },
     "execution_count": 45,
     "metadata": {},
     "output_type": "execute_result"
    }
   ],
   "source": [
    "pd.date_range(pd.to_datetime('2020-06-03'), '2020-06-12')"
   ]
  },
  {
   "cell_type": "code",
   "execution_count": 46,
   "metadata": {
    "collapsed": false,
    "jupyter": {
     "outputs_hidden": false
    }
   },
   "outputs": [
    {
     "data": {
      "text/plain": [
       "DatetimeIndex(['2020-06-03', '2020-06-04', '2020-06-05', '2020-06-06',\n",
       "               '2020-06-07', '2020-06-08', '2020-06-09', '2020-06-10',\n",
       "               '2020-06-11', '2020-06-12'],\n",
       "              dtype='datetime64[ns]', freq='D')"
      ]
     },
     "execution_count": 46,
     "metadata": {},
     "output_type": "execute_result"
    }
   ],
   "source": [
    "pd.date_range('2020-06-03', '2020-06-12')"
   ]
  },
  {
   "cell_type": "markdown",
   "metadata": {},
   "source": [
    "On peut aussi spécifier simplement un point de départ et un nombre de Periods et on peut utiliser `freq` pour modifier la fréquence."
   ]
  },
  {
   "cell_type": "code",
   "execution_count": 47,
   "metadata": {
    "collapsed": false,
    "jupyter": {
     "outputs_hidden": false
    }
   },
   "outputs": [
    {
     "data": {
      "text/plain": [
       "DatetimeIndex(['2020-06-03', '2020-06-04', '2020-06-05', '2020-06-06',\n",
       "               '2020-06-07', '2020-06-08', '2020-06-09', '2020-06-10'],\n",
       "              dtype='datetime64[ns]', freq='D')"
      ]
     },
     "execution_count": 47,
     "metadata": {},
     "output_type": "execute_result"
    }
   ],
   "source": [
    "pd.date_range('2020-06-03', periods=8)"
   ]
  },
  {
   "cell_type": "code",
   "execution_count": 48,
   "metadata": {
    "collapsed": false,
    "jupyter": {
     "outputs_hidden": false
    }
   },
   "outputs": [
    {
     "data": {
      "text/plain": [
       "DatetimeIndex(['2020-06-03 00:00:00', '2020-06-03 01:00:00',\n",
       "               '2020-06-03 02:00:00', '2020-06-03 03:00:00',\n",
       "               '2020-06-03 04:00:00', '2020-06-03 05:00:00',\n",
       "               '2020-06-03 06:00:00', '2020-06-03 07:00:00'],\n",
       "              dtype='datetime64[ns]', freq='H')"
      ]
     },
     "execution_count": 48,
     "metadata": {},
     "output_type": "execute_result"
    }
   ],
   "source": [
    "pd.date_range('2020-06-03', periods=8, freq='H')"
   ]
  },
  {
   "cell_type": "markdown",
   "metadata": {},
   "source": [
    "Vous pouvez jeter un oeil à `pd.period_range()` et `pd.timedelta_range()` qui fonctionnent pareil."
   ]
  },
  {
   "cell_type": "code",
   "execution_count": 49,
   "metadata": {
    "collapsed": false,
    "jupyter": {
     "outputs_hidden": false
    }
   },
   "outputs": [
    {
     "data": {
      "text/plain": [
       "PeriodIndex(['2020-06', '2020-07', '2020-08', '2020-09', '2020-10', '2020-11',\n",
       "             '2020-12', '2021-01'],\n",
       "            dtype='period[M]')"
      ]
     },
     "execution_count": 49,
     "metadata": {},
     "output_type": "execute_result"
    }
   ],
   "source": [
    "pd.period_range('2020-06', periods=8, freq='M')"
   ]
  },
  {
   "cell_type": "code",
   "execution_count": 50,
   "metadata": {
    "collapsed": false,
    "jupyter": {
     "outputs_hidden": false
    }
   },
   "outputs": [
    {
     "data": {
      "text/plain": [
       "TimedeltaIndex(['0 days 00:00:00', '0 days 01:00:00', '0 days 02:00:00',\n",
       "                '0 days 03:00:00', '0 days 04:00:00', '0 days 05:00:00',\n",
       "                '0 days 06:00:00', '0 days 07:00:00', '0 days 08:00:00',\n",
       "                '0 days 09:00:00'],\n",
       "               dtype='timedelta64[ns]', freq='H')"
      ]
     },
     "execution_count": 50,
     "metadata": {},
     "output_type": "execute_result"
    }
   ],
   "source": [
    "pd.timedelta_range(0, periods=10, freq='H')"
   ]
  },
  {
   "cell_type": "markdown",
   "metadata": {},
   "source": [
    "Vous l'aurez compris, pour bien apter ce qu'il se passe il faut avoir une idée des codes de fréquences..."
   ]
  },
  {
   "cell_type": "markdown",
   "metadata": {},
   "source": [
    "## **4. Fréquences et décalages (offset)**\n",
    "\n",
    "Le concept de fréquence ou de décalage (on parlera généralement d'offset)  est fondamental pour les outils Pandas de séries temporelles.\n",
    "On a déjà croisé les codes `M` (month), `D` (day) et `H` (hour) pour définir des fréquences, on va résumé les codes Pandas dans le tableau suivant."
   ]
  },
  {
   "cell_type": "markdown",
   "metadata": {},
   "source": [
    "| Code   | Description         | Code   | Description          |\n",
    "|--------|---------------------|--------|----------------------|\n",
    "| ``D``  | Calendar day        | ``B``  | Business day         |\n",
    "| ``W``  | Weekly              |        |                      |\n",
    "| ``M``  | Month end           | ``BM`` | Business month end   |\n",
    "| ``Q``  | Quarter end         | ``BQ`` | Business quarter end |\n",
    "| ``A``  | Year end            | ``BA`` | Business year end    |\n",
    "| ``H``  | Hours               | ``BH`` | Business hours       |\n",
    "| ``T``  | Minutes             |        |                      |\n",
    "| ``S``  | Seconds             |        |                      |\n",
    "| ``L``  | Milliseonds         |        |                      |\n",
    "| ``U``  | Microseconds        |        |                      |\n",
    "| ``N``  | nanoseconds         |        |                      |"
   ]
  },
  {
   "cell_type": "markdown",
   "metadata": {},
   "source": [
    "Les fréquences mensuelles, trimestrielles et annuelles pointent à la fin de la période par défaut. En ajoutant un suffixe `S` à la fin du nom, elles pointeront à la place au début de la période."
   ]
  },
  {
   "cell_type": "markdown",
   "metadata": {},
   "source": [
    "| Code    | Description            | Code    | Description            |\n",
    "|---------|------------------------|---------|------------------------|\n",
    "| ``MS``  | Month start            |``BMS``  | Business month start   |\n",
    "| ``QS``  | Quarter start          |``BQS``  | Business quarter start |\n",
    "| ``AS``  | Year start             |``BAS``  | Business year start    |"
   ]
  },
  {
   "cell_type": "markdown",
   "metadata": {},
   "source": [
    "On peut aussi modifier le mois utilisé pour marquer un code trimestriel ou annuel en ajoutant les 3 lettres du mois en suffixes:\n",
    "- ``Q-JAN``, ``BQ-FEB``, ``QS-MAR``, ``BQS-APR``, etc.\n",
    "- ``A-JAN``, ``BA-FEB``, ``AS-MAR``, ``BAS-APR``, etc.\n",
    "\n",
    "De la même manière, le \"jour seuil\" d'une fréquence hebdomadaire peut être modifié en ajoutant en suffixes les 3 lettres du jour:\n",
    "- ``W-SUN``, ``W-MON``, ``W-TUE``, ``W-WED``, etc.\n",
    "\n",
    "Enfin, les codes peuvent être combinés avec des valeurs numériques pour spécifier d'autres fréquences. Par exemple, pour une fréquence de 2h30min, on peut faire:"
   ]
  },
  {
   "cell_type": "code",
   "execution_count": 51,
   "metadata": {
    "collapsed": false,
    "jupyter": {
     "outputs_hidden": false
    }
   },
   "outputs": [
    {
     "data": {
      "text/plain": [
       "TimedeltaIndex(['0 days 00:00:00', '0 days 02:30:00', '0 days 05:00:00',\n",
       "                '0 days 07:30:00', '0 days 10:00:00', '0 days 12:30:00',\n",
       "                '0 days 15:00:00', '0 days 17:30:00', '0 days 20:00:00'],\n",
       "               dtype='timedelta64[ns]', freq='150T')"
      ]
     },
     "execution_count": 51,
     "metadata": {},
     "output_type": "execute_result"
    }
   ],
   "source": [
    "pd.timedelta_range(0, periods=9, freq=\"2H30T\")"
   ]
  },
  {
   "cell_type": "markdown",
   "metadata": {},
   "source": [
    "Tout ça vient en fait du module ``pd.tseries.offsets`` module."
   ]
  },
  {
   "cell_type": "code",
   "execution_count": 52,
   "metadata": {
    "collapsed": false,
    "jupyter": {
     "outputs_hidden": false
    }
   },
   "outputs": [
    {
     "data": {
      "text/plain": [
       "DatetimeIndex(['2022-05-06', '2022-05-09', '2022-05-10', '2022-05-11',\n",
       "               '2022-05-12'],\n",
       "              dtype='datetime64[ns]', freq='B')"
      ]
     },
     "execution_count": 52,
     "metadata": {},
     "output_type": "execute_result"
    }
   ],
   "source": [
    "# Par exemple, pour créer un décalage de jour ouvrable, on peut faire :\n",
    "from pandas.tseries.offsets import BDay\n",
    "pd.date_range('2022-05-06', periods=5, freq=BDay())"
   ]
  },
  {
   "cell_type": "code",
   "execution_count": 53,
   "metadata": {},
   "outputs": [
    {
     "data": {
      "text/plain": [
       "DatetimeIndex(['2022-05-31', '2022-06-30', '2022-07-29', '2022-08-31',\n",
       "               '2022-09-30', '2022-10-31', '2022-11-30', '2022-12-30'],\n",
       "              dtype='datetime64[ns]', freq='BM')"
      ]
     },
     "execution_count": 53,
     "metadata": {},
     "output_type": "execute_result"
    }
   ],
   "source": [
    "# Par exemple, pour récupérer le dernier jour ouvrable du mois, on peut faire :\n",
    "from pandas.tseries.offsets import BMonthEnd\n",
    "pd.date_range('2022-05-06', periods=8, freq=BMonthEnd())"
   ]
  },
  {
   "cell_type": "markdown",
   "metadata": {},
   "source": [
    "Pour en savoir plus, il y a la [section \"DateOffset\"](https://pandas.pydata.org/pandas-docs/stable/user_guide/timeseries.html#dateoffset-objects) de la doc Pandas."
   ]
  },
  {
   "cell_type": "markdown",
   "metadata": {},
   "source": [
    "## **5. Un peu d'anglicisme : Resampling, Shifting, and Windowing**\n",
    "\n",
    "- *Resampling* = rééchantillonnage\n",
    "- *Shifting* = déplacement\n",
    "- *Windowing* = fenêtrage\n",
    "\n",
    "La capacité à utiliser les dates/times comme indices pour organiser et accéder aux données est une point important des outils de séries temp sur Pandas. Les avantages de l'indexation (alignement, slicing, etc...) sont conservés et Pandas fournit par ailleurs plusieurs opérations spécifiques séries temp (séries temp désignent ici une `Series` indexées par un `DatetimeIndex`, en général).\n",
    "\n",
    "On va en voir quelques unes en utilisant en exemple le cours de l'action Google en bourse (données récupérées sur Yahoo finance)."
   ]
  },
  {
   "cell_type": "markdown",
   "metadata": {},
   "source": [
    "> **Petit exo :**\n",
    ">- importer les données `GOOG.csv` en utilisant les bons paramètres pour avoir un DatetimeIndex à partir de la colonne indiquant les dates\n",
    ">- ne conserver que la série 'Close' qui correspond au prix de l'action à la fermeture\n",
    ">- afficher la série"
   ]
  },
  {
   "cell_type": "code",
   "execution_count": 65,
   "metadata": {},
   "outputs": [
    {
     "data": {
      "text/plain": [
       "DatetimeIndex(['2004-08-19', '2004-08-20', '2004-08-23', '2004-08-24',\n",
       "               '2004-08-25', '2004-08-26', '2004-08-27', '2004-08-30',\n",
       "               '2004-08-31', '2004-09-01',\n",
       "               ...\n",
       "               '2024-06-03', '2024-06-04', '2024-06-05', '2024-06-06',\n",
       "               '2024-06-07', '2024-06-10', '2024-06-11', '2024-06-12',\n",
       "               '2024-06-13', '2024-06-14'],\n",
       "              dtype='datetime64[ns]', name='Date', length=4990, freq=None)"
      ]
     },
     "execution_count": 65,
     "metadata": {},
     "output_type": "execute_result"
    }
   ],
   "source": [
    "gg = pd.read_csv('data/GOOG.csv',\n",
    "                 usecols=['Date', 'Close'],\n",
    "                 parse_dates=['Date'],\n",
    "                 index_col='Date')\n",
    "gg.index"
   ]
  },
  {
   "cell_type": "code",
   "execution_count": 74,
   "metadata": {},
   "outputs": [],
   "source": [
    "import seaborn as sns; sns.set_theme()\n",
    "import matplotlib.pyplot as plt\n",
    "plt.rcParams['figure.figsize']=(14,6)"
   ]
  },
  {
   "cell_type": "code",
   "execution_count": 75,
   "metadata": {},
   "outputs": [
    {
     "data": {
      "image/png": "[encoded data removed]",
      "text/plain": [
       "<Figure size 1400x600 with 1 Axes>"
      ]
     },
     "metadata": {},
     "output_type": "display_data"
    }
   ],
   "source": [
    "gg.plot();"
   ]
  },
  {
   "cell_type": "markdown",
   "metadata": {},
   "source": [
    "### **5.1. Rééchantillonage et conversion de fréquences**\n",
    "\n",
    "Une manipulation classique des séries temporelles est le rééchantionnage (resampling) à une fréquence plus ou moins haute. Il y a pour ce faire les méthodes `resample()` ou `asfreq()`. La différence entre les deux est que `resample` consiste à agréger toutes les données comprises entre 2 multiples de la fréquence alors que `asfreq` sélectionne la valeur correspondant à la fréquence.\n",
    "\n",
    "> **Petit exo :**\n",
    ">- Regarder la différence entre les 2 affichant sur un même grapique les 3 séries 'close', 'resample' et 'asfreq' en choisissant la fréquence que vous voulez"
   ]
  },
  {
   "cell_type": "code",
   "execution_count": null,
   "metadata": {},
   "outputs": [],
   "source": []
  },
  {
   "cell_type": "markdown",
   "metadata": {},
   "source": [
    "Pour un resampling avec une fréquence plus importante, `resample()` et `asfreq()` sont équivalentes. Par défaut, les 2 méthodes laissent les valeurs non existantes vides. Toutefois, `asfreq()` accepte un paramètre `method` dans lequel on peut spécifier comment imputer les valeurs manquantes générées par l'augmentation de la fréquence.\n",
    "\n",
    "> **Petit exo :**\n",
    ">- Selectionner uniquement les 14 derniers jours\n",
    ">- Faire un resampling de la série GOOG.csv avec une fréquence quotidienne, ça incluera donc les weekends)\n",
    ">- Afficher pour chaque méthode (`resample()` et `asfreq()`) les courbes rééchatillonnées sans imputer les valeurs manquantes, avec une imputation de type \"bfill\" et une imputation de type \"ffill\" (donc 2x3 courbes)"
   ]
  },
  {
   "cell_type": "code",
   "execution_count": null,
   "metadata": {},
   "outputs": [],
   "source": []
  },
  {
   "cell_type": "markdown",
   "metadata": {},
   "source": [
    "### **5.2. Déplacements**\n",
    "\n",
    "Une opération classique sur les séries temporelles est le déplacement ou décalage (on parle plus souvent de *time-shifts* ou *shifting*)\n",
    "\n",
    "Deux méthodes sont prévues pour ça : `shift()` et `tshift()`. Pour faire court, la différence entre les deux est que `shift()` déplace les données alors que`tshift()` déplace les index. Dans les 2 cas, le décalage doit être un multiple de la fréquence."
   ]
  },
  {
   "cell_type": "code",
   "execution_count": 116,
   "metadata": {},
   "outputs": [
    {
     "name": "stderr",
     "output_type": "stream",
     "text": [
      "/tmp/ipykernel_6123/1116516916.py:7: FutureWarning: tshift is deprecated and will be removed in a future version. Please use shift instead.\n",
      "  goog.tshift(900).plot(ax=ax[2])\n"
     ]
    },
    {
     "data": {
      "image/png": "[encoded data removed]",
      "text/plain": [
       "<Figure size 1080x504 with 3 Axes>"
      ]
     },
     "metadata": {},
     "output_type": "display_data"
    }
   ],
   "source": [
    "fig, ax = plt.subplots(3, sharey=True)\n",
    "\n",
    "goog = goog.asfreq('D', method='ffill')\n",
    "\n",
    "goog.plot(ax=ax[0])\n",
    "goog.shift(900).plot(ax=ax[1])\n",
    "goog.tshift(900).plot(ax=ax[2])\n",
    "\n",
    "local_max = pd.to_datetime('2010-01-01')\n",
    "offset = pd.Timedelta(900, 'D')\n",
    "\n",
    "ax[0].legend(['close'], loc=2)\n",
    "ax[0].get_xticklabels()[3].set(weight='heavy', color='red')\n",
    "ax[0].axvline(local_max, alpha=0.3, color='red')\n",
    "\n",
    "ax[1].legend(['shift(900)'], loc=2)\n",
    "ax[1].get_xticklabels()[3].set(weight='heavy', color='red')\n",
    "ax[1].axvline(local_max + offset, alpha=0.3, color='red')\n",
    "\n",
    "ax[2].legend(['tshift(900)'], loc=2)\n",
    "ax[2].get_xticklabels()[2].set(weight='heavy', color='red')\n",
    "ax[2].axvline(local_max + offset, alpha=0.3, color='red');"
   ]
  },
  {
   "cell_type": "markdown",
   "metadata": {},
   "source": [
    ">**Petit exo :**\n",
    ">- Utiliser le *shifting* pour calculer le retour sur investissement à 1 an de l'action de Google (ROI - *return on investment*)\n",
    ">- Tracer la série temporelle ROI ainsi créée\n",
    ">- Analyser (rapidement) la courbe obtenue"
   ]
  },
  {
   "cell_type": "code",
   "execution_count": null,
   "metadata": {},
   "outputs": [],
   "source": []
  },
  {
   "cell_type": "markdown",
   "metadata": {},
   "source": [
    "### **5.3. Attention, fenêtres glissantes**\n",
    "\n",
    "Enfin, la 3ème opération classique des séries temporelles consiste à calculer différentes statistiques sur une fenêtre d'une longueur donnée et qui se déplace. On parle de *rolling window* et pas vraiment de fenêtre glissante...et pour faire ça, Pandas fournit la méthode `rolling()` pour les objets `Series` et `DataFrame`. \n",
    "\n",
    "> **Petit exo :**\n",
    ">- Utiliser la méthode rolling pour calculer la moyenne annuelle centrée et l'écart-type annuel centré\n",
    ">- Afficher sur un même graphique les 3 courbes : 'close', 'moyenne' et 'std'"
   ]
  },
  {
   "cell_type": "code",
   "execution_count": null,
   "metadata": {},
   "outputs": [],
   "source": []
  },
  {
   "cell_type": "markdown",
   "metadata": {},
   "source": [
    "## **6. Un exemple : visualisation du nombre de vélo à Paris Montparnasse**\n",
    "\n",
    "On va terminer sur un petit exemple un peu plus parlant, ou en tout cas, un peu moins financier : on va regarder le nombre de vélo passés par un des compteurs de la ville de Paris, situé sur le boulevard Montparnasse. Le jeu de données vient [de là](https://opendata.paris.fr/explore/dataset/comptage-velo-donnees-compteurs/information/?disjunctive.id_compteur&disjunctive.nom_compteur&disjunctive.id&disjunctive.name). Le décompte horaire des vélos peut ainsi être récupéré.\n",
    "\n",
    "**\"Petit\" exo :**\n",
    "1. Importer le dataset\n",
    "2. Le nettoyer un peu : supprimer les colonnes inutiles, modifier les entêtes à rallonge, gérer les formats de dates (tout ça peut être fait dans à l'aide des paramètres de `read_csv`)\n",
    "3. Définir, si ce n'est pas déjà fait, la série temporelle des décomptes horaires de vélos et l'afficher\n",
    "4. Supprimer les données manquantes s'il y en a\n",
    "5. Regarder quelques statistiques générales avec un `describe`\n",
    "6. Visualisation de la tendance :\n",
    ">- la série par heure étant trop \"dense\" pour être clairement lisible, on va diminuer la fréquence : utiliser `resample` pour faire la somme des vélos sur une journée et sur une semaine puis réafficher les deux séries obtenues dans une même figure sur deux objets `axes` différents. Commentez le graphique ainsi obtenu.\n",
    ">- à l'aide de la méthode `rolling` calculer la moyenne mobile mensuelle (donc sur 30 jours !). Le refaire avec le paramètre `win_type=\"gaussian\"` et superposer les deux séries sur un même graphique.\n",
    "8. Après avoir vu la tendance, on veut regarder la répartition quotidienne et hebdomadaire du trafic :\n",
    ">- à l'aide de la méthode `groupby` ainsi que des attributs `time` et `dayofweek` des objets `DatetimeIndex`, calculer le nombre moyen de vélos décomptés pour chaque heure de la journée et pour chaque jour de la semaine. Afficher les 2 séries obtenues et les commenter\n",
    ">- enfin, plus compliqué pour terminer, regarder les nombres moyens de vélos par heure de la journée selon qu'on est un jour ouvrable ou jour de weekend et afficher les 2 séries puis les commenter."
   ]
  },
  {
   "cell_type": "code",
   "execution_count": null,
   "metadata": {},
   "outputs": [],
   "source": []
  }
 ],
 "metadata": {
  "anaconda-cloud": {},
  "kernelspec": {
   "display_name": "Python 3 (ipykernel)",
   "language": "python",
   "name": "python3"
  },
  "language_info": {
   "codemirror_mode": {
    "name": "ipython",
    "version": 3
   },
   "file_extension": ".py",
   "mimetype": "text/x-python",
   "name": "python",
   "nbconvert_exporter": "python",
   "pygments_lexer": "ipython3",
   "version": "3.10.13"
  }
 },
 "nbformat": 4,
 "nbformat_minor": 4
}
