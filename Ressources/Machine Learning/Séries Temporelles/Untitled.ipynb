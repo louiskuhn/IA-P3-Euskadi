{
 "cells": [
  {
   "cell_type": "code",
   "execution_count": null,
   "id": "482bfb70-99c8-4e0c-bb01-6863a26982d9",
   "metadata": {},
   "outputs": [],
   "source": []
  },
  {
   "cell_type": "code",
   "execution_count": 92,
   "id": "8b4a0bee-8fef-45f4-a3eb-722ce6892a74",
   "metadata": {},
   "outputs": [
    {
     "name": "stdout",
     "output_type": "stream",
     "text": [
      "<class 'pandas.core.frame.DataFrame'>\n",
      "DatetimeIndex: 19329 entries, 2023-05-01 05:00:00 to 2024-06-16 23:00:00\n",
      "Data columns (total 1 columns):\n",
      " #   Column  Non-Null Count  Dtype\n",
      "---  ------  --------------  -----\n",
      " 0   nb      19329 non-null  int64\n",
      "dtypes: int64(1)\n",
      "memory usage: 302.0 KB\n",
      "CPU times: user 2.24 s, sys: 6.41 ms, total: 2.25 s\n",
      "Wall time: 2.27 s\n"
     ]
    }
   ],
   "source": [
    "%%time\n",
    "velo = pd.read_csv('data/comptage-velo-montpar.csv', sep=';',\n",
    "                  usecols=[4,5],\n",
    "                  names=['nb', 'date'],\n",
    "                  header=0,\n",
    "                  date_parser=lambda s : pd.to_datetime(s.split('+')[0]),\n",
    "                  index_col='date')\n",
    "velo.info()"
   ]
  },
  {
   "cell_type": "code",
   "execution_count": 93,
   "id": "4f2ddcce-3fa2-4ba8-a75e-b8df34a8b399",
   "metadata": {},
   "outputs": [
    {
     "name": "stdout",
     "output_type": "stream",
     "text": [
      "<class 'pandas.core.frame.DataFrame'>\n",
      "DatetimeIndex: 19329 entries, 2023-05-01 05:00:00 to 2024-06-16 23:00:00\n",
      "Data columns (total 1 columns):\n",
      " #   Column  Non-Null Count  Dtype\n",
      "---  ------  --------------  -----\n",
      " 0   nb      19329 non-null  int64\n",
      "dtypes: int64(1)\n",
      "memory usage: 302.0 KB\n",
      "CPU times: user 385 ms, sys: 19.7 ms, total: 404 ms\n",
      "Wall time: 403 ms\n"
     ]
    }
   ],
   "source": [
    "%%time\n",
    "velo = pd.read_csv('data/comptage-velo-montpar.csv', sep=';',\n",
    "                  usecols=[4,5],\n",
    "                  names=['nb', 'date'],\n",
    "                  header=0)\n",
    "\n",
    "velo.set_index(pd.DatetimeIndex(pd.to_datetime(velo.date, utc=True)).tz_convert('Europe/Paris').tz_localize(None),\n",
    "               inplace=True)\n",
    "\n",
    "velo.drop(columns='date', inplace=True)\n",
    "\n",
    "velo.info()"
   ]
  },
  {
   "cell_type": "code",
   "execution_count": 94,
   "id": "270150a7-53da-422a-8684-4dcc47720712",
   "metadata": {},
   "outputs": [
    {
     "name": "stdout",
     "output_type": "stream",
     "text": [
      "<class 'pandas.core.frame.DataFrame'>\n",
      "DatetimeIndex: 19329 entries, 2023-05-01 05:00:00 to 2024-06-16 23:00:00\n",
      "Data columns (total 1 columns):\n",
      " #   Column  Non-Null Count  Dtype\n",
      "---  ------  --------------  -----\n",
      " 0   nb      19329 non-null  int64\n",
      "dtypes: int64(1)\n",
      "memory usage: 302.0 KB\n",
      "CPU times: user 382 ms, sys: 18.6 ms, total: 400 ms\n",
      "Wall time: 399 ms\n"
     ]
    }
   ],
   "source": [
    "%%time\n",
    "velo = pd.read_csv('data/comptage-velo-montpar.csv', sep=';',\n",
    "                  usecols=[4,5],\n",
    "                  names=['nb', 'date'],\n",
    "                  header=0,\n",
    "                  date_parser=lambda s : pd.DatetimeIndex(pd.to_datetime(s, utc=True)).tz_convert('Europe/Paris').tz_localize(None),\n",
    "                  index_col='date')\n",
    "\n",
    "velo.info()"
   ]
  },
  {
   "cell_type": "code",
   "execution_count": 95,
   "id": "d40ccfdf-3ebe-4906-8fb5-14fba1442aa9",
   "metadata": {},
   "outputs": [
    {
     "name": "stdout",
     "output_type": "stream",
     "text": [
      "<class 'pandas.core.frame.DataFrame'>\n",
      "DatetimeIndex: 19329 entries, 2023-05-01 05:00:00 to 2024-06-16 23:00:00\n",
      "Data columns (total 1 columns):\n",
      " #   Column  Non-Null Count  Dtype\n",
      "---  ------  --------------  -----\n",
      " 0   nb      19329 non-null  int64\n",
      "dtypes: int64(1)\n",
      "memory usage: 302.0 KB\n",
      "CPU times: user 4.75 s, sys: 7.18 ms, total: 4.76 s\n",
      "Wall time: 4.78 s\n"
     ]
    }
   ],
   "source": [
    "%%time\n",
    "velo = pd.read_csv('data/comptage-velo-montpar.csv', sep=';',\n",
    "                  usecols=[4,5],\n",
    "                  names=['nb', 'date'],\n",
    "                  header=0,\n",
    "                  date_parser=lambda s : pd.to_datetime(s).replace(tzinfo=None),\n",
    "                  index_col='date')\n",
    "\n",
    "velo.info()"
   ]
  },
  {
   "cell_type": "code",
   "execution_count": 96,
   "id": "e693e10e-5f40-48ae-8141-11afffe7518c",
   "metadata": {},
   "outputs": [
    {
     "name": "stdout",
     "output_type": "stream",
     "text": [
      "<class 'pandas.core.frame.DataFrame'>\n",
      "DatetimeIndex: 19329 entries, 2023-05-01 05:00:00 to 2024-06-16 23:00:00\n",
      "Data columns (total 1 columns):\n",
      " #   Column  Non-Null Count  Dtype\n",
      "---  ------  --------------  -----\n",
      " 0   nb      19329 non-null  int64\n",
      "dtypes: int64(1)\n",
      "memory usage: 302.0 KB\n",
      "CPU times: user 4.86 s, sys: 22.4 ms, total: 4.88 s\n",
      "Wall time: 4.89 s\n"
     ]
    }
   ],
   "source": [
    "%%time\n",
    "velo = pd.read_csv('data/comptage-velo-montpar.csv', sep=';',\n",
    "                  usecols=[4,5],\n",
    "                  names=['nb', 'date'],\n",
    "                  header=0,\n",
    "                  date_parser=lambda s : pd.to_datetime(s).astimezone(tz='Europe/Paris').replace(tzinfo=None),\n",
    "                  index_col='date')\n",
    "\n",
    "velo.info()"
   ]
  },
  {
   "cell_type": "code",
   "execution_count": null,
   "id": "5189021d-2e88-44e6-947a-92e97abf0855",
   "metadata": {},
   "outputs": [],
   "source": []
  }
 ],
 "metadata": {
  "kernelspec": {
   "display_name": "Python 3 (ipykernel)",
   "language": "python",
   "name": "python3"
  },
  "language_info": {
   "codemirror_mode": {
    "name": "ipython",
    "version": 3
   },
   "file_extension": ".py",
   "mimetype": "text/x-python",
   "name": "python",
   "nbconvert_exporter": "python",
   "pygments_lexer": "ipython3",
   "version": "3.10.13"
  }
 },
 "nbformat": 4,
 "nbformat_minor": 5
}
