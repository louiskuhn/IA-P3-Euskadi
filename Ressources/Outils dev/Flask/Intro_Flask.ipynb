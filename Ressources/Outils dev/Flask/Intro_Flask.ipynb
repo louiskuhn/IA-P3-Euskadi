{
 "cells": [
  {
   "cell_type": "markdown",
   "metadata": {},
   "source": [
    "# **Flask**\n",
    "\n",
    "Flask est un framework de développement web en Python parmi d'autres, le plus connu d'entre eux étant Django.\n",
    "\n",
    "En alliant le langage de programmation Python et un système de templates très riche, on peut créer assez facilement une application. Forcément, plus l'application que vous rêvez de réaliser sera compliquée et plein de fonctionnalités, plus le temps qu'il vous faudra pour la coder sera long. \n",
    "\n",
    "Mais avec Flask, on peut déjà rapidement obtenir des résultats, sans trop se perdre.\n",
    "\n",
    "Attention toutefois, Flask ne fait pas tout : si vous voulez aboutir à quelque chose de sérieux en web-app avec Python, il faudra passer par Django. Alors pourquoi pas attaquer avec Django ? Ce framework est assez lourd à apprendre tandis que Flask ressemble beaucoup à ce qu'on a utilisé jusqu'à maintenant. Libre à vous devous pencher sur Django plus tard !"
   ]
  },
  {
   "cell_type": "markdown",
   "metadata": {},
   "source": [
    "1. [Comment ça marche ?](#intro)<br>\n",
    "2. [Une 1ère page internet avec Flask](#page1)<br>\n",
    "    2.1. [Le code](#code)<br>\n",
    "    2.2. [Explication du code pas à pas](#detail)<br>\n",
    "    2.2. [Exercice 1](#exo1)<br>\n",
    "3. [Une 2ème page internet avec Flask sans notebook](#page2)<br>\n",
    "4. [Une 3ème page internet avec un peu de style](#page3)<br>\n",
    "    4.1. [Le script hello_world2.py](#hello_world2)<br>\n",
    "    4.2. [Le template home.html](#home)<br>\n",
    "    4.3. [La feuille de styles main.css](#maincss)<br>\n",
    "    4.4. [Exercice 2](#exo2)<br>\n",
    "5. [La navigation entre pages](#navigation)<br>\n",
    "    5.1. [Le script app_2_pages.py](#app_2_pages)<br>\n",
    "    5.2. [La page home.html](#home2)<br>\n",
    "    5.3. [La page page_suivante.html](#next)<br>\n",
    "    5.4. [La feuille de styles main.css un peu modifée](#maincss2)<br>\n",
    "6. [Envoyer des informations](#infos)<br>\n",
    "    6.1. [La page home.html](#home3)<br>\n",
    "    6.2. [Le script login.py](#login)<br>\n",
    "    6.3. [La page bienvenue.html](#bienvenue)<br>"
   ]
  },
  {
   "cell_type": "markdown",
   "metadata": {},
   "source": [
    "<a id='intro'></a>"
   ]
  },
  {
   "cell_type": "markdown",
   "metadata": {},
   "source": [
    "## **1. Comment ça marche ?**\n",
    "\n",
    "Pour commencer, disons qu'un site web n'est qu'un simple programme exécuté sur un ordinateur.\n",
    "\n",
    "Quand vous vous rendez sur un site web, vous êtes ce qu'on appellera un client, et l'ordinateur où est exécuté ce site web est appelé le serveur. Pour le moment, nous utiliserons le même ordinateur pour faire les deux : le site web sera donc situé sur votre propre machine.\n",
    "\n",
    "Celal signifie que votre application ne sera disponible que pour vous, \"en local\". \n",
    "\n",
    "Pour communiquer avec le site internet, le client envoie des requêtes au serveur, en gros en lui donnant une page (une url) le client demande au serveur une chose bien précise. Pour faire simple, tout se joue dans l'adresse mise dans le navigateur.\n",
    "\n",
    "L'adresse https://github.com/louiskuhn/IA-P2-Euskadi comporte plusieurs éléments : \n",
    "- http ou https : c'est le protocole on ne va pas en parler ici\n",
    "- github.com : c'est le nom du domaine\n",
    "- louiskuhn/PromoIA : c'est le chemin de la page web demandée, aussi appelé \"route\"\n",
    "\n",
    "Pour nous, comme tout va se passer sur notre ordinateur, on n'a pas de nom de domaine : celui-ci est remplacé par \"localhost\" par convention.  \n",
    "Pour accéder à la page appelée “/unepage”: http://localhost/unepage  \n",
    "Petite subtilité, un serveur HTTP peut fonctionner sur différent ports. Par défaut, le serveur HTTP intégré à Flask fonctionne sur le port 5000, il faut donc le préciser dans l’adresse du navigateur : http://localhost:5000/unepage pour accéder à la page \"/unepage\" de notre application."
   ]
  },
  {
   "cell_type": "markdown",
   "metadata": {},
   "source": [
    "<a id='page1'></a>"
   ]
  },
  {
   "cell_type": "markdown",
   "metadata": {},
   "source": [
    "## **2. Une 1ère page internet avec Flask**"
   ]
  },
  {
   "cell_type": "markdown",
   "metadata": {},
   "source": [
    "<a id='code'></a>"
   ]
  },
  {
   "cell_type": "markdown",
   "metadata": {},
   "source": [
    "### **2.1. Le code**\n",
    "\n",
    "Exécutez le code ci-dessous et allez à la page http://localhost:5000/ (pour quitter, il faut interrompre le kernel en cliquant sur kernel > interrupt)"
   ]
  },
  {
   "cell_type": "code",
   "execution_count": 1,
   "metadata": {
    "collapsed": false,
    "jupyter": {
     "outputs_hidden": false
    }
   },
   "outputs": [
    {
     "name": "stdout",
     "output_type": "stream",
     "text": [
      " * Serving Flask app '__main__' (lazy loading)\n",
      " * Environment: production\n",
      "\u001b[31m   WARNING: This is a development server. Do not use it in a production deployment.\u001b[0m\n",
      "\u001b[2m   Use a production WSGI server instead.\u001b[0m\n",
      " * Debug mode: off\n"
     ]
    },
    {
     "name": "stderr",
     "output_type": "stream",
     "text": [
      " * Running on http://127.0.0.1:5000/ (Press CTRL+C to quit)\n",
      "127.0.0.1 - - [28/Dec/2021 12:10:51] \"GET / HTTP/1.1\" 200 -\n",
      "127.0.0.1 - - [28/Dec/2021 12:10:51] \"GET /favicon.ico HTTP/1.1\" 404 -\n"
     ]
    }
   ],
   "source": [
    "from flask import Flask\n",
    "app = Flask(__name__)\n",
    "\n",
    "@app.route(\"/\")\n",
    "def hello():\n",
    "    return \"Salut Monde!\"\n",
    "\n",
    "if __name__ == \"__main__\":\n",
    "    app.run()"
   ]
  },
  {
   "cell_type": "markdown",
   "metadata": {},
   "source": [
    "<a id='detail'></a>"
   ]
  },
  {
   "cell_type": "markdown",
   "metadata": {},
   "source": [
    "### **2.2. Explication du code pas à pas**"
   ]
  },
  {
   "cell_type": "markdown",
   "metadata": {},
   "source": [
    "Ce code commence par importer le module `Flask` "
   ]
  },
  {
   "cell_type": "raw",
   "metadata": {},
   "source": [
    "from flask import Flask"
   ]
  },
  {
   "cell_type": "markdown",
   "metadata": {},
   "source": [
    "On donne ensuite un nom à l'application ici ce sera app"
   ]
  },
  {
   "cell_type": "raw",
   "metadata": {},
   "source": [
    "app = Flask(__name__)"
   ]
  },
  {
   "cell_type": "markdown",
   "metadata": {},
   "source": [
    "Ensuite vient la partie cruciale : définir une page (ou route) avec flask  \n",
    "`@app.route` permet de préciser à quelle adresse ce qui suit va s'appliquer.  \n",
    "Ici comme on est sur la page d'accueil, on met juste (\"/\") "
   ]
  },
  {
   "cell_type": "raw",
   "metadata": {},
   "source": [
    "@app.route(\"/\")"
   ]
  },
  {
   "cell_type": "markdown",
   "metadata": {},
   "source": [
    "Ensuite vient la fonction `hello()` qui va s'éxécuter sur la page \"/\". On dit simplement que quand on arrive sur la page définie par la route juste au dessus, on va en même temps appeler la fonction `hello()`.  \n",
    "Ici ça va donc afficher \"Hello World!\" quand on arrive sur la page \"/\"."
   ]
  },
  {
   "cell_type": "raw",
   "metadata": {},
   "source": [
    "def hello():\n",
    "    return \"Hello World!\""
   ]
  },
  {
   "cell_type": "markdown",
   "metadata": {},
   "source": [
    "Cette dernière partie permet à l'application de s'exécuter lorsqu'on lance le script dans le terminal."
   ]
  },
  {
   "cell_type": "raw",
   "metadata": {},
   "source": [
    "if __name__ == \"__main__\":\n",
    "    app.run()"
   ]
  },
  {
   "cell_type": "markdown",
   "metadata": {},
   "source": [
    "<a id='exo1'></a>"
   ]
  },
  {
   "cell_type": "markdown",
   "metadata": {},
   "source": [
    "### **2.2 Exercice 1**\n",
    "Remplacez \"Hello World !\" par ce que vous voulez et affichez ce nouveau texte dans la page hébergée en local."
   ]
  },
  {
   "cell_type": "markdown",
   "metadata": {},
   "source": [
    "<a id='page2'></a>"
   ]
  },
  {
   "cell_type": "markdown",
   "metadata": {},
   "source": [
    "## **3. Flask sans notebook**\n",
    "\n",
    "On ne va plus utiliser le notebook qui ne permet pas de manipuler plusieurs fichiers (le CSS, les templates, etc...). On va donc repartir sur un éditeur de texte basique, ou VS Code ou Spyder, bref votre IDE préféré et la console. C'est la console qui permettra de lancer les .py et d'exécuter le script qui lancera l'application.\n",
    "\n",
    "**Lancer la première page :**\n",
    ">Prenez le code `hello_world.py`  \n",
    ">Ouvrir la console et taper \"python xxxxxxxx/hello_world.py\" (en remplacant les x par le chemin de votre fichier hello.py)  \n",
    ">Ouvrir une page du navigateur et aller à l'adresse  http://localhost:5000  \n",
    ">Vous devez obtenir une page avec le texte \"Hello World\"."
   ]
  },
  {
   "cell_type": "markdown",
   "metadata": {},
   "source": [
    "<a id='page3'></a>"
   ]
  },
  {
   "cell_type": "markdown",
   "metadata": {},
   "source": [
    "## **4. Une 2ème page internet avec un peu de style**\n",
    "\n",
    "On va ajouter un peu de style à cette page. Pour cela, il faut commencer par réaliser **une structure de dossiers que flask comprend**.\n",
    "\n",
    "L'idée est d'indiquer à Flask des templates de pages et des styles prédéfinis pour l'application.\n",
    "\n",
    "En ouvrant le dossier \"hello_color\" vous trouverez 3 éléments : \n",
    "- hello_world2.py\n",
    "- un dossier \"static\" qui contient la feuille de style main.css\n",
    "- un dossier \"templates\" qui contient une page home.html\n",
    "\n",
    "La structure du dossier et le nom des dossiers \"static\" et \"templates\" sont importants : Flask sait que c'est là qu'il doit aller chercher les éléments qui l'intéressent.\n",
    "\n",
    "Lancez l'application à partir de la console pour voir la différence."
   ]
  },
  {
   "cell_type": "markdown",
   "metadata": {},
   "source": [
    "<a id='hello_world2'></a>"
   ]
  },
  {
   "cell_type": "markdown",
   "metadata": {},
   "source": [
    "### **4.1. Le script hello_world2.py**"
   ]
  },
  {
   "cell_type": "code",
   "execution_count": null,
   "metadata": {},
   "outputs": [],
   "source": [
    "from flask import Flask, render_template\n",
    "app = Flask(__name__)\n",
    "\n",
    "@app.route(\"/\")\n",
    "def hello():\n",
    "    return render_template(\"home.html\",\n",
    "                           message = \"Hello Multicolor World! I hope you like this amazing and uselessly long rainbow sentence :)\")\n",
    "\n",
    "#if __name__ == \"__main__\":\n",
    "#    app.run()"
   ]
  },
  {
   "cell_type": "markdown",
   "metadata": {},
   "source": [
    "Par rapport au précédent script : introduction de la méthode `render_template` qui fait le lien entre le .py et la page html enregistrée dans le dossier \"templates\".  \n",
    "Petite particularité, ici, au lieu de renvoyer le texte directement, on demande d'injecter dans le template de la page home le message : _\"Hello Multicolor World! I hope you like this amazing and uselessly long rainbow sentence :)\"_"
   ]
  },
  {
   "cell_type": "markdown",
   "metadata": {},
   "source": [
    "<a id='home'></a>"
   ]
  },
  {
   "cell_type": "markdown",
   "metadata": {},
   "source": [
    "### **4.2. Le template home.html**"
   ]
  },
  {
   "cell_type": "raw",
   "metadata": {},
   "source": [
    "<!doctype html>\n",
    "<html>\n",
    "    <head>\n",
    "      <title>HomePage</title>\n",
    "      <link rel =\"stylesheet\" type=\"text/css\" href=\"{{ url_for('static', filename='main.css') }}\">\n",
    "    </head>\n",
    "    <body>\n",
    "      <h1 class=\"multicolor\"> {{ message }}</h1>\n",
    "    </body>\n",
    "</html>"
   ]
  },
  {
   "cell_type": "markdown",
   "metadata": {},
   "source": [
    "Dans ces lignes, il y a donc 2 éléments importants : \n",
    "- la définition du style avec le fichier main.css : le lien avec le css se fait avec la balise \"link\" dans laquelle on indique le chemin d'accès à la feuille de style\n",
    "- l'intégration de ce que python injecte dans la page grâce au caractère {{ }}"
   ]
  },
  {
   "cell_type": "markdown",
   "metadata": {},
   "source": [
    "<a id='maincss'></a>"
   ]
  },
  {
   "cell_type": "markdown",
   "metadata": {},
   "source": [
    "### **4.3. La feuille de styles main.css**"
   ]
  },
  {
   "cell_type": "raw",
   "metadata": {},
   "source": [
    ".multicolor {\n",
    "  background-image: linear-gradient(to left, violet, indigo, blue, green, yellow, orange, red);  \n",
    "  -webkit-background-clip: text;\n",
    "  -moz-background-clip: text; \n",
    "  background-clip: text;\n",
    "  color: transparent;\n",
    "  text-align: center;\n",
    "} "
   ]
  },
  {
   "cell_type": "markdown",
   "metadata": {},
   "source": [
    "On est allé un peu plus loin dans les styles en définissant une classe `multicolor` avec une astuce pour pouvoir écrire du texte de toutes les couleurs. Essayez de comprendre le principe de ces quelques lignes CSS (vous pouvez exécuter en enlevant certaines instructions pour y voir plus clair). "
   ]
  },
  {
   "cell_type": "markdown",
   "metadata": {},
   "source": [
    "<a id='exo2'></a>"
   ]
  },
  {
   "cell_type": "markdown",
   "metadata": {},
   "source": [
    "### **4.4 Exercice 2**\n",
    "Changez le texte de la variable message et les styles du texte. Vous pouvez aller faire un tour sur [cette bible des styles CSS](http://www.w3schools.com/cssref/)"
   ]
  },
  {
   "cell_type": "markdown",
   "metadata": {},
   "source": [
    "<a id='navigation'></a>"
   ]
  },
  {
   "cell_type": "markdown",
   "metadata": {},
   "source": [
    "## **5. La navigation entre pages**\n",
    "\n",
    "Pour l'instant, on a fait des pages simples, maintenant on va en faire deux et voir comment passer de l'une à l'autre.  \n",
    "Pour cela, allez dans le dossier 3_Plusieurs_pages.   \n",
    "Par rapport à l'exemple précédent, on a ajouté un template html 'page_suivante.html' et modifié légèrement le code .py ainsi que la page home.html"
   ]
  },
  {
   "cell_type": "markdown",
   "metadata": {},
   "source": [
    "<a id='app_2_pages'></a>"
   ]
  },
  {
   "cell_type": "markdown",
   "metadata": {},
   "source": [
    "### **5.1. Le script app_2_pages.py**"
   ]
  },
  {
   "cell_type": "code",
   "execution_count": null,
   "metadata": {},
   "outputs": [],
   "source": [
    "from flask import Flask, render_template\n",
    "app = Flask(__name__)\n",
    "\n",
    "@app.route(\"/\")\n",
    "def hello():\n",
    "    return render_template(\"home.html\", message_home = \"Bienvenue sur la page d'accueil !\")\n",
    "\n",
    "@app.route(\"/next\")\n",
    "def suite():\n",
    "    return render_template(\"page_suivante.html\")\n",
    "\n",
    "#if __name__ == \"__main__\":\n",
    "#    app.run()"
   ]
  },
  {
   "cell_type": "markdown",
   "metadata": {},
   "source": [
    "On a donc ajouté une route et une nouvelle fonction. La nouvelle route est celle d'une deuxième page à qui on applique le template html \"page_suivante\".\n",
    "Dans ce cas là, on n'injecte rien depuis python dans la page."
   ]
  },
  {
   "cell_type": "markdown",
   "metadata": {},
   "source": [
    "<a id='home2'></a>"
   ]
  },
  {
   "cell_type": "markdown",
   "metadata": {},
   "source": [
    "### **5.2. La page home.html**"
   ]
  },
  {
   "cell_type": "raw",
   "metadata": {},
   "source": [
    "<!doctype html>\n",
    "<html>\n",
    "    <head>\n",
    "      <title>HomePage</title>\n",
    "      <link rel =\"stylesheet\" type=\"text/css\" href=\"{{ url_for('static', filename='main.css') }}\">\n",
    "    </head>\n",
    "    <body>\n",
    "      <h1 class=\"multicolor\"> {{ message_home }}</h1>\n",
    "      <a href=\"{{ url_for('suite') }}\"> Cliquer sur ce lien pour aller à la page suivante </a>\n",
    "    </body>      \n",
    "</html>"
   ]
  },
  {
   "cell_type": "markdown",
   "metadata": {},
   "source": [
    "On a ajouté à la page d'accueil une ligne avec un lien pour accéder à la deuxième page.  \n",
    "Le href est une balise qui permet de mettre des liens et pour indiquer à flask à quelle page il doit se rendre en cliquant sur le lien il faut lui donner le nom de la __fonction__ définie pour la page (pas la route !)  \n",
    "Dans l'exemple on donne indique bien url_for('suite') et non pas url_for('next')"
   ]
  },
  {
   "cell_type": "markdown",
   "metadata": {},
   "source": [
    "<a id='next'></a>"
   ]
  },
  {
   "cell_type": "markdown",
   "metadata": {},
   "source": [
    "### **5.3. La page page_suivante.html**"
   ]
  },
  {
   "cell_type": "raw",
   "metadata": {},
   "source": [
    "<!doctype html>\n",
    "<html lang=\"en\">\n",
    "    <head>\n",
    "      <title>NextPage</title>\n",
    "      <link rel =\"stylesheet\" type=\"text/css\" href=\"{{ url_for('static', filename='main.css') }}\">\n",
    "    </head>\n",
    "    <body>\n",
    "      <h1> Vous êtes sur la 2eme page </h1>\n",
    "      <p class=\"multicolor\" >Vous pouvez cliquer <a href=\"{{ url_for('hello') }}\"> là-dessus </a> \n",
    "        pour retourner à la page d'accueil quand vous en aurez fini. Au passage, et c'est fait exprès, \n",
    "        vous constatez que le style \"centré multicolor\" a été appliqué non plus à une balise h1 mais \n",
    "        à une balise de paragraphe. <br>\n",
    "        De l'intérêt de l'attribut class pour définir des styles réutilisables par exemple.\n",
    "      </p>\n",
    "    </body>\n",
    "</html>"
   ]
  },
  {
   "cell_type": "markdown",
   "metadata": {},
   "source": [
    "Rien de spécial à signaler à part qu'on joue un peu avec les tyles, qu'il n'y pas d'élément entre {{}} et que le lien renvoie cette fois vers la page d'accueil."
   ]
  },
  {
   "cell_type": "markdown",
   "metadata": {},
   "source": [
    "<a id='maincss2'></a>"
   ]
  },
  {
   "cell_type": "markdown",
   "metadata": {},
   "source": [
    "### **5.4. La feuille de styles main.css un peu modifée**"
   ]
  },
  {
   "cell_type": "raw",
   "metadata": {},
   "source": [
    ".multicolor {\n",
    "  background-image: linear-gradient(to left, violet, indigo, blue, green, yellow, orange, red);  \n",
    "  -webkit-background-clip: text;\n",
    "  -moz-background-clip: text; \n",
    "  background-clip: text;\n",
    "  color: transparent;\n",
    "}\n",
    "\n",
    "h1 {\n",
    "  text-align: center;\n",
    "}\n",
    "\n",
    "body {\n",
    "  background-color: rgb(73, 72, 72);\n",
    "  color: white;\n",
    "}"
   ]
  },
  {
   "cell_type": "markdown",
   "metadata": {},
   "source": [
    "On ajouté un centrage du texte sur les balises h1 (vous verrez d'ailleurs la notion d'héritage au passage car sur la page home, la balise h1 est centrée et a aussi le style défini pour la classe \"multicolor\") et une couleur de fond et de texte pour la balise \"body\" donc pour l'ensemble des pages."
   ]
  },
  {
   "cell_type": "markdown",
   "metadata": {},
   "source": [
    "<a id='infos'></a>"
   ]
  },
  {
   "cell_type": "markdown",
   "metadata": {},
   "source": [
    "## **6. Envoyer des informations**"
   ]
  },
  {
   "cell_type": "markdown",
   "metadata": {},
   "source": [
    "Il s'agit dans cette partie de voir comment on peut remplir un formulaire (dans notre cas, renseigner son nom dans une box) puis d'utiliser cette information dans une autre page par exemple.  \n",
    "Dans le dossier \"4_Formulaire\", vous trouverez le script .py, les templates html et le style css."
   ]
  },
  {
   "cell_type": "markdown",
   "metadata": {},
   "source": [
    "<a id='home3'></a>"
   ]
  },
  {
   "cell_type": "markdown",
   "metadata": {},
   "source": [
    "### **6.1. La page home.html**"
   ]
  },
  {
   "cell_type": "raw",
   "metadata": {},
   "source": [
    "<!doctype html>\n",
    "<html>\n",
    "    <head>\n",
    "        <title>HomePage</title>\n",
    "        <link rel =\"stylesheet\" type=\"text/css\" href=\"{{ url_for('static', filename='main.css') }}\">\n",
    "    </head>\n",
    "\n",
    "    <body>\n",
    "        <h1>Veuillez entrer votre nom</h1>\n",
    "        <form action=\".\" method=\"POST\">\n",
    "            <input type=\"text\" name=\"username\">\n",
    "            <button type=\"submit\">OK</button>\n",
    "        </form>\n",
    "    </body>\n",
    "</html>"
   ]
  },
  {
   "cell_type": "markdown",
   "metadata": {},
   "source": [
    "Cette fois-ci on commence par regarder la page html dans laquelle on identifie de suite une nouvelle balise \"form\" :\n",
    "- on indique POST pour dire qu'on va s'en servir pour que l'utilisateur puisse fournir des informations\n",
    "- on précise aussi que ce que l'information donnée sera considérée comme une chaîne de caractères\n",
    "- pour l'utilisateur, on précise aussi qu'il y a un bouton \"OK\" pour envoyer le formulaire"
   ]
  },
  {
   "cell_type": "markdown",
   "metadata": {},
   "source": [
    "<a id='login'></a>"
   ]
  },
  {
   "cell_type": "markdown",
   "metadata": {},
   "source": [
    "### **6.2 Le script login.py**"
   ]
  },
  {
   "cell_type": "code",
   "execution_count": 1,
   "metadata": {},
   "outputs": [],
   "source": [
    "from flask import Flask, render_template, request\n",
    "\n",
    "app = Flask(__name__)\n",
    "\n",
    "@app.route('/')\n",
    "def home():\n",
    "    return render_template(\"home.html\")\n",
    "\n",
    "@app.route('/', methods=['POST'])\n",
    "def text_box():\n",
    "    text = request.form['username']\n",
    "    processed_text = text.upper()\n",
    "    return render_template(\"bienvenue.html\", message=processed_text)\n",
    "\n",
    "#if __name__ == '__main__':\n",
    "#    app.run()"
   ]
  },
  {
   "cell_type": "markdown",
   "metadata": {},
   "source": [
    "Pas grand chose de nouveau à part la fonction `text_box` donc on va se focaliser dessus.\n",
    "\n",
    "Qu'est-ce qu'on veut ?\n",
    "1. récupérer le message envoyé par l'utilisateur\n",
    "2. le lui afficher\n",
    "\n",
    "Pour récupérer les informations envoyées par l'utilisateur, on va l'objet `request` de la libraire `flask`.  \n",
    "Pour cela, il faut utiliser l'attribut \"form\" de l'objet \"request\", qui contient toutes les données du formulaire envoyé en POST.  \n",
    "L'attribut \"form\" est un dictionnaire qui associe la valeur à l'attribut \"name\" du champ du formulaire. En l'occurence, l'attribut name du champ texte vaut \"username\". Pour récupérer son contenu il faudra donc faire request.form['username'].  \n",
    "Ensuite il n'y a plus qu'à réutiliser ce qu'on a récupéré pour l'injecter dans une page de bienvenue."
   ]
  },
  {
   "cell_type": "markdown",
   "metadata": {},
   "source": [
    "<a id='bienvenue'></a>"
   ]
  },
  {
   "cell_type": "markdown",
   "metadata": {},
   "source": [
    "### **6.3. La page bienvenue.html**"
   ]
  },
  {
   "cell_type": "raw",
   "metadata": {},
   "source": [
    "<!doctype html>\n",
    "<html>\n",
    "    <head>\n",
    "      <title>HomePage</title>\n",
    "      <link rel =\"stylesheet\" type=\"text/css\" href=\"{{ url_for('static', filename='main.css') }}\">\n",
    "    </head>\n",
    "    <body>\n",
    "      <h1> Bienvenue {{ message }} </h1>\n",
    "      <a href=\"{{ url_for('home') }}\"> Retourner à la page d'accueil </a>\n",
    "    </body>\n",
    "</html>"
   ]
  },
  {
   "cell_type": "markdown",
   "metadata": {},
   "source": [
    "Rien de particulier à signaler si ce n'est que la valeur du paramètre \"message\" est fixée dans la fonction `text_box`et vaut le nom entré par le user à la page d'accueil. Soit exactement notre objectif sur cette partie !"
   ]
  }
 ],
 "metadata": {
  "anaconda-cloud": {},
  "kernelspec": {
   "display_name": "Python 3.7.6 64-bit",
   "language": "python",
   "name": "python37664bita52171538b9a4ca5b21bfc37812f360f"
  },
  "language_info": {
   "codemirror_mode": {
    "name": "ipython",
    "version": 3
   },
   "file_extension": ".py",
   "mimetype": "text/x-python",
   "name": "python",
   "nbconvert_exporter": "python",
   "pygments_lexer": "ipython3",
   "version": "3.8.12"
  }
 },
 "nbformat": 4,
 "nbformat_minor": 4
}
