{
 "cells": [
  {
   "cell_type": "markdown",
   "metadata": {
    "tags": []
   },
   "source": [
    "# Introduction aux expressions régulières \n",
    "\n",
    "\n",
    "## Premiers éléments\n",
    "\n",
    "Les expressions régulières (_regex_ pour _regular expressions_ en anglais) sont utilisées pour faire des opérations sur des données texte. Elles se présentent sous forme d'une chaîne de caractère et permettent de faire référence à des ensembles de chaînes de caractère. En analyse de données, on peut se servir de ces expressions régulières pour nettoyer des données texte : passer toutes les chaînes de caractères en minuscules, retirer la ponctuation, retirer les chiffres, repérer les chaînes de caractères entre guillemets, etc...   \n",
    "Les expressions régulières s'appuient en particulier sur des __caractères spéciaux__ qui permettent de décrire un ensemble de chaînes de caractère en peu de caractères :  \n",
    "\n",
    "- __\"^\"__ permet de caractériser le début de la chaîne de caractère. Ainsi \"^a\" correspond à n'importe quelle chaîne de caractères commençant par a.   \n",
    "- __\"\\\\$\"__ permet de caractériser la fin de la chaîne de caractère. Cette fois, l'ensemble recherché sera placé avant le caractère spécial. Ainsi \"ent\\\\$\" correspond aux chaînes de caractère terminant par \"ent\".  \n",
    "- Le __\".\"__ permet de spécifier que l'on accepte n'importe quel caractère à sa place. Ainsi \"a.c\" correspond à n'importe quelle chaîne de 3 caractères commençant par a et terminant par c.  \n",
    "- Le __\"|\"__ s'interprète, comme en Python ou en R, comme le signe logique \"ou\". Ainsi \"a|b\" correspondrait à n'importe quel caractère qui serait a ou b.  \n",
    "- L'astérisque __\"\\*\"__ permet de préciser que le caractère précédent peut être rencontré 0 ou plusieurs fois. Il est souvent utilisé avec le point : en effet \" .\\*\" correspondrait à n'importe quelle chaîne de caractère.  \n",
    "- Le point d'interrogation __\"?\"__ fait correspondre le caracère qui le précède 0 ou 1 fois, mais pas plus. En d'autres termes, il rend ce terme optionnel. Ainsi \"123?\" correspond à \"12\" ou à \"123\" mais pas à \"1233\".   \n",
    "- Le __\"\\+\"__ fait correspondre le caracère précédent s'il est rencontré au moins une fois, contrairement au __\"\\*\"__. Donc \"ab+\" correspond à \"ab\" et \"abbbb\" mais pas à \"a\".  \n",
    "- En regex, tout ce qui se trouve entre crochets __[...]__ cherche à faire correspondre une chaîne de caractères avec chacun des caractères entre crochets. À noter que [a-z] va faire correspondre toutes les lettres minuscules de a à z, [0-9] tous les chiffres de 0 à 9, etc...    \n",
    "- Les parenthèse __(...)__ sont utilisées pour rassembler une sous expression. Ainsi ^(abc) va chercher une chaîne de caractère commençant par abc.   \n",
    "- Les acolades __{...}__ permettent de spécifier le nombre de fois que le caractère précédent doit apparaître (un seul numéro) ou un intervalle de fois acceptable (deux numéros). par exemple a{4}b va correspondre à aaaab et a{1, 4}b acceptera également ab, aab, aaab et aaaab.  \n",
    "- Les __\"\\\\\"__ sont utilisés pour échapper les caractères spéciaux. par exemple si on cherche des accents circonflexes et non des débuts de chaînes de caractères, on fera appel à \"\\\\^\".  "
   ]
  },
  {
   "cell_type": "markdown",
   "metadata": {},
   "source": [
    "D'autres caractères spéciaux qui peuvent être utiles :  \n",
    "- __\\b__ pour word boundaries = débuts de mots  \n",
    "- __\\w__ pour tous les caractères hors ponctuation espace etc... __\\W__ pour le reste. \n",
    "- __\\d__ pour tous les chiffres, __\\D__ pour tous les caractères hors chiffres.  "
   ]
  },
  {
   "cell_type": "markdown",
   "metadata": {},
   "source": [
    "## Exercice 1\n",
    "\n",
    "Le site [regexplained](http://www.regexplained.co.uk/) permet aux utilisateurs de rentrer une expression régulière et affiche schématiquement la chaîne de caractère recherchée. On peut ainsi décoder une expression régulière pas comprise ou vérifier que l'expression régulière codée fait bien ce que l'on veut. Vous avez également sur [regex101](https://regex101.com/) la possibilité de tester votre regex sur une chaîne de caractère de test.  \n",
    "Essayez le site : cherchez les expression régulières correspondant :  \n",
    "- aux chaînes de caractères commençant par \"A\".  \n",
    "- aux chaînes de caractères commençant par \"Il était une fois\".  \n",
    "- aux chaînes de caractères terminant par \"Fin.\".  \n",
    "- aux chaînes de caractère dont le deuxième élément est un \"b\".  \n",
    "- aux chaînes de caractères contenant \"chien\" ou \"chat\".  \n",
    "- aux chaînes de caractères commençant par \"a\" et contenant \"bcd\".  \n",
    "- aux chaînes de caractères terminant par \"and\" ou \"ands\".  \n",
    "- à tous les signes \\?, \\!, \\:, \\;, \\/, \\^.  "
   ]
  },
  {
   "cell_type": "markdown",
   "metadata": {},
   "source": [
    "## Regex sur python  \n",
    "\n",
    "Python contient des fonctions natives permettant de faire des traitements sur des chaînes de caractère en utilisant les expression régulières. On va cependant utiliser une librairie populaire dans l'analyse de textes sur python : __re__ (pour regular expressions). La [documentation de cette librairie](https://docs.python.org/3/library/re.html) reprend beaucoup de ce qu'on a vu sur les expressions régulières, et plus encore."
   ]
  },
  {
   "cell_type": "markdown",
   "metadata": {},
   "source": [
    "Une des fonctions que l'on utilisera le plus est `re.sub`, qui permet de remplacer un motif de caractères par un autre. la fonction s'utilise ainsi :  \n",
    "`re.sub(motif_1, motif_2, var_carac)`, avec :  \n",
    "- `motif_1` le modèle de chaîne de caractères, exprimé en expression régulière, que l'on veut remplacer.  \n",
    "- `motif_2` le modèle de chaîne de caractères, exprimé en expression régulière, que l'on utilise pour remplacer `motif_1`.  \n",
    "- `var_carac` la chaîne de caractères dans laquelle on veut opérer ce remplacement.  "
   ]
  },
  {
   "cell_type": "markdown",
   "metadata": {},
   "source": [
    "__Exemple__ : On crée la chaîne de caractères suivante : "
   ]
  },
  {
   "cell_type": "code",
   "execution_count": null,
   "metadata": {},
   "outputs": [],
   "source": [
    "import re"
   ]
  },
  {
   "cell_type": "code",
   "execution_count": null,
   "metadata": {},
   "outputs": [],
   "source": [
    "ma_chaine = \"\"\"Et comme je disais, les expressions régulières sont à la fois passionantes et trop peu utilisées; \n",
    "saviez-vous que 93% de la population française ignorait son existence?\"\"\"\n",
    "ma_chaine"
   ]
  },
  {
   "cell_type": "markdown",
   "metadata": {},
   "source": [
    "## Exercice 1  \n",
    "\n",
    "En utilisant `re.sub`, créez une nouvelle chaîne dans laquelle vous aurez : \n",
    "- remplacé le E majuscule par un e  \n",
    "- remplacé les \"é\" et les \"è\" par des \"e\".  \n",
    "- remplacé le \"à\" par un \"a\".  \n",
    "- supprimé les chiffres et les \\%.  \n",
    "- supprimé la ponctuation.  \n",
    "- supprimé le caractère spécial \\\\n.  "
   ]
  },
  {
   "cell_type": "code",
   "execution_count": null,
   "metadata": {},
   "outputs": [],
   "source": []
  },
  {
   "cell_type": "markdown",
   "metadata": {},
   "source": [
    "- Ensuite mettre tout en majuscules et tout en minuscule avec les méthodes adaptées"
   ]
  },
  {
   "cell_type": "code",
   "execution_count": null,
   "metadata": {},
   "outputs": [],
   "source": []
  },
  {
   "cell_type": "markdown",
   "metadata": {},
   "source": [
    "- Supprimer tous les signes de ponctuation en utilisant notamment le module `string` pour accéder à la liste de signes de ponctuation."
   ]
  },
  {
   "cell_type": "code",
   "execution_count": null,
   "metadata": {},
   "outputs": [],
   "source": []
  },
  {
   "cell_type": "markdown",
   "metadata": {},
   "source": [
    "__D'autres fonctions de la librairie `re` : `findall`, `match`, `search`__    \n",
    "La fonction `findall(motif, chaine_carac)` renvoie toutes les chaînes de caractères de chaine_carac correspondant au motif : "
   ]
  },
  {
   "cell_type": "code",
   "execution_count": null,
   "metadata": {},
   "outputs": [],
   "source": [
    "re.findall(\"ex....\", ma_chaine.lower())"
   ]
  },
  {
   "cell_type": "markdown",
   "metadata": {},
   "source": [
    "Les fonctions `match(motif, chaine_carac)` et `search(motif, chaine_carac)` cherche les correspondances de `motif` dans `chaine_carac` : les 2 ne cherchent que la première occurence en partant depuis le début, mais `match` ne cherche également que dans la première ligne. Les deux fonctions renvoient un objet `Match` : "
   ]
  },
  {
   "cell_type": "code",
   "execution_count": null,
   "metadata": {},
   "outputs": [],
   "source": [
    "test_match = re.match(\"et\", ma_chaine.lower())\n",
    "test_match"
   ]
  },
  {
   "cell_type": "code",
   "execution_count": null,
   "metadata": {},
   "outputs": [],
   "source": [
    "test_search = re.search(\"et\", ma_chaine.lower())\n",
    "test_search"
   ]
  },
  {
   "cell_type": "code",
   "execution_count": null,
   "metadata": {},
   "outputs": [],
   "source": [
    "print(re.match(\"93\", ma_chaine.lower()))"
   ]
  },
  {
   "cell_type": "code",
   "execution_count": null,
   "metadata": {},
   "outputs": [],
   "source": [
    "print(re.search(\"93\", ma_chaine.lower()))"
   ]
  },
  {
   "cell_type": "code",
   "execution_count": null,
   "metadata": {},
   "outputs": [],
   "source": [
    "re.search(\"93\", ma_chaine.lower()).span()"
   ]
  },
  {
   "cell_type": "markdown",
   "metadata": {},
   "source": [
    "Enfin, la fonction `re.split` permet de découper une chaîne par une séquence, comme ici découper chaque chaîne séparée par un espace (donc chaque mot a priori) : "
   ]
  },
  {
   "cell_type": "code",
   "execution_count": null,
   "metadata": {},
   "outputs": [],
   "source": [
    "re.split(\" \", ma_chaine)"
   ]
  },
  {
   "cell_type": "markdown",
   "metadata": {},
   "source": [
    "## Exercice 2\n",
    "\n",
    "Cherchez tous les mots de la chaîne de caractères `ma_chaine` qui commencent par \"e\"."
   ]
  },
  {
   "cell_type": "code",
   "execution_count": null,
   "metadata": {},
   "outputs": [],
   "source": []
  },
  {
   "cell_type": "markdown",
   "metadata": {},
   "source": [
    "## Exercice 3\n",
    "\n",
    "Construisez une fonction qui prend en entrée une chaîne de caractère et qui sort un message d'erreur si celle-ci n'est pas une adresse gmail, hotmail, ou yahoo.  "
   ]
  },
  {
   "cell_type": "code",
   "execution_count": null,
   "metadata": {},
   "outputs": [],
   "source": []
  }
 ],
 "metadata": {
  "kernelspec": {
   "display_name": "Python 3 (ipykernel)",
   "language": "python",
   "name": "python3"
  },
  "language_info": {
   "codemirror_mode": {
    "name": "ipython",
    "version": 3
   },
   "file_extension": ".py",
   "mimetype": "text/x-python",
   "name": "python",
   "nbconvert_exporter": "python",
   "pygments_lexer": "ipython3",
   "version": "3.11.7"
  }
 },
 "nbformat": 4,
 "nbformat_minor": 4
}
