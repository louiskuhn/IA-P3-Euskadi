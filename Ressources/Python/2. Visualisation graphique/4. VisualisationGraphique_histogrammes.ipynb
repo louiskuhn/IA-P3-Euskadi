{
 "cells": [
  {
   "cell_type": "markdown",
   "metadata": {},
   "source": [
    "# Visualisation graphique : histogrammes et boîtes à moustaches"
   ]
  },
  {
   "cell_type": "code",
   "execution_count": 1,
   "metadata": {},
   "outputs": [
    {
     "data": {
      "text/html": [
       "<div>\n",
       "<style scoped>\n",
       "    .dataframe tbody tr th:only-of-type {\n",
       "        vertical-align: middle;\n",
       "    }\n",
       "\n",
       "    .dataframe tbody tr th {\n",
       "        vertical-align: top;\n",
       "    }\n",
       "\n",
       "    .dataframe thead th {\n",
       "        text-align: right;\n",
       "    }\n",
       "</style>\n",
       "<table border=\"1\" class=\"dataframe\">\n",
       "  <thead>\n",
       "    <tr style=\"text-align: right;\">\n",
       "      <th></th>\n",
       "      <th>FILM</th>\n",
       "      <th>RT_user_norm</th>\n",
       "      <th>Metacritic_user_nom</th>\n",
       "      <th>IMDB_norm</th>\n",
       "      <th>Fandango_Ratingvalue</th>\n",
       "    </tr>\n",
       "  </thead>\n",
       "  <tbody>\n",
       "    <tr>\n",
       "      <th>0</th>\n",
       "      <td>Avengers: Age of Ultron (2015)</td>\n",
       "      <td>4.30</td>\n",
       "      <td>3.55</td>\n",
       "      <td>3.90</td>\n",
       "      <td>4.5</td>\n",
       "    </tr>\n",
       "    <tr>\n",
       "      <th>1</th>\n",
       "      <td>Cinderella (2015)</td>\n",
       "      <td>4.00</td>\n",
       "      <td>3.75</td>\n",
       "      <td>3.55</td>\n",
       "      <td>4.5</td>\n",
       "    </tr>\n",
       "    <tr>\n",
       "      <th>2</th>\n",
       "      <td>Ant-Man (2015)</td>\n",
       "      <td>4.50</td>\n",
       "      <td>4.05</td>\n",
       "      <td>3.90</td>\n",
       "      <td>4.5</td>\n",
       "    </tr>\n",
       "    <tr>\n",
       "      <th>3</th>\n",
       "      <td>Do You Believe? (2015)</td>\n",
       "      <td>4.20</td>\n",
       "      <td>2.35</td>\n",
       "      <td>2.70</td>\n",
       "      <td>4.5</td>\n",
       "    </tr>\n",
       "    <tr>\n",
       "      <th>4</th>\n",
       "      <td>Hot Tub Time Machine 2 (2015)</td>\n",
       "      <td>1.40</td>\n",
       "      <td>1.70</td>\n",
       "      <td>2.55</td>\n",
       "      <td>3.0</td>\n",
       "    </tr>\n",
       "    <tr>\n",
       "      <th>5</th>\n",
       "      <td>The Water Diviner (2015)</td>\n",
       "      <td>3.10</td>\n",
       "      <td>3.40</td>\n",
       "      <td>3.60</td>\n",
       "      <td>4.0</td>\n",
       "    </tr>\n",
       "    <tr>\n",
       "      <th>6</th>\n",
       "      <td>Irrational Man (2015)</td>\n",
       "      <td>2.65</td>\n",
       "      <td>3.80</td>\n",
       "      <td>3.45</td>\n",
       "      <td>3.5</td>\n",
       "    </tr>\n",
       "    <tr>\n",
       "      <th>7</th>\n",
       "      <td>Top Five (2014)</td>\n",
       "      <td>3.20</td>\n",
       "      <td>3.40</td>\n",
       "      <td>3.25</td>\n",
       "      <td>3.5</td>\n",
       "    </tr>\n",
       "    <tr>\n",
       "      <th>8</th>\n",
       "      <td>Shaun the Sheep Movie (2015)</td>\n",
       "      <td>4.10</td>\n",
       "      <td>4.40</td>\n",
       "      <td>3.70</td>\n",
       "      <td>4.0</td>\n",
       "    </tr>\n",
       "    <tr>\n",
       "      <th>9</th>\n",
       "      <td>Love &amp; Mercy (2015)</td>\n",
       "      <td>4.35</td>\n",
       "      <td>4.25</td>\n",
       "      <td>3.90</td>\n",
       "      <td>4.0</td>\n",
       "    </tr>\n",
       "  </tbody>\n",
       "</table>\n",
       "</div>"
      ],
      "text/plain": [
       "                             FILM  RT_user_norm  Metacritic_user_nom  \\\n",
       "0  Avengers: Age of Ultron (2015)          4.30                 3.55   \n",
       "1               Cinderella (2015)          4.00                 3.75   \n",
       "2                  Ant-Man (2015)          4.50                 4.05   \n",
       "3          Do You Believe? (2015)          4.20                 2.35   \n",
       "4   Hot Tub Time Machine 2 (2015)          1.40                 1.70   \n",
       "5        The Water Diviner (2015)          3.10                 3.40   \n",
       "6           Irrational Man (2015)          2.65                 3.80   \n",
       "7                 Top Five (2014)          3.20                 3.40   \n",
       "8    Shaun the Sheep Movie (2015)          4.10                 4.40   \n",
       "9             Love & Mercy (2015)          4.35                 4.25   \n",
       "\n",
       "   IMDB_norm  Fandango_Ratingvalue  \n",
       "0       3.90                   4.5  \n",
       "1       3.55                   4.5  \n",
       "2       3.90                   4.5  \n",
       "3       2.70                   4.5  \n",
       "4       2.55                   3.0  \n",
       "5       3.60                   4.0  \n",
       "6       3.45                   3.5  \n",
       "7       3.25                   3.5  \n",
       "8       3.70                   4.0  \n",
       "9       3.90                   4.0  "
      ]
     },
     "execution_count": 1,
     "metadata": {},
     "output_type": "execute_result"
    }
   ],
   "source": [
    "import pandas as pd\n",
    "\n",
    "data = pd.read_csv('Data/fandango-scores.csv')\n",
    "cols = ['FILM', 'RT_user_norm', 'Metacritic_user_nom', 'IMDB_norm', 'Fandango_Ratingvalue']\n",
    "\n",
    "data_norm = data[cols]\n",
    "\n",
    "data_norm.head(10)"
   ]
  },
  {
   "cell_type": "markdown",
   "metadata": {},
   "source": [
    "## Distribution de fréquences"
   ]
  },
  {
   "cell_type": "code",
   "execution_count": 4,
   "metadata": {},
   "outputs": [
    {
     "data": {
      "text/plain": [
       "4.1    16\n",
       "3.9    12\n",
       "4.2    12\n",
       "4.3    11\n",
       "3.4     9\n",
       "3.5     9\n",
       "4.5     9\n",
       "3.7     9\n",
       "3.6     8\n",
       "4.4     7\n",
       "4.0     7\n",
       "3.2     5\n",
       "3.8     5\n",
       "2.9     5\n",
       "3.0     4\n",
       "3.3     4\n",
       "4.6     4\n",
       "4.8     3\n",
       "3.1     3\n",
       "2.8     2\n",
       "2.7     2\n",
       "Name: Fandango_Ratingvalue, dtype: int64"
      ]
     },
     "execution_count": 4,
     "metadata": {},
     "output_type": "execute_result"
    }
   ],
   "source": [
    "# Series.values_counts() pour calculer la fréquence de chaque valeurs d'une Series\n",
    "data_norm[\"Fandango_Ratingvalue\"].value_counts()"
   ]
  },
  {
   "cell_type": "code",
   "execution_count": 6,
   "metadata": {},
   "outputs": [
    {
     "data": {
      "text/plain": [
       "2.7     2\n",
       "2.8     2\n",
       "2.9     5\n",
       "3.0     4\n",
       "3.1     3\n",
       "3.2     5\n",
       "3.3     4\n",
       "3.4     9\n",
       "3.5     9\n",
       "3.6     8\n",
       "3.7     9\n",
       "3.8     5\n",
       "3.9    12\n",
       "4.0     7\n",
       "4.1    16\n",
       "4.2    12\n",
       "4.3    11\n",
       "4.4     7\n",
       "4.5     9\n",
       "4.6     4\n",
       "4.8     3\n",
       "Name: Fandango_Ratingvalue, dtype: int64"
      ]
     },
     "execution_count": 6,
     "metadata": {},
     "output_type": "execute_result"
    }
   ],
   "source": [
    "# Series.sort_index()\n",
    "freq = data_norm[\"Fandango_Ratingvalue\"].value_counts()\n",
    "freq.sort_index()"
   ]
  },
  {
   "cell_type": "markdown",
   "metadata": {},
   "source": [
    "__À vous !__\n",
    ">- Utiliser la méthode value_counts() pour retourner le décompte des fréquences de la colonne 'IMDB_norm'. Trier l'objet Series résultant par son index et assigner le résultat à la variable imdb_distribution.\n",
    ">- Afficher le résultat."
   ]
  },
  {
   "cell_type": "code",
   "execution_count": null,
   "metadata": {},
   "outputs": [],
   "source": []
  },
  {
   "cell_type": "code",
   "execution_count": null,
   "metadata": {},
   "outputs": [],
   "source": [
    "### WARNING: un problème est qu'il y a beaucoup de valeurs uniques (21 pour pour fandango, 41 pour imdb)\n",
    "# un second problème est qu'il y a une grande différence entre fandango et imdb \n",
    "# => une solution est donc de créer une échelle commune pour comparer :\n",
    "# on va faire des classes (par exemple les notes entre 1 et 2, entre 2 et 3, entre 3 et 4 etc)\n",
    "# on pourra compter le nombre d'éléments dans chaque classe et les comparer\n",
    "# c'est le principe d'un histogramme"
   ]
  },
  {
   "cell_type": "markdown",
   "metadata": {},
   "source": [
    "## Les histogrammes avec Matplotlib"
   ]
  },
  {
   "cell_type": "code",
   "execution_count": 28,
   "metadata": {
    "scrolled": true
   },
   "outputs": [
    {
     "data": {
      "image/png": "[encoded data removed]",
      "text/plain": [
       "<Figure size 432x288 with 1 Axes>"
      ]
     },
     "metadata": {
      "needs_background": "light"
     },
     "output_type": "display_data"
    }
   ],
   "source": [
    "fig, ax = plt.subplots()\n",
    "ax.hist(data_norm[\"Fandango_Ratingvalue\"], range=(0,5), bins=20)\n",
    "plt.show()"
   ]
  },
  {
   "cell_type": "code",
   "execution_count": null,
   "metadata": {},
   "outputs": [],
   "source": [
    "#Axes.hist(values,range=(a,b), bins) \n",
    "### Regarder l'aide pour voir le fonctionnement par défaut !"
   ]
  },
  {
   "cell_type": "markdown",
   "metadata": {},
   "source": [
    "- Créer un sous-graphique et assigner les objets Figure à la variable fig et Axes à la variable ax.\n",
    "- Générer un histogramme des valeurs de la colonne 'Fandango_Ratingvalue' en utilisant un range de 0 à 5.  \n",
    "- Changez le paramètre `bins`. A quoi sert-il?\n",
    "- Utiliser plt.show() pour afficher le graphique."
   ]
  },
  {
   "cell_type": "markdown",
   "metadata": {},
   "source": [
    "## Comparaison d'histogrammes"
   ]
  },
  {
   "cell_type": "markdown",
   "metadata": {},
   "source": [
    "__À vous !__\n",
    ">Tracer un graphique avec 4 sous-graphiques:\n",
    ">- Pour le sous-graphique associé à la variable ax1:\n",
    ">>- Générer un histogramme des valeurs de la colonne 'Fandango_Ratingvalue' en utilisant 20 classes (bins) et un intervalle de 0 à 5\n",
    ">- Pour le sous-graphique associé à la variable ax2:\n",
    ">>- Générer un histogramme des valeurs de la colonne 'RT_user_norm' en utilisant 20 classes (bins) et un intervalle de 0 à 5\n",
    ">- Pour le sous-graphique associé à la variable ax3:\n",
    ">>- Générer un histogramme des valeurs de la colonne 'Metacritic_user_nom' en utilisant 20 classes (bins) et un intervalle de 0 à 5\n",
    ">- Pour le sous-graphique associé à la variable ax4:\n",
    ">>- Générer un histogramme des valeurs de la colonne 'IMDB_norm' en utilisant 20 classes (bins) et un intervalle de 0 à 5\n",
    ">- Pour tous les graphiques définir l'intervalle sur l'axe y de 0 à 50 en utilisant Axes.set_ylim() et choisir un titre.\n",
    ">- Afficher les histogrammes."
   ]
  },
  {
   "cell_type": "code",
   "execution_count": null,
   "metadata": {},
   "outputs": [],
   "source": []
  },
  {
   "cell_type": "markdown",
   "metadata": {},
   "source": [
    "## Plusieurs diagrammes à boîtes"
   ]
  },
  {
   "cell_type": "code",
   "execution_count": 40,
   "metadata": {},
   "outputs": [
    {
     "data": {
      "image/png": "[encoded data removed]",
      "text/plain": [
       "<Figure size 432x288 with 1 Axes>"
      ]
     },
     "metadata": {
      "needs_background": "light"
     },
     "output_type": "display_data"
    }
   ],
   "source": [
    "# méthode .boxplot()\n",
    "import matplotlib.pyplot as plt\n",
    "\n",
    "fig, ax = plt.subplots()\n",
    "\n",
    "ax.boxplot(data_norm['RT_user_norm'])\n",
    "ax.set_xticklabels(['Rotten tomatoes'])\n",
    "ax.set_ylim(0,5)\n",
    "plt.show()"
   ]
  },
  {
   "cell_type": "markdown",
   "metadata": {},
   "source": [
    "__À vous !__\n",
    ">- Créer un sous-graphique et assigner les objets Figure à la variable fig et Axes à la variable ax.\n",
    ">- Générer un diagramme à boîtes pour chaque colonne de mes_colonnes = ['RT_user_norm', 'Metacritic_user_nom', 'IMDB_norm', 'Fandango_Ratingvalue']. _Indice : pas besoin de boucles! La méthode boxplot interprète d'elle-même chaque colonne d'un dataframe comme autant de boxplots à créer._\n",
    ">- Définir pour chaque diagramme un intitulé correspondant au nom de la colonne num_cols et faire une rotation de cet intitulé.\n",
    ">- Définir l'intervalle de l'axe y de 0 à 5.\n",
    ">- Afficher le graphique."
   ]
  },
  {
   "cell_type": "code",
   "execution_count": null,
   "metadata": {},
   "outputs": [],
   "source": []
  }
 ],
 "metadata": {
  "kernelspec": {
   "display_name": "Python 3 (ipykernel)",
   "language": "python",
   "name": "python3"
  },
  "language_info": {
   "codemirror_mode": {
    "name": "ipython",
    "version": 3
   },
   "file_extension": ".py",
   "mimetype": "text/x-python",
   "name": "python",
   "nbconvert_exporter": "python",
   "pygments_lexer": "ipython3",
   "version": "3.9.18"
  }
 },
 "nbformat": 4,
 "nbformat_minor": 4
}
