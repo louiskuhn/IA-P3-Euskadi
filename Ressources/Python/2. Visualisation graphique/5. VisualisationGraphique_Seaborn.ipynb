{
 "cells": [
  {
   "cell_type": "markdown",
   "metadata": {},
   "source": [
    "# Visualisation graphique : Seaborn"
   ]
  },
  {
   "cell_type": "markdown",
   "metadata": {},
   "source": [
    "## Un 1er jeu de données"
   ]
  },
  {
   "cell_type": "code",
   "execution_count": 5,
   "metadata": {},
   "outputs": [
    {
     "data": {
      "text/html": [
       "<div>\n",
       "<style scoped>\n",
       "    .dataframe tbody tr th:only-of-type {\n",
       "        vertical-align: middle;\n",
       "    }\n",
       "\n",
       "    .dataframe tbody tr th {\n",
       "        vertical-align: top;\n",
       "    }\n",
       "\n",
       "    .dataframe thead th {\n",
       "        text-align: right;\n",
       "    }\n",
       "</style>\n",
       "<table border=\"1\" class=\"dataframe\">\n",
       "  <thead>\n",
       "    <tr style=\"text-align: right;\">\n",
       "      <th></th>\n",
       "      <th>Country Name</th>\n",
       "      <th>Country Code</th>\n",
       "      <th>Birth rate</th>\n",
       "      <th>Internet users</th>\n",
       "      <th>Income Group</th>\n",
       "    </tr>\n",
       "  </thead>\n",
       "  <tbody>\n",
       "    <tr>\n",
       "      <th>0</th>\n",
       "      <td>Aruba</td>\n",
       "      <td>ABW</td>\n",
       "      <td>10.244</td>\n",
       "      <td>78.9</td>\n",
       "      <td>High income</td>\n",
       "    </tr>\n",
       "    <tr>\n",
       "      <th>1</th>\n",
       "      <td>Afghanistan</td>\n",
       "      <td>AFG</td>\n",
       "      <td>35.253</td>\n",
       "      <td>5.9</td>\n",
       "      <td>Low income</td>\n",
       "    </tr>\n",
       "    <tr>\n",
       "      <th>2</th>\n",
       "      <td>Angola</td>\n",
       "      <td>AGO</td>\n",
       "      <td>45.985</td>\n",
       "      <td>19.1</td>\n",
       "      <td>Upper middle income</td>\n",
       "    </tr>\n",
       "    <tr>\n",
       "      <th>3</th>\n",
       "      <td>Albania</td>\n",
       "      <td>ALB</td>\n",
       "      <td>12.877</td>\n",
       "      <td>57.2</td>\n",
       "      <td>Upper middle income</td>\n",
       "    </tr>\n",
       "    <tr>\n",
       "      <th>4</th>\n",
       "      <td>United Arab Emirates</td>\n",
       "      <td>ARE</td>\n",
       "      <td>11.044</td>\n",
       "      <td>88.0</td>\n",
       "      <td>High income</td>\n",
       "    </tr>\n",
       "  </tbody>\n",
       "</table>\n",
       "</div>"
      ],
      "text/plain": [
       "           Country Name Country Code  Birth rate  Internet users  \\\n",
       "0                 Aruba          ABW      10.244            78.9   \n",
       "1           Afghanistan          AFG      35.253             5.9   \n",
       "2                Angola          AGO      45.985            19.1   \n",
       "3               Albania          ALB      12.877            57.2   \n",
       "4  United Arab Emirates          ARE      11.044            88.0   \n",
       "\n",
       "          Income Group  \n",
       "0          High income  \n",
       "1           Low income  \n",
       "2  Upper middle income  \n",
       "3  Upper middle income  \n",
       "4          High income  "
      ]
     },
     "execution_count": 5,
     "metadata": {},
     "output_type": "execute_result"
    }
   ],
   "source": [
    "import pandas as pd\n",
    "data = pd.read_csv('Data/Demographic-Data.csv')\n",
    "data.head()"
   ]
  },
  {
   "cell_type": "markdown",
   "metadata": {},
   "source": [
    "## Introduction à Seaborn"
   ]
  },
  {
   "cell_type": "markdown",
   "metadata": {},
   "source": [
    "*Seaborn* est un package très puissant construit à partir de matplotlib et qui permet de visualiser les informations de différentes manières.\n",
    "\n",
    "Pour voir les différentes visualisations possibles, regrader la page https://seaborn.pydata.org/examples/index.html ou chercher *galerie Seaborn* sur internet"
   ]
  },
  {
   "cell_type": "code",
   "execution_count": 6,
   "metadata": {},
   "outputs": [],
   "source": [
    "import matplotlib.pyplot as plt\n",
    "import seaborn as sns"
   ]
  },
  {
   "cell_type": "markdown",
   "metadata": {},
   "source": [
    "## Histogrammes = distribution"
   ]
  },
  {
   "cell_type": "code",
   "execution_count": 7,
   "metadata": {
    "scrolled": true
   },
   "outputs": [
    {
     "name": "stderr",
     "output_type": "stream",
     "text": [
      "/home/elka/anaconda3/lib/python3.8/site-packages/seaborn/distributions.py:2619: FutureWarning: `distplot` is a deprecated function and will be removed in a future version. Please adapt your code to use either `displot` (a figure-level function with similar flexibility) or `histplot` (an axes-level function for histograms).\n",
      "  warnings.warn(msg, FutureWarning)\n"
     ]
    },
    {
     "data": {
      "image/png": "[encoded data removed]",
      "text/plain": [
       "<Figure size 432x288 with 1 Axes>"
      ]
     },
     "metadata": {
      "needs_background": "light"
     },
     "output_type": "display_data"
    }
   ],
   "source": [
    "vis1 = sns.distplot(data['Internet users'], kde=False)"
   ]
  },
  {
   "cell_type": "code",
   "execution_count": 8,
   "metadata": {
    "scrolled": true
   },
   "outputs": [
    {
     "data": {
      "image/png": "[encoded data removed]",
      "text/plain": [
       "<Figure size 432x288 with 1 Axes>"
      ]
     },
     "metadata": {
      "needs_background": "light"
     },
     "output_type": "display_data"
    }
   ],
   "source": [
    "vis1 = sns.distplot(data['Internet users'], bins=10)"
   ]
  },
  {
   "cell_type": "markdown",
   "metadata": {},
   "source": [
    "## Boxplots"
   ]
  },
  {
   "cell_type": "code",
   "execution_count": null,
   "metadata": {},
   "outputs": [],
   "source": [
    "vis2 = sns.boxplot(data=data, x='Income Group', y='Birth rate')"
   ]
  },
  {
   "cell_type": "markdown",
   "metadata": {},
   "source": [
    "## Stripplot"
   ]
  },
  {
   "cell_type": "code",
   "execution_count": null,
   "metadata": {},
   "outputs": [],
   "source": [
    "# équivalent du scatter plot pour des variables catégories\n",
    "vis3 = sns.stripplot(x='Income Group', y='Internet users', data = data)"
   ]
  },
  {
   "cell_type": "markdown",
   "metadata": {},
   "source": [
    "## Combinaison de graphes dans une figure"
   ]
  },
  {
   "cell_type": "code",
   "execution_count": null,
   "metadata": {},
   "outputs": [],
   "source": [
    "fig, axes = plt.subplots(1,2,figsize=(14,6))\n",
    "fig.subplots_adjust(wspace = 0.3)\n",
    "\n",
    "ax1 = sns.histplot(data['Internet users'], bins=10, ax = axes[0])\n",
    "ax1.set_title('Histogramme')\n",
    "\n",
    "ax2 = sns.boxplot(data=data, x='Income Group', y='Birth rate', ax = axes[1])\n",
    "ax2.set_title('Boîte')\n",
    "\n",
    "plt.xticks(rotation=70)\n",
    "plt.show()"
   ]
  },
  {
   "cell_type": "markdown",
   "metadata": {},
   "source": [
    "## Modèles linéaires"
   ]
  },
  {
   "cell_type": "code",
   "execution_count": null,
   "metadata": {},
   "outputs": [],
   "source": [
    "vis3 = sns.lmplot(data=data, x='Internet users', y='Birth rate')"
   ]
  },
  {
   "cell_type": "code",
   "execution_count": null,
   "metadata": {},
   "outputs": [],
   "source": [
    "vis3 = sns.lmplot(data=data, x='Internet users', y='Birth rate',fit_reg=False)"
   ]
  },
  {
   "cell_type": "code",
   "execution_count": null,
   "metadata": {},
   "outputs": [],
   "source": [
    "vis3 = sns.lmplot(data=data, x='Internet users', y='Birth rate', fit_reg = False, hue='Income Group')"
   ]
  },
  {
   "cell_type": "code",
   "execution_count": null,
   "metadata": {},
   "outputs": [],
   "source": [
    "vis3 = sns.lmplot(data=data, x='Internet users', y='Birth rate', fit_reg = False, hue='Income Group', height = 8)"
   ]
  },
  {
   "cell_type": "code",
   "execution_count": null,
   "metadata": {},
   "outputs": [],
   "source": [
    "# on peut ajouter des options d'affichage de matplotlib, il faut utiliser les dictionnaires {scatter,lines}_kws\n",
    "# (kws = key words arguments)\n",
    "vis3 = sns.lmplot(data=data, x='Internet users', y='Birth rate',\n",
    "                  fit_reg = False,\n",
    "                  hue='Income Group',\n",
    "                  height = 10,\n",
    "                  scatter_kws ={'s':100})"
   ]
  },
  {
   "cell_type": "markdown",
   "metadata": {},
   "source": [
    "---\n",
    "---"
   ]
  },
  {
   "cell_type": "markdown",
   "metadata": {},
   "source": [
    "## Nouveau jeu de données"
   ]
  },
  {
   "cell_type": "code",
   "execution_count": null,
   "metadata": {},
   "outputs": [],
   "source": [
    "movies = pd.read_csv('Data/Movie-Ratings.csv')\n",
    "movies.head()"
   ]
  },
  {
   "cell_type": "code",
   "execution_count": null,
   "metadata": {},
   "outputs": [],
   "source": [
    "# on peut changer le nom de colonnes par des noms plus faciles à utiliser\n",
    "# (moins longs, sans espaces ni caractère spéciaux)\n",
    "movies.columns = ['Film', 'Genre', 'CriticRatings', 'AudienceRatings', 'Budget', 'Year']\n",
    "movies.head()"
   ]
  },
  {
   "cell_type": "code",
   "execution_count": null,
   "metadata": {},
   "outputs": [],
   "source": [
    "movies.info()"
   ]
  },
  {
   "cell_type": "code",
   "execution_count": null,
   "metadata": {},
   "outputs": [],
   "source": [
    "movies.describe()"
   ]
  },
  {
   "cell_type": "markdown",
   "metadata": {},
   "source": [
    "### Type de données Category"
   ]
  },
  {
   "cell_type": "code",
   "execution_count": null,
   "metadata": {},
   "outputs": [],
   "source": [
    "movies.Genre = movies.Genre.astype('category')\n",
    "movies.Year = movies.Year.astype('category')"
   ]
  },
  {
   "cell_type": "code",
   "execution_count": null,
   "metadata": {},
   "outputs": [],
   "source": [
    "movies.info()"
   ]
  },
  {
   "cell_type": "code",
   "execution_count": null,
   "metadata": {},
   "outputs": [],
   "source": [
    "movies.Genre.cat.categories"
   ]
  },
  {
   "cell_type": "code",
   "execution_count": null,
   "metadata": {},
   "outputs": [],
   "source": [
    "movies.Year.cat.categories"
   ]
  },
  {
   "cell_type": "code",
   "execution_count": null,
   "metadata": {},
   "outputs": [],
   "source": [
    "movies.Genre.describe()"
   ]
  },
  {
   "cell_type": "code",
   "execution_count": null,
   "metadata": {},
   "outputs": [],
   "source": [
    "movies.describe()"
   ]
  },
  {
   "cell_type": "markdown",
   "metadata": {},
   "source": [
    "---\n",
    "---"
   ]
  },
  {
   "cell_type": "markdown",
   "metadata": {},
   "source": [
    "## JointPlots"
   ]
  },
  {
   "cell_type": "code",
   "execution_count": null,
   "metadata": {},
   "outputs": [],
   "source": [
    "vis4 = sns.jointplot(data = movies, x = 'CriticRatings', y = 'AudienceRatings')"
   ]
  },
  {
   "cell_type": "code",
   "execution_count": null,
   "metadata": {},
   "outputs": [],
   "source": [
    "vis4 = sns.jointplot(data = movies, x = 'CriticRatings', y = 'AudienceRatings', kind = 'hex')"
   ]
  },
  {
   "cell_type": "code",
   "execution_count": null,
   "metadata": {},
   "outputs": [],
   "source": [
    "vis4 = sns.jointplot(data = movies, x = 'CriticRatings', y = 'AudienceRatings', kind = 'reg')"
   ]
  },
  {
   "cell_type": "code",
   "execution_count": null,
   "metadata": {},
   "outputs": [],
   "source": [
    "vis4 = sns.jointplot(data = movies, x = 'CriticRatings', y = 'AudienceRatings', kind = 'kde')"
   ]
  },
  {
   "cell_type": "markdown",
   "metadata": {},
   "source": [
    "## Histogrammes empilés"
   ]
  },
  {
   "cell_type": "markdown",
   "metadata": {},
   "source": [
    "Les histogrammes empilés (*stacked histograms*) consistent à empiler chaque colonne l'une sur l'autre."
   ]
  },
  {
   "cell_type": "code",
   "execution_count": null,
   "metadata": {},
   "outputs": [],
   "source": [
    "# on peut superposer des histogrammes, mais ce n'est pas exactement ce qu'on veut...\n",
    "plt.hist(movies[movies.Genre=='Action'].Budget, bins=12)\n",
    "plt.hist(movies[movies.Genre=='Drama'].Budget, bins=12)\n",
    "plt.hist(movies[movies.Genre=='Thriller'].Budget, bins=12)\n",
    "plt.show()"
   ]
  },
  {
   "cell_type": "code",
   "execution_count": null,
   "metadata": {},
   "outputs": [],
   "source": [
    "# on peut mettre côte à côte sur un même graphique des histogrammes, mais ce n'est toujours pas ce qu'on veut...\n",
    "plt.hist([movies[movies.Genre=='Action'].Budget,\n",
    "          movies[movies.Genre=='Drama'].Budget,\n",
    "          movies[movies.Genre=='Thriller'].Budget],\n",
    "         bins=12)\n",
    "plt.show()"
   ]
  },
  {
   "cell_type": "code",
   "execution_count": null,
   "metadata": {},
   "outputs": [],
   "source": [
    "movies\n",
    "movies[['Film','Genre']]\n",
    "movies.Film"
   ]
  },
  {
   "cell_type": "code",
   "execution_count": null,
   "metadata": {},
   "outputs": [],
   "source": [
    "# une solution : l'option stacked\n",
    "plt.hist([movies[movies.Genre=='Action'].Budget,\n",
    "          movies[movies.Genre=='Drama'].Budget,\n",
    "          movies[movies.Genre=='Thriller'].Budget],\n",
    "         bins=15,\n",
    "        stacked = True)\n",
    "plt.show()"
   ]
  },
  {
   "cell_type": "markdown",
   "metadata": {},
   "source": [
    "### Petit exercice  "
   ]
  },
  {
   "cell_type": "markdown",
   "metadata": {},
   "source": [
    "Construire un histogramme empilé avec tous les genres présents dans le jeu de données."
   ]
  },
  {
   "cell_type": "code",
   "execution_count": null,
   "metadata": {},
   "outputs": [],
   "source": [
    "l=list()\n",
    "labels=list()\n",
    "\n",
    "for genre in movies.Genre.cat.categories:\n",
    "    l.append(movies[movies.Genre==genre].Budget)\n",
    "    labels.append(genre)\n",
    "\n",
    "plt.hist(l, stacked = True, bins=15, label=labels)\n",
    "plt.legend()\n",
    "plt.show()"
   ]
  },
  {
   "cell_type": "markdown",
   "metadata": {},
   "source": [
    "## Kernel Density Estimates (KDE) plot"
   ]
  },
  {
   "cell_type": "code",
   "execution_count": null,
   "metadata": {},
   "outputs": [],
   "source": [
    "vis5 = sns.kdeplot(movies.CriticRatings, movies.AudienceRatings)"
   ]
  },
  {
   "cell_type": "code",
   "execution_count": null,
   "metadata": {},
   "outputs": [],
   "source": [
    "vis5 = sns.kdeplot(movies.CriticRatings, movies.AudienceRatings, shade = True)"
   ]
  },
  {
   "cell_type": "code",
   "execution_count": null,
   "metadata": {},
   "outputs": [],
   "source": [
    "vis5 = sns.kdeplot(movies.CriticRatings, movies.AudienceRatings,\n",
    "                   shade = True, shade_lowest=False, cmap='Reds')"
   ]
  },
  {
   "cell_type": "code",
   "execution_count": null,
   "metadata": {},
   "outputs": [],
   "source": [
    "vis5 = sns.kdeplot(movies.CriticRatings, movies.AudienceRatings,\n",
    "                   cmap='Reds')\n",
    "vis5b = sns.kdeplot(movies.CriticRatings, movies.AudienceRatings,\n",
    "                   shade = True, shade_lowest=False, cmap='Reds')"
   ]
  },
  {
   "cell_type": "markdown",
   "metadata": {},
   "source": [
    "## Diagrammes en violon"
   ]
  },
  {
   "cell_type": "code",
   "execution_count": null,
   "metadata": {},
   "outputs": [],
   "source": [
    "vis6 = sns.violinplot(data=movies, x='Genre', y='CriticRatings')"
   ]
  },
  {
   "cell_type": "code",
   "execution_count": null,
   "metadata": {},
   "outputs": [],
   "source": [
    "fig, axes = plt.subplots(1,2,figsize=(14,6))\n",
    "fig.subplots_adjust(wspace = 0.3)\n",
    "ax1 = sns.violinplot(data=movies, x='Genre', y='CriticRatings', ax = axes[0])\n",
    "ax2 = sns.boxplot(data=movies, x='Genre', y='CriticRatings', ax = axes[1])\n",
    "plt.show()"
   ]
  },
  {
   "cell_type": "markdown",
   "metadata": {},
   "source": [
    "### Exercice"
   ]
  },
  {
   "cell_type": "markdown",
   "metadata": {},
   "source": [
    "- Filtrer les données uniquement pour le genre Drame\n",
    "- Afficher une figure avec les 2 graphiques (violon et boîte à moustaches) pour les notes des critiques en fonction des années\n",
    "- Comparer les deux types de graphiques pour voir leur intérêt"
   ]
  },
  {
   "cell_type": "markdown",
   "metadata": {},
   "source": [
    "## Facet Grid"
   ]
  },
  {
   "cell_type": "code",
   "execution_count": null,
   "metadata": {
    "scrolled": true
   },
   "outputs": [],
   "source": [
    "g = sns.FacetGrid(movies, row='Genre', col='Year', hue='Genre')\n",
    "kws = {'s':50, 'linewidth':0.5, 'edgecolor':'black'}\n",
    "#kws = dict(s=50, linewidth=0.5, edgecolor='black')          \n",
    "g = g.map(plt.scatter, 'CriticRatings', 'AudienceRatings', **kws)"
   ]
  },
  {
   "cell_type": "code",
   "execution_count": null,
   "metadata": {
    "scrolled": true
   },
   "outputs": [],
   "source": [
    "# on peut généraliser à tous les types de graphiques\n",
    "g = sns.FacetGrid(movies, row='Genre', col='Year', hue='Genre')\n",
    "kws = dict(bins=12)\n",
    "g = g.map(plt.hist, 'CriticRatings', **kws)"
   ]
  },
  {
   "cell_type": "code",
   "execution_count": null,
   "metadata": {},
   "outputs": [],
   "source": [
    "# on peut ajouter les diagonales par exemple et fixer les échelles des axes\n",
    "g = sns.FacetGrid(movies, row='Genre', col='Year', hue='Genre')\n",
    "\n",
    "kws = {'s':50, 'linewidth':0.5, 'edgecolor':'black'} #kws = dict(s=50, linewidth=0.5, edgecolor=black')\n",
    "\n",
    "g = g.map(plt.scatter, 'CriticRatings', 'AudienceRatings', **kws)\n",
    "\n",
    "g.set(xlim=(0,100), ylim=(0,100))\n",
    "\n",
    "for ax in g.axes.flat:\n",
    "    ax.plot((0,100),(0,100), c='gray', ls='--')\n",
    "    \n",
    "g.add_legend()"
   ]
  },
  {
   "cell_type": "markdown",
   "metadata": {},
   "source": [
    "## Une belle figure : un dashboard (tableau de bord)"
   ]
  },
  {
   "cell_type": "code",
   "execution_count": null,
   "metadata": {},
   "outputs": [],
   "source": [
    "sns.set_style('white') #pour changer le fond, essayer avec 'darkgrid' par exemple pour voir la différence\n",
    "\n",
    "f,axes = plt.subplots(2,2,figsize =(15,15))\n",
    "\n",
    "# Axes 1\n",
    "k1 = sns.kdeplot(movies.Budget, movies.AudienceRatings, ax = axes[0,0])\n",
    "\n",
    "# Axes 2\n",
    "k2 = sns.kdeplot(movies.Budget, movies.CriticRatings, ax = axes[0,1])\n",
    "\n",
    "# Axes 3\n",
    "v = sns.violinplot(data = movies, x ='Year', y='CriticRatings', ax = axes[1,0])\n",
    "\n",
    "# Axes 4\n",
    "k3 = sns.kdeplot(movies.CriticRatings, movies.AudienceRatings, cmap='Reds', ax= axes[1,1])\n",
    "k3 = sns.kdeplot(movies.CriticRatings, movies.AudienceRatings,\n",
    "                   shade = True, shade_lowest=False, cmap='Reds', ax= axes[1,1])\n",
    "\n",
    "k1.set(xlim=(-20,160))\n",
    "k2.set(xlim=(-20,160))\n",
    "plt.show()"
   ]
  },
  {
   "cell_type": "code",
   "execution_count": null,
   "metadata": {
    "scrolled": true,
    "tags": []
   },
   "outputs": [],
   "source": [
    "sns.set_style('darkgrid', {'axes.facecolor' : 'black'})\n",
    "\n",
    "f,axes = plt.subplots(2,2,figsize =(15,15))\n",
    "\n",
    "# Axes 1\n",
    "k1 = sns.kdeplot(movies.Budget, movies.AudienceRatings, cmap='cool', ax = axes[0,0])\n",
    "k1b = sns.kdeplot(movies.Budget, movies.AudienceRatings, \n",
    "                 shade = True, shade_lowest=False, cmap='inferno', ax = axes[0,0])\n",
    "\n",
    "# Axes 2\n",
    "k2 = sns.kdeplot(movies.Budget, movies.CriticRatings, cmap='Blues', ax = axes[0,1])\n",
    "k2b = sns.kdeplot(movies.Budget, movies.CriticRatings, \n",
    "                 shade = True, shade_lowest=False, cmap='Greens', ax = axes[0,1])\n",
    "\n",
    "# Axes 3\n",
    "v = sns.violinplot(data = movies, x ='Year', y='CriticRatings', ax = axes[1,0],\n",
    "                  palette = 'YlOrRd')\n",
    "\n",
    "# Axes 4\n",
    "k3 = sns.kdeplot(movies.CriticRatings, movies.AudienceRatings, cmap='gist_gray_r', ax= axes[1,1])\n",
    "k3b = sns.kdeplot(movies.CriticRatings, movies.AudienceRatings,\n",
    "                   shade = True, shade_lowest=False, cmap='Blues', ax= axes[1,1])\n",
    "\n",
    "k1.set(xlim=(-20,160))\n",
    "k2.set(xlim=(-20,160))\n",
    "plt.show()"
   ]
  },
  {
   "cell_type": "markdown",
   "metadata": {},
   "source": [
    "### Exercice"
   ]
  },
  {
   "cell_type": "markdown",
   "metadata": {},
   "source": [
    "Créer votre propre dashboard avec 6 graphiques différents à partir des tous les exemples vus dans ce notebook."
   ]
  },
  {
   "cell_type": "code",
   "execution_count": null,
   "metadata": {},
   "outputs": [],
   "source": []
  }
 ],
 "metadata": {
  "kernelspec": {
   "display_name": "Python 3",
   "language": "python",
   "name": "python3"
  },
  "language_info": {
   "codemirror_mode": {
    "name": "ipython",
    "version": 3
   },
   "file_extension": ".py",
   "mimetype": "text/x-python",
   "name": "python",
   "nbconvert_exporter": "python",
   "pygments_lexer": "ipython3",
   "version": "3.8.12"
  }
 },
 "nbformat": 4,
 "nbformat_minor": 4
}
