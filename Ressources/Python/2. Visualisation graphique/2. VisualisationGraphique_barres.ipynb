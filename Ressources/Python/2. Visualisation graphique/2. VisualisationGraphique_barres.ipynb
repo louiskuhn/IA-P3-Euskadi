{
 "cells": [
  {
   "cell_type": "markdown",
   "metadata": {},
   "source": [
    "# Visualisation graphique : diagrammes en barres"
   ]
  },
  {
   "cell_type": "markdown",
   "metadata": {},
   "source": [
    "- Lire 'fandango-scores.csv' dans un dataframe\n",
    "- Sélectionner les colonnes suivantes et les assigner à un nouveau dataframe :'FILM', 'RT_user_norm', 'Metacritic_user_nom', 'IMDB_norm', 'Fandango_Ratingvalue' et 'Fandango_Stars'"
   ]
  },
  {
   "cell_type": "code",
   "execution_count": 3,
   "metadata": {},
   "outputs": [
    {
     "data": {
      "text/html": [
       "<div>\n",
       "<style scoped>\n",
       "    .dataframe tbody tr th:only-of-type {\n",
       "        vertical-align: middle;\n",
       "    }\n",
       "\n",
       "    .dataframe tbody tr th {\n",
       "        vertical-align: top;\n",
       "    }\n",
       "\n",
       "    .dataframe thead th {\n",
       "        text-align: right;\n",
       "    }\n",
       "</style>\n",
       "<table border=\"1\" class=\"dataframe\">\n",
       "  <thead>\n",
       "    <tr style=\"text-align: right;\">\n",
       "      <th></th>\n",
       "      <th>FILM</th>\n",
       "      <th>RT_user_norm</th>\n",
       "      <th>Metacritic_user_nom</th>\n",
       "      <th>IMDB_norm</th>\n",
       "      <th>Fandango_Ratingvalue</th>\n",
       "      <th>Fandango_Stars</th>\n",
       "    </tr>\n",
       "  </thead>\n",
       "  <tbody>\n",
       "    <tr>\n",
       "      <th>0</th>\n",
       "      <td>Avengers: Age of Ultron (2015)</td>\n",
       "      <td>4.3</td>\n",
       "      <td>3.55</td>\n",
       "      <td>3.90</td>\n",
       "      <td>4.5</td>\n",
       "      <td>5.0</td>\n",
       "    </tr>\n",
       "    <tr>\n",
       "      <th>1</th>\n",
       "      <td>Cinderella (2015)</td>\n",
       "      <td>4.0</td>\n",
       "      <td>3.75</td>\n",
       "      <td>3.55</td>\n",
       "      <td>4.5</td>\n",
       "      <td>5.0</td>\n",
       "    </tr>\n",
       "    <tr>\n",
       "      <th>2</th>\n",
       "      <td>Ant-Man (2015)</td>\n",
       "      <td>4.5</td>\n",
       "      <td>4.05</td>\n",
       "      <td>3.90</td>\n",
       "      <td>4.5</td>\n",
       "      <td>5.0</td>\n",
       "    </tr>\n",
       "    <tr>\n",
       "      <th>3</th>\n",
       "      <td>Do You Believe? (2015)</td>\n",
       "      <td>4.2</td>\n",
       "      <td>2.35</td>\n",
       "      <td>2.70</td>\n",
       "      <td>4.5</td>\n",
       "      <td>5.0</td>\n",
       "    </tr>\n",
       "    <tr>\n",
       "      <th>4</th>\n",
       "      <td>Hot Tub Time Machine 2 (2015)</td>\n",
       "      <td>1.4</td>\n",
       "      <td>1.70</td>\n",
       "      <td>2.55</td>\n",
       "      <td>3.0</td>\n",
       "      <td>3.5</td>\n",
       "    </tr>\n",
       "  </tbody>\n",
       "</table>\n",
       "</div>"
      ],
      "text/plain": [
       "                             FILM  RT_user_norm  Metacritic_user_nom  \\\n",
       "0  Avengers: Age of Ultron (2015)           4.3                 3.55   \n",
       "1               Cinderella (2015)           4.0                 3.75   \n",
       "2                  Ant-Man (2015)           4.5                 4.05   \n",
       "3          Do You Believe? (2015)           4.2                 2.35   \n",
       "4   Hot Tub Time Machine 2 (2015)           1.4                 1.70   \n",
       "\n",
       "   IMDB_norm  Fandango_Ratingvalue  Fandango_Stars  \n",
       "0       3.90                   4.5             5.0  \n",
       "1       3.55                   4.5             5.0  \n",
       "2       3.90                   4.5             5.0  \n",
       "3       2.70                   4.5             5.0  \n",
       "4       2.55                   3.0             3.5  "
      ]
     },
     "execution_count": 3,
     "metadata": {},
     "output_type": "execute_result"
    }
   ],
   "source": [
    "import pandas as pd\n",
    "data = pd.read_csv(\"Data/fandango-scores.csv\")\n",
    "data_norm = data[['FILM','RT_user_norm','Metacritic_user_nom','IMDB_norm','Fandango_Ratingvalue','Fandango_Stars']]\n",
    "data_norm.head()"
   ]
  },
  {
   "cell_type": "markdown",
   "metadata": {},
   "source": [
    "## Diagrammes en barre"
   ]
  },
  {
   "cell_type": "code",
   "execution_count": 4,
   "metadata": {},
   "outputs": [],
   "source": [
    "import matplotlib.pyplot as plt"
   ]
  },
  {
   "cell_type": "code",
   "execution_count": 5,
   "metadata": {},
   "outputs": [],
   "source": [
    "# pour les diagrammes en barres .bar()\n",
    "# Axes.bar(left,height)\n",
    "# left = positions des barres = coordonnée X de toutes les barres -> ici [1,2,3,4,5]\n",
    "# height = la hauteur de chaque barre"
   ]
  },
  {
   "cell_type": "code",
   "execution_count": 19,
   "metadata": {},
   "outputs": [
    {
     "data": {
      "text/plain": [
       "array([1, 2, 3, 4, 5])"
      ]
     },
     "execution_count": 19,
     "metadata": {},
     "output_type": "execute_result"
    }
   ],
   "source": [
    "from numpy import arange\n",
    "bar_positions=arange(5)+1\n",
    "bar_positions"
   ]
  },
  {
   "cell_type": "code",
   "execution_count": 7,
   "metadata": {},
   "outputs": [
    {
     "data": {
      "text/plain": [
       "array([4.3, 3.55, 3.9, 4.5, 5.0], dtype=object)"
      ]
     },
     "execution_count": 7,
     "metadata": {},
     "output_type": "execute_result"
    }
   ],
   "source": [
    "#hauteur des barres : on prend les notes du premier film de notre dataset\n",
    "bar_height = data_norm.iloc[0,1:].values\n",
    "bar_height"
   ]
  },
  {
   "cell_type": "code",
   "execution_count": 11,
   "metadata": {},
   "outputs": [
    {
     "data": {
      "text/plain": [
       "Index(['RT_user_norm', 'Metacritic_user_nom', 'IMDB_norm',\n",
       "       'Fandango_Ratingvalue', 'Fandango_Stars'],\n",
       "      dtype='object')"
      ]
     },
     "execution_count": 11,
     "metadata": {},
     "output_type": "execute_result"
    }
   ],
   "source": [
    "bar_positions_bis = data_norm.columns[1:]\n",
    "bar_positions_bis"
   ]
  },
  {
   "cell_type": "code",
   "execution_count": 29,
   "metadata": {},
   "outputs": [
    {
     "data": {
      "image/png": "[encoded data removed]",
      "text/plain": [
       "<Figure size 576x432 with 1 Axes>"
      ]
     },
     "metadata": {
      "needs_background": "light"
     },
     "output_type": "display_data"
    }
   ],
   "source": [
    "fig, ax = plt.subplots(figsize=(8,6))\n",
    "ax.bar(bar_positions_bis, bar_height, 0.6)\n",
    "ax.set_ylim(0,5.5)\n",
    "plt.title(\"Différentes notes pour le film Avengers\")\n",
    "plt.show()"
   ]
  },
  {
   "cell_type": "markdown",
   "metadata": {},
   "source": [
    "__À vous !__\n",
    ">- Créer un sous-graphique et assigner l'objet Figure à la variable fig et l'objet Axes à la variable ax.\n",
    ">- Générer un diagramme en barre avec:\n",
    ">>- left définie par bar_positions qui doit prendre les valeurs 1,2,3,4 et 5\n",
    ">>- height définie par bar_heights qui doit prendre les 5 colonnes qui nous intéressent\n",
    ">>- width fixé à 0.5\n",
    ">- Utiliser plt.show() pour afficher le diagramme en barre.\n"
   ]
  },
  {
   "cell_type": "markdown",
   "metadata": {},
   "source": [
    "## Aligner l'intitulé et le trait sur l'axe x"
   ]
  },
  {
   "cell_type": "code",
   "execution_count": 16,
   "metadata": {},
   "outputs": [],
   "source": [
    "# On utilise la méthode .set_xticks() des objets Axes pour positionner les marques (sur l'axe des anscisses\n",
    "# correspondant à chaque barre"
   ]
  },
  {
   "cell_type": "code",
   "execution_count": 17,
   "metadata": {},
   "outputs": [],
   "source": [
    "# set_xticklabels() pour définir les noms à afficher"
   ]
  },
  {
   "cell_type": "markdown",
   "metadata": {},
   "source": [
    "__À vous !__\n",
    ">- Créer un sous-graphique et assigner l'objet Figure à la variable fig et l'objet Axes à la variable ax.\n",
    ">- Générer un diagramme en barre avec comme précédemment\n",
    ">- Placer les 5 traits correspondant aux barres.\n",
    ">- Placer les intitulés de colonnes et faire une rotation pour plus de lisibilité\n",
    ">- Définir l'axe x par 'Sources de notation'.\n",
    ">- Définir l'axe y par 'Note moyenne'.\n",
    ">- Définir le titre par 'Moyenne des notes utilisateurs pour le film Avengers: Age of Ultron (2015'.\n",
    ">- Utiliser plt.show() pour afficher le diagramme."
   ]
  },
  {
   "cell_type": "markdown",
   "metadata": {},
   "source": [
    "## Diagramme en barres horizontales"
   ]
  },
  {
   "cell_type": "code",
   "execution_count": null,
   "metadata": {},
   "outputs": [],
   "source": [
    "# pour un diagramme en barres horizontales, on utilise la méthode Axes.barh(bottom,width)\n",
    "# bottom = position des barres sur l'axe vertical\n",
    "# width = largeur des barres"
   ]
  },
  {
   "cell_type": "markdown",
   "metadata": {},
   "source": [
    "__À vous !__\n",
    ">- Créer un sous-graphique et assigner l'objet Figure à la variable fig et l'objet Axes à la variable ax.\n",
    ">- Générer un diagramme en barres horizontales avec:\n",
    ">>- bottom pour les positions bar_positions\n",
    ">>- width pour la largeur des barres bar_widths\n",
    ">>- height fixé à 0.5\n",
    ">- Placer les 5 traits correspondants aux barres sur l'axe y.\n",
    ">- Placer les intitulés de num_cols.\n",
    ">- Définir l'axe y par 'Sources de notes'.\n",
    ">- Définir l'axe x par 'Note moyenne'.\n",
    ">- définir le titre par 'Note moyenne utilisateurs pour le film Avengers: Age of Ultron (2015)'.\n",
    ">- Utiliser plt.show() pour afficher le diagramme en barre."
   ]
  },
  {
   "cell_type": "code",
   "execution_count": 41,
   "metadata": {},
   "outputs": [
    {
     "data": {
      "text/plain": [
       "Index(['RT_user_norm', 'Metacritic_user_nom', 'IMDB_norm',\n",
       "       'Fandango_Ratingvalue', 'Fandango_Stars'],\n",
       "      dtype='object')"
      ]
     },
     "execution_count": 41,
     "metadata": {},
     "output_type": "execute_result"
    }
   ],
   "source": [
    "bar_heights = data_norm.iloc[2,1:].values"
   ]
  },
  {
   "cell_type": "code",
   "execution_count": 39,
   "metadata": {},
   "outputs": [
    {
     "data": {
      "image/png": "[encoded data removed]",
      "text/plain": [
       "<Figure size 432x288 with 1 Axes>"
      ]
     },
     "metadata": {
      "needs_background": "light"
     },
     "output_type": "display_data"
    }
   ],
   "source": [
    "bar_heights = data_norm.iloc[2,1:].values\n",
    "\n",
    "fig, ax = plt.subplots()\n",
    "ax.bar(bar_positions_bis,bar_heights,0.5)\n",
    "ax.set_xticks(bar_positions_bis)\n",
    "ax.set_xticklabels(labels=bar_positions_bis, rotation = 70)\n",
    "\n",
    "ax.set_xlabel('Sources de notation')\n",
    "ax.set_ylabel('Note moyenne')\n",
    "ax.set_title('Moyenne des notes utilisateurs pour le film Ant-Man (2015)')\n",
    "\n",
    "plt.show()"
   ]
  },
  {
   "cell_type": "markdown",
   "metadata": {},
   "source": [
    "## Exercice\n",
    "En important `recent-grads.csv`, représentez un diagramme en barres donnant le taux de chômage moyen par Major_category\n"
   ]
  },
  {
   "cell_type": "code",
   "execution_count": 43,
   "metadata": {},
   "outputs": [
    {
     "data": {
      "text/html": [
       "<div>\n",
       "<style scoped>\n",
       "    .dataframe tbody tr th:only-of-type {\n",
       "        vertical-align: middle;\n",
       "    }\n",
       "\n",
       "    .dataframe tbody tr th {\n",
       "        vertical-align: top;\n",
       "    }\n",
       "\n",
       "    .dataframe thead th {\n",
       "        text-align: right;\n",
       "    }\n",
       "</style>\n",
       "<table border=\"1\" class=\"dataframe\">\n",
       "  <thead>\n",
       "    <tr style=\"text-align: right;\">\n",
       "      <th></th>\n",
       "      <th>Rank</th>\n",
       "      <th>Major_code</th>\n",
       "      <th>Major</th>\n",
       "      <th>Major_category</th>\n",
       "      <th>Total</th>\n",
       "      <th>Sample_size</th>\n",
       "      <th>Men</th>\n",
       "      <th>Women</th>\n",
       "      <th>ShareWomen</th>\n",
       "      <th>Employed</th>\n",
       "      <th>...</th>\n",
       "      <th>Part_time</th>\n",
       "      <th>Full_time_year_round</th>\n",
       "      <th>Unemployed</th>\n",
       "      <th>Unemployment_rate</th>\n",
       "      <th>Median</th>\n",
       "      <th>P25th</th>\n",
       "      <th>P75th</th>\n",
       "      <th>College_jobs</th>\n",
       "      <th>Non_college_jobs</th>\n",
       "      <th>Low_wage_jobs</th>\n",
       "    </tr>\n",
       "  </thead>\n",
       "  <tbody>\n",
       "    <tr>\n",
       "      <th>0</th>\n",
       "      <td>1</td>\n",
       "      <td>2419.0</td>\n",
       "      <td>PETROLEUM ENGINEERING</td>\n",
       "      <td>Engineering</td>\n",
       "      <td>2339.0</td>\n",
       "      <td>36.0</td>\n",
       "      <td>2057.0</td>\n",
       "      <td>282.0</td>\n",
       "      <td>0.120564</td>\n",
       "      <td>1976.0</td>\n",
       "      <td>...</td>\n",
       "      <td>270.0</td>\n",
       "      <td>1207.0</td>\n",
       "      <td>37.0</td>\n",
       "      <td>0.018381</td>\n",
       "      <td>110000.0</td>\n",
       "      <td>95000.0</td>\n",
       "      <td>125000.0</td>\n",
       "      <td>1534.0</td>\n",
       "      <td>364.0</td>\n",
       "      <td>193.0</td>\n",
       "    </tr>\n",
       "    <tr>\n",
       "      <th>1</th>\n",
       "      <td>2</td>\n",
       "      <td>2416.0</td>\n",
       "      <td>MINING AND MINERAL ENGINEERING</td>\n",
       "      <td>Engineering</td>\n",
       "      <td>756.0</td>\n",
       "      <td>7.0</td>\n",
       "      <td>679.0</td>\n",
       "      <td>77.0</td>\n",
       "      <td>0.101852</td>\n",
       "      <td>640.0</td>\n",
       "      <td>...</td>\n",
       "      <td>170.0</td>\n",
       "      <td>388.0</td>\n",
       "      <td>85.0</td>\n",
       "      <td>0.117241</td>\n",
       "      <td>75000.0</td>\n",
       "      <td>55000.0</td>\n",
       "      <td>90000.0</td>\n",
       "      <td>350.0</td>\n",
       "      <td>257.0</td>\n",
       "      <td>50.0</td>\n",
       "    </tr>\n",
       "    <tr>\n",
       "      <th>2</th>\n",
       "      <td>3</td>\n",
       "      <td>2415.0</td>\n",
       "      <td>METALLURGICAL ENGINEERING</td>\n",
       "      <td>Engineering</td>\n",
       "      <td>856.0</td>\n",
       "      <td>3.0</td>\n",
       "      <td>725.0</td>\n",
       "      <td>131.0</td>\n",
       "      <td>0.153037</td>\n",
       "      <td>648.0</td>\n",
       "      <td>...</td>\n",
       "      <td>133.0</td>\n",
       "      <td>340.0</td>\n",
       "      <td>16.0</td>\n",
       "      <td>0.024096</td>\n",
       "      <td>73000.0</td>\n",
       "      <td>50000.0</td>\n",
       "      <td>105000.0</td>\n",
       "      <td>456.0</td>\n",
       "      <td>176.0</td>\n",
       "      <td>0.0</td>\n",
       "    </tr>\n",
       "    <tr>\n",
       "      <th>3</th>\n",
       "      <td>4</td>\n",
       "      <td>2417.0</td>\n",
       "      <td>NAVAL ARCHITECTURE AND MARINE ENGINEERING</td>\n",
       "      <td>Engineering</td>\n",
       "      <td>1258.0</td>\n",
       "      <td>16.0</td>\n",
       "      <td>1123.0</td>\n",
       "      <td>135.0</td>\n",
       "      <td>0.107313</td>\n",
       "      <td>758.0</td>\n",
       "      <td>...</td>\n",
       "      <td>150.0</td>\n",
       "      <td>692.0</td>\n",
       "      <td>40.0</td>\n",
       "      <td>0.050125</td>\n",
       "      <td>70000.0</td>\n",
       "      <td>43000.0</td>\n",
       "      <td>80000.0</td>\n",
       "      <td>529.0</td>\n",
       "      <td>102.0</td>\n",
       "      <td>0.0</td>\n",
       "    </tr>\n",
       "    <tr>\n",
       "      <th>4</th>\n",
       "      <td>5</td>\n",
       "      <td>2405.0</td>\n",
       "      <td>CHEMICAL ENGINEERING</td>\n",
       "      <td>Engineering</td>\n",
       "      <td>32260.0</td>\n",
       "      <td>289.0</td>\n",
       "      <td>21239.0</td>\n",
       "      <td>11021.0</td>\n",
       "      <td>0.341631</td>\n",
       "      <td>25694.0</td>\n",
       "      <td>...</td>\n",
       "      <td>5180.0</td>\n",
       "      <td>16697.0</td>\n",
       "      <td>1672.0</td>\n",
       "      <td>0.061098</td>\n",
       "      <td>65000.0</td>\n",
       "      <td>50000.0</td>\n",
       "      <td>75000.0</td>\n",
       "      <td>18314.0</td>\n",
       "      <td>4440.0</td>\n",
       "      <td>972.0</td>\n",
       "    </tr>\n",
       "  </tbody>\n",
       "</table>\n",
       "<p>5 rows × 21 columns</p>\n",
       "</div>"
      ],
      "text/plain": [
       "  Rank  Major_code                                      Major Major_category  \\\n",
       "0    1      2419.0                      PETROLEUM ENGINEERING    Engineering   \n",
       "1    2      2416.0             MINING AND MINERAL ENGINEERING    Engineering   \n",
       "2    3      2415.0                  METALLURGICAL ENGINEERING    Engineering   \n",
       "3    4      2417.0  NAVAL ARCHITECTURE AND MARINE ENGINEERING    Engineering   \n",
       "4    5      2405.0                       CHEMICAL ENGINEERING    Engineering   \n",
       "\n",
       "     Total  Sample_size      Men    Women  ShareWomen  Employed  ...  \\\n",
       "0   2339.0         36.0   2057.0    282.0    0.120564    1976.0  ...   \n",
       "1    756.0          7.0    679.0     77.0    0.101852     640.0  ...   \n",
       "2    856.0          3.0    725.0    131.0    0.153037     648.0  ...   \n",
       "3   1258.0         16.0   1123.0    135.0    0.107313     758.0  ...   \n",
       "4  32260.0        289.0  21239.0  11021.0    0.341631   25694.0  ...   \n",
       "\n",
       "   Part_time  Full_time_year_round  Unemployed  Unemployment_rate    Median  \\\n",
       "0      270.0                1207.0        37.0           0.018381  110000.0   \n",
       "1      170.0                 388.0        85.0           0.117241   75000.0   \n",
       "2      133.0                 340.0        16.0           0.024096   73000.0   \n",
       "3      150.0                 692.0        40.0           0.050125   70000.0   \n",
       "4     5180.0               16697.0      1672.0           0.061098   65000.0   \n",
       "\n",
       "     P25th     P75th  College_jobs  Non_college_jobs  Low_wage_jobs  \n",
       "0  95000.0  125000.0        1534.0             364.0          193.0  \n",
       "1  55000.0   90000.0         350.0             257.0           50.0  \n",
       "2  50000.0  105000.0         456.0             176.0            0.0  \n",
       "3  43000.0   80000.0         529.0             102.0            0.0  \n",
       "4  50000.0   75000.0       18314.0            4440.0          972.0  \n",
       "\n",
       "[5 rows x 21 columns]"
      ]
     },
     "execution_count": 43,
     "metadata": {},
     "output_type": "execute_result"
    }
   ],
   "source": [
    "rg = pd.read_csv(\"Data/recent-grads.csv\")\n",
    "rg.head()"
   ]
  },
  {
   "cell_type": "code",
   "execution_count": 57,
   "metadata": {},
   "outputs": [
    {
     "data": {
      "text/plain": [
       "Major_category\n",
       "Agriculture & Natural Resources        0.056328\n",
       "Arts                                   0.090173\n",
       "Biology & Life Science                 0.060918\n",
       "Business                               0.071064\n",
       "Communications & Journalism            0.075538\n",
       "Computers & Mathematics                0.084256\n",
       "Education                              0.051702\n",
       "Engineering                            0.063334\n",
       "Health                                 0.065920\n",
       "Humanities & Liberal Arts              0.081008\n",
       "Industrial Arts & Consumer Services    0.061404\n",
       "Interdisciplinary                      0.070861\n",
       "Law & Public Policy                    0.090805\n",
       "Physical Sciences                      0.043730\n",
       "Psychology & Social Work               0.072065\n",
       "Social Science                         0.095729\n",
       "Name: Unemployment_rate, dtype: float64"
      ]
     },
     "execution_count": 57,
     "metadata": {},
     "output_type": "execute_result"
    }
   ],
   "source": [
    "ur_categ = rg.groupby(\"Major_category\").Unemployment_rate.mean()\n",
    "ur_categ"
   ]
  },
  {
   "cell_type": "code",
   "execution_count": 60,
   "metadata": {},
   "outputs": [],
   "source": [
    "valeurs_moy=ur_categ.values\n",
    "labels_axes=ur_categ.index"
   ]
  },
  {
   "cell_type": "code",
   "execution_count": 62,
   "metadata": {},
   "outputs": [
    {
     "data": {
      "image/png": "[encoded data removed]",
      "text/plain": [
       "<Figure size 432x288 with 1 Axes>"
      ]
     },
     "metadata": {
      "needs_background": "light"
     },
     "output_type": "display_data"
    }
   ],
   "source": [
    "fig, ax = plt.subplots()\n",
    "ax.bar(labels_axes,valeurs_moy,0.5)\n",
    "ax.set_xticks(labels_axes)\n",
    "ax.set_xticklabels(labels=labels_axes, rotation = 90)\n",
    "\n",
    "ax.set_xlabel('Domaine')\n",
    "ax.set_ylabel('Taux de chômage')\n",
    "ax.set_title(\"Taux de chômage moyen en sortie de l'Université en fonction du domaine\")\n",
    "\n",
    "plt.show()"
   ]
  },
  {
   "cell_type": "code",
   "execution_count": 63,
   "metadata": {},
   "outputs": [
    {
     "data": {
      "text/plain": [
       "Major_category\n",
       "Agriculture & Natural Resources        0.056328\n",
       "Arts                                   0.090173\n",
       "Biology & Life Science                 0.060918\n",
       "Business                               0.071064\n",
       "Communications & Journalism            0.075538\n",
       "Computers & Mathematics                0.084256\n",
       "Education                              0.051702\n",
       "Engineering                            0.063334\n",
       "Health                                 0.065920\n",
       "Humanities & Liberal Arts              0.081008\n",
       "Industrial Arts & Consumer Services    0.061404\n",
       "Interdisciplinary                      0.070861\n",
       "Law & Public Policy                    0.090805\n",
       "Physical Sciences                      0.043730\n",
       "Psychology & Social Work               0.072065\n",
       "Social Science                         0.095729\n",
       "Name: Unemployment_rate, dtype: float64"
      ]
     },
     "execution_count": 63,
     "metadata": {},
     "output_type": "execute_result"
    }
   ],
   "source": [
    "ur_categ"
   ]
  },
  {
   "cell_type": "code",
   "execution_count": 67,
   "metadata": {},
   "outputs": [
    {
     "data": {
      "text/plain": [
       "array([0.04373004, 0.05170197, 0.05632831, 0.06091776, 0.06140398,\n",
       "       0.06333388, 0.06592017, 0.07086093, 0.07106354, 0.07206476,\n",
       "       0.07553775, 0.08100762, 0.08425599, 0.0901727 , 0.09080476,\n",
       "       0.09572883])"
      ]
     },
     "execution_count": 67,
     "metadata": {},
     "output_type": "execute_result"
    }
   ],
   "source": [
    "# Plus clair : en triant les données\n",
    "ur_categ=ur_categ.sort_values()\n",
    "valeurs_moy=ur_categ.values\n",
    "labels_axes=ur_categ.index"
   ]
  },
  {
   "cell_type": "code",
   "execution_count": 68,
   "metadata": {},
   "outputs": [
    {
     "data": {
      "image/png": "[encoded data removed]",
      "text/plain": [
       "<Figure size 432x288 with 1 Axes>"
      ]
     },
     "metadata": {
      "needs_background": "light"
     },
     "output_type": "display_data"
    }
   ],
   "source": [
    "fig, ax = plt.subplots()\n",
    "ax.bar(labels_axes,valeurs_moy,0.5)\n",
    "ax.set_xticks(labels_axes)\n",
    "ax.set_xticklabels(labels=labels_axes, rotation = 90)\n",
    "\n",
    "ax.set_xlabel('Domaine')\n",
    "ax.set_ylabel('Taux de chômage')\n",
    "ax.set_title(\"Taux de chômage moyen en sortie de l'Université en fonction du domaine\")\n",
    "\n",
    "plt.show()"
   ]
  },
  {
   "cell_type": "code",
   "execution_count": null,
   "metadata": {},
   "outputs": [],
   "source": []
  }
 ],
 "metadata": {
  "kernelspec": {
   "display_name": "Python 3",
   "language": "python",
   "name": "python3"
  },
  "language_info": {
   "codemirror_mode": {
    "name": "ipython",
    "version": 3
   },
   "file_extension": ".py",
   "mimetype": "text/x-python",
   "name": "python",
   "nbconvert_exporter": "python",
   "pygments_lexer": "ipython3",
   "version": "3.8.5"
  }
 },
 "nbformat": 4,
 "nbformat_minor": 2
}
