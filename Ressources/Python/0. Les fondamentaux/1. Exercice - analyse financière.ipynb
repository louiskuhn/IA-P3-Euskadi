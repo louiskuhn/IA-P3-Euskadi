{
 "cells": [
  {
   "cell_type": "markdown",
   "metadata": {},
   "source": [
    "# Exercice analyse financière"
   ]
  },
  {
   "cell_type": "markdown",
   "metadata": {},
   "source": [
    "*__Scénario :__*  \n",
    "Vous travaillez pour une boîte de conseil et un de vos collègue du département d'audit vous demande de l'aider à mesurer la situation financière de l'entreprise ABC.  \n",
    "Pour cela, vous disposez de 2 listes de données : le revenu mensuel de l'année 2018 et les dépenses mensuelles de l'année 2018.\n",
    "\n",
    "*__Votre tâche :__*  \n",
    "Vous devez calculer les mesures suivantes :\n",
    "- le bénéfice mensuel\n",
    "- le bénéfice mensuel net (avec un taux d'imposition de 30%)\n",
    "- la marge bénéficiaire nette\n",
    "- les \"bons\" mois : ceux où le bénéfice est supérieur au bénéfice mensuel moyen\n",
    "- les \"mauvais\" mois : ceux où le bénéfice est inférieur au bénéfice mensuel moyen\n",
    "- le \"meilleur\" mois\n",
    "- le \"pire\" mois\n",
    "\n",
    "*__Vos contraintes :__*  \n",
    "Les résultats doivent être présentés sous une certaine forme :\n",
    "- les résultats doivent être présentés sous forme de listes\n",
    "- les résultats monnétaires en euro doivent être calculés avec une précision de 2 chiffres après la virgule mais doivent être présentés en unités de 1000€ (k€) sans nombre décimal\n",
    "- la marge bénéficiaire nette doit être présentée % arrondi à l'unité\n",
    "\n",
    "**Note :** les taxes de certains mois peuvent tout à fait être négatives"
   ]
  },
  {
   "cell_type": "code",
   "execution_count": 1,
   "metadata": {},
   "outputs": [],
   "source": [
    "# données \n",
    "rev = [14574.49, 7606.46, 8611.41, 9175.41, 8058.65, 8105.44, 11496.28, 9766.09, 10305.32, 14379.96, 10713.97, 15433.50]\n",
    "dep = [12051.82, 5695.07, 12319.20, 12089.72, 8658.57, 840.20, 3285.73, 5821.12, 6976.93, 16618.61, 10054.37, 3803.96]"
   ]
  },
  {
   "cell_type": "code",
   "execution_count": 2,
   "metadata": {},
   "outputs": [
    {
     "data": {
      "text/plain": [
       "(12, 12)"
      ]
     },
     "execution_count": 2,
     "metadata": {},
     "output_type": "execute_result"
    }
   ],
   "source": [
    "len(rev), len(dep)"
   ]
  },
  {
   "cell_type": "markdown",
   "metadata": {},
   "source": [
    "## Bénéfice mensuel"
   ]
  },
  {
   "cell_type": "code",
   "execution_count": null,
   "metadata": {},
   "outputs": [],
   "source": []
  },
  {
   "cell_type": "markdown",
   "metadata": {},
   "source": [
    "## Bénéfice mensuel net"
   ]
  },
  {
   "cell_type": "code",
   "execution_count": null,
   "metadata": {},
   "outputs": [],
   "source": []
  },
  {
   "cell_type": "markdown",
   "metadata": {},
   "source": [
    "## Marge bénéficiaire nette"
   ]
  },
  {
   "cell_type": "code",
   "execution_count": null,
   "metadata": {},
   "outputs": [],
   "source": []
  },
  {
   "cell_type": "markdown",
   "metadata": {},
   "source": [
    "## Bons mois / mauvais mois"
   ]
  },
  {
   "cell_type": "code",
   "execution_count": null,
   "metadata": {},
   "outputs": [],
   "source": []
  },
  {
   "cell_type": "markdown",
   "metadata": {},
   "source": [
    "## Meilleur mois /pire mois"
   ]
  },
  {
   "cell_type": "code",
   "execution_count": null,
   "metadata": {},
   "outputs": [],
   "source": []
  }
 ],
 "metadata": {
  "kernelspec": {
   "display_name": "Python 3",
   "language": "python",
   "name": "python3"
  },
  "language_info": {
   "codemirror_mode": {
    "name": "ipython",
    "version": 3
   },
   "file_extension": ".py",
   "mimetype": "text/x-python",
   "name": "python",
   "nbconvert_exporter": "python",
   "pygments_lexer": "ipython3",
   "version": "3.8.11"
  }
 },
 "nbformat": 4,
 "nbformat_minor": 4
}
