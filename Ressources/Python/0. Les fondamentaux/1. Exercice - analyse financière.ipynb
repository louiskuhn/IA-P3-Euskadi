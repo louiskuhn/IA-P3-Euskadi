{
 "cells": [
  {
   "cell_type": "markdown",
   "metadata": {},
   "source": [
    "# Exercice analyse financière"
   ]
  },
  {
   "cell_type": "markdown",
   "metadata": {},
   "source": [
    "*__Scénario :__*  \n",
    "Vous travaillez pour une boîte de conseil et un de vos collègue du département d'audit vous demande de l'aider à mesurer la situation financière de l'entreprise ABC.  \n",
    "Pour cela, vous disposez de 2 listes de données : le revenu mensuel de l'année 2018 et les dépenses mensuelles de l'année 2018.\n",
    "\n",
    "*__Votre tâche :__*  \n",
    "Vous devez calculer les mesures suivantes :\n",
    "- le bénéfice mensuel\n",
    "- le bénéfice mensuel net (avec un taux d'imposition de 30%)\n",
    "- la marge bénéficiaire nette\n",
    "- les \"bons\" mois : ceux où le bénéfice est supérieur au bénéfice mensuel moyen\n",
    "- les \"mauvais\" mois : ceux où le bénéfice est inférieur au bénéfice mensuel moyen\n",
    "- le \"meilleur\" mois\n",
    "- le \"pire\" mois\n",
    "\n",
    "*__Vos contraintes :__*  \n",
    "Les résultats doivent être présentés sous une certaine forme :\n",
    "- les résultats doivent être présentés sous forme de listes\n",
    "- les résultats monnétaires en euro doivent être calculés avec une précision de 2 chiffres après la virgule mais doivent être présentés en unités de 1000€ (k€) sans nombre décimal\n",
    "- la marge bénéficiaire nette doit être présentée % arrondi à l'unité\n",
    "\n",
    "**Note :** les taxes de certains mois peuvent tout à fait être négatives"
   ]
  },
  {
   "cell_type": "code",
   "execution_count": 1,
   "metadata": {},
   "outputs": [],
   "source": [
    "# données \n",
    "rev = [14574.49, 7606.46, 8611.41, 9175.41, 8058.65, 8105.44, 11496.28, 9766.09, 10305.32, 14379.96, 10713.97, 15433.50]\n",
    "dep = [12051.82, 5695.07, 12319.20, 12089.72, 8658.57, 840.20, 3285.73, 5821.12, 6976.93, 16618.61, 10054.37, 3803.96]"
   ]
  },
  {
   "cell_type": "code",
   "execution_count": 2,
   "metadata": {},
   "outputs": [
    {
     "data": {
      "text/plain": [
       "(12, 12)"
      ]
     },
     "execution_count": 2,
     "metadata": {},
     "output_type": "execute_result"
    }
   ],
   "source": [
    "len(rev), len(dep)"
   ]
  },
  {
   "cell_type": "code",
   "execution_count": 13,
   "metadata": {},
   "outputs": [],
   "source": [
    "def format_euros(liste):\n",
    "    return [round(el/1000) for el in liste]"
   ]
  },
  {
   "cell_type": "markdown",
   "metadata": {},
   "source": [
    "## Bénéfice mensuel"
   ]
  },
  {
   "cell_type": "markdown",
   "metadata": {},
   "source": [
    "```python\n",
    "# compréhsion de liste:\n",
    "[element for element in qqch]\n",
    "\n",
    "#équivalent à une boucle for classique:\n",
    "l=[]\n",
    "for element in qqch:\n",
    "    l.append(element)\n",
    "```"
   ]
  },
  {
   "cell_type": "code",
   "execution_count": 22,
   "metadata": {},
   "outputs": [
    {
     "name": "stdout",
     "output_type": "stream",
     "text": [
      "[2522.67, 1911.39, -3707.79, -2914.31, -599.92, 7265.24, 8210.55, 3944.97, 3328.39, -2238.65, 659.6, 11629.54]\n"
     ]
    }
   ],
   "source": [
    "bm = [round(r-d, 2) for r,d in zip(rev, dep)]\n",
    "bm = [round(rev[i]-dep[i], 2) for i in range(len(rev))]\n",
    "print(bm)"
   ]
  },
  {
   "cell_type": "code",
   "execution_count": 23,
   "metadata": {},
   "outputs": [
    {
     "data": {
      "text/plain": [
       "[3, 2, -4, -3, -1, 7, 8, 4, 3, -2, 1, 12]"
      ]
     },
     "execution_count": 23,
     "metadata": {},
     "output_type": "execute_result"
    }
   ],
   "source": [
    "format_euros(bm)"
   ]
  },
  {
   "cell_type": "markdown",
   "metadata": {},
   "source": [
    "## Bénéfice mensuel net"
   ]
  },
  {
   "cell_type": "code",
   "execution_count": 24,
   "metadata": {},
   "outputs": [
    {
     "name": "stdout",
     "output_type": "stream",
     "text": [
      "[1765.869, 1337.973, -2595.453, -2040.0169999999998, -419.94399999999996, 5085.668, 5747.384999999999, 2761.479, 2329.8729999999996, -1567.055, 461.71999999999997, 8140.678]\n"
     ]
    }
   ],
   "source": [
    "bmn = [b*0.7 for b in bm]\n",
    "print(bmn)\n",
    "\n",
    "#bmn = []\n",
    "#for b in bm:\n",
    "#    bmn.append(b*0.7)"
   ]
  },
  {
   "cell_type": "code",
   "execution_count": 25,
   "metadata": {},
   "outputs": [
    {
     "data": {
      "text/plain": [
       "[2, 1, -3, -2, 0, 5, 6, 3, 2, -2, 0, 8]"
      ]
     },
     "execution_count": 25,
     "metadata": {},
     "output_type": "execute_result"
    }
   ],
   "source": [
    "format_euros(bmn)"
   ]
  },
  {
   "cell_type": "markdown",
   "metadata": {},
   "source": [
    "## Marge bénéficiaire nette"
   ]
  },
  {
   "cell_type": "code",
   "execution_count": 29,
   "metadata": {},
   "outputs": [
    {
     "data": {
      "text/plain": [
       "'23 %'"
      ]
     },
     "execution_count": 29,
     "metadata": {},
     "output_type": "execute_result"
    }
   ],
   "source": [
    "# annuelle\n",
    "mbn = f\"{round(sum(bm)/sum(rev) * 100)} %\"\n",
    "mbn"
   ]
  },
  {
   "cell_type": "code",
   "execution_count": 33,
   "metadata": {},
   "outputs": [
    {
     "name": "stdout",
     "output_type": "stream",
     "text": [
      "['17%', '25%', '-43%', '-32%', '-7%', '90%', '71%', '40%', '32%', '-16%', '6%', '75%']\n"
     ]
    }
   ],
   "source": [
    "# mensuelle\n",
    "mbnm = []\n",
    "for i in range(len(bm)):\n",
    "    mbnm.append(round(bm[i]/rev[i]*100))\n",
    "\n",
    "mbnm = [f\"{round(b/r*100)}%\" for b,r in zip(bm, rev)]\n",
    "print(mbnm)"
   ]
  },
  {
   "cell_type": "markdown",
   "metadata": {},
   "source": [
    "## Bons mois / mauvais mois"
   ]
  },
  {
   "cell_type": "code",
   "execution_count": 35,
   "metadata": {},
   "outputs": [
    {
     "data": {
      "text/plain": [
       "2500.97"
      ]
     },
     "execution_count": 35,
     "metadata": {},
     "output_type": "execute_result"
    }
   ],
   "source": [
    "# bénéficie mensuel moyen\n",
    "bmm = round(sum(bm)/len(bm), 2)\n",
    "bmm"
   ]
  },
  {
   "cell_type": "code",
   "execution_count": 36,
   "metadata": {},
   "outputs": [
    {
     "name": "stdout",
     "output_type": "stream",
     "text": [
      "[1, 6, 7, 8, 9, 12]\n",
      "[2, 3, 4, 5, 10, 11]\n"
     ]
    }
   ],
   "source": [
    "bons = []\n",
    "mauvais = []\n",
    "for i in range(len(rev)):\n",
    "    if bm[i] > bmm :\n",
    "        bons.append(i+1)\n",
    "    else :\n",
    "        mauvais.append(i+1)\n",
    "print(bons)\n",
    "print(mauvais)"
   ]
  },
  {
   "cell_type": "code",
   "execution_count": 39,
   "metadata": {},
   "outputs": [
    {
     "name": "stdout",
     "output_type": "stream",
     "text": [
      "[1, 6, 7, 8, 9, 12]\n"
     ]
    }
   ],
   "source": [
    "bons = [i+1 for i,b in enumerate(bm) if b > bmm]\n",
    "print(bons)"
   ]
  },
  {
   "cell_type": "code",
   "execution_count": 40,
   "metadata": {},
   "outputs": [
    {
     "name": "stdout",
     "output_type": "stream",
     "text": [
      "[2, 3, 4, 5, 10, 11]\n"
     ]
    }
   ],
   "source": [
    "mauvais = [i+1 for i,b in enumerate(bm) if b <= bmm]\n",
    "print(mauvais)"
   ]
  },
  {
   "cell_type": "markdown",
   "metadata": {},
   "source": [
    "## Meilleur mois /pire mois"
   ]
  },
  {
   "cell_type": "code",
   "execution_count": 47,
   "metadata": {},
   "outputs": [
    {
     "data": {
      "text/plain": [
       "'Le meilleur mois est le mois 12 avec un bénéfice mensuel de 11629.54'"
      ]
     },
     "execution_count": 47,
     "metadata": {},
     "output_type": "execute_result"
    }
   ],
   "source": [
    "meilleur = max(bm)\n",
    "f\"Le meilleur mois est le mois {bm.index(meilleur)+1} avec un bénéfice mensuel de {meilleur}\""
   ]
  },
  {
   "cell_type": "code",
   "execution_count": 48,
   "metadata": {},
   "outputs": [
    {
     "data": {
      "text/plain": [
       "'Le pire mois est le mois 3 avec un bénéfice mensuel de -3707.79'"
      ]
     },
     "execution_count": 48,
     "metadata": {},
     "output_type": "execute_result"
    }
   ],
   "source": [
    "pire = min(bm)\n",
    "f\"Le pire mois est le mois {bm.index(pire)+1} avec un bénéfice mensuel de {pire}\""
   ]
  }
 ],
 "metadata": {
  "kernelspec": {
   "display_name": "Python 3 (ipykernel)",
   "language": "python",
   "name": "python3"
  },
  "language_info": {
   "codemirror_mode": {
    "name": "ipython",
    "version": 3
   },
   "file_extension": ".py",
   "mimetype": "text/x-python",
   "name": "python",
   "nbconvert_exporter": "python",
   "pygments_lexer": "ipython3",
   "version": "3.9.18"
  }
 },
 "nbformat": 4,
 "nbformat_minor": 4
}
