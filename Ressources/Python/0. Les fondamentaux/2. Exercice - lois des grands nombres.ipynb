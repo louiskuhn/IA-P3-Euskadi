{
 "cells": [
  {
   "cell_type": "markdown",
   "metadata": {},
   "source": [
    "# Exercice loi des grands nombres"
   ]
  },
  {
   "cell_type": "markdown",
   "metadata": {},
   "source": [
    "La notation mathématique peut paraître \"barbare\" $$\\lim\\limits_{n \\rightarrow +\\infty} \\hat{X}_n = E(X)$$\n",
    "En réalité, le principe est très simple : plus l'échantillon grandi, plus la moyenne de l'échantillon est proche de l'espérance c'est-à-dire la \"vraie\" moyenne.\n",
    "\n",
    "*Exemple \"pile ou face\" :*\n",
    "- sur 10 tirages on peut très bien avoir 7 piles/3 faces\n",
    "- sur 100 tirages, peu probable d'avoir 70 piles/ 30 faces, on sera plus proche de 55 piles / 45 faces par exemple\n",
    "- sur 1000 tirages, c'est quasi impossible d'avoir 700 faces et 300 piles à moins que la pièce soit pipée...on sera plus autour de 520/480 par exemple"
   ]
  },
  {
   "cell_type": "markdown",
   "metadata": {},
   "source": [
    "La loi normale centrée réduite (c'est à dire une loi normale d'espérance 0 et de variance 1)\n",
    "\n",
    "<img src=\"normale_0_1.png\">"
   ]
  },
  {
   "cell_type": "markdown",
   "metadata": {},
   "source": [
    "On va tester la loi des grands nombre pour un échantillon de taille *n* suivant une loi normale centrée réduite :\n",
    "- créer une échantillon de taille n qui suit une loi normale centrée réduite *indication: on utilisera la fonction randn()*\n",
    "- calculer le nombre d'éléments de l'échantillon compris entre -1 et 1 diviser ce nombre par n (cela donne donc la probabilité empirique d'être compris entre -1 et 1)\n",
    "- selon la distribution de la loi normale centrée réduite, on sait que l'espérance est de 68,3% et selon la loi des grands nombre notre moyenne doit tendre vers cette espérance lorsque n augmente : vérifier ce dernier point"
   ]
  },
  {
   "cell_type": "code",
   "execution_count": null,
   "metadata": {},
   "outputs": [],
   "source": []
  }
 ],
 "metadata": {
  "kernelspec": {
   "display_name": "Python 3",
   "language": "python",
   "name": "python3"
  },
  "language_info": {
   "codemirror_mode": {
    "name": "ipython",
    "version": 3
   },
   "file_extension": ".py",
   "mimetype": "text/x-python",
   "name": "python",
   "nbconvert_exporter": "python",
   "pygments_lexer": "ipython3",
   "version": "3.8.11"
  }
 },
 "nbformat": 4,
 "nbformat_minor": 4
}
