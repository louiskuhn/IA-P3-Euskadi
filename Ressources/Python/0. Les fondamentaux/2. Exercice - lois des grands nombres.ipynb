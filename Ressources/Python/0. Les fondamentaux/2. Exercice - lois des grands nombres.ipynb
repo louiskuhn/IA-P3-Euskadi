{
 "cells": [
  {
   "cell_type": "markdown",
   "metadata": {},
   "source": [
    "# Exercice loi des grands nombres"
   ]
  },
  {
   "cell_type": "markdown",
   "metadata": {},
   "source": [
    "La notation mathématique peut paraître \"barbare\" $$\\lim\\limits_{n \\rightarrow +\\infty} \\hat{X}_n = E(X)$$\n",
    "En réalité, le principe est très simple : plus l'échantillon grandi, plus la moyenne de l'échantillon est proche de l'espérance c'est-à-dire la \"vraie\" moyenne.\n",
    "\n",
    "*Exemple \"pile ou face\" :*\n",
    "- sur 10 tirages on peut très bien avoir 7 piles/3 faces\n",
    "- sur 100 tirages, peu probable d'avoir 70 piles/ 30 faces, on sera plus proche de 55 piles / 45 faces par exemple\n",
    "- sur 1000 tirages, c'est quasi impossible d'avoir 700 faces et 300 piles à moins que la pièce soit pipée...on sera plus autour de 520/480 par exemple"
   ]
  },
  {
   "cell_type": "markdown",
   "metadata": {},
   "source": [
    "La loi normale centrée réduite (c'est à dire une loi normale d'espérance 0 et de variance 1)\n",
    "\n",
    "<img src=\"normale_0_1.png\">"
   ]
  },
  {
   "cell_type": "markdown",
   "metadata": {},
   "source": [
    "On va tester la loi des grands nombre pour un échantillon de taille *n* suivant une loi normale centrée réduite :\n",
    "- créer une échantillon de taille n qui suit une loi normale centrée réduite *indication: on utilisera la fonction randn()*\n",
    "- calculer le nombre d'éléments de l'échantillon compris entre -1 et 1 diviser ce nombre par n (cela donne donc la probabilité empirique d'être compris entre -1 et 1)\n",
    "- selon la distribution de la loi normale centrée réduite, on sait que l'espérance est de 68,3% et selon la loi des grands nombre notre moyenne doit tendre vers cette espérance lorsque n augmente : vérifier ce dernier point"
   ]
  },
  {
   "cell_type": "code",
   "execution_count": 1,
   "metadata": {},
   "outputs": [],
   "source": [
    "#import numpy as np\n",
    "from numpy.random import randn"
   ]
  },
  {
   "cell_type": "code",
   "execution_count": 26,
   "metadata": {},
   "outputs": [],
   "source": [
    "n = 100\n",
    "def LGN(n):\n",
    "    # défini un échantillon de taille n qui suit une loi normale centrée réduite\n",
    "    echantillon = randn(n)\n",
    "\n",
    "    # calcul du nombre de valeurs dans [-1,1] et [-3,-1]\n",
    "    cpt = 0\n",
    "    cpt2 = 0\n",
    "    for x in echantillon:\n",
    "        if -1<=x<=1:\n",
    "            cpt += 1\n",
    "        if -3<=x<=-1:\n",
    "            cpt2 += 1\n",
    "\n",
    "    # calcul des probas empiriques (division par n)\n",
    "    p1 = cpt/n\n",
    "    p2 = cpt2/n\n",
    "\n",
    "    # calcul de la moyenne\n",
    "    m = sum(echantillon)/n\n",
    "    \n",
    "    return m, p1, p2"
   ]
  },
  {
   "cell_type": "code",
   "execution_count": 28,
   "metadata": {},
   "outputs": [
    {
     "data": {
      "text/plain": [
       "(0.001071966979628723, 0.6851, 0.1583)"
      ]
     },
     "execution_count": 28,
     "metadata": {},
     "output_type": "execute_result"
    }
   ],
   "source": [
    "LGN(10000)"
   ]
  },
  {
   "cell_type": "code",
   "execution_count": 32,
   "metadata": {},
   "outputs": [
    {
     "name": "stdout",
     "output_type": "stream",
     "text": [
      "pour n=1 : moyenne = -1.6335568284270623, P([-1,1]) = 0.0, P([-3,-1]) = 1.0\n",
      "pour n=2 : moyenne = 0.38533835537504285, P([-1,1]) = 1.0, P([-3,-1]) = 0.0\n",
      "pour n=5 : moyenne = 0.6575313015990358, P([-1,1]) = 0.6, P([-3,-1]) = 0.0\n",
      "pour n=10 : moyenne = 0.10339873608787183, P([-1,1]) = 0.6, P([-3,-1]) = 0.2\n",
      "pour n=20 : moyenne = 0.12997379005096224, P([-1,1]) = 0.55, P([-3,-1]) = 0.2\n",
      "pour n=50 : moyenne = -0.027571193918152753, P([-1,1]) = 0.7, P([-3,-1]) = 0.14\n",
      "pour n=100 : moyenne = -0.3359247863879694, P([-1,1]) = 0.71, P([-3,-1]) = 0.19\n",
      "pour n=200 : moyenne = 0.04062098371286494, P([-1,1]) = 0.65, P([-3,-1]) = 0.165\n",
      "pour n=500 : moyenne = -0.05958774601701282, P([-1,1]) = 0.712, P([-3,-1]) = 0.156\n",
      "pour n=1000 : moyenne = 0.030411774218800123, P([-1,1]) = 0.715, P([-3,-1]) = 0.133\n",
      "pour n=2000 : moyenne = -0.041381831618207465, P([-1,1]) = 0.682, P([-3,-1]) = 0.164\n",
      "pour n=5000 : moyenne = -0.007520226153967623, P([-1,1]) = 0.688, P([-3,-1]) = 0.1576\n",
      "pour n=10000 : moyenne = 0.0066468211873177705, P([-1,1]) = 0.6879, P([-3,-1]) = 0.1539\n",
      "pour n=20000 : moyenne = 0.0027603086979784627, P([-1,1]) = 0.68735, P([-3,-1]) = 0.1557\n",
      "pour n=50000 : moyenne = 0.0015011170580582843, P([-1,1]) = 0.68212, P([-3,-1]) = 0.15686\n",
      "pour n=100000 : moyenne = -0.0004683260996004045, P([-1,1]) = 0.68136, P([-3,-1]) = 0.15774\n",
      "pour n=200000 : moyenne = 0.0056060724000693415, P([-1,1]) = 0.68367, P([-3,-1]) = 0.155165\n",
      "pour n=500000 : moyenne = -0.0017504926300568816, P([-1,1]) = 0.683296, P([-3,-1]) = 0.157474\n"
     ]
    }
   ],
   "source": [
    "for i in range(6):\n",
    "    for k in [1,2,5]:\n",
    "        n=k*10**i\n",
    "        res = LGN(n)\n",
    "        print(f\"pour {n=} : moyenne = {res[0]}, P([-1,1]) = {res[1]}, P([-3,-1]) = {res[2]}\")"
   ]
  }
 ],
 "metadata": {
  "kernelspec": {
   "display_name": "Python 3 (ipykernel)",
   "language": "python",
   "name": "python3"
  },
  "language_info": {
   "codemirror_mode": {
    "name": "ipython",
    "version": 3
   },
   "file_extension": ".py",
   "mimetype": "text/x-python",
   "name": "python",
   "nbconvert_exporter": "python",
   "pygments_lexer": "ipython3",
   "version": "3.9.18"
  }
 },
 "nbformat": 4,
 "nbformat_minor": 4
}
