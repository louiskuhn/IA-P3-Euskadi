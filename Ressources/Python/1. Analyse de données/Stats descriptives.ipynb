{
 "cells": [
  {
   "cell_type": "markdown",
   "id": "95f3f17e",
   "metadata": {},
   "source": [
    "# Principales statistiques descriptives"
   ]
  },
  {
   "cell_type": "code",
   "execution_count": 1,
   "id": "0f63f4dd",
   "metadata": {},
   "outputs": [
    {
     "data": {
      "text/plain": [
       "array([['1986', 'Western Pacific', 'Viet Nam', 'Wine', '0'],\n",
       "       ['1986', 'Americas', 'Uruguay', 'Other', '0.5'],\n",
       "       ['1985', 'Africa', \"Cte d'Ivoire\", 'Wine', '1.62'],\n",
       "       ['1986', 'Americas', 'Colombia', 'Beer', '4.27'],\n",
       "       ['1987', 'Americas', 'Saint Kitts and Nevis', 'Beer', '1.98'],\n",
       "       ['1987', 'Americas', 'Guatemala', 'Other', '0'],\n",
       "       ['1987', 'Africa', 'Mauritius', 'Wine', '0.13'],\n",
       "       ['1985', 'Africa', 'Angola', 'Spirits', '0.39']], dtype='<U75')"
      ]
     },
     "execution_count": 1,
     "metadata": {},
     "output_type": "execute_result"
    }
   ],
   "source": [
    "import numpy as np\n",
    "data = np.genfromtxt('Data/world-alcohol.csv', delimiter=',', dtype='U75', skip_header=1)\n",
    "data[:8,:]"
   ]
  },
  {
   "cell_type": "code",
   "execution_count": 2,
   "id": "66a5be38",
   "metadata": {},
   "outputs": [
    {
     "data": {
      "text/plain": [
       "(3257, 5)"
      ]
     },
     "execution_count": 2,
     "metadata": {},
     "output_type": "execute_result"
    }
   ],
   "source": [
    "data.shape"
   ]
  },
  {
   "cell_type": "markdown",
   "id": "bcee68b2",
   "metadata": {
    "tags": []
   },
   "source": [
    "## 1. Variables quantitatives\n",
    "\n",
    "On va regarder les variables quantitatives : ici, c'est la consommation."
   ]
  },
  {
   "cell_type": "markdown",
   "id": "2cc13694",
   "metadata": {},
   "source": [
    "### 1.1 Valeurs manquantes"
   ]
  },
  {
   "cell_type": "code",
   "execution_count": 36,
   "id": "9471d26c",
   "metadata": {},
   "outputs": [
    {
     "data": {
      "text/plain": [
       "222"
      ]
     },
     "execution_count": 36,
     "metadata": {},
     "output_type": "execute_result"
    }
   ],
   "source": [
    "# nombre de valeurs manquantes\n",
    "filtre_na = data[:,-1]==''\n",
    "filtre_na.sum()"
   ]
  },
  {
   "cell_type": "code",
   "execution_count": 4,
   "id": "9943d469",
   "metadata": {},
   "outputs": [
    {
     "data": {
      "text/plain": [
       "0.06816088424930918"
      ]
     },
     "execution_count": 4,
     "metadata": {},
     "output_type": "execute_result"
    }
   ],
   "source": [
    "222/3257"
   ]
  },
  {
   "cell_type": "code",
   "execution_count": 37,
   "id": "403ab87a",
   "metadata": {},
   "outputs": [
    {
     "data": {
      "text/plain": [
       "(3035, 5)"
      ]
     },
     "execution_count": 37,
     "metadata": {},
     "output_type": "execute_result"
    }
   ],
   "source": [
    "# pour l'instant on va supprimer les lignes correspondantes\n",
    "data2 = data[~filtre_na]\n",
    "data2.shape"
   ]
  },
  {
   "cell_type": "code",
   "execution_count": 38,
   "id": "348f0d6c",
   "metadata": {},
   "outputs": [
    {
     "data": {
      "text/plain": [
       "array([0.  , 0.5 , 1.62, ..., 2.54, 0.  , 5.15])"
      ]
     },
     "execution_count": 38,
     "metadata": {},
     "output_type": "execute_result"
    }
   ],
   "source": [
    "# récupération et conversion de la consommation\n",
    "consommation = data2[:,-1].astype(float)\n",
    "consommation"
   ]
  },
  {
   "cell_type": "code",
   "execution_count": 42,
   "id": "d497d85b-1739-48dd-86eb-d8de30a52bd3",
   "metadata": {},
   "outputs": [
    {
     "data": {
      "text/plain": [
       "array([0.  , 0.5 , 1.62, ..., 2.54, 0.  , 5.15])"
      ]
     },
     "execution_count": 42,
     "metadata": {},
     "output_type": "execute_result"
    }
   ],
   "source": [
    "import pandas as pd\n",
    "df = pd.read_csv('Data/world-alcohol.csv')\n",
    "df[\"Display Value\"].values"
   ]
  },
  {
   "cell_type": "markdown",
   "id": "79e18489",
   "metadata": {},
   "source": [
    "### 1.2 Moyenne"
   ]
  },
  {
   "cell_type": "code",
   "execution_count": 43,
   "id": "349377b4",
   "metadata": {},
   "outputs": [
    {
     "data": {
      "text/plain": [
       "1.2879604612850082"
      ]
     },
     "execution_count": 43,
     "metadata": {},
     "output_type": "execute_result"
    }
   ],
   "source": [
    "consommation.mean()"
   ]
  },
  {
   "cell_type": "code",
   "execution_count": 8,
   "id": "8d578888",
   "metadata": {},
   "outputs": [
    {
     "data": {
      "text/plain": [
       "1.2879604612850082"
      ]
     },
     "execution_count": 8,
     "metadata": {},
     "output_type": "execute_result"
    }
   ],
   "source": [
    "np.mean(consommation)"
   ]
  },
  {
   "cell_type": "code",
   "execution_count": 9,
   "id": "e92af609",
   "metadata": {},
   "outputs": [
    {
     "data": {
      "text/plain": [
       "1.2879604612850082"
      ]
     },
     "execution_count": 9,
     "metadata": {},
     "output_type": "execute_result"
    }
   ],
   "source": [
    "np.average(consommation)"
   ]
  },
  {
   "cell_type": "code",
   "execution_count": 10,
   "id": "c3c06829",
   "metadata": {},
   "outputs": [
    {
     "data": {
      "text/plain": [
       "['T',\n",
       " '__abs__',\n",
       " '__add__',\n",
       " '__and__',\n",
       " '__array__',\n",
       " '__array_finalize__',\n",
       " '__array_function__',\n",
       " '__array_interface__',\n",
       " '__array_prepare__',\n",
       " '__array_priority__',\n",
       " '__array_struct__',\n",
       " '__array_ufunc__',\n",
       " '__array_wrap__',\n",
       " '__bool__',\n",
       " '__class__',\n",
       " '__class_getitem__',\n",
       " '__complex__',\n",
       " '__contains__',\n",
       " '__copy__',\n",
       " '__deepcopy__',\n",
       " '__delattr__',\n",
       " '__delitem__',\n",
       " '__dir__',\n",
       " '__divmod__',\n",
       " '__dlpack__',\n",
       " '__dlpack_device__',\n",
       " '__doc__',\n",
       " '__eq__',\n",
       " '__float__',\n",
       " '__floordiv__',\n",
       " '__format__',\n",
       " '__ge__',\n",
       " '__getattribute__',\n",
       " '__getitem__',\n",
       " '__gt__',\n",
       " '__hash__',\n",
       " '__iadd__',\n",
       " '__iand__',\n",
       " '__ifloordiv__',\n",
       " '__ilshift__',\n",
       " '__imatmul__',\n",
       " '__imod__',\n",
       " '__imul__',\n",
       " '__index__',\n",
       " '__init__',\n",
       " '__init_subclass__',\n",
       " '__int__',\n",
       " '__invert__',\n",
       " '__ior__',\n",
       " '__ipow__',\n",
       " '__irshift__',\n",
       " '__isub__',\n",
       " '__iter__',\n",
       " '__itruediv__',\n",
       " '__ixor__',\n",
       " '__le__',\n",
       " '__len__',\n",
       " '__lshift__',\n",
       " '__lt__',\n",
       " '__matmul__',\n",
       " '__mod__',\n",
       " '__mul__',\n",
       " '__ne__',\n",
       " '__neg__',\n",
       " '__new__',\n",
       " '__or__',\n",
       " '__pos__',\n",
       " '__pow__',\n",
       " '__radd__',\n",
       " '__rand__',\n",
       " '__rdivmod__',\n",
       " '__reduce__',\n",
       " '__reduce_ex__',\n",
       " '__repr__',\n",
       " '__rfloordiv__',\n",
       " '__rlshift__',\n",
       " '__rmatmul__',\n",
       " '__rmod__',\n",
       " '__rmul__',\n",
       " '__ror__',\n",
       " '__rpow__',\n",
       " '__rrshift__',\n",
       " '__rshift__',\n",
       " '__rsub__',\n",
       " '__rtruediv__',\n",
       " '__rxor__',\n",
       " '__setattr__',\n",
       " '__setitem__',\n",
       " '__setstate__',\n",
       " '__sizeof__',\n",
       " '__str__',\n",
       " '__sub__',\n",
       " '__subclasshook__',\n",
       " '__truediv__',\n",
       " '__xor__',\n",
       " 'all',\n",
       " 'any',\n",
       " 'argmax',\n",
       " 'argmin',\n",
       " 'argpartition',\n",
       " 'argsort',\n",
       " 'astype',\n",
       " 'base',\n",
       " 'byteswap',\n",
       " 'choose',\n",
       " 'clip',\n",
       " 'compress',\n",
       " 'conj',\n",
       " 'conjugate',\n",
       " 'copy',\n",
       " 'ctypes',\n",
       " 'cumprod',\n",
       " 'cumsum',\n",
       " 'data',\n",
       " 'diagonal',\n",
       " 'dot',\n",
       " 'dtype',\n",
       " 'dump',\n",
       " 'dumps',\n",
       " 'fill',\n",
       " 'flags',\n",
       " 'flat',\n",
       " 'flatten',\n",
       " 'getfield',\n",
       " 'imag',\n",
       " 'item',\n",
       " 'itemset',\n",
       " 'itemsize',\n",
       " 'max',\n",
       " 'mean',\n",
       " 'min',\n",
       " 'nbytes',\n",
       " 'ndim',\n",
       " 'newbyteorder',\n",
       " 'nonzero',\n",
       " 'partition',\n",
       " 'prod',\n",
       " 'ptp',\n",
       " 'put',\n",
       " 'ravel',\n",
       " 'real',\n",
       " 'repeat',\n",
       " 'reshape',\n",
       " 'resize',\n",
       " 'round',\n",
       " 'searchsorted',\n",
       " 'setfield',\n",
       " 'setflags',\n",
       " 'shape',\n",
       " 'size',\n",
       " 'sort',\n",
       " 'squeeze',\n",
       " 'std',\n",
       " 'strides',\n",
       " 'sum',\n",
       " 'swapaxes',\n",
       " 'take',\n",
       " 'tobytes',\n",
       " 'tofile',\n",
       " 'tolist',\n",
       " 'tostring',\n",
       " 'trace',\n",
       " 'transpose',\n",
       " 'var',\n",
       " 'view']"
      ]
     },
     "execution_count": 10,
     "metadata": {},
     "output_type": "execute_result"
    }
   ],
   "source": [
    "# pour lister les méthodes d'un objet\n",
    "dir(consommation)"
   ]
  },
  {
   "cell_type": "markdown",
   "id": "4fc0cc71",
   "metadata": {},
   "source": [
    "### 1.3 Médiane"
   ]
  },
  {
   "cell_type": "code",
   "execution_count": 11,
   "id": "05fa3b16",
   "metadata": {},
   "outputs": [
    {
     "data": {
      "text/plain": [
       "0.31"
      ]
     },
     "execution_count": 11,
     "metadata": {},
     "output_type": "execute_result"
    }
   ],
   "source": [
    "np.median(consommation)"
   ]
  },
  {
   "cell_type": "markdown",
   "id": "7a94635c",
   "metadata": {},
   "source": [
    "### 1.4 Maximum et minimum"
   ]
  },
  {
   "cell_type": "code",
   "execution_count": 12,
   "id": "3caf28bf",
   "metadata": {},
   "outputs": [
    {
     "name": "stdout",
     "output_type": "stream",
     "text": [
      "13.5  et  0.0\n"
     ]
    }
   ],
   "source": [
    "print(consommation.max(), ' et ', consommation.min())"
   ]
  },
  {
   "cell_type": "markdown",
   "id": "2736ba44",
   "metadata": {},
   "source": [
    "### 1.5 Mode"
   ]
  },
  {
   "cell_type": "code",
   "execution_count": 13,
   "id": "59b3b61d",
   "metadata": {},
   "outputs": [],
   "source": [
    "# import de la librairie stats\n",
    "import scipy.stats as stat"
   ]
  },
  {
   "cell_type": "code",
   "execution_count": 14,
   "id": "ece4781f",
   "metadata": {},
   "outputs": [
    {
     "data": {
      "text/plain": [
       "ModeResult(mode=0.0, count=713)"
      ]
     },
     "execution_count": 14,
     "metadata": {},
     "output_type": "execute_result"
    }
   ],
   "source": [
    "stat.mode(consommation)"
   ]
  },
  {
   "cell_type": "code",
   "execution_count": 15,
   "id": "e332d2d6",
   "metadata": {},
   "outputs": [
    {
     "data": {
      "text/plain": [
       "ModeResult(mode=0.01, count=163)"
      ]
     },
     "execution_count": 15,
     "metadata": {},
     "output_type": "execute_result"
    }
   ],
   "source": [
    "filtre = consommation>0\n",
    "conso2 = consommation[filtre]\n",
    "stat.mode(conso2)"
   ]
  },
  {
   "cell_type": "code",
   "execution_count": 44,
   "id": "88adb8de-104c-4cc6-8608-9f8b864eeb52",
   "metadata": {},
   "outputs": [
    {
     "data": {
      "text/plain": [
       "ModeResult(mode=0.02, count=77)"
      ]
     },
     "execution_count": 44,
     "metadata": {},
     "output_type": "execute_result"
    }
   ],
   "source": [
    "filtre = consommation>0.01\n",
    "conso3 = consommation[filtre]\n",
    "stat.mode(conso3)"
   ]
  },
  {
   "cell_type": "markdown",
   "id": "856d8ec0",
   "metadata": {},
   "source": [
    "### 1.6 Statistiques de dispersion"
   ]
  },
  {
   "cell_type": "code",
   "execution_count": 16,
   "id": "ce5e2ad5",
   "metadata": {
    "scrolled": true
   },
   "outputs": [
    {
     "data": {
      "image/png": "[encoded data removed]",
      "text/plain": [
       "<Figure size 640x480 with 3 Axes>"
      ]
     },
     "metadata": {},
     "output_type": "display_data"
    }
   ],
   "source": [
    "# illustration de la dispersion\n",
    "import matplotlib.pyplot as plt\n",
    "fig, ax = plt.subplots(3, 1, sharex=True)\n",
    "ax[0].hist(np.random.normal(0,1,8000), bins=80)\n",
    "ax[1].hist(np.random.normal(0,2,8000), bins=80)\n",
    "ax[2].hist(np.random.normal(0,0.5,8000), bins=80);"
   ]
  },
  {
   "cell_type": "code",
   "execution_count": 45,
   "id": "7ce3f5c7",
   "metadata": {},
   "outputs": [
    {
     "data": {
      "text/plain": [
       "1.9637479274729108"
      ]
     },
     "execution_count": 45,
     "metadata": {},
     "output_type": "execute_result"
    }
   ],
   "source": [
    "np.std(consommation)"
   ]
  },
  {
   "cell_type": "code",
   "execution_count": 46,
   "id": "2291a1bb",
   "metadata": {},
   "outputs": [
    {
     "data": {
      "text/plain": [
       "3.8563059226541525"
      ]
     },
     "execution_count": 46,
     "metadata": {},
     "output_type": "execute_result"
    }
   ],
   "source": [
    "np.var(consommation)"
   ]
  },
  {
   "cell_type": "code",
   "execution_count": 47,
   "id": "435ab591",
   "metadata": {},
   "outputs": [
    {
     "data": {
      "text/plain": [
       "0.0"
      ]
     },
     "execution_count": 47,
     "metadata": {},
     "output_type": "execute_result"
    }
   ],
   "source": [
    "np.var(consommation) - np.std(consommation)**2"
   ]
  },
  {
   "cell_type": "markdown",
   "id": "290992c5",
   "metadata": {},
   "source": [
    "### 1.7 Quantiles"
   ]
  },
  {
   "cell_type": "code",
   "execution_count": 20,
   "id": "7b4140d1",
   "metadata": {},
   "outputs": [
    {
     "data": {
      "text/plain": [
       "0.31"
      ]
     },
     "execution_count": 20,
     "metadata": {},
     "output_type": "execute_result"
    }
   ],
   "source": [
    "# médiane\n",
    "np.quantile(consommation, 0.5)"
   ]
  },
  {
   "cell_type": "code",
   "execution_count": 21,
   "id": "f3411b72",
   "metadata": {},
   "outputs": [
    {
     "data": {
      "text/plain": [
       "array([0.01, 0.31, 1.89])"
      ]
     },
     "execution_count": 21,
     "metadata": {},
     "output_type": "execute_result"
    }
   ],
   "source": [
    "# quartile\n",
    "np.quantile(consommation, [0.25,0.5,0.75])"
   ]
  },
  {
   "cell_type": "code",
   "execution_count": 22,
   "id": "2b80e301",
   "metadata": {},
   "outputs": [
    {
     "data": {
      "text/plain": [
       "array([0.01, 0.31, 1.89])"
      ]
     },
     "execution_count": 22,
     "metadata": {},
     "output_type": "execute_result"
    }
   ],
   "source": [
    "#ou\n",
    "np.percentile(consommation, [25, 50, 75])"
   ]
  },
  {
   "cell_type": "code",
   "execution_count": 53,
   "id": "c4cf0ff1-3c47-448f-ae93-9ec1de0f22ec",
   "metadata": {},
   "outputs": [
    {
     "data": {
      "text/plain": [
       "array([0.1, 0.2, 0.3, 0.4, 0.5, 0.6, 0.7, 0.8, 0.9])"
      ]
     },
     "execution_count": 53,
     "metadata": {},
     "output_type": "execute_result"
    }
   ],
   "source": [
    "np.linspace(0.1,0.9,9)"
   ]
  },
  {
   "cell_type": "code",
   "execution_count": 23,
   "id": "686f263e",
   "metadata": {},
   "outputs": [
    {
     "data": {
      "text/plain": [
       "array([0.   , 0.   , 0.02 , 0.106, 0.31 , 0.81 , 1.508, 2.32 , 3.762])"
      ]
     },
     "execution_count": 23,
     "metadata": {},
     "output_type": "execute_result"
    }
   ],
   "source": [
    "# déciles\n",
    "np.quantile(consommation, np.linspace(0.1,0.9,9))"
   ]
  },
  {
   "cell_type": "code",
   "execution_count": 24,
   "id": "c3eca76b",
   "metadata": {},
   "outputs": [
    {
     "data": {
      "text/plain": [
       "array([0.    , 0.    , 0.    , 0.    , 0.    , 0.    , 0.    , 0.    ,\n",
       "       0.    , 0.    , 0.    , 0.    , 0.    , 0.    , 0.    , 0.    ,\n",
       "       0.    , 0.    , 0.    , 0.    , 0.    , 0.    , 0.    , 0.01  ,\n",
       "       0.01  , 0.01  , 0.01  , 0.01  , 0.02  , 0.02  , 0.02  , 0.03  ,\n",
       "       0.04  , 0.04  , 0.05  , 0.06  , 0.07  , 0.08  , 0.09  , 0.106 ,\n",
       "       0.12  , 0.13  , 0.14  , 0.16  , 0.183 , 0.2   , 0.24  , 0.26  ,\n",
       "       0.28  , 0.31  , 0.34  , 0.37  , 0.4102, 0.46  , 0.5   , 0.56  ,\n",
       "       0.6   , 0.65  , 0.74  , 0.81  , 0.86  , 0.92  , 0.9742, 1.02  ,\n",
       "       1.12  , 1.19  , 1.2678, 1.34  , 1.4246, 1.508 , 1.61  , 1.67  ,\n",
       "       1.74  , 1.8   , 1.89  , 1.95  , 2.04  , 2.1252, 2.22  , 2.32  ,\n",
       "       2.43  , 2.5588, 2.65  , 2.7756, 2.91  , 3.0324, 3.15  , 3.3692,\n",
       "       3.5926, 3.762 , 4.1294, 4.3828, 4.8062, 5.2088, 5.735 , 6.54  ,\n",
       "       6.9998, 7.5   , 8.3498])"
      ]
     },
     "execution_count": 24,
     "metadata": {},
     "output_type": "execute_result"
    }
   ],
   "source": [
    "# percentiles\n",
    "np.quantile(consommation, np.linspace(0.01,0.99,99))"
   ]
  },
  {
   "cell_type": "code",
   "execution_count": 25,
   "id": "156f3b81",
   "metadata": {},
   "outputs": [
    {
     "data": {
      "image/png": "[encoded data removed]",
      "text/plain": [
       "<Figure size 640x480 with 1 Axes>"
      ]
     },
     "metadata": {},
     "output_type": "display_data"
    }
   ],
   "source": [
    "plt.hist(consommation, bins=50);"
   ]
  },
  {
   "cell_type": "markdown",
   "id": "7ac10be4-9b20-4dbf-837d-8454417e6fed",
   "metadata": {
    "tags": []
   },
   "source": [
    "## 2. Variables qualitatives\n",
    "\n",
    "On va regarder les variables qualitatives : toutes sauf la consommation. Petit point particulier sur l'année."
   ]
  },
  {
   "cell_type": "code",
   "execution_count": 26,
   "id": "6f258917-6314-49af-9eef-7d999fbe2be4",
   "metadata": {},
   "outputs": [
    {
     "name": "stdout",
     "output_type": "stream",
     "text": [
      "Help on function unique in module numpy:\n",
      "\n",
      "unique(ar, return_index=False, return_inverse=False, return_counts=False, axis=None, *, equal_nan=True)\n",
      "    Find the unique elements of an array.\n",
      "    \n",
      "    Returns the sorted unique elements of an array. There are three optional\n",
      "    outputs in addition to the unique elements:\n",
      "    \n",
      "    * the indices of the input array that give the unique values\n",
      "    * the indices of the unique array that reconstruct the input array\n",
      "    * the number of times each unique value comes up in the input array\n",
      "    \n",
      "    Parameters\n",
      "    ----------\n",
      "    ar : array_like\n",
      "        Input array. Unless `axis` is specified, this will be flattened if it\n",
      "        is not already 1-D.\n",
      "    return_index : bool, optional\n",
      "        If True, also return the indices of `ar` (along the specified axis,\n",
      "        if provided, or in the flattened array) that result in the unique array.\n",
      "    return_inverse : bool, optional\n",
      "        If True, also return the indices of the unique array (for the specified\n",
      "        axis, if provided) that can be used to reconstruct `ar`.\n",
      "    return_counts : bool, optional\n",
      "        If True, also return the number of times each unique item appears\n",
      "        in `ar`.\n",
      "    axis : int or None, optional\n",
      "        The axis to operate on. If None, `ar` will be flattened. If an integer,\n",
      "        the subarrays indexed by the given axis will be flattened and treated\n",
      "        as the elements of a 1-D array with the dimension of the given axis,\n",
      "        see the notes for more details.  Object arrays or structured arrays\n",
      "        that contain objects are not supported if the `axis` kwarg is used. The\n",
      "        default is None.\n",
      "    \n",
      "        .. versionadded:: 1.13.0\n",
      "    \n",
      "    equal_nan : bool, optional\n",
      "        If True, collapses multiple NaN values in the return array into one.\n",
      "    \n",
      "        .. versionadded:: 1.24\n",
      "    \n",
      "    Returns\n",
      "    -------\n",
      "    unique : ndarray\n",
      "        The sorted unique values.\n",
      "    unique_indices : ndarray, optional\n",
      "        The indices of the first occurrences of the unique values in the\n",
      "        original array. Only provided if `return_index` is True.\n",
      "    unique_inverse : ndarray, optional\n",
      "        The indices to reconstruct the original array from the\n",
      "        unique array. Only provided if `return_inverse` is True.\n",
      "    unique_counts : ndarray, optional\n",
      "        The number of times each of the unique values comes up in the\n",
      "        original array. Only provided if `return_counts` is True.\n",
      "    \n",
      "        .. versionadded:: 1.9.0\n",
      "    \n",
      "    See Also\n",
      "    --------\n",
      "    numpy.lib.arraysetops : Module with a number of other functions for\n",
      "                            performing set operations on arrays.\n",
      "    repeat : Repeat elements of an array.\n",
      "    \n",
      "    Notes\n",
      "    -----\n",
      "    When an axis is specified the subarrays indexed by the axis are sorted.\n",
      "    This is done by making the specified axis the first dimension of the array\n",
      "    (move the axis to the first dimension to keep the order of the other axes)\n",
      "    and then flattening the subarrays in C order. The flattened subarrays are\n",
      "    then viewed as a structured type with each element given a label, with the\n",
      "    effect that we end up with a 1-D array of structured types that can be\n",
      "    treated in the same way as any other 1-D array. The result is that the\n",
      "    flattened subarrays are sorted in lexicographic order starting with the\n",
      "    first element.\n",
      "    \n",
      "    .. versionchanged: NumPy 1.21\n",
      "        If nan values are in the input array, a single nan is put\n",
      "        to the end of the sorted unique values.\n",
      "    \n",
      "        Also for complex arrays all NaN values are considered equivalent\n",
      "        (no matter whether the NaN is in the real or imaginary part).\n",
      "        As the representant for the returned array the smallest one in the\n",
      "        lexicographical order is chosen - see np.sort for how the lexicographical\n",
      "        order is defined for complex arrays.\n",
      "    \n",
      "    Examples\n",
      "    --------\n",
      "    >>> np.unique([1, 1, 2, 2, 3, 3])\n",
      "    array([1, 2, 3])\n",
      "    >>> a = np.array([[1, 1], [2, 3]])\n",
      "    >>> np.unique(a)\n",
      "    array([1, 2, 3])\n",
      "    \n",
      "    Return the unique rows of a 2D array\n",
      "    \n",
      "    >>> a = np.array([[1, 0, 0], [1, 0, 0], [2, 3, 4]])\n",
      "    >>> np.unique(a, axis=0)\n",
      "    array([[1, 0, 0], [2, 3, 4]])\n",
      "    \n",
      "    Return the indices of the original array that give the unique values:\n",
      "    \n",
      "    >>> a = np.array(['a', 'b', 'b', 'c', 'a'])\n",
      "    >>> u, indices = np.unique(a, return_index=True)\n",
      "    >>> u\n",
      "    array(['a', 'b', 'c'], dtype='<U1')\n",
      "    >>> indices\n",
      "    array([0, 1, 3])\n",
      "    >>> a[indices]\n",
      "    array(['a', 'b', 'c'], dtype='<U1')\n",
      "    \n",
      "    Reconstruct the input array from the unique values and inverse:\n",
      "    \n",
      "    >>> a = np.array([1, 2, 6, 4, 2, 3, 2])\n",
      "    >>> u, indices = np.unique(a, return_inverse=True)\n",
      "    >>> u\n",
      "    array([1, 2, 3, 4, 6])\n",
      "    >>> indices\n",
      "    array([0, 1, 4, 3, 1, 2, 1])\n",
      "    >>> u[indices]\n",
      "    array([1, 2, 6, 4, 2, 3, 2])\n",
      "    \n",
      "    Reconstruct the input values from the unique values and counts:\n",
      "    \n",
      "    >>> a = np.array([1, 2, 6, 4, 2, 3, 2])\n",
      "    >>> values, counts = np.unique(a, return_counts=True)\n",
      "    >>> values\n",
      "    array([1, 2, 3, 4, 6])\n",
      "    >>> counts\n",
      "    array([1, 3, 1, 1, 1])\n",
      "    >>> np.repeat(values, counts)\n",
      "    array([1, 2, 2, 2, 3, 4, 6])    # original order not preserved\n",
      "\n"
     ]
    }
   ],
   "source": [
    "help(np.unique)"
   ]
  },
  {
   "cell_type": "code",
   "execution_count": 54,
   "id": "4a3d2f9e-0a6b-4b1e-9623-bb275962dc92",
   "metadata": {},
   "outputs": [
    {
     "data": {
      "text/plain": [
       "array(['Africa', 'Americas', 'Eastern Mediterranean', 'Europe',\n",
       "       'South-East Asia', 'Western Pacific'], dtype='<U75')"
      ]
     },
     "execution_count": 54,
     "metadata": {},
     "output_type": "execute_result"
    }
   ],
   "source": [
    "np.unique(data2[:,1])"
   ]
  },
  {
   "cell_type": "code",
   "execution_count": 28,
   "id": "5f477d9c-d956-4c5d-9f9e-11c73afa9c85",
   "metadata": {},
   "outputs": [
    {
     "data": {
      "text/plain": [
       "(array(['Africa', 'Americas', 'Eastern Mediterranean', 'Europe',\n",
       "        'South-East Asia', 'Western Pacific'], dtype='<U75'),\n",
       " array([ 2,  1, 13, 18, 20,  0]))"
      ]
     },
     "execution_count": 28,
     "metadata": {},
     "output_type": "execute_result"
    }
   ],
   "source": [
    "np.unique(data2[:,1], return_index=True)"
   ]
  },
  {
   "cell_type": "code",
   "execution_count": 29,
   "id": "d4d63e8c-2445-4b3d-866b-2599b2876bac",
   "metadata": {},
   "outputs": [
    {
     "data": {
      "text/plain": [
       "(array(['Africa', 'Americas', 'Eastern Mediterranean', 'Europe',\n",
       "        'South-East Asia', 'Western Pacific'], dtype='<U75'),\n",
       " array([5, 1, 0, ..., 3, 5, 0]))"
      ]
     },
     "execution_count": 29,
     "metadata": {},
     "output_type": "execute_result"
    }
   ],
   "source": [
    "np.unique(data2[:,1], return_inverse=True)"
   ]
  },
  {
   "cell_type": "code",
   "execution_count": 59,
   "id": "ec373220-bf70-43b9-9d3e-2947cc96af0f",
   "metadata": {
    "scrolled": true
   },
   "outputs": [
    {
     "name": "stdout",
     "output_type": "stream",
     "text": [
      "(5, 'Western Pacific')\n",
      "(1, 'Americas')\n",
      "(0, 'Africa')\n",
      "(1, 'Americas')\n",
      "(1, 'Americas')\n",
      "(1, 'Americas')\n",
      "(0, 'Africa')\n",
      "(0, 'Africa')\n",
      "(1, 'Americas')\n",
      "(0, 'Africa')\n",
      "['Africa' 'Americas' 'Eastern Mediterranean' 'Europe' 'South-East Asia'\n",
      " 'Western Pacific']\n"
     ]
    }
   ],
   "source": [
    "modalites, continent_num = np.unique(data2[:,1], return_inverse=True)\n",
    "for i in zip(continent_num[:10], data2[:10,1]):\n",
    "    print(i)\n",
    "print(modalites)"
   ]
  },
  {
   "cell_type": "code",
   "execution_count": 30,
   "id": "c8f0ff78-105c-4e59-8a90-fb57d724a500",
   "metadata": {},
   "outputs": [
    {
     "data": {
      "text/plain": [
       "(array(['Africa', 'Americas', 'Eastern Mediterranean', 'Europe',\n",
       "        'South-East Asia', 'Western Pacific'], dtype='<U75'),\n",
       " array([883, 584, 400, 633, 165, 370]))"
      ]
     },
     "execution_count": 30,
     "metadata": {},
     "output_type": "execute_result"
    }
   ],
   "source": [
    "np.unique(data2[:,1], return_counts=True)"
   ]
  },
  {
   "cell_type": "code",
   "execution_count": 31,
   "id": "014536ed-fb9a-4c53-818f-f0a341723e88",
   "metadata": {},
   "outputs": [
    {
     "data": {
      "text/plain": [
       "{'Africa': 883,\n",
       " 'Americas': 584,\n",
       " 'Eastern Mediterranean': 400,\n",
       " 'Europe': 633,\n",
       " 'South-East Asia': 165,\n",
       " 'Western Pacific': 370}"
      ]
     },
     "execution_count": 31,
     "metadata": {},
     "output_type": "execute_result"
    }
   ],
   "source": [
    "{ cont : nb for cont, nb in zip(np.unique(data2[:,1], return_counts=True)[0],np.unique(data2[:,1], return_counts=True)[1])}"
   ]
  },
  {
   "cell_type": "code",
   "execution_count": 62,
   "id": "7348800c-59b7-4d3e-961f-772c08552007",
   "metadata": {},
   "outputs": [
    {
     "data": {
      "text/plain": [
       "(ModeResult(mode=0, count=883), 'Africa')"
      ]
     },
     "execution_count": 62,
     "metadata": {},
     "output_type": "execute_result"
    }
   ],
   "source": [
    "stat.mode(continent_num), modalites[stat.mode(continent_num).mode]"
   ]
  },
  {
   "cell_type": "code",
   "execution_count": 33,
   "id": "0f14020f-c90f-48fa-bd2f-d94b3bf18c4c",
   "metadata": {},
   "outputs": [
    {
     "data": {
      "text/plain": [
       "array(['Western Pacific', 'Americas', 'Africa', 'Americas', 'Americas',\n",
       "       'Americas', 'Africa', 'Africa', 'Americas', 'Africa', 'Africa',\n",
       "       'Americas', 'Western Pacific', 'Eastern Mediterranean',\n",
       "       'Western Pacific', 'Africa', 'Americas', 'Africa', 'Europe',\n",
       "       'Africa'], dtype='<U75')"
      ]
     },
     "execution_count": 33,
     "metadata": {},
     "output_type": "execute_result"
    }
   ],
   "source": [
    "a=data[:20,1]\n",
    "a"
   ]
  },
  {
   "cell_type": "code",
   "execution_count": 34,
   "id": "e4cc38cc-22b2-4140-a19c-2daab51e61fb",
   "metadata": {},
   "outputs": [],
   "source": [
    "continents, a_num = np.unique(a, return_inverse=True)"
   ]
  },
  {
   "cell_type": "code",
   "execution_count": 35,
   "id": "cb233584-e459-4304-9e8d-eb67efa6810f",
   "metadata": {},
   "outputs": [
    {
     "name": "stdout",
     "output_type": "stream",
     "text": [
      "['Western Pacific' 'Americas' 'Africa' 'Americas' 'Americas' 'Americas'\n",
      " 'Africa' 'Africa' 'Americas' 'Africa' 'Africa' 'Americas'\n",
      " 'Western Pacific' 'Eastern Mediterranean' 'Western Pacific' 'Africa'\n",
      " 'Americas' 'Africa' 'Europe' 'Africa'] [4 1 0 1 1 1 0 0 1 0 0 1 4 2 4 0 1 0 3 0]\n"
     ]
    }
   ],
   "source": [
    "print(a, a_num)"
   ]
  },
  {
   "cell_type": "raw",
   "id": "649f27d3-819c-4618-89ff-e5d857465145",
   "metadata": {},
   "source": []
  }
 ],
 "metadata": {
  "kernelspec": {
   "display_name": "Python 3 (ipykernel)",
   "language": "python",
   "name": "python3"
  },
  "language_info": {
   "codemirror_mode": {
    "name": "ipython",
    "version": 3
   },
   "file_extension": ".py",
   "mimetype": "text/x-python",
   "name": "python",
   "nbconvert_exporter": "python",
   "pygments_lexer": "ipython3",
   "version": "3.9.18"
  }
 },
 "nbformat": 4,
 "nbformat_minor": 5
}
