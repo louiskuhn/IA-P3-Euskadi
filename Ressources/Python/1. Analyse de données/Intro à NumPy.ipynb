{
 "cells": [
  {
   "cell_type": "markdown",
   "metadata": {},
   "source": [
    "# Intro à l'analyse de données avec Numpy"
   ]
  },
  {
   "cell_type": "markdown",
   "metadata": {},
   "source": [
    "## Introduction à Numpy"
   ]
  },
  {
   "cell_type": "markdown",
   "metadata": {},
   "source": [
    "### Les listes"
   ]
  },
  {
   "cell_type": "code",
   "execution_count": 1,
   "metadata": {},
   "outputs": [
    {
     "data": {
      "text/plain": [
       "[['Bayonne', 64], ['Toulouse', 31], ['Bordeaux', 33]]"
      ]
     },
     "execution_count": 1,
     "metadata": {},
     "output_type": "execute_result"
    }
   ],
   "source": [
    "list_of_list =[[\"Bayonne\",64],[\"Toulouse\",31],[\"Bordeaux\",33]]\n",
    "list_of_list"
   ]
  },
  {
   "cell_type": "code",
   "execution_count": 3,
   "metadata": {},
   "outputs": [
    {
     "data": {
      "text/plain": [
       "'Toulouse'"
      ]
     },
     "execution_count": 3,
     "metadata": {},
     "output_type": "execute_result"
    }
   ],
   "source": [
    "list_of_list[1][0]"
   ]
  },
  {
   "cell_type": "code",
   "execution_count": 2,
   "metadata": {},
   "outputs": [
    {
     "data": {
      "text/plain": [
       "[1, 'plages', 8, 'montagne']"
      ]
     },
     "execution_count": 2,
     "metadata": {},
     "output_type": "execute_result"
    }
   ],
   "source": [
    "liste = [1,\"plages\",8]\n",
    "liste.append(\"montagne\")\n",
    "liste"
   ]
  },
  {
   "cell_type": "markdown",
   "metadata": {},
   "source": [
    "Avantages :\n",
    " - différents types de données\n",
    " - modification dynamique\n",
    " \n",
    "Inconvénients :\n",
    " - bcp de mémoire et d'énergie consommées\n",
    " - problème quand la taille des datasets augmente"
   ]
  },
  {
   "cell_type": "markdown",
   "metadata": {},
   "source": [
    "### Les tableaux"
   ]
  },
  {
   "cell_type": "markdown",
   "metadata": {},
   "source": [
    "#### Type ndarray = tableaux de dimensions n"
   ]
  },
  {
   "cell_type": "code",
   "execution_count": 4,
   "metadata": {},
   "outputs": [],
   "source": [
    "import numpy as np"
   ]
  },
  {
   "cell_type": "code",
   "execution_count": 17,
   "metadata": {},
   "outputs": [
    {
     "data": {
      "text/plain": [
       "(array([ 2,  4,  9, 17]), numpy.ndarray)"
      ]
     },
     "execution_count": 17,
     "metadata": {},
     "output_type": "execute_result"
    }
   ],
   "source": [
    "vector = np.array([2,4,9,17])\n",
    "vector, type(vector)"
   ]
  },
  {
   "cell_type": "code",
   "execution_count": 13,
   "metadata": {},
   "outputs": [
    {
     "data": {
      "text/plain": [
       "array([['1', '1', '18'],\n",
       "       ['23', '4', '90'],\n",
       "       ['17', '11', '87'],\n",
       "       ['18', '12', '88']], dtype='<U21')"
      ]
     },
     "execution_count": 13,
     "metadata": {},
     "output_type": "execute_result"
    }
   ],
   "source": [
    "matrix = np.array([[1,1,18],[23,4,'90'],[17,'11',87],[18,12,88]])\n",
    "matrix"
   ]
  },
  {
   "cell_type": "code",
   "execution_count": 55,
   "metadata": {},
   "outputs": [
    {
     "data": {
      "text/plain": [
       "array([[ 1,  1, 18],\n",
       "       [23,  4, 90],\n",
       "       [17, 11, 87],\n",
       "       [18, 12, 88]])"
      ]
     },
     "execution_count": 55,
     "metadata": {},
     "output_type": "execute_result"
    }
   ],
   "source": [
    "matrix = np.array([[1,1,18],[23,4,90],[17,11,87],[18,12,88]])\n",
    "matrix"
   ]
  },
  {
   "cell_type": "code",
   "execution_count": 9,
   "metadata": {},
   "outputs": [
    {
     "data": {
      "text/plain": [
       "dtype('int64')"
      ]
     },
     "execution_count": 9,
     "metadata": {},
     "output_type": "execute_result"
    }
   ],
   "source": [
    "matrix.dtype"
   ]
  },
  {
   "cell_type": "markdown",
   "metadata": {},
   "source": [
    "#### Taille d'un tableau"
   ]
  },
  {
   "cell_type": "code",
   "execution_count": 18,
   "metadata": {},
   "outputs": [
    {
     "name": "stdout",
     "output_type": "stream",
     "text": [
      "(4,) (4, 3)\n"
     ]
    }
   ],
   "source": [
    "# propriété shape\n",
    "print(vector.shape, matrix.shape)"
   ]
  },
  {
   "cell_type": "code",
   "execution_count": 22,
   "metadata": {},
   "outputs": [
    {
     "name": "stdout",
     "output_type": "stream",
     "text": [
      "4\n",
      "3\n"
     ]
    }
   ],
   "source": [
    "print(matrix.shape[0])\n",
    "print(matrix.shape[1])"
   ]
  },
  {
   "cell_type": "code",
   "execution_count": 20,
   "metadata": {},
   "outputs": [
    {
     "data": {
      "text/plain": [
       "(4, 4)"
      ]
     },
     "execution_count": 20,
     "metadata": {},
     "output_type": "execute_result"
    }
   ],
   "source": [
    "len(vector), len(matrix)"
   ]
  },
  {
   "cell_type": "code",
   "execution_count": 19,
   "metadata": {},
   "outputs": [
    {
     "name": "stdout",
     "output_type": "stream",
     "text": [
      "4 12\n"
     ]
    }
   ],
   "source": [
    "# méthode size\n",
    "print(vector.size,matrix.size)"
   ]
  },
  {
   "cell_type": "markdown",
   "metadata": {},
   "source": [
    "#### Lecture d'un fichier de données"
   ]
  },
  {
   "cell_type": "code",
   "execution_count": 27,
   "metadata": {},
   "outputs": [
    {
     "name": "stdout",
     "output_type": "stream",
     "text": [
      "<class 'numpy.ndarray'> float64\n"
     ]
    }
   ],
   "source": [
    "# numpy.genfromtxt() ou numpy.loadtxt()\n",
    "data0 = np.genfromtxt(\"Data/world-alcohol.csv\", delimiter = \",\")\n",
    "\n",
    "# les types de données classiques bool, int (16,32,64), float (16,32,64) et string\n",
    "print(type(data0),data0.dtype)"
   ]
  },
  {
   "cell_type": "code",
   "execution_count": 28,
   "metadata": {},
   "outputs": [
    {
     "data": {
      "text/plain": [
       "array([[      nan,       nan,       nan,       nan,       nan],\n",
       "       [1.986e+03,       nan,       nan,       nan, 0.000e+00],\n",
       "       [1.986e+03,       nan,       nan,       nan, 5.000e-01],\n",
       "       ...,\n",
       "       [1.986e+03,       nan,       nan,       nan, 2.540e+00],\n",
       "       [1.987e+03,       nan,       nan,       nan, 0.000e+00],\n",
       "       [1.986e+03,       nan,       nan,       nan, 5.150e+00]])"
      ]
     },
     "execution_count": 28,
     "metadata": {},
     "output_type": "execute_result"
    }
   ],
   "source": [
    "data0"
   ]
  },
  {
   "cell_type": "code",
   "execution_count": 29,
   "metadata": {},
   "outputs": [],
   "source": [
    "data1 = np.genfromtxt(\"Data/world-alcohol.csv\", delimiter = \",\", dtype=\"U75\")\n",
    "# afficher data0, data1 et data pour voir les effets et l'intérêt des paramètres dtype et skip_header"
   ]
  },
  {
   "cell_type": "code",
   "execution_count": 30,
   "metadata": {},
   "outputs": [
    {
     "data": {
      "text/plain": [
       "array([['Year', 'WHO region', 'Country', 'Beverage Types',\n",
       "        'Display Value'],\n",
       "       ['1986', 'Western Pacific', 'Viet Nam', 'Wine', '0'],\n",
       "       ['1986', 'Americas', 'Uruguay', 'Other', '0.5'],\n",
       "       ...,\n",
       "       ['1986', 'Europe', 'Switzerland', 'Spirits', '2.54'],\n",
       "       ['1987', 'Western Pacific', 'Papua New Guinea', 'Other', '0'],\n",
       "       ['1986', 'Africa', 'Swaziland', 'Other', '5.15']], dtype='<U75')"
      ]
     },
     "execution_count": 30,
     "metadata": {},
     "output_type": "execute_result"
    }
   ],
   "source": [
    "data1"
   ]
  },
  {
   "cell_type": "code",
   "execution_count": 31,
   "metadata": {},
   "outputs": [
    {
     "name": "stdout",
     "output_type": "stream",
     "text": [
      "[['1986' 'Western Pacific' 'Viet Nam' 'Wine' '0']\n",
      " ['1986' 'Americas' 'Uruguay' 'Other' '0.5']\n",
      " ['1985' 'Africa' \"Cte d'Ivoire\" 'Wine' '1.62']\n",
      " ...\n",
      " ['1986' 'Europe' 'Switzerland' 'Spirits' '2.54']\n",
      " ['1987' 'Western Pacific' 'Papua New Guinea' 'Other' '0']\n",
      " ['1986' 'Africa' 'Swaziland' 'Other' '5.15']]\n"
     ]
    }
   ],
   "source": [
    "data = np.genfromtxt(\"Data/world-alcohol.csv\", delimiter = \",\", dtype=\"U75\", skip_header =1)\n",
    "print(data)"
   ]
  },
  {
   "cell_type": "markdown",
   "metadata": {},
   "source": [
    "#### Extraction de valeurs et sous-ensembles"
   ]
  },
  {
   "cell_type": "markdown",
   "metadata": {},
   "source": [
    "Éxécuter les cellules suivantes pour voir et comprendre ce qui se passe. C'est ce qu'on appelle le *slicing*"
   ]
  },
  {
   "cell_type": "code",
   "execution_count": 32,
   "metadata": {},
   "outputs": [
    {
     "data": {
      "text/plain": [
       "'Wine'"
      ]
     },
     "execution_count": 32,
     "metadata": {},
     "output_type": "execute_result"
    }
   ],
   "source": [
    "data[0,3]"
   ]
  },
  {
   "cell_type": "code",
   "execution_count": 35,
   "metadata": {},
   "outputs": [
    {
     "data": {
      "text/plain": [
       "array(['1986', 'Western Pacific', 'Viet Nam', 'Wine', '0'], dtype='<U75')"
      ]
     },
     "execution_count": 35,
     "metadata": {},
     "output_type": "execute_result"
    }
   ],
   "source": [
    "data[0,:]"
   ]
  },
  {
   "cell_type": "code",
   "execution_count": 36,
   "metadata": {},
   "outputs": [
    {
     "data": {
      "text/plain": [
       "array(['Wine', 'Other', 'Wine', ..., 'Spirits', 'Other', 'Other'],\n",
       "      dtype='<U75')"
      ]
     },
     "execution_count": 36,
     "metadata": {},
     "output_type": "execute_result"
    }
   ],
   "source": [
    "data[:,3]"
   ]
  },
  {
   "cell_type": "code",
   "execution_count": 37,
   "metadata": {},
   "outputs": [
    {
     "name": "stdout",
     "output_type": "stream",
     "text": [
      "(3257, 5) (5, 3257)\n"
     ]
    }
   ],
   "source": [
    "print(data.shape,data.T.shape)"
   ]
  },
  {
   "cell_type": "code",
   "execution_count": 38,
   "metadata": {},
   "outputs": [
    {
     "data": {
      "text/plain": [
       "array(['Wine', 'Other', 'Wine', ..., 'Spirits', 'Other', 'Other'],\n",
       "      dtype='<U75')"
      ]
     },
     "execution_count": 38,
     "metadata": {},
     "output_type": "execute_result"
    }
   ],
   "source": [
    "data.T[3,:]"
   ]
  },
  {
   "cell_type": "code",
   "execution_count": 39,
   "metadata": {},
   "outputs": [
    {
     "data": {
      "text/plain": [
       "array([['1986', 'Western Pacific', 'Viet Nam', 'Wine', '0'],\n",
       "       ['1986', 'Americas', 'Uruguay', 'Other', '0.5'],\n",
       "       ['1985', 'Africa', \"Cte d'Ivoire\", 'Wine', '1.62']], dtype='<U75')"
      ]
     },
     "execution_count": 39,
     "metadata": {},
     "output_type": "execute_result"
    }
   ],
   "source": [
    "data[0:3,:]"
   ]
  },
  {
   "cell_type": "code",
   "execution_count": 40,
   "metadata": {},
   "outputs": [
    {
     "data": {
      "text/plain": [
       "array([['1986', 'Western Pacific'],\n",
       "       ['1986', 'Americas'],\n",
       "       ['1985', 'Africa']], dtype='<U75')"
      ]
     },
     "execution_count": 40,
     "metadata": {},
     "output_type": "execute_result"
    }
   ],
   "source": [
    "data[:3,:2]"
   ]
  },
  {
   "cell_type": "code",
   "execution_count": 41,
   "metadata": {},
   "outputs": [
    {
     "data": {
      "text/plain": [
       "array([['Viet Nam', 'Wine', '0'],\n",
       "       ['Uruguay', 'Other', '0.5'],\n",
       "       [\"Cte d'Ivoire\", 'Wine', '1.62'],\n",
       "       ...,\n",
       "       ['Switzerland', 'Spirits', '2.54'],\n",
       "       ['Papua New Guinea', 'Other', '0'],\n",
       "       ['Swaziland', 'Other', '5.15']], dtype='<U75')"
      ]
     },
     "execution_count": 41,
     "metadata": {},
     "output_type": "execute_result"
    }
   ],
   "source": [
    "data[:,2:5]"
   ]
  },
  {
   "cell_type": "code",
   "execution_count": 43,
   "metadata": {},
   "outputs": [
    {
     "data": {
      "text/plain": [
       "array([['Wine', '0'],\n",
       "       ['Other', '0.5'],\n",
       "       ['Wine', '1.62'],\n",
       "       ...,\n",
       "       ['Spirits', '2.54'],\n",
       "       ['Other', '0'],\n",
       "       ['Other', '5.15']], dtype='<U75')"
      ]
     },
     "execution_count": 43,
     "metadata": {},
     "output_type": "execute_result"
    }
   ],
   "source": [
    "data[:,-2:]"
   ]
  },
  {
   "cell_type": "markdown",
   "metadata": {},
   "source": [
    "## Analyse de données avec Numpy"
   ]
  },
  {
   "cell_type": "code",
   "execution_count": 44,
   "metadata": {},
   "outputs": [],
   "source": [
    "### On travaille sur les mêmes données\n",
    "data = np.genfromtxt(\"Data/world-alcohol.csv\", delimiter = \",\", dtype=\"U75\", skip_header =1)"
   ]
  },
  {
   "cell_type": "markdown",
   "metadata": {},
   "source": [
    "### Comparer"
   ]
  },
  {
   "cell_type": "markdown",
   "metadata": {},
   "source": [
    "Possibilité d'effectuer des comparaisons est ce qui rend la bibliothèque Numpy très intéressante !"
   ]
  },
  {
   "cell_type": "code",
   "execution_count": 45,
   "metadata": {},
   "outputs": [
    {
     "data": {
      "text/plain": [
       "array([ 2,  4,  9, 17])"
      ]
     },
     "execution_count": 45,
     "metadata": {},
     "output_type": "execute_result"
    }
   ],
   "source": [
    "vector"
   ]
  },
  {
   "cell_type": "code",
   "execution_count": 52,
   "metadata": {},
   "outputs": [
    {
     "data": {
      "text/plain": [
       "array([False, False,  True, False])"
      ]
     },
     "execution_count": 52,
     "metadata": {},
     "output_type": "execute_result"
    }
   ],
   "source": [
    "vector==9"
   ]
  },
  {
   "cell_type": "code",
   "execution_count": 58,
   "metadata": {},
   "outputs": [
    {
     "data": {
      "text/plain": [
       "array([9])"
      ]
     },
     "execution_count": 58,
     "metadata": {},
     "output_type": "execute_result"
    }
   ],
   "source": [
    "vector[vector==9]"
   ]
  },
  {
   "cell_type": "code",
   "execution_count": 59,
   "metadata": {},
   "outputs": [
    {
     "data": {
      "text/plain": [
       "array([[ 1,  1, 18],\n",
       "       [23,  4, 90],\n",
       "       [17, 11, 87],\n",
       "       [18, 12, 88]])"
      ]
     },
     "execution_count": 59,
     "metadata": {},
     "output_type": "execute_result"
    }
   ],
   "source": [
    "matrix"
   ]
  },
  {
   "cell_type": "code",
   "execution_count": 64,
   "metadata": {},
   "outputs": [
    {
     "data": {
      "text/plain": [
       "array([[ True,  True, False],\n",
       "       [False, False, False],\n",
       "       [False, False, False],\n",
       "       [False, False, False]])"
      ]
     },
     "execution_count": 64,
     "metadata": {},
     "output_type": "execute_result"
    }
   ],
   "source": [
    "matrix==1"
   ]
  },
  {
   "cell_type": "code",
   "execution_count": 65,
   "metadata": {},
   "outputs": [
    {
     "data": {
      "text/plain": [
       "array([1, 1])"
      ]
     },
     "execution_count": 65,
     "metadata": {},
     "output_type": "execute_result"
    }
   ],
   "source": [
    "matrix[matrix==1]"
   ]
  },
  {
   "cell_type": "code",
   "execution_count": 66,
   "metadata": {},
   "outputs": [
    {
     "data": {
      "text/plain": [
       "array([False, False, False, ..., False, False, False])"
      ]
     },
     "execution_count": 66,
     "metadata": {},
     "output_type": "execute_result"
    }
   ],
   "source": [
    "data[:,2]=='France'"
   ]
  },
  {
   "cell_type": "code",
   "execution_count": 67,
   "metadata": {},
   "outputs": [
    {
     "data": {
      "text/plain": [
       "array([['1985', 'Europe', 'France', 'Spirits', '2.7'],\n",
       "       ['1989', 'Europe', 'France', 'Wine', '10.24'],\n",
       "       ['1986', 'Europe', 'France', 'Other', '0.25'],\n",
       "       ['1989', 'Europe', 'France', 'Other', '0.27'],\n",
       "       ['1984', 'Europe', 'France', 'Spirits', '2.58'],\n",
       "       ['1987', 'Europe', 'France', 'Beer', '2.45'],\n",
       "       ['1986', 'Europe', 'France', 'Spirits', '2.71'],\n",
       "       ['1989', 'Europe', 'France', 'Beer', '2.56'],\n",
       "       ['1986', 'Europe', 'France', 'Beer', '2.55'],\n",
       "       ['1984', 'Europe', 'France', 'Beer', '2.62'],\n",
       "       ['1984', 'Europe', 'France', 'Other', '0.24'],\n",
       "       ['1985', 'Europe', 'France', 'Wine', '11.1'],\n",
       "       ['1985', 'Europe', 'France', 'Other', '0.25'],\n",
       "       ['1986', 'Europe', 'France', 'Wine', '10.62'],\n",
       "       ['1989', 'Europe', 'France', 'Spirits', '2.98'],\n",
       "       ['1985', 'Europe', 'France', 'Beer', '2.54'],\n",
       "       ['1987', 'Europe', 'France', 'Wine', '10.42'],\n",
       "       ['1984', 'Europe', 'France', 'Wine', '11.45'],\n",
       "       ['1987', 'Europe', 'France', 'Other', '0.26'],\n",
       "       ['1987', 'Europe', 'France', 'Spirits', '2.77']], dtype='<U75')"
      ]
     },
     "execution_count": 67,
     "metadata": {},
     "output_type": "execute_result"
    }
   ],
   "source": [
    "data[data[:,2]=='France']"
   ]
  },
  {
   "cell_type": "code",
   "execution_count": 68,
   "metadata": {},
   "outputs": [
    {
     "data": {
      "text/plain": [
       "array([['1985', 'Europe', 'France', 'Spirits', '2.7'],\n",
       "       ['1984', 'Americas', 'Canada', 'Spirits', '3.35'],\n",
       "       ['1989', 'Europe', 'France', 'Wine', '10.24'],\n",
       "       ['1989', 'Americas', 'Canada', 'Wine', '1.27'],\n",
       "       ['1984', 'Americas', 'Canada', 'Beer', '5'],\n",
       "       ['1985', 'Americas', 'Canada', 'Beer', '4.94'],\n",
       "       ['1986', 'Europe', 'France', 'Other', '0.25'],\n",
       "       ['1987', 'Americas', 'Canada', 'Wine', '1.3'],\n",
       "       ['1989', 'Europe', 'France', 'Other', '0.27'],\n",
       "       ['1987', 'Americas', 'Canada', 'Beer', '4.83'],\n",
       "       ['1984', 'Europe', 'France', 'Spirits', '2.58'],\n",
       "       ['1987', 'Europe', 'France', 'Beer', '2.45'],\n",
       "       ['1986', 'Americas', 'Canada', 'Other', ''],\n",
       "       ['1986', 'Europe', 'France', 'Spirits', '2.71'],\n",
       "       ['1989', 'Europe', 'France', 'Beer', '2.56'],\n",
       "       ['1986', 'Europe', 'France', 'Beer', '2.55'],\n",
       "       ['1986', 'Americas', 'Canada', 'Spirits', '3.11'],\n",
       "       ['1985', 'Americas', 'Canada', 'Spirits', '3.21'],\n",
       "       ['1984', 'Europe', 'France', 'Beer', '2.62'],\n",
       "       ['1984', 'Europe', 'France', 'Other', '0.24'],\n",
       "       ['1985', 'Americas', 'Canada', 'Other', ''],\n",
       "       ['1986', 'Americas', 'Canada', 'Beer', '4.87'],\n",
       "       ['1985', 'Europe', 'France', 'Wine', '11.1'],\n",
       "       ['1984', 'Americas', 'Canada', 'Wine', '1.24'],\n",
       "       ['1985', 'Europe', 'France', 'Other', '0.25'],\n",
       "       ['1986', 'Europe', 'France', 'Wine', '10.62'],\n",
       "       ['1989', 'Europe', 'France', 'Spirits', '2.98'],\n",
       "       ['1985', 'Europe', 'France', 'Beer', '2.54'],\n",
       "       ['1989', 'Americas', 'Canada', 'Spirits', '2.91'],\n",
       "       ['1987', 'Europe', 'France', 'Wine', '10.42'],\n",
       "       ['1984', 'Europe', 'France', 'Wine', '11.45'],\n",
       "       ['1987', 'Europe', 'France', 'Other', '0.26'],\n",
       "       ['1984', 'Americas', 'Canada', 'Other', ''],\n",
       "       ['1985', 'Americas', 'Canada', 'Wine', '1.29'],\n",
       "       ['1987', 'Americas', 'Canada', 'Spirits', '2.99'],\n",
       "       ['1989', 'Americas', 'Canada', 'Beer', '4.82'],\n",
       "       ['1989', 'Americas', 'Canada', 'Other', ''],\n",
       "       ['1986', 'Americas', 'Canada', 'Wine', '1.33'],\n",
       "       ['1987', 'Europe', 'France', 'Spirits', '2.77'],\n",
       "       ['1987', 'Americas', 'Canada', 'Other', '']], dtype='<U75')"
      ]
     },
     "execution_count": 68,
     "metadata": {},
     "output_type": "execute_result"
    }
   ],
   "source": [
    "data[(data[:,2]=='Canada')|(data[:,2]=='France')]"
   ]
  },
  {
   "cell_type": "code",
   "execution_count": 69,
   "metadata": {},
   "outputs": [
    {
     "data": {
      "text/plain": [
       "array([['1984', 'Americas', 'Canada', 'Spirits', '3.35'],\n",
       "       ['1989', 'Americas', 'Canada', 'Wine', '1.27'],\n",
       "       ['1984', 'Americas', 'Canada', 'Beer', '5'],\n",
       "       ['1985', 'Americas', 'Canada', 'Beer', '4.94'],\n",
       "       ['1986', 'Europe', 'France', 'Other', '0.25'],\n",
       "       ['1987', 'Americas', 'Canada', 'Wine', '1.3'],\n",
       "       ['1987', 'Americas', 'Canada', 'Beer', '4.83'],\n",
       "       ['1986', 'Americas', 'Canada', 'Other', ''],\n",
       "       ['1986', 'Europe', 'France', 'Spirits', '2.71'],\n",
       "       ['1986', 'Europe', 'France', 'Beer', '2.55'],\n",
       "       ['1986', 'Americas', 'Canada', 'Spirits', '3.11'],\n",
       "       ['1985', 'Americas', 'Canada', 'Spirits', '3.21'],\n",
       "       ['1985', 'Americas', 'Canada', 'Other', ''],\n",
       "       ['1986', 'Americas', 'Canada', 'Beer', '4.87'],\n",
       "       ['1984', 'Americas', 'Canada', 'Wine', '1.24'],\n",
       "       ['1986', 'Europe', 'France', 'Wine', '10.62'],\n",
       "       ['1989', 'Americas', 'Canada', 'Spirits', '2.91'],\n",
       "       ['1984', 'Americas', 'Canada', 'Other', ''],\n",
       "       ['1985', 'Americas', 'Canada', 'Wine', '1.29'],\n",
       "       ['1987', 'Americas', 'Canada', 'Spirits', '2.99'],\n",
       "       ['1989', 'Americas', 'Canada', 'Beer', '4.82'],\n",
       "       ['1989', 'Americas', 'Canada', 'Other', ''],\n",
       "       ['1986', 'Americas', 'Canada', 'Wine', '1.33'],\n",
       "       ['1987', 'Americas', 'Canada', 'Other', '']], dtype='<U75')"
      ]
     },
     "execution_count": 69,
     "metadata": {},
     "output_type": "execute_result"
    }
   ],
   "source": [
    "data[(data[:,2]=='Canada') | (data[:,2]=='France') & (data[:,0] == '1986')]"
   ]
  },
  {
   "cell_type": "code",
   "execution_count": 71,
   "metadata": {},
   "outputs": [
    {
     "data": {
      "text/plain": [
       "array([['1986', 'Europe', 'France', 'Other', '0.25'],\n",
       "       ['1986', 'Americas', 'Canada', 'Other', ''],\n",
       "       ['1986', 'Europe', 'France', 'Spirits', '2.71'],\n",
       "       ['1986', 'Europe', 'France', 'Beer', '2.55'],\n",
       "       ['1986', 'Americas', 'Canada', 'Spirits', '3.11'],\n",
       "       ['1986', 'Americas', 'Canada', 'Beer', '4.87'],\n",
       "       ['1986', 'Europe', 'France', 'Wine', '10.62'],\n",
       "       ['1986', 'Americas', 'Canada', 'Wine', '1.33']], dtype='<U75')"
      ]
     },
     "execution_count": 71,
     "metadata": {},
     "output_type": "execute_result"
    }
   ],
   "source": [
    "data86 = data[data[:,0] == '1986']\n",
    "data86[(data86[:,2]=='Canada') | (data86[:,2]=='France')]"
   ]
  },
  {
   "cell_type": "code",
   "execution_count": 70,
   "metadata": {},
   "outputs": [
    {
     "data": {
      "text/plain": [
       "array([['1986', 'Europe', 'France', 'Other', '0.25'],\n",
       "       ['1986', 'Americas', 'Canada', 'Other', ''],\n",
       "       ['1986', 'Europe', 'France', 'Spirits', '2.71'],\n",
       "       ['1986', 'Europe', 'France', 'Beer', '2.55'],\n",
       "       ['1986', 'Americas', 'Canada', 'Spirits', '3.11'],\n",
       "       ['1986', 'Americas', 'Canada', 'Beer', '4.87'],\n",
       "       ['1986', 'Europe', 'France', 'Wine', '10.62'],\n",
       "       ['1986', 'Americas', 'Canada', 'Wine', '1.33']], dtype='<U75')"
      ]
     },
     "execution_count": 70,
     "metadata": {},
     "output_type": "execute_result"
    }
   ],
   "source": [
    "data[((data[:,2]=='Canada') | (data[:,2]=='France')) & (data[:,0] == '1986')]"
   ]
  },
  {
   "cell_type": "markdown",
   "metadata": {},
   "source": [
    "### Remplacer des valeurs"
   ]
  },
  {
   "cell_type": "code",
   "execution_count": 72,
   "metadata": {},
   "outputs": [
    {
     "data": {
      "text/plain": [
       "array([['2018', 'Western Pacific', 'Viet Nam', 'Wine', '0'],\n",
       "       ['2018', 'Americas', 'Uruguay', 'Other', '0.5'],\n",
       "       ['1985', 'Africa', \"Cte d'Ivoire\", 'Wine', '1.62'],\n",
       "       ...,\n",
       "       ['2018', 'Europe', 'Switzerland', 'Spirits', '2.54'],\n",
       "       ['1987', 'Western Pacific', 'Papua New Guinea', 'Other', '0'],\n",
       "       ['2018', 'Africa', 'Swaziland', 'Other', '5.15']], dtype='<U75')"
      ]
     },
     "execution_count": 72,
     "metadata": {},
     "output_type": "execute_result"
    }
   ],
   "source": [
    "data2=data.copy()\n",
    "data2[data2[:,0]=='1986',0]='2018'\n",
    "data2"
   ]
  },
  {
   "cell_type": "markdown",
   "metadata": {},
   "source": [
    "### Convertir des types de données"
   ]
  },
  {
   "cell_type": "code",
   "execution_count": 73,
   "metadata": {},
   "outputs": [
    {
     "data": {
      "text/plain": [
       "array([0.  , 0.5 , 1.62, ..., 2.54, 0.  , 5.15])"
      ]
     },
     "execution_count": 73,
     "metadata": {},
     "output_type": "execute_result"
    }
   ],
   "source": [
    "### pour effectuer des calculs sur la consommation moyenne, celle-ci doit être numérique\n",
    "### or pour le moment il s'agit d'un string (conséquence du dtype=\"U75\")\n",
    "\n",
    "### On utilise la méthode .astype()\n",
    "mon_filtre_valeurs_vide = (data[:,4] == '')\n",
    "data[:,4][mon_filtre_valeurs_vide] = '0'\n",
    "consommation = data[:,4].astype(float)\n",
    "consommation"
   ]
  },
  {
   "cell_type": "markdown",
   "metadata": {},
   "source": [
    "### Calculs avec Numpy"
   ]
  },
  {
   "cell_type": "code",
   "execution_count": 74,
   "metadata": {},
   "outputs": [
    {
     "data": {
      "text/plain": [
       "array([ 2,  4,  9, 17])"
      ]
     },
     "execution_count": 74,
     "metadata": {},
     "output_type": "execute_result"
    }
   ],
   "source": [
    "### sum(), mean(), max(), ...\n",
    "vector"
   ]
  },
  {
   "cell_type": "code",
   "execution_count": 76,
   "metadata": {},
   "outputs": [
    {
     "data": {
      "text/plain": [
       "32"
      ]
     },
     "execution_count": 76,
     "metadata": {},
     "output_type": "execute_result"
    }
   ],
   "source": [
    "sum(vector)"
   ]
  },
  {
   "cell_type": "code",
   "execution_count": 75,
   "metadata": {},
   "outputs": [
    {
     "data": {
      "text/plain": [
       "32"
      ]
     },
     "execution_count": 75,
     "metadata": {},
     "output_type": "execute_result"
    }
   ],
   "source": [
    "vector.sum()"
   ]
  },
  {
   "cell_type": "code",
   "execution_count": 77,
   "metadata": {},
   "outputs": [
    {
     "data": {
      "text/plain": [
       "8.0"
      ]
     },
     "execution_count": 77,
     "metadata": {},
     "output_type": "execute_result"
    }
   ],
   "source": [
    "vector.mean()"
   ]
  },
  {
   "cell_type": "code",
   "execution_count": 78,
   "metadata": {},
   "outputs": [
    {
     "data": {
      "text/plain": [
       "17"
      ]
     },
     "execution_count": 78,
     "metadata": {},
     "output_type": "execute_result"
    }
   ],
   "source": [
    "vector.max()"
   ]
  },
  {
   "cell_type": "code",
   "execution_count": 79,
   "metadata": {},
   "outputs": [
    {
     "data": {
      "text/plain": [
       "2"
      ]
     },
     "execution_count": 79,
     "metadata": {},
     "output_type": "execute_result"
    }
   ],
   "source": [
    "vector.min()"
   ]
  },
  {
   "cell_type": "code",
   "execution_count": 80,
   "metadata": {},
   "outputs": [
    {
     "data": {
      "text/plain": [
       "array([[ 1,  1, 18],\n",
       "       [23,  4, 90],\n",
       "       [17, 11, 87],\n",
       "       [18, 12, 88]])"
      ]
     },
     "execution_count": 80,
     "metadata": {},
     "output_type": "execute_result"
    }
   ],
   "source": [
    "matrix"
   ]
  },
  {
   "cell_type": "code",
   "execution_count": 81,
   "metadata": {},
   "outputs": [
    {
     "data": {
      "text/plain": [
       "283"
      ]
     },
     "execution_count": 81,
     "metadata": {},
     "output_type": "execute_result"
    }
   ],
   "source": [
    "matrix[:,2].sum()"
   ]
  },
  {
   "cell_type": "code",
   "execution_count": 82,
   "metadata": {},
   "outputs": [
    {
     "data": {
      "text/plain": [
       "array([ 59,  28, 283])"
      ]
     },
     "execution_count": 82,
     "metadata": {},
     "output_type": "execute_result"
    }
   ],
   "source": [
    "matrix.sum(axis=0)"
   ]
  },
  {
   "cell_type": "code",
   "execution_count": 83,
   "metadata": {},
   "outputs": [
    {
     "data": {
      "text/plain": [
       "array([ 20, 117, 115, 118])"
      ]
     },
     "execution_count": 83,
     "metadata": {},
     "output_type": "execute_result"
    }
   ],
   "source": [
    "matrix.sum(axis=1)"
   ]
  },
  {
   "cell_type": "code",
   "execution_count": 84,
   "metadata": {},
   "outputs": [
    {
     "data": {
      "text/plain": [
       "283"
      ]
     },
     "execution_count": 84,
     "metadata": {},
     "output_type": "execute_result"
    }
   ],
   "source": [
    "matrix.sum(axis=0)[2]"
   ]
  },
  {
   "cell_type": "code",
   "execution_count": 85,
   "metadata": {},
   "outputs": [
    {
     "name": "stdout",
     "output_type": "stream",
     "text": [
      "[ 20 117 115 118]  et  [ 59  28 283]\n"
     ]
    }
   ],
   "source": [
    "print(matrix.sum(axis=1),' et ', matrix.sum(axis=0))"
   ]
  },
  {
   "cell_type": "code",
   "execution_count": 86,
   "metadata": {},
   "outputs": [
    {
     "name": "stdout",
     "output_type": "stream",
     "text": [
      "[18 90 87 88]  et  [23 12 90]\n"
     ]
    }
   ],
   "source": [
    "print(matrix.max(axis=1),' et ', matrix.max(axis=0))"
   ]
  },
  {
   "cell_type": "code",
   "execution_count": 87,
   "metadata": {},
   "outputs": [
    {
     "name": "stdout",
     "output_type": "stream",
     "text": [
      "[ 6.66666667 39.         38.33333333 39.33333333]  et  [14.75  7.   70.75]\n"
     ]
    }
   ],
   "source": [
    "print(matrix.mean(axis=1),' et ', matrix.mean(axis=0))"
   ]
  },
  {
   "cell_type": "markdown",
   "metadata": {},
   "source": [
    "## Exo : comparer les consommations annuelles d'alcool par pays et déterminer le pays qui a la plus grande consommation d'alcool"
   ]
  },
  {
   "cell_type": "code",
   "execution_count": null,
   "metadata": {},
   "outputs": [],
   "source": []
  }
 ],
 "metadata": {
  "kernelspec": {
   "display_name": "Python 3 (ipykernel)",
   "language": "python",
   "name": "python3"
  },
  "language_info": {
   "codemirror_mode": {
    "name": "ipython",
    "version": 3
   },
   "file_extension": ".py",
   "mimetype": "text/x-python",
   "name": "python",
   "nbconvert_exporter": "python",
   "pygments_lexer": "ipython3",
   "version": "3.9.18"
  }
 },
 "nbformat": 4,
 "nbformat_minor": 4
}
