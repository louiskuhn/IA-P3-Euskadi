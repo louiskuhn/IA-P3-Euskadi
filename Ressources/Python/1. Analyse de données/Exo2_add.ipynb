{
 "cells": [
  {
   "cell_type": "markdown",
   "metadata": {},
   "source": [
    "# Exercice : analyse de données sur Thanksgiving"
   ]
  },
  {
   "cell_type": "markdown",
   "metadata": {},
   "source": [
    "## Import des données"
   ]
  },
  {
   "cell_type": "markdown",
   "metadata": {},
   "source": [
    "1ère étape habituelle : importer les librairies nécessaires, les données thanksgiving.csv et les afficher"
   ]
  },
  {
   "cell_type": "code",
   "execution_count": null,
   "metadata": {},
   "outputs": [],
   "source": []
  },
  {
   "cell_type": "markdown",
   "metadata": {},
   "source": [
    "## Filtrage des données"
   ]
  },
  {
   "cell_type": "markdown",
   "metadata": {},
   "source": [
    "- Comptez le nombre de personne qui célèbrent Thanksgiving.  \n",
    "- Conservez dans votre dataframe uniquement les individus qui célèbrent Thanksgiving.  \n",
    ">Indications :\n",
    ">- Il existe une méthode Series.value_counts()\n",
    ">- La colonne 'Do you celebrate Thanksgiving?' devrait être utile\n",
    ">- Pour rappel, on peut tout à fait réaffecter une partie d'un dataframe à la variable contenant ce dataframe"
   ]
  },
  {
   "cell_type": "code",
   "execution_count": null,
   "metadata": {},
   "outputs": [],
   "source": []
  },
  {
   "cell_type": "markdown",
   "metadata": {},
   "source": [
    "## Exploration des données : les repas de Thanksgiving"
   ]
  },
  {
   "cell_type": "markdown",
   "metadata": {},
   "source": [
    "- Utiliser la méthode Series.value_counts() pour afficher combien de fois chaque résultat apparaît pour la question 'What is typically the main dish at your Thanksgiving dinner?'.\n",
    "- Afficher les colonnes 'What is typically the main dish at your Thanksgiving dinner?' et 'Do you typically have gravy?' pour les individus qui mangent du 'Tofurkey' (la dinde de tofu)."
   ]
  },
  {
   "cell_type": "code",
   "execution_count": null,
   "metadata": {},
   "outputs": [],
   "source": []
  },
  {
   "cell_type": "markdown",
   "metadata": {},
   "source": [
    "## Convertir l'âge en une valeur numérique"
   ]
  },
  {
   "cell_type": "markdown",
   "metadata": {},
   "source": [
    "- Ecrire une fonction permettant de convertir les valeurs de la colonne 'Age' en valeur numérique, à savoir la moyenne entre l'âge inférieur et l'âge supérieur des tranches d'âges utilisées. Cette fonction prendra donc en paramètre une chaine de caractères (les valeurs actuelles de la colonne 'Age') et retournera la moyenne des deux âges de chaque tranche.\n",
    "> Indications (si vous voulez vous pouvez faire sans bien sûr !) :\n",
    ">- Faire en sorte que la fonction ne retourne rien (cf None) si les valeurs sont nulles\n",
    ">- Remplacer le caractère '+' avec une chaine de caractères vide en remplacement pour le supprimer (méthode replace())\n",
    ">- Séparer les chaines de caractères (méthode split()) pour en extraire les bornes d'age\n",
    ">- utiliser int() pour convertir le résultat en entier\n",
    ">- Retourner le résultat\n",
    "- Utiliser la méthode Series.apply() pour appliquer la fonction à chaque valeur de la colonne 'Age' du dataframe data et créer une nouvelle variable age_num.\n",
    "- Appeler la méthode Series.describe() sur la colonne 'age_num'."
   ]
  },
  {
   "cell_type": "code",
   "execution_count": null,
   "metadata": {},
   "outputs": [],
   "source": []
  },
  {
   "cell_type": "markdown",
   "metadata": {},
   "source": [
    "## Convertir les revenus en valeurs numériques"
   ]
  },
  {
   "cell_type": "markdown",
   "metadata": {},
   "source": [
    "Appliquer exactement la même méthodologie pour convertir le revenu (colonne 'How much total combined money did all members of your HOUSEHOLD earn last year?') en valeur numérique.  \n",
    "Nommer la nouvelle variable 'income_num'."
   ]
  },
  {
   "cell_type": "code",
   "execution_count": null,
   "metadata": {},
   "outputs": [],
   "source": []
  },
  {
   "cell_type": "markdown",
   "metadata": {},
   "source": [
    "## Corrélation entre distance et revenus"
   ]
  },
  {
   "cell_type": "markdown",
   "metadata": {},
   "source": [
    "- Regarder de quelle manière les personnes gagnant moins de 100000 dollars voyagent.\n",
    "> _Indications :_ Utiliser les variables 'int_income' et 'How far will you travel for Thanksgiving?'\n",
    "- Faire de même avec les personnes gagnant plus de 100000 dollars."
   ]
  },
  {
   "cell_type": "code",
   "execution_count": null,
   "metadata": {},
   "outputs": [],
   "source": []
  },
  {
   "cell_type": "markdown",
   "metadata": {},
   "source": [
    "## Lien entre passer Thanksgiving entre amis avec l'âge et le revenu"
   ]
  },
  {
   "cell_type": "markdown",
   "metadata": {},
   "source": [
    "- Générer un pivot de table pour regarder la moyenne d'âge des sondés pour chaque catégorie des questions 'Have you ever tried to meet up with hometown friends on Thanksgiving night?' et 'Have you ever attended a \"Friendsgiving?\"'.\n",
    "> _Indications :_ utiliser les colonnes 'Have you ever tried to meet up with hometown friends on Thanksgiving night?','Have you ever attended a \"Friendsgiving?\"' et 'age_num'\n",
    "- Faire de même pour les revenus avec ces 2 questions."
   ]
  },
  {
   "cell_type": "code",
   "execution_count": null,
   "metadata": {},
   "outputs": [],
   "source": []
  }
 ],
 "metadata": {
  "kernelspec": {
   "display_name": "Python 3 (ipykernel)",
   "language": "python",
   "name": "python3"
  },
  "language_info": {
   "codemirror_mode": {
    "name": "ipython",
    "version": 3
   },
   "file_extension": ".py",
   "mimetype": "text/x-python",
   "name": "python",
   "nbconvert_exporter": "python",
   "pygments_lexer": "ipython3",
   "version": "3.9.18"
  }
 },
 "nbformat": 4,
 "nbformat_minor": 4
}
