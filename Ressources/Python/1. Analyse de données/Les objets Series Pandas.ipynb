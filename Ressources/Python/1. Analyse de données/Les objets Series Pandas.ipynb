{
 "cells": [
  {
   "cell_type": "markdown",
   "metadata": {},
   "source": [
    "# Les objets Series Pandas"
   ]
  },
  {
   "cell_type": "markdown",
   "metadata": {},
   "source": [
    "Les 3 types d'objets Pandas :\n",
    "- les Series\n",
    "- les DataFrames\n",
    "- les Panels (ensemble de DataFrames)"
   ]
  },
  {
   "cell_type": "markdown",
   "metadata": {},
   "source": [
    "Les types de données dans un objet Series :\n",
    "- float\n",
    "- int\n",
    "- bool\n",
    "- datetime64\n",
    "- timedelta\n",
    "- category\n",
    "- object"
   ]
  },
  {
   "cell_type": "code",
   "execution_count": 1,
   "metadata": {},
   "outputs": [
    {
     "data": {
      "text/html": [
       "<div>\n",
       "<style scoped>\n",
       "    .dataframe tbody tr th:only-of-type {\n",
       "        vertical-align: middle;\n",
       "    }\n",
       "\n",
       "    .dataframe tbody tr th {\n",
       "        vertical-align: top;\n",
       "    }\n",
       "\n",
       "    .dataframe thead th {\n",
       "        text-align: right;\n",
       "    }\n",
       "</style>\n",
       "<table border=\"1\" class=\"dataframe\">\n",
       "  <thead>\n",
       "    <tr style=\"text-align: right;\">\n",
       "      <th></th>\n",
       "      <th>FILM</th>\n",
       "      <th>RottenTomatoes</th>\n",
       "      <th>RottenTomatoes_User</th>\n",
       "      <th>Metacritic</th>\n",
       "      <th>Metacritic_User</th>\n",
       "      <th>IMDB</th>\n",
       "      <th>Fandango_Stars</th>\n",
       "      <th>Fandango_Ratingvalue</th>\n",
       "      <th>RT_norm</th>\n",
       "      <th>RT_user_norm</th>\n",
       "      <th>...</th>\n",
       "      <th>IMDB_norm</th>\n",
       "      <th>RT_norm_round</th>\n",
       "      <th>RT_user_norm_round</th>\n",
       "      <th>Metacritic_norm_round</th>\n",
       "      <th>Metacritic_user_norm_round</th>\n",
       "      <th>IMDB_norm_round</th>\n",
       "      <th>Metacritic_user_vote_count</th>\n",
       "      <th>IMDB_user_vote_count</th>\n",
       "      <th>Fandango_votes</th>\n",
       "      <th>Fandango_Difference</th>\n",
       "    </tr>\n",
       "  </thead>\n",
       "  <tbody>\n",
       "    <tr>\n",
       "      <th>0</th>\n",
       "      <td>Avengers: Age of Ultron (2015)</td>\n",
       "      <td>74</td>\n",
       "      <td>86</td>\n",
       "      <td>66</td>\n",
       "      <td>7.1</td>\n",
       "      <td>7.8</td>\n",
       "      <td>5.0</td>\n",
       "      <td>4.5</td>\n",
       "      <td>3.70</td>\n",
       "      <td>4.3</td>\n",
       "      <td>...</td>\n",
       "      <td>3.90</td>\n",
       "      <td>3.5</td>\n",
       "      <td>4.5</td>\n",
       "      <td>3.5</td>\n",
       "      <td>3.5</td>\n",
       "      <td>4.0</td>\n",
       "      <td>1330</td>\n",
       "      <td>271107</td>\n",
       "      <td>14846</td>\n",
       "      <td>0.5</td>\n",
       "    </tr>\n",
       "    <tr>\n",
       "      <th>1</th>\n",
       "      <td>Cinderella (2015)</td>\n",
       "      <td>85</td>\n",
       "      <td>80</td>\n",
       "      <td>67</td>\n",
       "      <td>7.5</td>\n",
       "      <td>7.1</td>\n",
       "      <td>5.0</td>\n",
       "      <td>4.5</td>\n",
       "      <td>4.25</td>\n",
       "      <td>4.0</td>\n",
       "      <td>...</td>\n",
       "      <td>3.55</td>\n",
       "      <td>4.5</td>\n",
       "      <td>4.0</td>\n",
       "      <td>3.5</td>\n",
       "      <td>4.0</td>\n",
       "      <td>3.5</td>\n",
       "      <td>249</td>\n",
       "      <td>65709</td>\n",
       "      <td>12640</td>\n",
       "      <td>0.5</td>\n",
       "    </tr>\n",
       "  </tbody>\n",
       "</table>\n",
       "<p>2 rows × 22 columns</p>\n",
       "</div>"
      ],
      "text/plain": [
       "                             FILM  RottenTomatoes  RottenTomatoes_User  \\\n",
       "0  Avengers: Age of Ultron (2015)              74                   86   \n",
       "1               Cinderella (2015)              85                   80   \n",
       "\n",
       "   Metacritic  Metacritic_User  IMDB  Fandango_Stars  Fandango_Ratingvalue  \\\n",
       "0          66              7.1   7.8             5.0                   4.5   \n",
       "1          67              7.5   7.1             5.0                   4.5   \n",
       "\n",
       "   RT_norm  RT_user_norm  ...  IMDB_norm  RT_norm_round  RT_user_norm_round  \\\n",
       "0     3.70           4.3  ...       3.90            3.5                 4.5   \n",
       "1     4.25           4.0  ...       3.55            4.5                 4.0   \n",
       "\n",
       "   Metacritic_norm_round  Metacritic_user_norm_round  IMDB_norm_round  \\\n",
       "0                    3.5                         3.5              4.0   \n",
       "1                    3.5                         4.0              3.5   \n",
       "\n",
       "   Metacritic_user_vote_count  IMDB_user_vote_count  Fandango_votes  \\\n",
       "0                        1330                271107           14846   \n",
       "1                         249                 65709           12640   \n",
       "\n",
       "   Fandango_Difference  \n",
       "0                  0.5  \n",
       "1                  0.5  \n",
       "\n",
       "[2 rows x 22 columns]"
      ]
     },
     "execution_count": 1,
     "metadata": {},
     "output_type": "execute_result"
    }
   ],
   "source": [
    "import pandas as pd\n",
    "\n",
    "fandango = pd.read_csv('Data/fandango-score-comparison.csv')\n",
    "fandango.head(2)"
   ]
  },
  {
   "cell_type": "markdown",
   "metadata": {},
   "source": [
    "## Indexage avec des entiers"
   ]
  },
  {
   "cell_type": "markdown",
   "metadata": {},
   "source": [
    "- Sélectionner la colonne \"FILM\" et assigner la à la variable series_film puis afficher les 5 premières valeurs.\n",
    "- Faire de même avec la colonne \"RottenTomatoes\" et assigner la à la variable series_rt puis afficher les 5 premières valeurs."
   ]
  },
  {
   "cell_type": "code",
   "execution_count": 2,
   "metadata": {},
   "outputs": [
    {
     "data": {
      "text/plain": [
       "0    Avengers: Age of Ultron (2015)\n",
       "1                 Cinderella (2015)\n",
       "2                    Ant-Man (2015)\n",
       "3            Do You Believe? (2015)\n",
       "4     Hot Tub Time Machine 2 (2015)\n",
       "Name: FILM, dtype: object"
      ]
     },
     "execution_count": 2,
     "metadata": {},
     "output_type": "execute_result"
    }
   ],
   "source": [
    "series_film = fandango['FILM']\n",
    "series_film[0:5]"
   ]
  },
  {
   "cell_type": "code",
   "execution_count": 3,
   "metadata": {},
   "outputs": [
    {
     "data": {
      "text/plain": [
       "array(['Avengers: Age of Ultron (2015)', 'Cinderella (2015)',\n",
       "       'Ant-Man (2015)', 'Do You Believe? (2015)',\n",
       "       'Hot Tub Time Machine 2 (2015)', 'The Water Diviner (2015)',\n",
       "       'Irrational Man (2015)', 'Top Five (2014)',\n",
       "       'Shaun the Sheep Movie (2015)', 'Love & Mercy (2015)',\n",
       "       'Far From The Madding Crowd (2015)', 'Black Sea (2015)',\n",
       "       'Leviathan (2014)', 'Unbroken (2014)', 'The Imitation Game (2014)',\n",
       "       'Taken 3 (2015)', 'Ted 2 (2015)', 'Southpaw (2015)',\n",
       "       'Night at the Museum: Secret of the Tomb (2014)', 'Pixels (2015)',\n",
       "       'McFarland, USA (2015)', 'Insidious: Chapter 3 (2015)',\n",
       "       'The Man From U.N.C.L.E. (2015)', 'Run All Night (2015)',\n",
       "       'Trainwreck (2015)', 'Selma (2014)', 'Ex Machina (2015)',\n",
       "       'Still Alice (2015)', 'Wild Tales (2014)',\n",
       "       'The End of the Tour (2015)', 'Red Army (2015)',\n",
       "       'When Marnie Was There (2015)', 'The Hunting Ground (2015)',\n",
       "       'The Boy Next Door (2015)', 'Aloha (2015)', 'The Loft (2015)',\n",
       "       '5 Flights Up (2015)', 'Welcome to Me (2015)',\n",
       "       'Saint Laurent (2015)', 'Maps to the Stars (2015)',\n",
       "       \"I'll See You In My Dreams (2015)\", 'Timbuktu (2015)',\n",
       "       'About Elly (2015)', 'The Diary of a Teenage Girl (2015)',\n",
       "       'Kingsman: The Secret Service (2015)', 'Tomorrowland (2015)',\n",
       "       'The Divergent Series: Insurgent (2015)', 'Annie (2014)',\n",
       "       'Fantastic Four (2015)', 'Terminator Genisys (2015)',\n",
       "       'Pitch Perfect 2 (2015)', 'Entourage (2015)',\n",
       "       'The Age of Adaline (2015)', 'Hot Pursuit (2015)',\n",
       "       'The DUFF (2015)', 'Black or White (2015)',\n",
       "       'Project Almanac (2015)', 'Ricki and the Flash (2015)',\n",
       "       'Seventh Son (2015)', 'Mortdecai (2015)',\n",
       "       'Unfinished Business (2015)', 'American Ultra (2015)',\n",
       "       'True Story (2015)', 'Child 44 (2015)', 'Dark Places (2015)',\n",
       "       'Birdman (2014)', 'The Gift (2015)', 'Unfriended (2015)',\n",
       "       'Monkey Kingdom (2015)', 'Mr. Turner (2014)',\n",
       "       'Seymour: An Introduction (2015)', 'The Wrecking Crew (2015)',\n",
       "       'American Sniper (2015)', 'Furious 7 (2015)',\n",
       "       'The Hobbit: The Battle of the Five Armies (2014)',\n",
       "       'San Andreas (2015)', 'Straight Outta Compton (2015)',\n",
       "       'Vacation (2015)', 'Chappie (2015)', 'Poltergeist (2015)',\n",
       "       'Paper Towns (2015)', 'Big Eyes (2014)', 'Blackhat (2015)',\n",
       "       'Self/less (2015)', 'Sinister 2 (2015)', 'Little Boy (2015)',\n",
       "       'Me and Earl and The Dying Girl (2015)', 'Maggie (2015)',\n",
       "       'Mad Max: Fury Road (2015)', 'Spy (2015)',\n",
       "       'The SpongeBob Movie: Sponge Out of Water (2015)',\n",
       "       'Paddington (2015)', 'Dope (2015)',\n",
       "       'What We Do in the Shadows (2015)', 'The Overnight (2015)',\n",
       "       'The Salt of the Earth (2015)', 'Song of the Sea (2014)',\n",
       "       'Fifty Shades of Grey (2015)', 'Get Hard (2015)', 'Focus (2015)',\n",
       "       'Jupiter Ascending (2015)', 'The Gallows (2015)',\n",
       "       'The Second Best Exotic Marigold Hotel (2015)',\n",
       "       'Strange Magic (2015)', 'The Gunman (2015)',\n",
       "       'Hitman: Agent 47 (2015)', 'Cake (2015)',\n",
       "       'The Vatican Tapes (2015)', 'A Little Chaos (2015)',\n",
       "       'The 100-Year-Old Man Who Climbed Out the Window and Disappeared (2015)',\n",
       "       'Escobar: Paradise Lost (2015)', 'Into the Woods (2014)',\n",
       "       'It Follows (2015)', 'Inherent Vice (2014)',\n",
       "       'A Most Violent Year (2014)', \"While We're Young (2015)\",\n",
       "       'Clouds of Sils Maria (2015)', 'Testament of Youth (2015)',\n",
       "       'Infinitely Polar Bear (2015)', 'Phoenix (2015)',\n",
       "       'The Wolfpack (2015)', 'The Stanford Prison Experiment (2015)',\n",
       "       'Tangerine (2015)', 'Magic Mike XXL (2015)', 'Home (2015)',\n",
       "       'The Wedding Ringer (2015)', 'Woman in Gold (2015)',\n",
       "       'The Last Five Years (2015)',\n",
       "       'Mission: Impossible â€“ Rogue Nation (2015)', 'Amy (2015)',\n",
       "       'Jurassic World (2015)', 'Minions (2015)', 'Max (2015)',\n",
       "       'Paul Blart: Mall Cop 2 (2015)', 'The Longest Ride (2015)',\n",
       "       'The Lazarus Effect (2015)',\n",
       "       'The Woman In Black 2 Angel of Death (2015)',\n",
       "       'Danny Collins (2015)', 'Spare Parts (2015)', 'Serena (2015)',\n",
       "       'Inside Out (2015)', 'Mr. Holmes (2015)', \"'71 (2015)\",\n",
       "       'Two Days, One Night (2014)',\n",
       "       'Gett: The Trial of Viviane Amsalem (2015)',\n",
       "       'Kumiko, The Treasure Hunter (2015)'], dtype=object)"
      ]
     },
     "execution_count": 3,
     "metadata": {},
     "output_type": "execute_result"
    }
   ],
   "source": [
    "series_film.values"
   ]
  },
  {
   "cell_type": "code",
   "execution_count": 4,
   "metadata": {},
   "outputs": [
    {
     "data": {
      "text/plain": [
       "0    74\n",
       "1    85\n",
       "2    80\n",
       "3    18\n",
       "4    14\n",
       "Name: RottenTomatoes, dtype: int64"
      ]
     },
     "execution_count": 4,
     "metadata": {},
     "output_type": "execute_result"
    }
   ],
   "source": [
    "series_rt = fandango['RottenTomatoes']\n",
    "series_rt.head()"
   ]
  },
  {
   "cell_type": "code",
   "execution_count": 5,
   "metadata": {},
   "outputs": [
    {
     "data": {
      "text/plain": [
       "array([ 74,  85,  80,  18,  14,  63,  42,  86,  99,  89,  84,  82,  99,\n",
       "        51,  90,   9,  46,  59,  50,  17,  79,  59,  68,  60,  85,  99,\n",
       "        92,  88,  96,  92,  96,  89,  92,  10,  19,  11,  52,  71,  51,\n",
       "        60,  94,  99,  97,  95,  75,  50,  30,  27,   9,  26,  67,  32,\n",
       "        54,   8,  71,  39,  34,  64,  12,  12,  11,  46,  45,  26,  26,\n",
       "        92,  93,  60,  94,  98, 100,  93,  72,  81,  61,  50,  90,  27,\n",
       "        30,  31,  55,  72,  34,  20,  13,  20,  81,  54,  97,  93,  78,\n",
       "        98,  87,  96,  82,  96,  99,  25,  29,  57,  26,  16,  62,  17,\n",
       "        17,   7,  49,  13,  40,  67,  52,  71,  96,  73,  90,  83,  89,\n",
       "        81,  80,  99,  84,  84,  95,  62,  45,  27,  52,  60,  92,  97,\n",
       "        71,  54,  35,   5,  31,  14,  22,  77,  52,  18,  98,  87,  97,\n",
       "        97, 100,  87])"
      ]
     },
     "execution_count": 5,
     "metadata": {},
     "output_type": "execute_result"
    }
   ],
   "source": [
    "series_rt.values"
   ]
  },
  {
   "cell_type": "markdown",
   "metadata": {},
   "source": [
    "## Personnaliser son indexage"
   ]
  },
  {
   "cell_type": "raw",
   "metadata": {},
   "source": [
    "- Créer un objet Series qu'on nommera series_perso qui aura un index de chaines de caractères et contiendra toutes les notes RottenTomatoes.\n",
    ">- Attention de bien utiliser des listes de valeurs pour nos 2 paramètres de la méthode Series()\n",
    ">- Ne pas oublier d'importer l'objet Series depuis pandas"
   ]
  },
  {
   "cell_type": "code",
   "execution_count": 20,
   "metadata": {},
   "outputs": [],
   "source": [
    "from pandas import Series\n",
    "series_perso = Series(data=series_rt.values, index=series_film.values)"
   ]
  },
  {
   "cell_type": "code",
   "execution_count": 21,
   "metadata": {},
   "outputs": [
    {
     "data": {
      "text/plain": [
       "Avengers: Age of Ultron (2015)                74\n",
       "Cinderella (2015)                             85\n",
       "Ant-Man (2015)                                80\n",
       "Do You Believe? (2015)                        18\n",
       "Hot Tub Time Machine 2 (2015)                 14\n",
       "                                            ... \n",
       "Mr. Holmes (2015)                             87\n",
       "'71 (2015)                                    97\n",
       "Two Days, One Night (2014)                    97\n",
       "Gett: The Trial of Viviane Amsalem (2015)    100\n",
       "Kumiko, The Treasure Hunter (2015)            87\n",
       "Name: Rotten Tomatoes, Length: 146, dtype: int64"
      ]
     },
     "execution_count": 21,
     "metadata": {},
     "output_type": "execute_result"
    }
   ],
   "source": [
    "cols = ['Minions (2015)', 'Taken 3 (2015)']\n",
    "series_perso"
   ]
  },
  {
   "cell_type": "markdown",
   "metadata": {},
   "source": [
    "## Trier un objet Series"
   ]
  },
  {
   "cell_type": "markdown",
   "metadata": {},
   "source": [
    "Trier la Series series_perso par index en utilisant la méthode sort_index() puis par valeurs avec sort_values()"
   ]
  },
  {
   "cell_type": "code",
   "execution_count": 24,
   "metadata": {},
   "outputs": [
    {
     "data": {
      "text/plain": [
       "Gett: The Trial of Viviane Amsalem (2015)    100\n",
       "Seymour: An Introduction (2015)              100\n",
       "Phoenix (2015)                                99\n",
       "Timbuktu (2015)                               99\n",
       "Song of the Sea (2014)                        99\n",
       "Leviathan (2014)                              99\n",
       "Shaun the Sheep Movie (2015)                  99\n",
       "Selma (2014)                                  99\n",
       "Mr. Turner (2014)                             98\n",
       "Inside Out (2015)                             98\n",
       "Name: Rotten Tomatoes, dtype: int64"
      ]
     },
     "execution_count": 24,
     "metadata": {},
     "output_type": "execute_result"
    }
   ],
   "source": [
    "series_perso.sort_index(ascending = False)[0:10]\n",
    "series_perso.sort_values(ascending = False)[0:10]"
   ]
  },
  {
   "cell_type": "markdown",
   "metadata": {},
   "source": [
    "## Transformation de colonnes"
   ]
  },
  {
   "cell_type": "markdown",
   "metadata": {},
   "source": [
    "Pandas étant basé sur la libraire Numpy les fonctions Numpy sont disponibles pour effectuer des opérations sur les objets Series :\n",
    "- Importer la libraire Numpy\n",
    "- Tester un certain nombre de fonctions Numpy sur series_perso : notamment normaliser la Series series_perso (échelle de notes de 0 à 100) pour obtenir une échelle de notes de 0 à 5 en assignant le nouvel objet Series à la variable series_normalized\n",
    "\n",
    "__&Agrave; noter__ : si les opérations numpy sur des array retournent un array (ou une valeur unique par exemple \"np.max\"), lorsqu'on les utilise sur un objet Series, on obtient bien un objet Series en sortie"
   ]
  },
  {
   "cell_type": "code",
   "execution_count": 25,
   "metadata": {},
   "outputs": [
    {
     "data": {
      "text/plain": [
       "Avengers: Age of Ultron (2015)               148\n",
       "Cinderella (2015)                            170\n",
       "Ant-Man (2015)                               160\n",
       "Do You Believe? (2015)                        36\n",
       "Hot Tub Time Machine 2 (2015)                 28\n",
       "                                            ... \n",
       "Mr. Holmes (2015)                            174\n",
       "'71 (2015)                                   194\n",
       "Two Days, One Night (2014)                   194\n",
       "Gett: The Trial of Viviane Amsalem (2015)    200\n",
       "Kumiko, The Treasure Hunter (2015)           174\n",
       "Name: Rotten Tomatoes, Length: 146, dtype: int64"
      ]
     },
     "execution_count": 25,
     "metadata": {},
     "output_type": "execute_result"
    }
   ],
   "source": [
    "import numpy as np\n",
    "# addition\n",
    "np.add(series_perso, series_perso)"
   ]
  },
  {
   "cell_type": "code",
   "execution_count": 31,
   "metadata": {},
   "outputs": [
    {
     "data": {
      "text/plain": [
       "Avengers: Age of Ultron (2015)              -0.985146\n",
       "Cinderella (2015)                           -0.176076\n",
       "Ant-Man (2015)                              -0.993889\n",
       "Do You Believe? (2015)                      -0.750987\n",
       "Hot Tub Time Machine 2 (2015)                0.990607\n",
       "                                               ...   \n",
       "Mr. Holmes (2015)                           -0.821818\n",
       "'71 (2015)                                   0.379608\n",
       "Two Days, One Night (2014)                   0.379608\n",
       "Gett: The Trial of Viviane Amsalem (2015)   -0.506366\n",
       "Kumiko, The Treasure Hunter (2015)          -0.821818\n",
       "Name: Rotten Tomatoes, Length: 146, dtype: float64"
      ]
     },
     "execution_count": 31,
     "metadata": {},
     "output_type": "execute_result"
    }
   ],
   "source": [
    "# fonction sinus\n",
    "np.sin(series_perso)"
   ]
  },
  {
   "cell_type": "code",
   "execution_count": 27,
   "metadata": {},
   "outputs": [
    {
     "data": {
      "text/plain": [
       "60.84931506849315"
      ]
     },
     "execution_count": 27,
     "metadata": {},
     "output_type": "execute_result"
    }
   ],
   "source": [
    "np.mean(series_perso)"
   ]
  },
  {
   "cell_type": "code",
   "execution_count": 28,
   "metadata": {},
   "outputs": [
    {
     "data": {
      "text/plain": [
       "5"
      ]
     },
     "execution_count": 28,
     "metadata": {},
     "output_type": "execute_result"
    }
   ],
   "source": [
    "np.min(series_perso)"
   ]
  },
  {
   "cell_type": "code",
   "execution_count": 29,
   "metadata": {},
   "outputs": [
    {
     "data": {
      "text/plain": [
       "Avengers: Age of Ultron (2015)               3.70\n",
       "Cinderella (2015)                            4.25\n",
       "Ant-Man (2015)                               4.00\n",
       "Do You Believe? (2015)                       0.90\n",
       "Hot Tub Time Machine 2 (2015)                0.70\n",
       "                                             ... \n",
       "Mr. Holmes (2015)                            4.35\n",
       "'71 (2015)                                   4.85\n",
       "Two Days, One Night (2014)                   4.85\n",
       "Gett: The Trial of Viviane Amsalem (2015)    5.00\n",
       "Kumiko, The Treasure Hunter (2015)           4.35\n",
       "Name: Rotten Tomatoes, Length: 146, dtype: float64"
      ]
     },
     "execution_count": 29,
     "metadata": {},
     "output_type": "execute_result"
    }
   ],
   "source": [
    "series_normalized = series_perso/20\n",
    "series_normalized"
   ]
  },
  {
   "cell_type": "markdown",
   "metadata": {},
   "source": [
    "## Comparer et filtrer"
   ]
  },
  {
   "cell_type": "markdown",
   "metadata": {},
   "source": [
    "- Afficher les éléments de series_perso qui correspondent aux notes entre 50 et 80\n",
    "- Créer une fonction prenant 2 paramètres entiers (la borne supérieure et la borne inférieure) et qui retourne uniquement les films dont la note est comprise entre ces 2 entiers"
   ]
  },
  {
   "cell_type": "code",
   "execution_count": 34,
   "metadata": {},
   "outputs": [
    {
     "data": {
      "text/plain": [
       "Avengers: Age of Ultron (2015)                                            74\n",
       "The Water Diviner (2015)                                                  63\n",
       "Unbroken (2014)                                                           51\n",
       "Southpaw (2015)                                                           59\n",
       "McFarland, USA (2015)                                                     79\n",
       "Insidious: Chapter 3 (2015)                                               59\n",
       "The Man From U.N.C.L.E. (2015)                                            68\n",
       "Run All Night (2015)                                                      60\n",
       "5 Flights Up (2015)                                                       52\n",
       "Welcome to Me (2015)                                                      71\n",
       "Saint Laurent (2015)                                                      51\n",
       "Maps to the Stars (2015)                                                  60\n",
       "Kingsman: The Secret Service (2015)                                       75\n",
       "Pitch Perfect 2 (2015)                                                    67\n",
       "The Age of Adaline (2015)                                                 54\n",
       "The DUFF (2015)                                                           71\n",
       "Ricki and the Flash (2015)                                                64\n",
       "Unfriended (2015)                                                         60\n",
       "American Sniper (2015)                                                    72\n",
       "The Hobbit: The Battle of the Five Armies (2014)                          61\n",
       "Paper Towns (2015)                                                        55\n",
       "Big Eyes (2014)                                                           72\n",
       "Maggie (2015)                                                             54\n",
       "The SpongeBob Movie: Sponge Out of Water (2015)                           78\n",
       "Focus (2015)                                                              57\n",
       "The Second Best Exotic Marigold Hotel (2015)                              62\n",
       "The 100-Year-Old Man Who Climbed Out the Window and Disappeared (2015)    67\n",
       "Escobar: Paradise Lost (2015)                                             52\n",
       "Into the Woods (2014)                                                     71\n",
       "Inherent Vice (2014)                                                      73\n",
       "Magic Mike XXL (2015)                                                     62\n",
       "Woman in Gold (2015)                                                      52\n",
       "The Last Five Years (2015)                                                60\n",
       "Jurassic World (2015)                                                     71\n",
       "Minions (2015)                                                            54\n",
       "Danny Collins (2015)                                                      77\n",
       "Spare Parts (2015)                                                        52\n",
       "Name: Rotten Tomatoes, dtype: int64"
      ]
     },
     "execution_count": 34,
     "metadata": {},
     "output_type": "execute_result"
    }
   ],
   "source": [
    "filtre = (series_perso > 50) & (series_perso < b)\n",
    "series_perso[filtre]"
   ]
  },
  {
   "cell_type": "code",
   "execution_count": 36,
   "metadata": {},
   "outputs": [
    {
     "data": {
      "text/plain": [
       "The Water Diviner (2015)                                                  63\n",
       "Irrational Man (2015)                                                     42\n",
       "Unbroken (2014)                                                           51\n",
       "Ted 2 (2015)                                                              46\n",
       "Southpaw (2015)                                                           59\n",
       "Night at the Museum: Secret of the Tomb (2014)                            50\n",
       "Insidious: Chapter 3 (2015)                                               59\n",
       "The Man From U.N.C.L.E. (2015)                                            68\n",
       "Run All Night (2015)                                                      60\n",
       "5 Flights Up (2015)                                                       52\n",
       "Saint Laurent (2015)                                                      51\n",
       "Maps to the Stars (2015)                                                  60\n",
       "Tomorrowland (2015)                                                       50\n",
       "The Divergent Series: Insurgent (2015)                                    30\n",
       "Annie (2014)                                                              27\n",
       "Terminator Genisys (2015)                                                 26\n",
       "Pitch Perfect 2 (2015)                                                    67\n",
       "Entourage (2015)                                                          32\n",
       "The Age of Adaline (2015)                                                 54\n",
       "Black or White (2015)                                                     39\n",
       "Project Almanac (2015)                                                    34\n",
       "Ricki and the Flash (2015)                                                64\n",
       "American Ultra (2015)                                                     46\n",
       "True Story (2015)                                                         45\n",
       "Child 44 (2015)                                                           26\n",
       "Dark Places (2015)                                                        26\n",
       "Unfriended (2015)                                                         60\n",
       "The Hobbit: The Battle of the Five Armies (2014)                          61\n",
       "San Andreas (2015)                                                        50\n",
       "Vacation (2015)                                                           27\n",
       "Chappie (2015)                                                            30\n",
       "Poltergeist (2015)                                                        31\n",
       "Paper Towns (2015)                                                        55\n",
       "Blackhat (2015)                                                           34\n",
       "Maggie (2015)                                                             54\n",
       "Fifty Shades of Grey (2015)                                               25\n",
       "Get Hard (2015)                                                           29\n",
       "Focus (2015)                                                              57\n",
       "Jupiter Ascending (2015)                                                  26\n",
       "The Second Best Exotic Marigold Hotel (2015)                              62\n",
       "Cake (2015)                                                               49\n",
       "A Little Chaos (2015)                                                     40\n",
       "The 100-Year-Old Man Who Climbed Out the Window and Disappeared (2015)    67\n",
       "Escobar: Paradise Lost (2015)                                             52\n",
       "Magic Mike XXL (2015)                                                     62\n",
       "Home (2015)                                                               45\n",
       "The Wedding Ringer (2015)                                                 27\n",
       "Woman in Gold (2015)                                                      52\n",
       "The Last Five Years (2015)                                                60\n",
       "Minions (2015)                                                            54\n",
       "Max (2015)                                                                35\n",
       "The Longest Ride (2015)                                                   31\n",
       "The Woman In Black 2 Angel of Death (2015)                                22\n",
       "Spare Parts (2015)                                                        52\n",
       "Name: Rotten Tomatoes, dtype: int64"
      ]
     },
     "execution_count": 36,
     "metadata": {},
     "output_type": "execute_result"
    }
   ],
   "source": [
    "def note_entre(series, inf, sup):\n",
    "    filtre = (series > inf) & (series < sup)\n",
    "    return series[filtre]\n",
    "\n",
    "note_entre(series_perso, 20, 70)"
   ]
  },
  {
   "cell_type": "markdown",
   "metadata": {},
   "source": [
    "## Alignement des données"
   ]
  },
  {
   "cell_type": "markdown",
   "metadata": {},
   "source": [
    "Il s'agit du principe majeur de pandas.  \n",
    "Les objets Series s'alignent avec les indexes et les DataFrames avec les indexes et les colonnes.  \n",
    "Les Series préservent implicitement le lien entre les intitulés d'indexes et les valeurs à travers les différentes opérations et transformations. Pour les Dataframes, pandas préserve aussi le lien.  \n",
    "Ce principe permet d'uiliser pandas pour travailler avec des données et offre l'avantage comme évoqué précédemment d'utiliser numpy avec (opérations mathématiques classiques)."
   ]
  },
  {
   "cell_type": "markdown",
   "metadata": {},
   "source": [
    "Calculer la moyenne des notes des critiques et des utilisateurs de la plateforme RottenTomatoes.  \n",
    "Indications :\n",
    "- Créer les Series rt_critics (et rt_users) ayant pour valeurs les notes RottenTomatoes des critiques (des users) et comme index le nom des films\n",
    "- Utiliser des opérations mathématiques pour retourner dans un nouvel objet Series rt_mean la moyenne des notes des critiques et des utilisateurs pour chaque film"
   ]
  },
  {
   "cell_type": "code",
   "execution_count": 37,
   "metadata": {},
   "outputs": [],
   "source": [
    "rt_critics = pd.Series(fandango['RottenTomatoes'].values, index=fandango['FILM'].values)\n",
    "rt_users = pd.Series(fandango['RottenTomatoes_User'].values, index=fandango['FILM'].values)"
   ]
  },
  {
   "cell_type": "code",
   "execution_count": 40,
   "metadata": {},
   "outputs": [
    {
     "data": {
      "text/plain": [
       "Avengers: Age of Ultron (2015)               80.0\n",
       "Cinderella (2015)                            82.5\n",
       "Ant-Man (2015)                               85.0\n",
       "Do You Believe? (2015)                       51.0\n",
       "Hot Tub Time Machine 2 (2015)                21.0\n",
       "                                             ... \n",
       "Mr. Holmes (2015)                            82.5\n",
       "'71 (2015)                                   89.5\n",
       "Two Days, One Night (2014)                   87.5\n",
       "Gett: The Trial of Viviane Amsalem (2015)    90.5\n",
       "Kumiko, The Treasure Hunter (2015)           75.0\n",
       "Length: 146, dtype: float64"
      ]
     },
     "execution_count": 40,
     "metadata": {},
     "output_type": "execute_result"
    }
   ],
   "source": [
    "rt_mean_notes = (rt_critics + rt_users) / 2\n",
    "rt_mean_notes"
   ]
  },
  {
   "cell_type": "code",
   "execution_count": null,
   "metadata": {},
   "outputs": [],
   "source": []
  }
 ],
 "metadata": {
  "kernelspec": {
   "display_name": "Python 3 (ipykernel)",
   "language": "python",
   "name": "python3"
  },
  "language_info": {
   "codemirror_mode": {
    "name": "ipython",
    "version": 3
   },
   "file_extension": ".py",
   "mimetype": "text/x-python",
   "name": "python",
   "nbconvert_exporter": "python",
   "pygments_lexer": "ipython3",
   "version": "3.9.18"
  }
 },
 "nbformat": 4,
 "nbformat_minor": 4
}
