{
 "cells": [
  {
   "cell_type": "markdown",
   "metadata": {},
   "source": [
    "# Exercice : analyse de données"
   ]
  },
  {
   "cell_type": "markdown",
   "metadata": {},
   "source": [
    "## Import des données"
   ]
  },
  {
   "cell_type": "markdown",
   "metadata": {},
   "source": [
    "Importer les 2 jeux de données all-ages.csv et recent-grads.csv\n",
    "\n",
    "Voici la [documentation](https://github.com/fivethirtyeight/data/tree/master/college-majors) du dataset, tirée de [cet article](https://fivethirtyeight.com/features/the-economic-guide-to-picking-a-college-major/) par Five Thirty Eight.\n",
    "\n",
    "\n",
    "[Five Thirty Eight](https://en.wikipedia.org/wiki/FiveThirtyEight) c'est un site d'analyses statistiques connu pour leurs analyses poussées et visualisations interactives concernant la politique et les élections américaines. Ils se sont fait connaitre au fil des années car leurs modèles statistiques battaient souvent les prédictions des sondages, notamment en 2012 lorsqu'ils ont correctement prédit les résultats des 51 états, battant absolument toutes les autres prédictions.\n",
    "\n",
    "\n",
    "Voici quelques-uns de leur projets et visualisations interactives, je vous conseille fortement d'y jeter un coup d'oeil : https://projects.fivethirtyeight.com/"
   ]
  },
  {
   "cell_type": "code",
   "execution_count": 1,
   "metadata": {},
   "outputs": [],
   "source": [
    "import pandas as pd\n",
    "import numpy as np"
   ]
  },
  {
   "cell_type": "code",
   "execution_count": 2,
   "metadata": {},
   "outputs": [],
   "source": [
    "aa = pd.read_csv('Data/all-ages.csv')\n",
    "rg = pd.read_csv('Data/recent-grads.csv')"
   ]
  },
  {
   "cell_type": "code",
   "execution_count": 3,
   "metadata": {},
   "outputs": [
    {
     "name": "stdout",
     "output_type": "stream",
     "text": [
      "<class 'pandas.core.frame.DataFrame'>\n",
      "RangeIndex: 173 entries, 0 to 172\n",
      "Data columns (total 11 columns):\n",
      " #   Column                         Non-Null Count  Dtype  \n",
      "---  ------                         --------------  -----  \n",
      " 0   Major_code                     173 non-null    int64  \n",
      " 1   Major                          173 non-null    object \n",
      " 2   Major_category                 173 non-null    object \n",
      " 3   Total                          173 non-null    int64  \n",
      " 4   Employed                       173 non-null    int64  \n",
      " 5   Employed_full_time_year_round  173 non-null    int64  \n",
      " 6   Unemployed                     173 non-null    int64  \n",
      " 7   Unemployment_rate              173 non-null    float64\n",
      " 8   Median                         173 non-null    int64  \n",
      " 9   P25th                          173 non-null    int64  \n",
      " 10  P75th                          173 non-null    float64\n",
      "dtypes: float64(2), int64(7), object(2)\n",
      "memory usage: 15.0+ KB\n",
      "<class 'pandas.core.frame.DataFrame'>\n",
      "RangeIndex: 173 entries, 0 to 172\n",
      "Data columns (total 21 columns):\n",
      " #   Column                Non-Null Count  Dtype  \n",
      "---  ------                --------------  -----  \n",
      " 0   Rank                  173 non-null    int64  \n",
      " 1   Major_code            173 non-null    int64  \n",
      " 2   Major                 173 non-null    object \n",
      " 3   Major_category        173 non-null    object \n",
      " 4   Total                 173 non-null    int64  \n",
      " 5   Sample_size           173 non-null    int64  \n",
      " 6   Men                   173 non-null    int64  \n",
      " 7   Women                 173 non-null    int64  \n",
      " 8   ShareWomen            173 non-null    float64\n",
      " 9   Employed              173 non-null    int64  \n",
      " 10  Full_time             173 non-null    int64  \n",
      " 11  Part_time             173 non-null    int64  \n",
      " 12  Full_time_year_round  173 non-null    int64  \n",
      " 13  Unemployed            173 non-null    int64  \n",
      " 14  Unemployment_rate     172 non-null    float64\n",
      " 15  Median                173 non-null    int64  \n",
      " 16  P25th                 173 non-null    int64  \n",
      " 17  P75th                 173 non-null    int64  \n",
      " 18  College_jobs          173 non-null    int64  \n",
      " 19  Non_college_jobs      173 non-null    int64  \n",
      " 20  Low_wage_jobs         173 non-null    int64  \n",
      "dtypes: float64(2), int64(17), object(2)\n",
      "memory usage: 28.5+ KB\n"
     ]
    }
   ],
   "source": [
    "aa.info()\n",
    "rg.info()"
   ]
  },
  {
   "cell_type": "code",
   "execution_count": 4,
   "metadata": {},
   "outputs": [
    {
     "name": "stdout",
     "output_type": "stream",
     "text": [
      "    Rank  Major_code                  Major  \\\n",
      "73    74        3801  MILITARY TECHNOLOGIES   \n",
      "\n",
      "                         Major_category  Total  Sample_size   Men  Women  \\\n",
      "73  Industrial Arts & Consumer Services    124            4  1756   1323   \n",
      "\n",
      "    ShareWomen  Employed  ...  Part_time  Full_time_year_round  Unemployed  \\\n",
      "73    0.429685         0  ...          0                   111           0   \n",
      "\n",
      "    Unemployment_rate  Median  P25th  P75th  College_jobs  Non_college_jobs  \\\n",
      "73                NaN   40000  40000  40000             0                 0   \n",
      "\n",
      "    Low_wage_jobs  \n",
      "73              0  \n",
      "\n",
      "[1 rows x 21 columns]\n"
     ]
    }
   ],
   "source": [
    "print(rg[rg.isnull().sum(axis=1) > 0])"
   ]
  },
  {
   "cell_type": "code",
   "execution_count": 5,
   "metadata": {},
   "outputs": [],
   "source": [
    "# après nettoyage des \" dans les csv , il reste juste une valeur manquante\n",
    "# il s'agit du taux de chômage mais on sait qu'il y a personne au chômage dans cette major\n",
    "# on peut donc dire que le taux de chômage est 0\n",
    "rg.loc[rg.isnull().sum(axis=1) > 0, 'Unemployment_rate'] = 0"
   ]
  },
  {
   "cell_type": "code",
   "execution_count": 6,
   "metadata": {},
   "outputs": [
    {
     "data": {
      "text/html": [
       "<div>\n",
       "<style scoped>\n",
       "    .dataframe tbody tr th:only-of-type {\n",
       "        vertical-align: middle;\n",
       "    }\n",
       "\n",
       "    .dataframe tbody tr th {\n",
       "        vertical-align: top;\n",
       "    }\n",
       "\n",
       "    .dataframe thead th {\n",
       "        text-align: right;\n",
       "    }\n",
       "</style>\n",
       "<table border=\"1\" class=\"dataframe\">\n",
       "  <thead>\n",
       "    <tr style=\"text-align: right;\">\n",
       "      <th></th>\n",
       "      <th>Rank</th>\n",
       "      <th>Major_code</th>\n",
       "      <th>Major</th>\n",
       "      <th>Major_category</th>\n",
       "      <th>Total</th>\n",
       "      <th>Sample_size</th>\n",
       "      <th>Men</th>\n",
       "      <th>Women</th>\n",
       "      <th>ShareWomen</th>\n",
       "      <th>Employed</th>\n",
       "      <th>...</th>\n",
       "      <th>Part_time</th>\n",
       "      <th>Full_time_year_round</th>\n",
       "      <th>Unemployed</th>\n",
       "      <th>Unemployment_rate</th>\n",
       "      <th>Median</th>\n",
       "      <th>P25th</th>\n",
       "      <th>P75th</th>\n",
       "      <th>College_jobs</th>\n",
       "      <th>Non_college_jobs</th>\n",
       "      <th>Low_wage_jobs</th>\n",
       "    </tr>\n",
       "  </thead>\n",
       "  <tbody>\n",
       "  </tbody>\n",
       "</table>\n",
       "<p>0 rows × 21 columns</p>\n",
       "</div>"
      ],
      "text/plain": [
       "Empty DataFrame\n",
       "Columns: [Rank, Major_code, Major, Major_category, Total, Sample_size, Men, Women, ShareWomen, Employed, Full_time, Part_time, Full_time_year_round, Unemployed, Unemployment_rate, Median, P25th, P75th, College_jobs, Non_college_jobs, Low_wage_jobs]\n",
       "Index: []\n",
       "\n",
       "[0 rows x 21 columns]"
      ]
     },
     "execution_count": 6,
     "metadata": {},
     "output_type": "execute_result"
    }
   ],
   "source": [
    "rg[rg.isnull().sum(axis=1) > 0]"
   ]
  },
  {
   "cell_type": "code",
   "execution_count": 7,
   "metadata": {},
   "outputs": [
    {
     "name": "stdout",
     "output_type": "stream",
     "text": [
      "173 173\n"
     ]
    },
    {
     "data": {
      "text/plain": [
       "173"
      ]
     },
     "execution_count": 7,
     "metadata": {},
     "output_type": "execute_result"
    }
   ],
   "source": [
    "# on peut éventuellement fusionner les 2 dataframes\n",
    "# on vérifie que major_code est bien une varialble identifiante et identique dans les 2 df\n",
    "print(len(aa.Major_code.unique()), len(rg.Major_code.unique()))\n",
    "a = np.sort(aa.Major_code.unique())\n",
    "b = np.sort(rg.Major_code.unique())\n",
    "np.sum(a == b)"
   ]
  },
  {
   "cell_type": "code",
   "execution_count": 8,
   "metadata": {},
   "outputs": [
    {
     "name": "stdout",
     "output_type": "stream",
     "text": [
      "<class 'pandas.core.frame.DataFrame'>\n",
      "RangeIndex: 173 entries, 0 to 172\n",
      "Data columns (total 31 columns):\n",
      " #   Column                         Non-Null Count  Dtype  \n",
      "---  ------                         --------------  -----  \n",
      " 0   Major_code                     173 non-null    int64  \n",
      " 1   Major_aa                       173 non-null    object \n",
      " 2   Major_category_aa              173 non-null    object \n",
      " 3   Total_aa                       173 non-null    int64  \n",
      " 4   Employed_aa                    173 non-null    int64  \n",
      " 5   Employed_full_time_year_round  173 non-null    int64  \n",
      " 6   Unemployed_aa                  173 non-null    int64  \n",
      " 7   Unemployment_rate_aa           173 non-null    float64\n",
      " 8   Median_aa                      173 non-null    int64  \n",
      " 9   P25th_aa                       173 non-null    int64  \n",
      " 10  P75th_aa                       173 non-null    float64\n",
      " 11  Rank                           173 non-null    int64  \n",
      " 12  Major_rg                       173 non-null    object \n",
      " 13  Major_category_rg              173 non-null    object \n",
      " 14  Total_rg                       173 non-null    int64  \n",
      " 15  Sample_size                    173 non-null    int64  \n",
      " 16  Men                            173 non-null    int64  \n",
      " 17  Women                          173 non-null    int64  \n",
      " 18  ShareWomen                     173 non-null    float64\n",
      " 19  Employed_rg                    173 non-null    int64  \n",
      " 20  Full_time                      173 non-null    int64  \n",
      " 21  Part_time                      173 non-null    int64  \n",
      " 22  Full_time_year_round           173 non-null    int64  \n",
      " 23  Unemployed_rg                  173 non-null    int64  \n",
      " 24  Unemployment_rate_rg           173 non-null    float64\n",
      " 25  Median_rg                      173 non-null    int64  \n",
      " 26  P25th_rg                       173 non-null    int64  \n",
      " 27  P75th_rg                       173 non-null    int64  \n",
      " 28  College_jobs                   173 non-null    int64  \n",
      " 29  Non_college_jobs               173 non-null    int64  \n",
      " 30  Low_wage_jobs                  173 non-null    int64  \n",
      "dtypes: float64(4), int64(23), object(4)\n",
      "memory usage: 42.0+ KB\n"
     ]
    }
   ],
   "source": [
    "# on fusionne sur cette variable\n",
    "df = pd.merge(aa, rg, on=\"Major_code\", suffixes=('_aa', '_rg'))\n",
    "df.info()"
   ]
  },
  {
   "cell_type": "markdown",
   "metadata": {},
   "source": [
    "## Calculer le nombre d'étudiants par catégorie de Major (Major_category) dans chaque dataset"
   ]
  },
  {
   "cell_type": "markdown",
   "metadata": {},
   "source": [
    "#### Contraintes:\n",
    "- Définir une fonction permettant ce calcul et prenant commme paramètre un dataframe. Quel est l'intérêt d'une telle solution ?\n",
    "- Le refaire d'une seconde manière avec une méthode déjà vue et permettant d'obtenir des tableaux croisés à partir d'un dataframe..."
   ]
  },
  {
   "cell_type": "code",
   "execution_count": 9,
   "metadata": {},
   "outputs": [],
   "source": [
    "# RAPPEL\n",
    "# vous voulez sélection des colonnes pour certaines observations\n",
    "# .loc[lignes, colonnes] -> avec noms de colonnes\n",
    "# .iloc[lignes, colonnes] -> avec positions des colonnes\n",
    "\n",
    "# juste sélectionner une ou plusieurs colonnes\n",
    "# df[[\"nom1\", \"nom2\"]]\n",
    "# df[\"nom1\"] <==> df.nom1"
   ]
  },
  {
   "cell_type": "code",
   "execution_count": 10,
   "metadata": {},
   "outputs": [
    {
     "data": {
      "text/plain": [
       "(Major_category\n",
       " Agriculture & Natural Resources         632437\n",
       " Arts                                   1805865\n",
       " Biology & Life Science                 1338186\n",
       " Business                               9858741\n",
       " Communications & Journalism            1803822\n",
       " Computers & Mathematics                1781378\n",
       " Education                              4700118\n",
       " Engineering                            3576013\n",
       " Health                                 2950859\n",
       " Humanities & Liberal Arts              3738335\n",
       " Industrial Arts & Consumer Services    1033798\n",
       " Interdisciplinary                        45199\n",
       " Law & Public Policy                     902926\n",
       " Physical Sciences                      1025318\n",
       " Psychology & Social Work               1987278\n",
       " Social Science                         2654125\n",
       " Name: Total, dtype: int64,\n",
       " Major_category\n",
       " Agriculture & Natural Resources          79981\n",
       " Arts                                    357130\n",
       " Biology & Life Science                  453862\n",
       " Business                               1302376\n",
       " Communications & Journalism             392601\n",
       " Computers & Mathematics                 299008\n",
       " Education                               559129\n",
       " Engineering                             537583\n",
       " Health                                  463230\n",
       " Humanities & Liberal Arts               713468\n",
       " Industrial Arts & Consumer Services     229792\n",
       " Interdisciplinary                        12296\n",
       " Law & Public Policy                     179107\n",
       " Physical Sciences                       185479\n",
       " Psychology & Social Work                481007\n",
       " Social Science                          529966\n",
       " Name: Total, dtype: int64)"
      ]
     },
     "execution_count": 10,
     "metadata": {},
     "output_type": "execute_result"
    }
   ],
   "source": [
    "nb_stud = lambda df : df.groupby(\"Major_category\").Total.sum()\n",
    "\n",
    "nb_stud(aa), nb_stud(rg)"
   ]
  },
  {
   "cell_type": "code",
   "execution_count": 11,
   "metadata": {},
   "outputs": [
    {
     "data": {
      "text/html": [
       "<div>\n",
       "<style scoped>\n",
       "    .dataframe tbody tr th:only-of-type {\n",
       "        vertical-align: middle;\n",
       "    }\n",
       "\n",
       "    .dataframe tbody tr th {\n",
       "        vertical-align: top;\n",
       "    }\n",
       "\n",
       "    .dataframe thead th {\n",
       "        text-align: right;\n",
       "    }\n",
       "</style>\n",
       "<table border=\"1\" class=\"dataframe\">\n",
       "  <thead>\n",
       "    <tr style=\"text-align: right;\">\n",
       "      <th></th>\n",
       "      <th>Total_aa</th>\n",
       "      <th>Total_rg</th>\n",
       "    </tr>\n",
       "    <tr>\n",
       "      <th>Major_category</th>\n",
       "      <th></th>\n",
       "      <th></th>\n",
       "    </tr>\n",
       "  </thead>\n",
       "  <tbody>\n",
       "    <tr>\n",
       "      <th>Agriculture &amp; Natural Resources</th>\n",
       "      <td>632437</td>\n",
       "      <td>79981</td>\n",
       "    </tr>\n",
       "    <tr>\n",
       "      <th>Arts</th>\n",
       "      <td>1805865</td>\n",
       "      <td>357130</td>\n",
       "    </tr>\n",
       "    <tr>\n",
       "      <th>Biology &amp; Life Science</th>\n",
       "      <td>1338186</td>\n",
       "      <td>453862</td>\n",
       "    </tr>\n",
       "    <tr>\n",
       "      <th>Business</th>\n",
       "      <td>9858741</td>\n",
       "      <td>1302376</td>\n",
       "    </tr>\n",
       "    <tr>\n",
       "      <th>Communications &amp; Journalism</th>\n",
       "      <td>1803822</td>\n",
       "      <td>392601</td>\n",
       "    </tr>\n",
       "    <tr>\n",
       "      <th>Computers &amp; Mathematics</th>\n",
       "      <td>1781378</td>\n",
       "      <td>299008</td>\n",
       "    </tr>\n",
       "    <tr>\n",
       "      <th>Education</th>\n",
       "      <td>4700118</td>\n",
       "      <td>559129</td>\n",
       "    </tr>\n",
       "    <tr>\n",
       "      <th>Engineering</th>\n",
       "      <td>3576013</td>\n",
       "      <td>537583</td>\n",
       "    </tr>\n",
       "    <tr>\n",
       "      <th>Health</th>\n",
       "      <td>2950859</td>\n",
       "      <td>463230</td>\n",
       "    </tr>\n",
       "    <tr>\n",
       "      <th>Humanities &amp; Liberal Arts</th>\n",
       "      <td>3738335</td>\n",
       "      <td>713468</td>\n",
       "    </tr>\n",
       "    <tr>\n",
       "      <th>Industrial Arts &amp; Consumer Services</th>\n",
       "      <td>1033798</td>\n",
       "      <td>229792</td>\n",
       "    </tr>\n",
       "    <tr>\n",
       "      <th>Interdisciplinary</th>\n",
       "      <td>45199</td>\n",
       "      <td>12296</td>\n",
       "    </tr>\n",
       "    <tr>\n",
       "      <th>Law &amp; Public Policy</th>\n",
       "      <td>902926</td>\n",
       "      <td>179107</td>\n",
       "    </tr>\n",
       "    <tr>\n",
       "      <th>Physical Sciences</th>\n",
       "      <td>1025318</td>\n",
       "      <td>185479</td>\n",
       "    </tr>\n",
       "    <tr>\n",
       "      <th>Psychology &amp; Social Work</th>\n",
       "      <td>1987278</td>\n",
       "      <td>481007</td>\n",
       "    </tr>\n",
       "    <tr>\n",
       "      <th>Social Science</th>\n",
       "      <td>2654125</td>\n",
       "      <td>529966</td>\n",
       "    </tr>\n",
       "  </tbody>\n",
       "</table>\n",
       "</div>"
      ],
      "text/plain": [
       "                                     Total_aa  Total_rg\n",
       "Major_category                                         \n",
       "Agriculture & Natural Resources        632437     79981\n",
       "Arts                                  1805865    357130\n",
       "Biology & Life Science                1338186    453862\n",
       "Business                              9858741   1302376\n",
       "Communications & Journalism           1803822    392601\n",
       "Computers & Mathematics               1781378    299008\n",
       "Education                             4700118    559129\n",
       "Engineering                           3576013    537583\n",
       "Health                                2950859    463230\n",
       "Humanities & Liberal Arts             3738335    713468\n",
       "Industrial Arts & Consumer Services   1033798    229792\n",
       "Interdisciplinary                       45199     12296\n",
       "Law & Public Policy                    902926    179107\n",
       "Physical Sciences                     1025318    185479\n",
       "Psychology & Social Work              1987278    481007\n",
       "Social Science                        2654125    529966"
      ]
     },
     "execution_count": 11,
     "metadata": {},
     "output_type": "execute_result"
    }
   ],
   "source": [
    "res = aa.pivot_table(index=\"Major_category\", values=\"Total\", aggfunc=\"sum\")\n",
    "res.rename(columns={\"Total\":\"Total_aa\"}, inplace=True)\n",
    "res['Total_rg'] = rg.pivot_table(index=\"Major_category\", values=\"Total\", aggfunc=\"sum\")\n",
    "res"
   ]
  },
  {
   "cell_type": "markdown",
   "metadata": {},
   "source": [
    "## Taux de jobs à faible salaire"
   ]
  },
  {
   "cell_type": "markdown",
   "metadata": {},
   "source": [
    "Utiliser les colonnes \"Low_wage_jobs\" et \"Total\" pour calculer la proportion de jeunes diplômés (donc recent_grads) qui ont du accepter des jobs à faible salaire. Interprétez ce résultat !"
   ]
  },
  {
   "cell_type": "code",
   "execution_count": 12,
   "metadata": {},
   "outputs": [
    {
     "data": {
      "text/plain": [
       "9.85"
      ]
     },
     "execution_count": 12,
     "metadata": {},
     "output_type": "execute_result"
    }
   ],
   "source": [
    "round(rg.Low_wage_jobs.sum()/rg.Total.sum() * 100, 2)"
   ]
  },
  {
   "cell_type": "code",
   "execution_count": 13,
   "metadata": {},
   "outputs": [
    {
     "data": {
      "text/html": [
       "<div>\n",
       "<style scoped>\n",
       "    .dataframe tbody tr th:only-of-type {\n",
       "        vertical-align: middle;\n",
       "    }\n",
       "\n",
       "    .dataframe tbody tr th {\n",
       "        vertical-align: top;\n",
       "    }\n",
       "\n",
       "    .dataframe thead th {\n",
       "        text-align: right;\n",
       "    }\n",
       "</style>\n",
       "<table border=\"1\" class=\"dataframe\">\n",
       "  <thead>\n",
       "    <tr style=\"text-align: right;\">\n",
       "      <th></th>\n",
       "      <th>low_wage_jobs_rate</th>\n",
       "    </tr>\n",
       "    <tr>\n",
       "      <th>Major_category</th>\n",
       "      <th></th>\n",
       "    </tr>\n",
       "  </thead>\n",
       "  <tbody>\n",
       "    <tr>\n",
       "      <th>Agriculture &amp; Natural Resources</th>\n",
       "      <td>0.080408</td>\n",
       "    </tr>\n",
       "    <tr>\n",
       "      <th>Arts</th>\n",
       "      <td>0.184417</td>\n",
       "    </tr>\n",
       "    <tr>\n",
       "      <th>Biology &amp; Life Science</th>\n",
       "      <td>0.074043</td>\n",
       "    </tr>\n",
       "    <tr>\n",
       "      <th>Business</th>\n",
       "      <td>0.091599</td>\n",
       "    </tr>\n",
       "    <tr>\n",
       "      <th>Communications &amp; Journalism</th>\n",
       "      <td>0.125711</td>\n",
       "    </tr>\n",
       "    <tr>\n",
       "      <th>Computers &amp; Mathematics</th>\n",
       "      <td>0.059442</td>\n",
       "    </tr>\n",
       "    <tr>\n",
       "      <th>Education</th>\n",
       "      <td>0.078400</td>\n",
       "    </tr>\n",
       "    <tr>\n",
       "      <th>Engineering</th>\n",
       "      <td>0.051016</td>\n",
       "    </tr>\n",
       "    <tr>\n",
       "      <th>Health</th>\n",
       "      <td>0.090949</td>\n",
       "    </tr>\n",
       "    <tr>\n",
       "      <th>Humanities &amp; Liberal Arts</th>\n",
       "      <td>0.134025</td>\n",
       "    </tr>\n",
       "    <tr>\n",
       "      <th>Industrial Arts &amp; Consumer Services</th>\n",
       "      <td>0.090585</td>\n",
       "    </tr>\n",
       "    <tr>\n",
       "      <th>Interdisciplinary</th>\n",
       "      <td>0.086288</td>\n",
       "    </tr>\n",
       "    <tr>\n",
       "      <th>Law &amp; Public Policy</th>\n",
       "      <td>0.097922</td>\n",
       "    </tr>\n",
       "    <tr>\n",
       "      <th>Physical Sciences</th>\n",
       "      <td>0.091722</td>\n",
       "    </tr>\n",
       "    <tr>\n",
       "      <th>Psychology &amp; Social Work</th>\n",
       "      <td>0.098176</td>\n",
       "    </tr>\n",
       "    <tr>\n",
       "      <th>Social Science</th>\n",
       "      <td>0.115596</td>\n",
       "    </tr>\n",
       "  </tbody>\n",
       "</table>\n",
       "</div>"
      ],
      "text/plain": [
       "                                     low_wage_jobs_rate\n",
       "Major_category                                         \n",
       "Agriculture & Natural Resources                0.080408\n",
       "Arts                                           0.184417\n",
       "Biology & Life Science                         0.074043\n",
       "Business                                       0.091599\n",
       "Communications & Journalism                    0.125711\n",
       "Computers & Mathematics                        0.059442\n",
       "Education                                      0.078400\n",
       "Engineering                                    0.051016\n",
       "Health                                         0.090949\n",
       "Humanities & Liberal Arts                      0.134025\n",
       "Industrial Arts & Consumer Services            0.090585\n",
       "Interdisciplinary                              0.086288\n",
       "Law & Public Policy                            0.097922\n",
       "Physical Sciences                              0.091722\n",
       "Psychology & Social Work                       0.098176\n",
       "Social Science                                 0.115596"
      ]
     },
     "execution_count": 13,
     "metadata": {},
     "output_type": "execute_result"
    }
   ],
   "source": [
    "rg[\"low_wage_jobs_rate\"] = rg.Low_wage_jobs/ rg.Total\n",
    "rg.pivot_table(index=\"Major_category\", values=\"low_wage_jobs_rate\", aggfunc=\"mean\")"
   ]
  },
  {
   "cell_type": "markdown",
   "metadata": {},
   "source": [
    "## Comparer les données : déterminer le nombre de Major pour lesquelles les jeunes diplômés ont un taux de chômage plus faible qu'en population générale"
   ]
  },
  {
   "cell_type": "markdown",
   "metadata": {},
   "source": [
    "Indications :\n",
    "- Créer un compteur\n",
    "- Utiliser une boucle for pour parcourir toutes les majors.\n",
    ">- Comparer les valeurs pour la colonne \"Unemployment_rate\" pour voir lequel des 2 DataFrames possèdent la valeur la plus basse\n",
    ">- Incrémenter le compteur si la valeur pour Unemployment_rate est plus petite dans le dataframe recent_grads que dans le dataframe all_ages\n",
    "- Afficher le résultat du compteur.\n",
    "- On pourra aussi éventuellement stocker dans une liste les majors concernées"
   ]
  },
  {
   "cell_type": "code",
   "execution_count": 18,
   "metadata": {},
   "outputs": [
    {
     "data": {
      "text/plain": [
       "(44,\n",
       " ['PETROLEUM ENGINEERING',\n",
       "  'METALLURGICAL ENGINEERING',\n",
       "  'ASTRONOMY AND ASTROPHYSICS',\n",
       "  'ENGINEERING MECHANICS PHYSICS AND SCIENCE',\n",
       "  'INDUSTRIAL AND MANUFACTURING ENGINEERING',\n",
       "  'ARCHITECTURAL ENGINEERING',\n",
       "  'COURT REPORTING',\n",
       "  'MATERIALS ENGINEERING AND MATERIALS SCIENCE',\n",
       "  'MISCELLANEOUS FINE ARTS',\n",
       "  'INDUSTRIAL PRODUCTION TECHNOLOGIES',\n",
       "  'MATHEMATICS',\n",
       "  'PHYSICS',\n",
       "  'ENGINEERING AND INDUSTRIAL MANAGEMENT',\n",
       "  'MATHEMATICS AND COMPUTER SCIENCE',\n",
       "  'GENERAL AGRICULTURE',\n",
       "  'MISCELLANEOUS ENGINEERING TECHNOLOGIES',\n",
       "  'GENETICS',\n",
       "  'UNITED STATES HISTORY',\n",
       "  'PHYSICAL SCIENCES',\n",
       "  'MILITARY TECHNOLOGIES',\n",
       "  'CHEMISTRY',\n",
       "  'ELECTRICAL, MECHANICAL, AND PRECISION TECHNOLOGIES AND PRODUCTION',\n",
       "  'BOTANY',\n",
       "  'HUMAN RESOURCES AND PERSONNEL MANAGEMENT',\n",
       "  'GEOSCIENCES',\n",
       "  'SOCIAL PSYCHOLOGY',\n",
       "  'AREA ETHNIC AND CIVILIZATION STUDIES',\n",
       "  'SPECIAL NEEDS EDUCATION',\n",
       "  'NEUROSCIENCE',\n",
       "  'MULTI/INTERDISCIPLINARY STUDIES',\n",
       "  'ATMOSPHERIC SCIENCES AND METEOROLOGY',\n",
       "  'SOIL SCIENCE',\n",
       "  'MATHEMATICS TEACHER EDUCATION',\n",
       "  'HEALTH AND MEDICAL PREPARATORY PROGRAMS',\n",
       "  'ART AND MUSIC EDUCATION',\n",
       "  'ART HISTORY AND CRITICISM',\n",
       "  'MISCELLANEOUS PSYCHOLOGY',\n",
       "  'HUMAN SERVICES AND COMMUNITY ORGANIZATION',\n",
       "  'HUMANITIES',\n",
       "  'EARLY CHILDHOOD EDUCATION',\n",
       "  'DRAMA AND THEATER ARTS',\n",
       "  'ZOOLOGY',\n",
       "  'EDUCATIONAL PSYCHOLOGY',\n",
       "  'COUNSELING PSYCHOLOGY'])"
      ]
     },
     "execution_count": 18,
     "metadata": {},
     "output_type": "execute_result"
    }
   ],
   "source": [
    "cpt = 0\n",
    "majors = []\n",
    "for m in rg[\"Major\"].unique():\n",
    "    tx_rg = rg.loc[rg.Major == m, \"Unemployment_rate\"].values\n",
    "    tx_aa = aa.loc[aa.Major == m, \"Unemployment_rate\"].values\n",
    "    if tx_rg < tx_aa :\n",
    "        cpt += 1\n",
    "        majors.append(m)\n",
    "cpt, majors"
   ]
  },
  {
   "cell_type": "markdown",
   "metadata": {},
   "source": [
    "### Même question avec major_category\n",
    "Il y a plusieurs observations par catégorie, on utilise donc la moyenne agrégée pour les diplômés récents et le reste des étudiants : "
   ]
  },
  {
   "cell_type": "code",
   "execution_count": 21,
   "metadata": {},
   "outputs": [],
   "source": [
    "unemp_rate_rg = rg.groupby('Major_category').Unemployment_rate.mean()\n",
    "unemp_rate_aa = aa.groupby('Major_category').Unemployment_rate.mean()"
   ]
  },
  {
   "cell_type": "code",
   "execution_count": 22,
   "metadata": {},
   "outputs": [
    {
     "data": {
      "text/plain": [
       "Major_category\n",
       "Agriculture & Natural Resources        False\n",
       "Arts                                   False\n",
       "Biology & Life Science                 False\n",
       "Business                               False\n",
       "Communications & Journalism            False\n",
       "Computers & Mathematics                False\n",
       "Education                              False\n",
       "Engineering                            False\n",
       "Health                                 False\n",
       "Humanities & Liberal Arts              False\n",
       "Industrial Arts & Consumer Services     True\n",
       "Interdisciplinary                       True\n",
       "Law & Public Policy                    False\n",
       "Physical Sciences                       True\n",
       "Psychology & Social Work                True\n",
       "Social Science                         False\n",
       "Name: Unemployment_rate, dtype: bool"
      ]
     },
     "execution_count": 22,
     "metadata": {},
     "output_type": "execute_result"
    }
   ],
   "source": [
    "unemp_rate_rg < unemp_rate_aa"
   ]
  }
 ],
 "metadata": {
  "kernelspec": {
   "display_name": "Python 3 (ipykernel)",
   "language": "python",
   "name": "python3"
  },
  "language_info": {
   "codemirror_mode": {
    "name": "ipython",
    "version": 3
   },
   "file_extension": ".py",
   "mimetype": "text/x-python",
   "name": "python",
   "nbconvert_exporter": "python",
   "pygments_lexer": "ipython3",
   "version": "3.9.18"
  }
 },
 "nbformat": 4,
 "nbformat_minor": 4
}
